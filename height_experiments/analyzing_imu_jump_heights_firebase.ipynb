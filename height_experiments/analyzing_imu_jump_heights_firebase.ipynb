{
 "cells": [
  {
   "cell_type": "markdown",
   "source": [
    "# Import Libraries"
   ],
   "metadata": {
    "collapsed": false
   },
   "id": "eb132f95569afdde"
  },
  {
   "cell_type": "code",
   "execution_count": null,
   "id": "initial_id",
   "metadata": {
    "collapsed": true
   },
   "outputs": [],
   "source": [
    "import firebase_admin\n",
    "from firebase_admin import credentials\n",
    "from firebase_admin import firestore\n",
    "from scipy.signal import find_peaks\n",
    "from height_experiments.tools import extract_exercises, smooth_column\n",
    "import plotly.express as px\n",
    "import pandas as pd\n",
    "import plotly.graph_objs as go\n",
    "from height_experiments.tools import compute_height_initial_velocity"
   ]
  },
  {
   "cell_type": "markdown",
   "source": [
    "# Connect to Firebase"
   ],
   "metadata": {
    "collapsed": false
   },
   "id": "78906eb9a55925b8"
  },
  {
   "cell_type": "code",
   "outputs": [],
   "source": [
    "cred = credentials.Certificate('firebase_python.json')"
   ],
   "metadata": {
    "collapsed": false
   },
   "id": "1b0ace9e7a120a40",
   "execution_count": null
  },
  {
   "cell_type": "code",
   "outputs": [],
   "source": [
    "firebase_admin.initialize_app(cred)"
   ],
   "metadata": {
    "collapsed": false
   },
   "id": "23bd633b663cd583",
   "execution_count": null
  },
  {
   "cell_type": "code",
   "outputs": [],
   "source": [
    "db = firestore.client()"
   ],
   "metadata": {
    "collapsed": false
   },
   "id": "54e58e1becac6d7e",
   "execution_count": null
  },
  {
   "cell_type": "code",
   "outputs": [],
   "source": [
    "collection = db.collection('signals_db')"
   ],
   "metadata": {
    "collapsed": false
   },
   "id": "5db7f1662de28791",
   "execution_count": null
  },
  {
   "cell_type": "code",
   "outputs": [],
   "source": [
    "res = collection.get() # returns a list\n",
    "res = [i.to_dict() for i in res]\n",
    "document = sorted(res, key=lambda x: x[\"info\"][\"date\"].timestamp(), reverse=True)[0][\"info\"]"
   ],
   "metadata": {
    "collapsed": false
   },
   "id": "7db7c26539d42996",
   "execution_count": null
  },
  {
   "cell_type": "code",
   "outputs": [],
   "source": [
    "document[\"date\"]"
   ],
   "metadata": {
    "collapsed": false
   },
   "id": "13ce96b6511dafc",
   "execution_count": null
  },
  {
   "cell_type": "markdown",
   "source": [
    "# Adding time values"
   ],
   "metadata": {
    "collapsed": false
   },
   "id": "6a2f4f74f4a89902"
  },
  {
   "cell_type": "code",
   "outputs": [],
   "source": [
    "for index in range(len(document[\"timeStampSamples\"])):\n",
    "    document[\"sensorAcc\"][index][\"time\"] = document[\"timeStampSamples\"][index]"
   ],
   "metadata": {
    "collapsed": false
   },
   "id": "130473341863eefe",
   "execution_count": null
  },
  {
   "cell_type": "markdown",
   "source": [
    "# Smooth signal and extract exercises"
   ],
   "metadata": {
    "collapsed": false
   },
   "id": "b590270afde6ebd1"
  },
  {
   "cell_type": "code",
   "outputs": [],
   "source": [
    "df = pd.DataFrame(document[\"sensorAcc\"])\n",
    "df = smooth_column(df, \"valueZ\")\n",
    "df = df.iloc[::-1].reset_index(drop=True)\n",
    "\n",
    "peaks, _ = find_peaks(df['valueZ_Smooth'])\n",
    "exercises = extract_exercises(df.to_dict(orient='records'), peaks.tolist(), 'valueZ_Smooth')\n",
    "\n",
    "df.head()"
   ],
   "metadata": {
    "collapsed": false
   },
   "id": "bb06c93f125d29d5",
   "execution_count": null
  },
  {
   "cell_type": "markdown",
   "source": [
    "# Show signals"
   ],
   "metadata": {
    "collapsed": false
   },
   "id": "4b2c56947e13e779"
  },
  {
   "cell_type": "code",
   "outputs": [],
   "source": [
    "fig = px.line(df, y='valueZ_Smooth', title='Linear Acceleration Z over Time')\n",
    "fig.show()"
   ],
   "metadata": {
    "collapsed": false
   },
   "id": "cb2d4d185b79e207",
   "execution_count": null
  },
  {
   "cell_type": "code",
   "outputs": [],
   "source": [
    "fig = go.Figure()\n",
    "fig.add_trace(go.Scatter(x=df.index, y=df['valueZ_Smooth'], mode='lines', name='Time Series'))\n",
    "fig.add_trace(go.Scatter(x=df.index[peaks], y=df['valueZ_Smooth'][peaks], mode='markers', marker=dict(size=10, color='red'), name='Peaks'))\n",
    "fig.update_layout(title='Time Series Data with Peaks', xaxis_title='Time', yaxis_title='Value')\n",
    "fig.show()"
   ],
   "metadata": {
    "collapsed": false
   },
   "id": "f3571af82b646693",
   "execution_count": null
  },
  {
   "cell_type": "markdown",
   "source": [
    "# Show last repetitions"
   ],
   "metadata": {
    "collapsed": false
   },
   "id": "75410cce7352418"
  },
  {
   "cell_type": "code",
   "outputs": [],
   "source": [
    "for num, exercise in enumerate(exercises):\n",
    "    df_ex = pd.DataFrame(exercise)\n",
    "    jump_height = compute_height_initial_velocity(df_ex, \"valueZ_Smooth\")\n",
    "    fig = px.line(df_ex, y='valueZ_Smooth', title=f'Jump #{num}: {jump_height}m')\n",
    "    fig.show()"
   ],
   "metadata": {
    "collapsed": false
   },
   "id": "4497b679d743de62",
   "execution_count": null
  },
  {
   "cell_type": "markdown",
   "source": [
    "# Comparing App Results"
   ],
   "metadata": {
    "collapsed": false
   },
   "id": "b2ebb94cc93f30fb"
  },
  {
   "cell_type": "code",
   "outputs": [],
   "source": [
    "jumps_flutter = document[\"jumpHeights\"]\n",
    "for num, exercise in enumerate(exercises):\n",
    "    df_ex = pd.DataFrame(exercise)\n",
    "    jump_height = compute_height_initial_velocity(df_ex, \"valueZ_Smooth\")\n",
    "    jump_app = jumps_flutter[num]\n",
    "    print(f\"Jump #{num}: Python: {jump_height}m ; Flutter: {jump_app}\")"
   ],
   "metadata": {
    "collapsed": false
   },
   "id": "17306d5e147402e2",
   "execution_count": null
  }
 ],
 "metadata": {
  "kernelspec": {
   "display_name": "Python 3",
   "language": "python",
   "name": "python3"
  },
  "language_info": {
   "codemirror_mode": {
    "name": "ipython",
    "version": 2
   },
   "file_extension": ".py",
   "mimetype": "text/x-python",
   "name": "python",
   "nbconvert_exporter": "python",
   "pygments_lexer": "ipython2",
   "version": "2.7.6"
  }
 },
 "nbformat": 4,
 "nbformat_minor": 5
}
