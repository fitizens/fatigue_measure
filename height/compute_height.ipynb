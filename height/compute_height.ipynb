{
 "cells": [
  {
   "cell_type": "markdown",
   "source": [
    "# Interesting Papers"
   ],
   "metadata": {
    "collapsed": false
   },
   "id": "d47570eca9baef76"
  },
  {
   "cell_type": "markdown",
   "source": [
    "## [Concurrent Validity of the Inertial Measurement Unit Vmaxpro in Vertical Jump Estimation](https://drive.google.com/file/d/1HZJW63OYvIvuNShxYTbhHy2ENA2rS4FG/view?usp=sharing)\n",
    "### Section: 2.3.2. Inertial Measurement Unit Vmaxpro\n",
    "\n",
    "Formula:\n",
    "\n",
    "VJH = (vo^2) / (2 * g)\n",
    "vo .-  is the take-off velocity, registered as the maximum velocity recorded by Vmaxpro.\n",
    "g .-  is the acceleration of gravity (9.81 m/s2).\n",
    "\n",
    "But, the article did not explain how to compute vo, just said that is considered as the maximum velocity recorded by the Vmaxpro device."
   ],
   "metadata": {
    "collapsed": false
   },
   "id": "b83b49d008cc4ff7"
  },
  {
   "cell_type": "markdown",
   "source": [
    "## [Estimation of Vertical Jump Height Based on IMU Sensor](https://drive.google.com/file/d/1xJrYkVFFNG_b4rCgQec3JNL25gRjUIvN/view?usp=sharing)\n",
    "### Section 3: Data Processing\n",
    "\n",
    "Formula:\n",
    "h = (1/2) * g *(t/2)^2\n",
    "t .- flight time\n",
    "g .- acceleration of gravity (9.81 m/s2)\n",
    "\n",
    "The article apply a Moving Average Filter to Preprocessing. The calculation method of flight time involves traversing the data in reverse time order from a specific time point (t1). The flight time is counted when the value of the adjusted acceleration (a) is less than the gravitational acceleration (g). When (a) becomes greater than g, the counting of flight time ends, indicating that the subject is at the initial time before takeoff. This calculation flow of flight time (t) is depicted in Figure 3 of the paper."
   ],
   "metadata": {
    "collapsed": false
   },
   "id": "284ee6a5295bf1e2"
  },
  {
   "cell_type": "markdown",
   "source": [
    "## [IMU-Based Real-Time Jump Height Estimation with DSP and Chip Implementation](https://drive.google.com/file/d/1d44Sp6x8fSNZBlcb-fj3yofDLoKP0syq/view?usp=sharing)\n",
    "### Section 3: Algorithm\n",
    "\n",
    "Formula:\n",
    "h = (1/2) * g *(t/2)^2\n",
    "t .- flight time\n",
    "g .- acceleration of gravity (9.81 m/s2)\n",
    "\n",
    "1. Filtering the Vertical Axis Acceleration: The vertical axis acceleration is passed through a moving average filter. This helps in reducing noise and avoiding early detection of take-off and touch-down instants.\n",
    "\n",
    "2. Detecting Take-Off and Touch-Down Instants: The algorithm looks for instants when the filtered vertical axis acceleration value is greater than a predefined threshold. These instants are considered as the moments of take-off and touch-down.\n",
    "\n",
    "3. Adjusting Take-Off and Touch-Down Points: After finding the initial instants, they correspond to the unfiltered vertical axis acceleration to adjust the take-off and touch-down points. This step ensures accuracy by avoiding the possibility of the feature being filtered out after the moving average filter.\n",
    "\n",
    "4. Calculating Flight Time: Finally, the flight time is determined as the time interval between the take-off and touch-down instants. This flight time is then used in equation (5) to calculate the jump height"
   ],
   "metadata": {
    "collapsed": false
   },
   "id": "357cbff6abba8b40"
  }
 ],
 "metadata": {
  "kernelspec": {
   "display_name": "Python 3",
   "language": "python",
   "name": "python3"
  },
  "language_info": {
   "codemirror_mode": {
    "name": "ipython",
    "version": 2
   },
   "file_extension": ".py",
   "mimetype": "text/x-python",
   "name": "python",
   "nbconvert_exporter": "python",
   "pygments_lexer": "ipython2",
   "version": "2.7.6"
  }
 },
 "nbformat": 4,
 "nbformat_minor": 5
}
