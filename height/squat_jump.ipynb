{
 "cells": [
  {
   "cell_type": "code",
   "execution_count": 1,
   "id": "initial_id",
   "metadata": {
    "collapsed": true,
    "ExecuteTime": {
     "end_time": "2024-01-23T17:09:42.911271700Z",
     "start_time": "2024-01-23T17:09:41.226160300Z"
    }
   },
   "outputs": [],
   "source": [
    "from fitizens_libraries.load_and_process_training_data import load_training_data\n",
    "import os\n",
    "from scipy.signal import find_peaks\n",
    "import plotly.graph_objects as go"
   ]
  },
  {
   "cell_type": "code",
   "outputs": [
    {
     "name": "stderr",
     "output_type": "stream",
     "text": [
      "C:\\Users\\josec\\Documents\\fatigue_measure\\fitizens_libraries\\load_data.py:111: FutureWarning: DataFrame.fillna with 'method' is deprecated and will raise in a future version. Use obj.ffill() or obj.bfill() instead.\n",
      "  smoothed = smoothed.fillna(method=\"bfill\").fillna(method=\"ffill\")\n",
      "C:\\Users\\josec\\Documents\\fatigue_measure\\fitizens_libraries\\load_data.py:111: FutureWarning: DataFrame.fillna with 'method' is deprecated and will raise in a future version. Use obj.ffill() or obj.bfill() instead.\n",
      "  smoothed = smoothed.fillna(method=\"bfill\").fillna(method=\"ffill\")\n",
      "C:\\Users\\josec\\Documents\\fatigue_measure\\fitizens_libraries\\load_data.py:111: FutureWarning: DataFrame.fillna with 'method' is deprecated and will raise in a future version. Use obj.ffill() or obj.bfill() instead.\n",
      "  smoothed = smoothed.fillna(method=\"bfill\").fillna(method=\"ffill\")\n",
      "C:\\Users\\josec\\Documents\\fatigue_measure\\fitizens_libraries\\load_data.py:111: FutureWarning: DataFrame.fillna with 'method' is deprecated and will raise in a future version. Use obj.ffill() or obj.bfill() instead.\n",
      "  smoothed = smoothed.fillna(method=\"bfill\").fillna(method=\"ffill\")\n",
      "C:\\Users\\josec\\Documents\\fatigue_measure\\fitizens_libraries\\load_data.py:111: FutureWarning: DataFrame.fillna with 'method' is deprecated and will raise in a future version. Use obj.ffill() or obj.bfill() instead.\n",
      "  smoothed = smoothed.fillna(method=\"bfill\").fillna(method=\"ffill\")\n",
      "C:\\Users\\josec\\Documents\\fatigue_measure\\fitizens_libraries\\load_data.py:111: FutureWarning: DataFrame.fillna with 'method' is deprecated and will raise in a future version. Use obj.ffill() or obj.bfill() instead.\n",
      "  smoothed = smoothed.fillna(method=\"bfill\").fillna(method=\"ffill\")\n",
      "C:\\Users\\josec\\Documents\\fatigue_measure\\fitizens_libraries\\load_data.py:111: FutureWarning: DataFrame.fillna with 'method' is deprecated and will raise in a future version. Use obj.ffill() or obj.bfill() instead.\n",
      "  smoothed = smoothed.fillna(method=\"bfill\").fillna(method=\"ffill\")\n",
      "C:\\Users\\josec\\Documents\\fatigue_measure\\fitizens_libraries\\load_data.py:111: FutureWarning: DataFrame.fillna with 'method' is deprecated and will raise in a future version. Use obj.ffill() or obj.bfill() instead.\n",
      "  smoothed = smoothed.fillna(method=\"bfill\").fillna(method=\"ffill\")\n",
      "C:\\Users\\josec\\Documents\\fatigue_measure\\fitizens_libraries\\load_data.py:111: FutureWarning: DataFrame.fillna with 'method' is deprecated and will raise in a future version. Use obj.ffill() or obj.bfill() instead.\n",
      "  smoothed = smoothed.fillna(method=\"bfill\").fillna(method=\"ffill\")\n",
      "C:\\Users\\josec\\Documents\\fatigue_measure\\fitizens_libraries\\load_data.py:111: FutureWarning: DataFrame.fillna with 'method' is deprecated and will raise in a future version. Use obj.ffill() or obj.bfill() instead.\n",
      "  smoothed = smoothed.fillna(method=\"bfill\").fillna(method=\"ffill\")\n",
      "C:\\Users\\josec\\Documents\\fatigue_measure\\fitizens_libraries\\load_data.py:111: FutureWarning: DataFrame.fillna with 'method' is deprecated and will raise in a future version. Use obj.ffill() or obj.bfill() instead.\n",
      "  smoothed = smoothed.fillna(method=\"bfill\").fillna(method=\"ffill\")\n"
     ]
    }
   ],
   "source": [
    "folder_path = \"squats_jumps\"\n",
    "file_names = [f\"{folder_path}/{name}\" for name in os.listdir(folder_path)]\n",
    "signals = [\"linAccZ\"]\n",
    "    \n",
    "data, wk = load_training_data(filelist=file_names,\n",
    "                             signals= signals,\n",
    "                             target_exercise=\"SQUAT_JUMP\", other_exercises=[], is_peak_minima=True)"
   ],
   "metadata": {
    "collapsed": false,
    "ExecuteTime": {
     "end_time": "2024-01-23T17:11:06.602913300Z",
     "start_time": "2024-01-23T17:10:14.840160100Z"
    }
   },
   "id": "7e12a48d53dab744",
   "execution_count": 2
  },
  {
   "cell_type": "code",
   "outputs": [
    {
     "data": {
      "text/plain": "                         linAccZ_orig  exercising_periods    linAccZ  \\\ntime                                                                   \n1970-01-01 00:00:02.184     -9.496362                   1  -5.444493   \n1970-01-01 00:00:02.200     -9.507631                   1  -5.380480   \n1970-01-01 00:00:02.209     -9.151107                   1  -5.249262   \n1970-01-01 00:00:02.218     -9.127007                   1  -5.047336   \n1970-01-01 00:00:02.227     -9.185244                   1  -4.774793   \n...                               ...                 ...        ...   \n1970-01-01 00:00:02.942    -11.661009                   1  -9.870084   \n1970-01-01 00:00:02.951    -12.302812                   1  -9.926518   \n1970-01-01 00:00:02.960    -12.778582                   1  -9.993262   \n1970-01-01 00:00:02.969    -12.732904                   1 -10.053186   \n1970-01-01 00:00:02.985    -12.794015                   1 -10.084723   \n\n                         linAccZ_mod      peaks  first_sample  last_sample  \\\ntime                                                                         \n1970-01-01 00:00:02.184    29.642505  -5.444493         False        False   \n1970-01-01 00:00:02.200    28.949562        NaN         False        False   \n1970-01-01 00:00:02.209    27.554757        NaN         False        False   \n1970-01-01 00:00:02.218    25.475600        NaN         False        False   \n1970-01-01 00:00:02.227    22.798646        NaN         False        False   \n...                              ...        ...           ...          ...   \n1970-01-01 00:00:02.942    97.418549        NaN         False        False   \n1970-01-01 00:00:02.951    98.535761        NaN         False        False   \n1970-01-01 00:00:02.960    99.865291        NaN         False        False   \n1970-01-01 00:00:02.969   101.066541        NaN         False        False   \n1970-01-01 00:00:02.985   101.701631 -10.084723         False        False   \n\n                         first_sample_closest_peak  last_sample_closest_peak  \ntime                                                                          \n1970-01-01 00:00:02.184                       True                     False  \n1970-01-01 00:00:02.200                      False                     False  \n1970-01-01 00:00:02.209                      False                     False  \n1970-01-01 00:00:02.218                      False                     False  \n1970-01-01 00:00:02.227                      False                     False  \n...                                            ...                       ...  \n1970-01-01 00:00:02.942                      False                     False  \n1970-01-01 00:00:02.951                      False                     False  \n1970-01-01 00:00:02.960                      False                     False  \n1970-01-01 00:00:02.969                      False                     False  \n1970-01-01 00:00:02.985                      False                      True  \n\n[82 rows x 9 columns]",
      "text/html": "<div>\n<style scoped>\n    .dataframe tbody tr th:only-of-type {\n        vertical-align: middle;\n    }\n\n    .dataframe tbody tr th {\n        vertical-align: top;\n    }\n\n    .dataframe thead th {\n        text-align: right;\n    }\n</style>\n<table border=\"1\" class=\"dataframe\">\n  <thead>\n    <tr style=\"text-align: right;\">\n      <th></th>\n      <th>linAccZ_orig</th>\n      <th>exercising_periods</th>\n      <th>linAccZ</th>\n      <th>linAccZ_mod</th>\n      <th>peaks</th>\n      <th>first_sample</th>\n      <th>last_sample</th>\n      <th>first_sample_closest_peak</th>\n      <th>last_sample_closest_peak</th>\n    </tr>\n    <tr>\n      <th>time</th>\n      <th></th>\n      <th></th>\n      <th></th>\n      <th></th>\n      <th></th>\n      <th></th>\n      <th></th>\n      <th></th>\n      <th></th>\n    </tr>\n  </thead>\n  <tbody>\n    <tr>\n      <th>1970-01-01 00:00:02.184</th>\n      <td>-9.496362</td>\n      <td>1</td>\n      <td>-5.444493</td>\n      <td>29.642505</td>\n      <td>-5.444493</td>\n      <td>False</td>\n      <td>False</td>\n      <td>True</td>\n      <td>False</td>\n    </tr>\n    <tr>\n      <th>1970-01-01 00:00:02.200</th>\n      <td>-9.507631</td>\n      <td>1</td>\n      <td>-5.380480</td>\n      <td>28.949562</td>\n      <td>NaN</td>\n      <td>False</td>\n      <td>False</td>\n      <td>False</td>\n      <td>False</td>\n    </tr>\n    <tr>\n      <th>1970-01-01 00:00:02.209</th>\n      <td>-9.151107</td>\n      <td>1</td>\n      <td>-5.249262</td>\n      <td>27.554757</td>\n      <td>NaN</td>\n      <td>False</td>\n      <td>False</td>\n      <td>False</td>\n      <td>False</td>\n    </tr>\n    <tr>\n      <th>1970-01-01 00:00:02.218</th>\n      <td>-9.127007</td>\n      <td>1</td>\n      <td>-5.047336</td>\n      <td>25.475600</td>\n      <td>NaN</td>\n      <td>False</td>\n      <td>False</td>\n      <td>False</td>\n      <td>False</td>\n    </tr>\n    <tr>\n      <th>1970-01-01 00:00:02.227</th>\n      <td>-9.185244</td>\n      <td>1</td>\n      <td>-4.774793</td>\n      <td>22.798646</td>\n      <td>NaN</td>\n      <td>False</td>\n      <td>False</td>\n      <td>False</td>\n      <td>False</td>\n    </tr>\n    <tr>\n      <th>...</th>\n      <td>...</td>\n      <td>...</td>\n      <td>...</td>\n      <td>...</td>\n      <td>...</td>\n      <td>...</td>\n      <td>...</td>\n      <td>...</td>\n      <td>...</td>\n    </tr>\n    <tr>\n      <th>1970-01-01 00:00:02.942</th>\n      <td>-11.661009</td>\n      <td>1</td>\n      <td>-9.870084</td>\n      <td>97.418549</td>\n      <td>NaN</td>\n      <td>False</td>\n      <td>False</td>\n      <td>False</td>\n      <td>False</td>\n    </tr>\n    <tr>\n      <th>1970-01-01 00:00:02.951</th>\n      <td>-12.302812</td>\n      <td>1</td>\n      <td>-9.926518</td>\n      <td>98.535761</td>\n      <td>NaN</td>\n      <td>False</td>\n      <td>False</td>\n      <td>False</td>\n      <td>False</td>\n    </tr>\n    <tr>\n      <th>1970-01-01 00:00:02.960</th>\n      <td>-12.778582</td>\n      <td>1</td>\n      <td>-9.993262</td>\n      <td>99.865291</td>\n      <td>NaN</td>\n      <td>False</td>\n      <td>False</td>\n      <td>False</td>\n      <td>False</td>\n    </tr>\n    <tr>\n      <th>1970-01-01 00:00:02.969</th>\n      <td>-12.732904</td>\n      <td>1</td>\n      <td>-10.053186</td>\n      <td>101.066541</td>\n      <td>NaN</td>\n      <td>False</td>\n      <td>False</td>\n      <td>False</td>\n      <td>False</td>\n    </tr>\n    <tr>\n      <th>1970-01-01 00:00:02.985</th>\n      <td>-12.794015</td>\n      <td>1</td>\n      <td>-10.084723</td>\n      <td>101.701631</td>\n      <td>-10.084723</td>\n      <td>False</td>\n      <td>False</td>\n      <td>False</td>\n      <td>True</td>\n    </tr>\n  </tbody>\n</table>\n<p>82 rows × 9 columns</p>\n</div>"
     },
     "execution_count": 4,
     "metadata": {},
     "output_type": "execute_result"
    }
   ],
   "source": [
    "squat_jump = data[0][\"series\"]\n",
    "squat_jump"
   ],
   "metadata": {
    "collapsed": false,
    "ExecuteTime": {
     "end_time": "2024-01-23T17:14:31.677224700Z",
     "start_time": "2024-01-23T17:14:31.628838Z"
    }
   },
   "id": "fe2d6bbbde50dc26",
   "execution_count": 4
  },
  {
   "cell_type": "code",
   "outputs": [
    {
     "data": {
      "application/vnd.plotly.v1+json": {
       "data": [
        {
         "hovertemplate": "time=%{x}<br>linAccZ=%{y}<extra></extra>",
         "legendgroup": "",
         "line": {
          "color": "#636efa",
          "dash": "solid"
         },
         "marker": {
          "symbol": "circle"
         },
         "mode": "lines",
         "name": "",
         "orientation": "v",
         "showlegend": false,
         "x": [
          "1970-01-01T00:00:01.616000",
          "1970-01-01T00:00:01.625000",
          "1970-01-01T00:00:01.634000",
          "1970-01-01T00:00:01.649000",
          "1970-01-01T00:00:01.658000",
          "1970-01-01T00:00:01.667000",
          "1970-01-01T00:00:01.676000",
          "1970-01-01T00:00:01.685000",
          "1970-01-01T00:00:01.694000",
          "1970-01-01T00:00:01.703000",
          "1970-01-01T00:00:01.712000",
          "1970-01-01T00:00:01.728000",
          "1970-01-01T00:00:01.737000",
          "1970-01-01T00:00:01.746000",
          "1970-01-01T00:00:01.755000",
          "1970-01-01T00:00:01.764000",
          "1970-01-01T00:00:01.773000",
          "1970-01-01T00:00:01.782000",
          "1970-01-01T00:00:01.791000",
          "1970-01-01T00:00:01.806000",
          "1970-01-01T00:00:01.815000",
          "1970-01-01T00:00:01.824000",
          "1970-01-01T00:00:01.833000",
          "1970-01-01T00:00:01.842000",
          "1970-01-01T00:00:01.851000",
          "1970-01-01T00:00:01.860000",
          "1970-01-01T00:00:01.869000",
          "1970-01-01T00:00:01.884000",
          "1970-01-01T00:00:01.893000",
          "1970-01-01T00:00:01.902000",
          "1970-01-01T00:00:01.911000",
          "1970-01-01T00:00:01.920000",
          "1970-01-01T00:00:01.929000",
          "1970-01-01T00:00:01.938000",
          "1970-01-01T00:00:01.947000",
          "1970-01-01T00:00:01.963000",
          "1970-01-01T00:00:01.972000",
          "1970-01-01T00:00:01.981000",
          "1970-01-01T00:00:01.990000",
          "1970-01-01T00:00:01.999000",
          "1970-01-01T00:00:02.008000",
          "1970-01-01T00:00:02.017000",
          "1970-01-01T00:00:02.026000",
          "1970-01-01T00:00:02.042000",
          "1970-01-01T00:00:02.051000",
          "1970-01-01T00:00:02.060000",
          "1970-01-01T00:00:02.069000",
          "1970-01-01T00:00:02.078000",
          "1970-01-01T00:00:02.087000",
          "1970-01-01T00:00:02.096000",
          "1970-01-01T00:00:02.105000",
          "1970-01-01T00:00:02.121000",
          "1970-01-01T00:00:02.130000",
          "1970-01-01T00:00:02.139000",
          "1970-01-01T00:00:02.148000",
          "1970-01-01T00:00:02.157000",
          "1970-01-01T00:00:02.166000",
          "1970-01-01T00:00:02.175000",
          "1970-01-01T00:00:02.184000",
          "1970-01-01T00:00:02.199000",
          "1970-01-01T00:00:02.208000",
          "1970-01-01T00:00:02.217000",
          "1970-01-01T00:00:02.226000",
          "1970-01-01T00:00:02.235000",
          "1970-01-01T00:00:02.244000",
          "1970-01-01T00:00:02.253000",
          "1970-01-01T00:00:02.262000",
          "1970-01-01T00:00:02.278000",
          "1970-01-01T00:00:02.287000",
          "1970-01-01T00:00:02.296000",
          "1970-01-01T00:00:02.305000",
          "1970-01-01T00:00:02.314000",
          "1970-01-01T00:00:02.323000",
          "1970-01-01T00:00:02.332000",
          "1970-01-01T00:00:02.341000",
          "1970-01-01T00:00:02.356000"
         ],
         "xaxis": "x",
         "y": [
          -5.539611406922339,
          -5.512965600714087,
          -5.403995203375816,
          -5.205200648829339,
          -4.911851120889186,
          -4.523716891035436,
          -4.043780928030609,
          -3.4748599208891386,
          -2.8216010001301752,
          -2.090581735968589,
          -1.2866334480047217,
          -0.41488920882344155,
          0.5184370836615573,
          1.5090029941499243,
          2.5508687609434135,
          3.631619522422553,
          4.7372276833653455,
          5.8559317870438115,
          6.968130946159365,
          8.04969115063548,
          9.084126254022122,
          10.06002334252,
          10.970791754126548,
          11.798822338432075,
          12.525473830401898,
          13.146873814612627,
          13.664473117887974,
          14.068249745517969,
          14.345518093109131,
          14.487535737603903,
          14.482512612044811,
          14.32452043488622,
          14.008756846189502,
          13.53473032668233,
          12.909144110381604,
          12.144736309945584,
          11.259054358303548,
          10.257113659083846,
          9.148229281008245,
          7.9536563476920135,
          6.691720373928547,
          5.379039742648603,
          4.023800624907018,
          2.6462900933623326,
          1.2732282879948627,
          -0.08602794915437606,
          -1.4300695362687101,
          -2.7401289197802536,
          -3.9880313661694515,
          -5.149791360795497,
          -6.202572955191135,
          -7.13621676892042,
          -7.9417899587750425,
          -8.61959454625845,
          -9.180727094709871,
          -9.63718601197004,
          -10.00504207164049,
          -10.286023755967616,
          -10.482524015009401,
          -10.603625943362712,
          -10.658550765812397,
          -10.65873825877905,
          -10.612115584909915,
          -10.531505996882915,
          -10.432823973596097,
          -10.323453204333783,
          -10.20462088227272,
          -10.083587447404861,
          -9.971969656944273,
          -9.880758708715438,
          -9.818554244041442,
          -9.782746256589888,
          -9.772378840446471,
          -9.781980320215224,
          -9.797386065721511,
          -9.8068305760622
         ],
         "yaxis": "y",
         "type": "scatter"
        }
       ],
       "layout": {
        "template": {
         "data": {
          "histogram2dcontour": [
           {
            "type": "histogram2dcontour",
            "colorbar": {
             "outlinewidth": 0,
             "ticks": ""
            },
            "colorscale": [
             [
              0.0,
              "#0d0887"
             ],
             [
              0.1111111111111111,
              "#46039f"
             ],
             [
              0.2222222222222222,
              "#7201a8"
             ],
             [
              0.3333333333333333,
              "#9c179e"
             ],
             [
              0.4444444444444444,
              "#bd3786"
             ],
             [
              0.5555555555555556,
              "#d8576b"
             ],
             [
              0.6666666666666666,
              "#ed7953"
             ],
             [
              0.7777777777777778,
              "#fb9f3a"
             ],
             [
              0.8888888888888888,
              "#fdca26"
             ],
             [
              1.0,
              "#f0f921"
             ]
            ]
           }
          ],
          "choropleth": [
           {
            "type": "choropleth",
            "colorbar": {
             "outlinewidth": 0,
             "ticks": ""
            }
           }
          ],
          "histogram2d": [
           {
            "type": "histogram2d",
            "colorbar": {
             "outlinewidth": 0,
             "ticks": ""
            },
            "colorscale": [
             [
              0.0,
              "#0d0887"
             ],
             [
              0.1111111111111111,
              "#46039f"
             ],
             [
              0.2222222222222222,
              "#7201a8"
             ],
             [
              0.3333333333333333,
              "#9c179e"
             ],
             [
              0.4444444444444444,
              "#bd3786"
             ],
             [
              0.5555555555555556,
              "#d8576b"
             ],
             [
              0.6666666666666666,
              "#ed7953"
             ],
             [
              0.7777777777777778,
              "#fb9f3a"
             ],
             [
              0.8888888888888888,
              "#fdca26"
             ],
             [
              1.0,
              "#f0f921"
             ]
            ]
           }
          ],
          "heatmap": [
           {
            "type": "heatmap",
            "colorbar": {
             "outlinewidth": 0,
             "ticks": ""
            },
            "colorscale": [
             [
              0.0,
              "#0d0887"
             ],
             [
              0.1111111111111111,
              "#46039f"
             ],
             [
              0.2222222222222222,
              "#7201a8"
             ],
             [
              0.3333333333333333,
              "#9c179e"
             ],
             [
              0.4444444444444444,
              "#bd3786"
             ],
             [
              0.5555555555555556,
              "#d8576b"
             ],
             [
              0.6666666666666666,
              "#ed7953"
             ],
             [
              0.7777777777777778,
              "#fb9f3a"
             ],
             [
              0.8888888888888888,
              "#fdca26"
             ],
             [
              1.0,
              "#f0f921"
             ]
            ]
           }
          ],
          "heatmapgl": [
           {
            "type": "heatmapgl",
            "colorbar": {
             "outlinewidth": 0,
             "ticks": ""
            },
            "colorscale": [
             [
              0.0,
              "#0d0887"
             ],
             [
              0.1111111111111111,
              "#46039f"
             ],
             [
              0.2222222222222222,
              "#7201a8"
             ],
             [
              0.3333333333333333,
              "#9c179e"
             ],
             [
              0.4444444444444444,
              "#bd3786"
             ],
             [
              0.5555555555555556,
              "#d8576b"
             ],
             [
              0.6666666666666666,
              "#ed7953"
             ],
             [
              0.7777777777777778,
              "#fb9f3a"
             ],
             [
              0.8888888888888888,
              "#fdca26"
             ],
             [
              1.0,
              "#f0f921"
             ]
            ]
           }
          ],
          "contourcarpet": [
           {
            "type": "contourcarpet",
            "colorbar": {
             "outlinewidth": 0,
             "ticks": ""
            }
           }
          ],
          "contour": [
           {
            "type": "contour",
            "colorbar": {
             "outlinewidth": 0,
             "ticks": ""
            },
            "colorscale": [
             [
              0.0,
              "#0d0887"
             ],
             [
              0.1111111111111111,
              "#46039f"
             ],
             [
              0.2222222222222222,
              "#7201a8"
             ],
             [
              0.3333333333333333,
              "#9c179e"
             ],
             [
              0.4444444444444444,
              "#bd3786"
             ],
             [
              0.5555555555555556,
              "#d8576b"
             ],
             [
              0.6666666666666666,
              "#ed7953"
             ],
             [
              0.7777777777777778,
              "#fb9f3a"
             ],
             [
              0.8888888888888888,
              "#fdca26"
             ],
             [
              1.0,
              "#f0f921"
             ]
            ]
           }
          ],
          "surface": [
           {
            "type": "surface",
            "colorbar": {
             "outlinewidth": 0,
             "ticks": ""
            },
            "colorscale": [
             [
              0.0,
              "#0d0887"
             ],
             [
              0.1111111111111111,
              "#46039f"
             ],
             [
              0.2222222222222222,
              "#7201a8"
             ],
             [
              0.3333333333333333,
              "#9c179e"
             ],
             [
              0.4444444444444444,
              "#bd3786"
             ],
             [
              0.5555555555555556,
              "#d8576b"
             ],
             [
              0.6666666666666666,
              "#ed7953"
             ],
             [
              0.7777777777777778,
              "#fb9f3a"
             ],
             [
              0.8888888888888888,
              "#fdca26"
             ],
             [
              1.0,
              "#f0f921"
             ]
            ]
           }
          ],
          "mesh3d": [
           {
            "type": "mesh3d",
            "colorbar": {
             "outlinewidth": 0,
             "ticks": ""
            }
           }
          ],
          "scatter": [
           {
            "marker": {
             "line": {
              "color": "#283442"
             }
            },
            "type": "scatter"
           }
          ],
          "parcoords": [
           {
            "type": "parcoords",
            "line": {
             "colorbar": {
              "outlinewidth": 0,
              "ticks": ""
             }
            }
           }
          ],
          "scatterpolargl": [
           {
            "type": "scatterpolargl",
            "marker": {
             "colorbar": {
              "outlinewidth": 0,
              "ticks": ""
             }
            }
           }
          ],
          "bar": [
           {
            "error_x": {
             "color": "#f2f5fa"
            },
            "error_y": {
             "color": "#f2f5fa"
            },
            "marker": {
             "line": {
              "color": "rgb(17,17,17)",
              "width": 0.5
             },
             "pattern": {
              "fillmode": "overlay",
              "size": 10,
              "solidity": 0.2
             }
            },
            "type": "bar"
           }
          ],
          "scattergeo": [
           {
            "type": "scattergeo",
            "marker": {
             "colorbar": {
              "outlinewidth": 0,
              "ticks": ""
             }
            }
           }
          ],
          "scatterpolar": [
           {
            "type": "scatterpolar",
            "marker": {
             "colorbar": {
              "outlinewidth": 0,
              "ticks": ""
             }
            }
           }
          ],
          "histogram": [
           {
            "marker": {
             "pattern": {
              "fillmode": "overlay",
              "size": 10,
              "solidity": 0.2
             }
            },
            "type": "histogram"
           }
          ],
          "scattergl": [
           {
            "marker": {
             "line": {
              "color": "#283442"
             }
            },
            "type": "scattergl"
           }
          ],
          "scatter3d": [
           {
            "type": "scatter3d",
            "line": {
             "colorbar": {
              "outlinewidth": 0,
              "ticks": ""
             }
            },
            "marker": {
             "colorbar": {
              "outlinewidth": 0,
              "ticks": ""
             }
            }
           }
          ],
          "scattermapbox": [
           {
            "type": "scattermapbox",
            "marker": {
             "colorbar": {
              "outlinewidth": 0,
              "ticks": ""
             }
            }
           }
          ],
          "scatterternary": [
           {
            "type": "scatterternary",
            "marker": {
             "colorbar": {
              "outlinewidth": 0,
              "ticks": ""
             }
            }
           }
          ],
          "scattercarpet": [
           {
            "type": "scattercarpet",
            "marker": {
             "colorbar": {
              "outlinewidth": 0,
              "ticks": ""
             }
            }
           }
          ],
          "carpet": [
           {
            "aaxis": {
             "endlinecolor": "#A2B1C6",
             "gridcolor": "#506784",
             "linecolor": "#506784",
             "minorgridcolor": "#506784",
             "startlinecolor": "#A2B1C6"
            },
            "baxis": {
             "endlinecolor": "#A2B1C6",
             "gridcolor": "#506784",
             "linecolor": "#506784",
             "minorgridcolor": "#506784",
             "startlinecolor": "#A2B1C6"
            },
            "type": "carpet"
           }
          ],
          "table": [
           {
            "cells": {
             "fill": {
              "color": "#506784"
             },
             "line": {
              "color": "rgb(17,17,17)"
             }
            },
            "header": {
             "fill": {
              "color": "#2a3f5f"
             },
             "line": {
              "color": "rgb(17,17,17)"
             }
            },
            "type": "table"
           }
          ],
          "barpolar": [
           {
            "marker": {
             "line": {
              "color": "rgb(17,17,17)",
              "width": 0.5
             },
             "pattern": {
              "fillmode": "overlay",
              "size": 10,
              "solidity": 0.2
             }
            },
            "type": "barpolar"
           }
          ],
          "pie": [
           {
            "automargin": true,
            "type": "pie"
           }
          ]
         },
         "layout": {
          "autotypenumbers": "strict",
          "colorway": [
           "#636efa",
           "#EF553B",
           "#00cc96",
           "#ab63fa",
           "#FFA15A",
           "#19d3f3",
           "#FF6692",
           "#B6E880",
           "#FF97FF",
           "#FECB52"
          ],
          "font": {
           "color": "#f2f5fa"
          },
          "hovermode": "closest",
          "hoverlabel": {
           "align": "left"
          },
          "paper_bgcolor": "rgb(17,17,17)",
          "plot_bgcolor": "rgb(17,17,17)",
          "polar": {
           "bgcolor": "rgb(17,17,17)",
           "angularaxis": {
            "gridcolor": "#506784",
            "linecolor": "#506784",
            "ticks": ""
           },
           "radialaxis": {
            "gridcolor": "#506784",
            "linecolor": "#506784",
            "ticks": ""
           }
          },
          "ternary": {
           "bgcolor": "rgb(17,17,17)",
           "aaxis": {
            "gridcolor": "#506784",
            "linecolor": "#506784",
            "ticks": ""
           },
           "baxis": {
            "gridcolor": "#506784",
            "linecolor": "#506784",
            "ticks": ""
           },
           "caxis": {
            "gridcolor": "#506784",
            "linecolor": "#506784",
            "ticks": ""
           }
          },
          "coloraxis": {
           "colorbar": {
            "outlinewidth": 0,
            "ticks": ""
           }
          },
          "colorscale": {
           "sequential": [
            [
             0.0,
             "#0d0887"
            ],
            [
             0.1111111111111111,
             "#46039f"
            ],
            [
             0.2222222222222222,
             "#7201a8"
            ],
            [
             0.3333333333333333,
             "#9c179e"
            ],
            [
             0.4444444444444444,
             "#bd3786"
            ],
            [
             0.5555555555555556,
             "#d8576b"
            ],
            [
             0.6666666666666666,
             "#ed7953"
            ],
            [
             0.7777777777777778,
             "#fb9f3a"
            ],
            [
             0.8888888888888888,
             "#fdca26"
            ],
            [
             1.0,
             "#f0f921"
            ]
           ],
           "sequentialminus": [
            [
             0.0,
             "#0d0887"
            ],
            [
             0.1111111111111111,
             "#46039f"
            ],
            [
             0.2222222222222222,
             "#7201a8"
            ],
            [
             0.3333333333333333,
             "#9c179e"
            ],
            [
             0.4444444444444444,
             "#bd3786"
            ],
            [
             0.5555555555555556,
             "#d8576b"
            ],
            [
             0.6666666666666666,
             "#ed7953"
            ],
            [
             0.7777777777777778,
             "#fb9f3a"
            ],
            [
             0.8888888888888888,
             "#fdca26"
            ],
            [
             1.0,
             "#f0f921"
            ]
           ],
           "diverging": [
            [
             0,
             "#8e0152"
            ],
            [
             0.1,
             "#c51b7d"
            ],
            [
             0.2,
             "#de77ae"
            ],
            [
             0.3,
             "#f1b6da"
            ],
            [
             0.4,
             "#fde0ef"
            ],
            [
             0.5,
             "#f7f7f7"
            ],
            [
             0.6,
             "#e6f5d0"
            ],
            [
             0.7,
             "#b8e186"
            ],
            [
             0.8,
             "#7fbc41"
            ],
            [
             0.9,
             "#4d9221"
            ],
            [
             1,
             "#276419"
            ]
           ]
          },
          "xaxis": {
           "gridcolor": "#283442",
           "linecolor": "#506784",
           "ticks": "",
           "title": {
            "standoff": 15
           },
           "zerolinecolor": "#283442",
           "automargin": true,
           "zerolinewidth": 2
          },
          "yaxis": {
           "gridcolor": "#283442",
           "linecolor": "#506784",
           "ticks": "",
           "title": {
            "standoff": 15
           },
           "zerolinecolor": "#283442",
           "automargin": true,
           "zerolinewidth": 2
          },
          "scene": {
           "xaxis": {
            "backgroundcolor": "rgb(17,17,17)",
            "gridcolor": "#506784",
            "linecolor": "#506784",
            "showbackground": true,
            "ticks": "",
            "zerolinecolor": "#C8D4E3",
            "gridwidth": 2
           },
           "yaxis": {
            "backgroundcolor": "rgb(17,17,17)",
            "gridcolor": "#506784",
            "linecolor": "#506784",
            "showbackground": true,
            "ticks": "",
            "zerolinecolor": "#C8D4E3",
            "gridwidth": 2
           },
           "zaxis": {
            "backgroundcolor": "rgb(17,17,17)",
            "gridcolor": "#506784",
            "linecolor": "#506784",
            "showbackground": true,
            "ticks": "",
            "zerolinecolor": "#C8D4E3",
            "gridwidth": 2
           }
          },
          "shapedefaults": {
           "line": {
            "color": "#f2f5fa"
           }
          },
          "annotationdefaults": {
           "arrowcolor": "#f2f5fa",
           "arrowhead": 0,
           "arrowwidth": 1
          },
          "geo": {
           "bgcolor": "rgb(17,17,17)",
           "landcolor": "rgb(17,17,17)",
           "subunitcolor": "#506784",
           "showland": true,
           "showlakes": true,
           "lakecolor": "rgb(17,17,17)"
          },
          "title": {
           "x": 0.05
          },
          "updatemenudefaults": {
           "bgcolor": "#506784",
           "borderwidth": 0
          },
          "sliderdefaults": {
           "bgcolor": "#C8D4E3",
           "borderwidth": 1,
           "bordercolor": "rgb(17,17,17)",
           "tickwidth": 0
          },
          "mapbox": {
           "style": "dark"
          }
         }
        },
        "xaxis": {
         "anchor": "y",
         "domain": [
          0.0,
          1.0
         ],
         "title": {
          "text": "time"
         }
        },
        "yaxis": {
         "anchor": "x",
         "domain": [
          0.0,
          1.0
         ],
         "title": {
          "text": "linAccZ"
         }
        },
        "legend": {
         "tracegroupgap": 0
        },
        "title": {
         "text": "Linear Acceleration Z over Time"
        }
       },
       "config": {
        "plotlyServerURL": "https://plot.ly"
       }
      },
      "text/html": "<div>                            <div id=\"6118996b-97af-4b37-a060-8f5362a9154a\" class=\"plotly-graph-div\" style=\"height:525px; width:100%;\"></div>            <script type=\"text/javascript\">                require([\"plotly\"], function(Plotly) {                    window.PLOTLYENV=window.PLOTLYENV || {};                                    if (document.getElementById(\"6118996b-97af-4b37-a060-8f5362a9154a\")) {                    Plotly.newPlot(                        \"6118996b-97af-4b37-a060-8f5362a9154a\",                        [{\"hovertemplate\":\"time=%{x}\\u003cbr\\u003elinAccZ=%{y}\\u003cextra\\u003e\\u003c\\u002fextra\\u003e\",\"legendgroup\":\"\",\"line\":{\"color\":\"#636efa\",\"dash\":\"solid\"},\"marker\":{\"symbol\":\"circle\"},\"mode\":\"lines\",\"name\":\"\",\"orientation\":\"v\",\"showlegend\":false,\"x\":[\"1970-01-01T00:00:01.616000\",\"1970-01-01T00:00:01.625000\",\"1970-01-01T00:00:01.634000\",\"1970-01-01T00:00:01.649000\",\"1970-01-01T00:00:01.658000\",\"1970-01-01T00:00:01.667000\",\"1970-01-01T00:00:01.676000\",\"1970-01-01T00:00:01.685000\",\"1970-01-01T00:00:01.694000\",\"1970-01-01T00:00:01.703000\",\"1970-01-01T00:00:01.712000\",\"1970-01-01T00:00:01.728000\",\"1970-01-01T00:00:01.737000\",\"1970-01-01T00:00:01.746000\",\"1970-01-01T00:00:01.755000\",\"1970-01-01T00:00:01.764000\",\"1970-01-01T00:00:01.773000\",\"1970-01-01T00:00:01.782000\",\"1970-01-01T00:00:01.791000\",\"1970-01-01T00:00:01.806000\",\"1970-01-01T00:00:01.815000\",\"1970-01-01T00:00:01.824000\",\"1970-01-01T00:00:01.833000\",\"1970-01-01T00:00:01.842000\",\"1970-01-01T00:00:01.851000\",\"1970-01-01T00:00:01.860000\",\"1970-01-01T00:00:01.869000\",\"1970-01-01T00:00:01.884000\",\"1970-01-01T00:00:01.893000\",\"1970-01-01T00:00:01.902000\",\"1970-01-01T00:00:01.911000\",\"1970-01-01T00:00:01.920000\",\"1970-01-01T00:00:01.929000\",\"1970-01-01T00:00:01.938000\",\"1970-01-01T00:00:01.947000\",\"1970-01-01T00:00:01.963000\",\"1970-01-01T00:00:01.972000\",\"1970-01-01T00:00:01.981000\",\"1970-01-01T00:00:01.990000\",\"1970-01-01T00:00:01.999000\",\"1970-01-01T00:00:02.008000\",\"1970-01-01T00:00:02.017000\",\"1970-01-01T00:00:02.026000\",\"1970-01-01T00:00:02.042000\",\"1970-01-01T00:00:02.051000\",\"1970-01-01T00:00:02.060000\",\"1970-01-01T00:00:02.069000\",\"1970-01-01T00:00:02.078000\",\"1970-01-01T00:00:02.087000\",\"1970-01-01T00:00:02.096000\",\"1970-01-01T00:00:02.105000\",\"1970-01-01T00:00:02.121000\",\"1970-01-01T00:00:02.130000\",\"1970-01-01T00:00:02.139000\",\"1970-01-01T00:00:02.148000\",\"1970-01-01T00:00:02.157000\",\"1970-01-01T00:00:02.166000\",\"1970-01-01T00:00:02.175000\",\"1970-01-01T00:00:02.184000\",\"1970-01-01T00:00:02.199000\",\"1970-01-01T00:00:02.208000\",\"1970-01-01T00:00:02.217000\",\"1970-01-01T00:00:02.226000\",\"1970-01-01T00:00:02.235000\",\"1970-01-01T00:00:02.244000\",\"1970-01-01T00:00:02.253000\",\"1970-01-01T00:00:02.262000\",\"1970-01-01T00:00:02.278000\",\"1970-01-01T00:00:02.287000\",\"1970-01-01T00:00:02.296000\",\"1970-01-01T00:00:02.305000\",\"1970-01-01T00:00:02.314000\",\"1970-01-01T00:00:02.323000\",\"1970-01-01T00:00:02.332000\",\"1970-01-01T00:00:02.341000\",\"1970-01-01T00:00:02.356000\"],\"xaxis\":\"x\",\"y\":[-5.539611406922339,-5.512965600714087,-5.403995203375816,-5.205200648829339,-4.911851120889186,-4.523716891035436,-4.043780928030609,-3.4748599208891386,-2.8216010001301752,-2.090581735968589,-1.2866334480047217,-0.41488920882344155,0.5184370836615573,1.5090029941499243,2.5508687609434135,3.631619522422553,4.7372276833653455,5.8559317870438115,6.968130946159365,8.04969115063548,9.084126254022122,10.06002334252,10.970791754126548,11.798822338432075,12.525473830401898,13.146873814612627,13.664473117887974,14.068249745517969,14.345518093109131,14.487535737603903,14.482512612044811,14.32452043488622,14.008756846189502,13.53473032668233,12.909144110381604,12.144736309945584,11.259054358303548,10.257113659083846,9.148229281008245,7.9536563476920135,6.691720373928547,5.379039742648603,4.023800624907018,2.6462900933623326,1.2732282879948627,-0.08602794915437606,-1.4300695362687101,-2.7401289197802536,-3.9880313661694515,-5.149791360795497,-6.202572955191135,-7.13621676892042,-7.9417899587750425,-8.61959454625845,-9.180727094709871,-9.63718601197004,-10.00504207164049,-10.286023755967616,-10.482524015009401,-10.603625943362712,-10.658550765812397,-10.65873825877905,-10.612115584909915,-10.531505996882915,-10.432823973596097,-10.323453204333783,-10.20462088227272,-10.083587447404861,-9.971969656944273,-9.880758708715438,-9.818554244041442,-9.782746256589888,-9.772378840446471,-9.781980320215224,-9.797386065721511,-9.8068305760622],\"yaxis\":\"y\",\"type\":\"scatter\"}],                        {\"template\":{\"data\":{\"histogram2dcontour\":[{\"type\":\"histogram2dcontour\",\"colorbar\":{\"outlinewidth\":0,\"ticks\":\"\"},\"colorscale\":[[0.0,\"#0d0887\"],[0.1111111111111111,\"#46039f\"],[0.2222222222222222,\"#7201a8\"],[0.3333333333333333,\"#9c179e\"],[0.4444444444444444,\"#bd3786\"],[0.5555555555555556,\"#d8576b\"],[0.6666666666666666,\"#ed7953\"],[0.7777777777777778,\"#fb9f3a\"],[0.8888888888888888,\"#fdca26\"],[1.0,\"#f0f921\"]]}],\"choropleth\":[{\"type\":\"choropleth\",\"colorbar\":{\"outlinewidth\":0,\"ticks\":\"\"}}],\"histogram2d\":[{\"type\":\"histogram2d\",\"colorbar\":{\"outlinewidth\":0,\"ticks\":\"\"},\"colorscale\":[[0.0,\"#0d0887\"],[0.1111111111111111,\"#46039f\"],[0.2222222222222222,\"#7201a8\"],[0.3333333333333333,\"#9c179e\"],[0.4444444444444444,\"#bd3786\"],[0.5555555555555556,\"#d8576b\"],[0.6666666666666666,\"#ed7953\"],[0.7777777777777778,\"#fb9f3a\"],[0.8888888888888888,\"#fdca26\"],[1.0,\"#f0f921\"]]}],\"heatmap\":[{\"type\":\"heatmap\",\"colorbar\":{\"outlinewidth\":0,\"ticks\":\"\"},\"colorscale\":[[0.0,\"#0d0887\"],[0.1111111111111111,\"#46039f\"],[0.2222222222222222,\"#7201a8\"],[0.3333333333333333,\"#9c179e\"],[0.4444444444444444,\"#bd3786\"],[0.5555555555555556,\"#d8576b\"],[0.6666666666666666,\"#ed7953\"],[0.7777777777777778,\"#fb9f3a\"],[0.8888888888888888,\"#fdca26\"],[1.0,\"#f0f921\"]]}],\"heatmapgl\":[{\"type\":\"heatmapgl\",\"colorbar\":{\"outlinewidth\":0,\"ticks\":\"\"},\"colorscale\":[[0.0,\"#0d0887\"],[0.1111111111111111,\"#46039f\"],[0.2222222222222222,\"#7201a8\"],[0.3333333333333333,\"#9c179e\"],[0.4444444444444444,\"#bd3786\"],[0.5555555555555556,\"#d8576b\"],[0.6666666666666666,\"#ed7953\"],[0.7777777777777778,\"#fb9f3a\"],[0.8888888888888888,\"#fdca26\"],[1.0,\"#f0f921\"]]}],\"contourcarpet\":[{\"type\":\"contourcarpet\",\"colorbar\":{\"outlinewidth\":0,\"ticks\":\"\"}}],\"contour\":[{\"type\":\"contour\",\"colorbar\":{\"outlinewidth\":0,\"ticks\":\"\"},\"colorscale\":[[0.0,\"#0d0887\"],[0.1111111111111111,\"#46039f\"],[0.2222222222222222,\"#7201a8\"],[0.3333333333333333,\"#9c179e\"],[0.4444444444444444,\"#bd3786\"],[0.5555555555555556,\"#d8576b\"],[0.6666666666666666,\"#ed7953\"],[0.7777777777777778,\"#fb9f3a\"],[0.8888888888888888,\"#fdca26\"],[1.0,\"#f0f921\"]]}],\"surface\":[{\"type\":\"surface\",\"colorbar\":{\"outlinewidth\":0,\"ticks\":\"\"},\"colorscale\":[[0.0,\"#0d0887\"],[0.1111111111111111,\"#46039f\"],[0.2222222222222222,\"#7201a8\"],[0.3333333333333333,\"#9c179e\"],[0.4444444444444444,\"#bd3786\"],[0.5555555555555556,\"#d8576b\"],[0.6666666666666666,\"#ed7953\"],[0.7777777777777778,\"#fb9f3a\"],[0.8888888888888888,\"#fdca26\"],[1.0,\"#f0f921\"]]}],\"mesh3d\":[{\"type\":\"mesh3d\",\"colorbar\":{\"outlinewidth\":0,\"ticks\":\"\"}}],\"scatter\":[{\"marker\":{\"line\":{\"color\":\"#283442\"}},\"type\":\"scatter\"}],\"parcoords\":[{\"type\":\"parcoords\",\"line\":{\"colorbar\":{\"outlinewidth\":0,\"ticks\":\"\"}}}],\"scatterpolargl\":[{\"type\":\"scatterpolargl\",\"marker\":{\"colorbar\":{\"outlinewidth\":0,\"ticks\":\"\"}}}],\"bar\":[{\"error_x\":{\"color\":\"#f2f5fa\"},\"error_y\":{\"color\":\"#f2f5fa\"},\"marker\":{\"line\":{\"color\":\"rgb(17,17,17)\",\"width\":0.5},\"pattern\":{\"fillmode\":\"overlay\",\"size\":10,\"solidity\":0.2}},\"type\":\"bar\"}],\"scattergeo\":[{\"type\":\"scattergeo\",\"marker\":{\"colorbar\":{\"outlinewidth\":0,\"ticks\":\"\"}}}],\"scatterpolar\":[{\"type\":\"scatterpolar\",\"marker\":{\"colorbar\":{\"outlinewidth\":0,\"ticks\":\"\"}}}],\"histogram\":[{\"marker\":{\"pattern\":{\"fillmode\":\"overlay\",\"size\":10,\"solidity\":0.2}},\"type\":\"histogram\"}],\"scattergl\":[{\"marker\":{\"line\":{\"color\":\"#283442\"}},\"type\":\"scattergl\"}],\"scatter3d\":[{\"type\":\"scatter3d\",\"line\":{\"colorbar\":{\"outlinewidth\":0,\"ticks\":\"\"}},\"marker\":{\"colorbar\":{\"outlinewidth\":0,\"ticks\":\"\"}}}],\"scattermapbox\":[{\"type\":\"scattermapbox\",\"marker\":{\"colorbar\":{\"outlinewidth\":0,\"ticks\":\"\"}}}],\"scatterternary\":[{\"type\":\"scatterternary\",\"marker\":{\"colorbar\":{\"outlinewidth\":0,\"ticks\":\"\"}}}],\"scattercarpet\":[{\"type\":\"scattercarpet\",\"marker\":{\"colorbar\":{\"outlinewidth\":0,\"ticks\":\"\"}}}],\"carpet\":[{\"aaxis\":{\"endlinecolor\":\"#A2B1C6\",\"gridcolor\":\"#506784\",\"linecolor\":\"#506784\",\"minorgridcolor\":\"#506784\",\"startlinecolor\":\"#A2B1C6\"},\"baxis\":{\"endlinecolor\":\"#A2B1C6\",\"gridcolor\":\"#506784\",\"linecolor\":\"#506784\",\"minorgridcolor\":\"#506784\",\"startlinecolor\":\"#A2B1C6\"},\"type\":\"carpet\"}],\"table\":[{\"cells\":{\"fill\":{\"color\":\"#506784\"},\"line\":{\"color\":\"rgb(17,17,17)\"}},\"header\":{\"fill\":{\"color\":\"#2a3f5f\"},\"line\":{\"color\":\"rgb(17,17,17)\"}},\"type\":\"table\"}],\"barpolar\":[{\"marker\":{\"line\":{\"color\":\"rgb(17,17,17)\",\"width\":0.5},\"pattern\":{\"fillmode\":\"overlay\",\"size\":10,\"solidity\":0.2}},\"type\":\"barpolar\"}],\"pie\":[{\"automargin\":true,\"type\":\"pie\"}]},\"layout\":{\"autotypenumbers\":\"strict\",\"colorway\":[\"#636efa\",\"#EF553B\",\"#00cc96\",\"#ab63fa\",\"#FFA15A\",\"#19d3f3\",\"#FF6692\",\"#B6E880\",\"#FF97FF\",\"#FECB52\"],\"font\":{\"color\":\"#f2f5fa\"},\"hovermode\":\"closest\",\"hoverlabel\":{\"align\":\"left\"},\"paper_bgcolor\":\"rgb(17,17,17)\",\"plot_bgcolor\":\"rgb(17,17,17)\",\"polar\":{\"bgcolor\":\"rgb(17,17,17)\",\"angularaxis\":{\"gridcolor\":\"#506784\",\"linecolor\":\"#506784\",\"ticks\":\"\"},\"radialaxis\":{\"gridcolor\":\"#506784\",\"linecolor\":\"#506784\",\"ticks\":\"\"}},\"ternary\":{\"bgcolor\":\"rgb(17,17,17)\",\"aaxis\":{\"gridcolor\":\"#506784\",\"linecolor\":\"#506784\",\"ticks\":\"\"},\"baxis\":{\"gridcolor\":\"#506784\",\"linecolor\":\"#506784\",\"ticks\":\"\"},\"caxis\":{\"gridcolor\":\"#506784\",\"linecolor\":\"#506784\",\"ticks\":\"\"}},\"coloraxis\":{\"colorbar\":{\"outlinewidth\":0,\"ticks\":\"\"}},\"colorscale\":{\"sequential\":[[0.0,\"#0d0887\"],[0.1111111111111111,\"#46039f\"],[0.2222222222222222,\"#7201a8\"],[0.3333333333333333,\"#9c179e\"],[0.4444444444444444,\"#bd3786\"],[0.5555555555555556,\"#d8576b\"],[0.6666666666666666,\"#ed7953\"],[0.7777777777777778,\"#fb9f3a\"],[0.8888888888888888,\"#fdca26\"],[1.0,\"#f0f921\"]],\"sequentialminus\":[[0.0,\"#0d0887\"],[0.1111111111111111,\"#46039f\"],[0.2222222222222222,\"#7201a8\"],[0.3333333333333333,\"#9c179e\"],[0.4444444444444444,\"#bd3786\"],[0.5555555555555556,\"#d8576b\"],[0.6666666666666666,\"#ed7953\"],[0.7777777777777778,\"#fb9f3a\"],[0.8888888888888888,\"#fdca26\"],[1.0,\"#f0f921\"]],\"diverging\":[[0,\"#8e0152\"],[0.1,\"#c51b7d\"],[0.2,\"#de77ae\"],[0.3,\"#f1b6da\"],[0.4,\"#fde0ef\"],[0.5,\"#f7f7f7\"],[0.6,\"#e6f5d0\"],[0.7,\"#b8e186\"],[0.8,\"#7fbc41\"],[0.9,\"#4d9221\"],[1,\"#276419\"]]},\"xaxis\":{\"gridcolor\":\"#283442\",\"linecolor\":\"#506784\",\"ticks\":\"\",\"title\":{\"standoff\":15},\"zerolinecolor\":\"#283442\",\"automargin\":true,\"zerolinewidth\":2},\"yaxis\":{\"gridcolor\":\"#283442\",\"linecolor\":\"#506784\",\"ticks\":\"\",\"title\":{\"standoff\":15},\"zerolinecolor\":\"#283442\",\"automargin\":true,\"zerolinewidth\":2},\"scene\":{\"xaxis\":{\"backgroundcolor\":\"rgb(17,17,17)\",\"gridcolor\":\"#506784\",\"linecolor\":\"#506784\",\"showbackground\":true,\"ticks\":\"\",\"zerolinecolor\":\"#C8D4E3\",\"gridwidth\":2},\"yaxis\":{\"backgroundcolor\":\"rgb(17,17,17)\",\"gridcolor\":\"#506784\",\"linecolor\":\"#506784\",\"showbackground\":true,\"ticks\":\"\",\"zerolinecolor\":\"#C8D4E3\",\"gridwidth\":2},\"zaxis\":{\"backgroundcolor\":\"rgb(17,17,17)\",\"gridcolor\":\"#506784\",\"linecolor\":\"#506784\",\"showbackground\":true,\"ticks\":\"\",\"zerolinecolor\":\"#C8D4E3\",\"gridwidth\":2}},\"shapedefaults\":{\"line\":{\"color\":\"#f2f5fa\"}},\"annotationdefaults\":{\"arrowcolor\":\"#f2f5fa\",\"arrowhead\":0,\"arrowwidth\":1},\"geo\":{\"bgcolor\":\"rgb(17,17,17)\",\"landcolor\":\"rgb(17,17,17)\",\"subunitcolor\":\"#506784\",\"showland\":true,\"showlakes\":true,\"lakecolor\":\"rgb(17,17,17)\"},\"title\":{\"x\":0.05},\"updatemenudefaults\":{\"bgcolor\":\"#506784\",\"borderwidth\":0},\"sliderdefaults\":{\"bgcolor\":\"#C8D4E3\",\"borderwidth\":1,\"bordercolor\":\"rgb(17,17,17)\",\"tickwidth\":0},\"mapbox\":{\"style\":\"dark\"}}},\"xaxis\":{\"anchor\":\"y\",\"domain\":[0.0,1.0],\"title\":{\"text\":\"time\"}},\"yaxis\":{\"anchor\":\"x\",\"domain\":[0.0,1.0],\"title\":{\"text\":\"linAccZ\"}},\"legend\":{\"tracegroupgap\":0},\"title\":{\"text\":\"Linear Acceleration Z over Time\"}},                        {\"responsive\": true}                    ).then(function(){\n                            \nvar gd = document.getElementById('6118996b-97af-4b37-a060-8f5362a9154a');\nvar x = new MutationObserver(function (mutations, observer) {{\n        var display = window.getComputedStyle(gd).display;\n        if (!display || display === 'none') {{\n            console.log([gd, 'removed!']);\n            Plotly.purge(gd);\n            observer.disconnect();\n        }}\n}});\n\n// Listen for the removal of the full notebook cells\nvar notebookContainer = gd.closest('#notebook-container');\nif (notebookContainer) {{\n    x.observe(notebookContainer, {childList: true});\n}}\n\n// Listen for the clearing of the current output cell\nvar outputEl = gd.closest('.output');\nif (outputEl) {{\n    x.observe(outputEl, {childList: true});\n}}\n\n                        })                };                });            </script>        </div>"
     },
     "metadata": {},
     "output_type": "display_data"
    }
   ],
   "source": [
    "import plotly.express as px\n",
    "\n",
    "fig = px.line(data[15][\"series\"], y='linAccZ', title='Linear Acceleration Z over Time')\n",
    "fig.show()"
   ],
   "metadata": {
    "collapsed": false,
    "ExecuteTime": {
     "end_time": "2024-01-23T17:36:04.203399700Z",
     "start_time": "2024-01-23T17:36:04.115948200Z"
    }
   },
   "id": "3653b7f6bf5a8bd0",
   "execution_count": 45
  },
  {
   "cell_type": "code",
   "outputs": [
    {
     "data": {
      "text/plain": "array([10,  0, 11, 12])"
     },
     "execution_count": 62,
     "metadata": {},
     "output_type": "execute_result"
    }
   ],
   "source": [
    "max_squat_jump = max(data,key= lambda x: len(x[\"series\"].exercising_periods.unique()))\n",
    "max_squat_jump[\"series\"].exercising_periods.unique()"
   ],
   "metadata": {
    "collapsed": false,
    "ExecuteTime": {
     "end_time": "2024-01-23T17:40:24.548608Z",
     "start_time": "2024-01-23T17:40:24.490231200Z"
    }
   },
   "id": "25c0f9ad15d6aeca",
   "execution_count": 62
  },
  {
   "cell_type": "code",
   "outputs": [
    {
     "data": {
      "text/plain": "'SQUAT_JUMP'"
     },
     "execution_count": 72,
     "metadata": {},
     "output_type": "execute_result"
    }
   ],
   "source": [
    "data[3][\"target\"]"
   ],
   "metadata": {
    "collapsed": false,
    "ExecuteTime": {
     "end_time": "2024-01-23T17:58:01.378953800Z",
     "start_time": "2024-01-23T17:58:01.349440400Z"
    }
   },
   "id": "c7c6d16066086600",
   "execution_count": 72
  },
  {
   "cell_type": "code",
   "outputs": [
    {
     "data": {
      "application/vnd.plotly.v1+json": {
       "data": [
        {
         "hovertemplate": "time=%{x}<br>linAccZ=%{y}<extra></extra>",
         "legendgroup": "",
         "line": {
          "color": "#636efa",
          "dash": "solid"
         },
         "marker": {
          "symbol": "circle"
         },
         "mode": "lines",
         "name": "",
         "orientation": "v",
         "showlegend": false,
         "x": [
          "1970-01-01T00:00:14.163000",
          "1970-01-01T00:00:14.172000",
          "1970-01-01T00:00:14.181000",
          "1970-01-01T00:00:14.190000",
          "1970-01-01T00:00:14.199000",
          "1970-01-01T00:00:14.214000",
          "1970-01-01T00:00:14.223000",
          "1970-01-01T00:00:14.232000",
          "1970-01-01T00:00:14.241000",
          "1970-01-01T00:00:14.250000",
          "1970-01-01T00:00:14.259000",
          "1970-01-01T00:00:14.268000",
          "1970-01-01T00:00:14.277000",
          "1970-01-01T00:00:14.293000",
          "1970-01-01T00:00:14.302000",
          "1970-01-01T00:00:14.311000",
          "1970-01-01T00:00:14.320000",
          "1970-01-01T00:00:14.329000",
          "1970-01-01T00:00:14.338000",
          "1970-01-01T00:00:14.347000",
          "1970-01-01T00:00:14.356000",
          "1970-01-01T00:00:14.371000",
          "1970-01-01T00:00:14.380000",
          "1970-01-01T00:00:14.389000",
          "1970-01-01T00:00:14.398000",
          "1970-01-01T00:00:14.407000",
          "1970-01-01T00:00:14.416000",
          "1970-01-01T00:00:14.425000",
          "1970-01-01T00:00:14.434000",
          "1970-01-01T00:00:14.450000",
          "1970-01-01T00:00:14.459000",
          "1970-01-01T00:00:14.468000",
          "1970-01-01T00:00:14.477000",
          "1970-01-01T00:00:14.486000",
          "1970-01-01T00:00:14.495000",
          "1970-01-01T00:00:14.504000",
          "1970-01-01T00:00:14.513000",
          "1970-01-01T00:00:14.529000",
          "1970-01-01T00:00:14.538000",
          "1970-01-01T00:00:14.547000",
          "1970-01-01T00:00:14.556000",
          "1970-01-01T00:00:14.565000",
          "1970-01-01T00:00:14.574000",
          "1970-01-01T00:00:14.583000",
          "1970-01-01T00:00:14.592000",
          "1970-01-01T00:00:14.607000",
          "1970-01-01T00:00:14.616000",
          "1970-01-01T00:00:14.625000",
          "1970-01-01T00:00:14.634000",
          "1970-01-01T00:00:14.643000",
          "1970-01-01T00:00:14.652000",
          "1970-01-01T00:00:14.661000",
          "1970-01-01T00:00:14.670000",
          "1970-01-01T00:00:14.686000",
          "1970-01-01T00:00:14.695000",
          "1970-01-01T00:00:14.704000",
          "1970-01-01T00:00:14.713000",
          "1970-01-01T00:00:14.722000",
          "1970-01-01T00:00:14.731000",
          "1970-01-01T00:00:14.740000",
          "1970-01-01T00:00:14.749000",
          "1970-01-01T00:00:14.764000",
          "1970-01-01T00:00:14.773000",
          "1970-01-01T00:00:14.782000",
          "1970-01-01T00:00:14.791000",
          "1970-01-01T00:00:14.800000",
          "1970-01-01T00:00:14.809000",
          "1970-01-01T00:00:14.818000",
          "1970-01-01T00:00:14.827000",
          "1970-01-01T00:00:14.843000",
          "1970-01-01T00:00:14.852000",
          "1970-01-01T00:00:14.861000",
          "1970-01-01T00:00:14.870000",
          "1970-01-01T00:00:14.879000",
          "1970-01-01T00:00:14.888000",
          "1970-01-01T00:00:14.897000",
          "1970-01-01T00:00:14.906000",
          "1970-01-01T00:00:14.921000",
          "1970-01-01T00:00:14.930000",
          "1970-01-01T00:00:14.939000",
          "1970-01-01T00:00:14.948000",
          "1970-01-01T00:00:14.957000",
          "1970-01-01T00:00:14.966000",
          "1970-01-01T00:00:14.975000",
          "1970-01-01T00:00:14.984000",
          "1970-01-01T00:00:15",
          "1970-01-01T00:00:15.009000",
          "1970-01-01T00:00:15.018000",
          "1970-01-01T00:00:15.027000",
          "1970-01-01T00:00:15.036000",
          "1970-01-01T00:00:15.045000",
          "1970-01-01T00:00:15.054000",
          "1970-01-01T00:00:15.063000",
          "1970-01-01T00:00:15.078000",
          "1970-01-01T00:00:15.087000",
          "1970-01-01T00:00:15.096000",
          "1970-01-01T00:00:15.105000",
          "1970-01-01T00:00:15.114000",
          "1970-01-01T00:00:15.123000",
          "1970-01-01T00:00:15.132000",
          "1970-01-01T00:00:15.141000",
          "1970-01-01T00:00:15.157000",
          "1970-01-01T00:00:15.166000",
          "1970-01-01T00:00:15.175000",
          "1970-01-01T00:00:15.184000",
          "1970-01-01T00:00:15.193000",
          "1970-01-01T00:00:15.202000",
          "1970-01-01T00:00:15.211000",
          "1970-01-01T00:00:15.220000",
          "1970-01-01T00:00:15.236000",
          "1970-01-01T00:00:15.245000",
          "1970-01-01T00:00:15.254000",
          "1970-01-01T00:00:15.263000",
          "1970-01-01T00:00:15.272000",
          "1970-01-01T00:00:15.281000",
          "1970-01-01T00:00:15.290000",
          "1970-01-01T00:00:15.299000",
          "1970-01-01T00:00:15.314000",
          "1970-01-01T00:00:15.323000"
         ],
         "xaxis": "x",
         "y": [
          -10.973018853068352,
          -10.926189282834532,
          -10.8226628947258,
          -10.663563254773617,
          -10.452407092452049,
          -10.19810340076685,
          -9.908464586436748,
          -9.587663215696812,
          -9.23711876064539,
          -8.865503244102001,
          -8.473668435811996,
          -8.063792696595192,
          -7.625627563074232,
          -7.152355912476777,
          -6.636797701343895,
          -6.080182107388973,
          -5.494910726919771,
          -4.88591545149684,
          -4.259984165951609,
          -3.623101046681404,
          -2.989344291165471,
          -2.3752947773039343,
          -1.7951575430482627,
          -1.2501120927929879,
          -0.7338836536556483,
          -0.23969682976603507,
          0.23261151500046254,
          0.6785730308294297,
          1.0943836038559676,
          1.4886424641311167,
          1.8723168263584373,
          2.248061933219433,
          2.616805542483926,
          2.975999543517828,
          3.3175673686712974,
          3.6446530318260195,
          3.9618146670609717,
          4.2665588726103305,
          4.558750334009528,
          4.841437218487263,
          5.118142326250672,
          5.39305818811059,
          5.674775190278888,
          5.960066144168377,
          6.2461972523480656,
          6.528297549933194,
          6.802068254873156,
          7.066469443440437,
          7.31850291915238,
          7.543504079729319,
          7.727473059818148,
          7.869114398360253,
          7.968910344839095,
          8.02744357049465,
          8.048148797750473,
          8.03095920205116,
          7.9759515333175655,
          7.883321812152863,
          7.756470822691917,
          7.601247061491013,
          7.426900463700295,
          7.241739964485168,
          7.04589842736721,
          6.841125352382659,
          6.626071521639824,
          6.400412590503693,
          6.168002508282662,
          5.931275954246521,
          5.693667158484459,
          5.464538635611534,
          5.252995812296868,
          5.058075693249703,
          4.873312821984292,
          4.697940962016583,
          4.533304244846223,
          4.378474113462727,
          4.236105255302392,
          4.1154087496944705,
          4.020373121314334,
          3.9465887160215063,
          3.884004155804287,
          3.822095438945108,
          3.7516965658526176,
          3.6643918908678463,
          3.554012037021457,
          3.4173426283407027,
          3.2509860129148,
          3.0501876295579136,
          2.809479271864402,
          2.5216942335106434,
          2.1749446959217313,
          1.7737905574741308,
          1.3369358868285781,
          0.8798784453538246,
          0.41172919347358405,
          -0.06532633617869577,
          -0.5549780286866006,
          -1.0678265120089052,
          -1.6181884796899972,
          -2.212673169519985,
          -2.8470524854905666,
          -3.514886675023007,
          -4.206179626128287,
          -4.903962774415267,
          -5.592685479062492,
          -6.261513407365419,
          -6.903445915117044,
          -7.508590458763064,
          -8.063115754257305,
          -8.554525788554454,
          -8.966088715918012,
          -9.300466974502195,
          -9.576926652315887,
          -9.813574272813273,
          -10.021550179868935,
          -10.202452590465544,
          -10.352173326313494,
          -10.460368472635746,
          -10.512152042686939
         ],
         "yaxis": "y",
         "type": "scatter"
        }
       ],
       "layout": {
        "template": {
         "data": {
          "histogram2dcontour": [
           {
            "type": "histogram2dcontour",
            "colorbar": {
             "outlinewidth": 0,
             "ticks": ""
            },
            "colorscale": [
             [
              0.0,
              "#0d0887"
             ],
             [
              0.1111111111111111,
              "#46039f"
             ],
             [
              0.2222222222222222,
              "#7201a8"
             ],
             [
              0.3333333333333333,
              "#9c179e"
             ],
             [
              0.4444444444444444,
              "#bd3786"
             ],
             [
              0.5555555555555556,
              "#d8576b"
             ],
             [
              0.6666666666666666,
              "#ed7953"
             ],
             [
              0.7777777777777778,
              "#fb9f3a"
             ],
             [
              0.8888888888888888,
              "#fdca26"
             ],
             [
              1.0,
              "#f0f921"
             ]
            ]
           }
          ],
          "choropleth": [
           {
            "type": "choropleth",
            "colorbar": {
             "outlinewidth": 0,
             "ticks": ""
            }
           }
          ],
          "histogram2d": [
           {
            "type": "histogram2d",
            "colorbar": {
             "outlinewidth": 0,
             "ticks": ""
            },
            "colorscale": [
             [
              0.0,
              "#0d0887"
             ],
             [
              0.1111111111111111,
              "#46039f"
             ],
             [
              0.2222222222222222,
              "#7201a8"
             ],
             [
              0.3333333333333333,
              "#9c179e"
             ],
             [
              0.4444444444444444,
              "#bd3786"
             ],
             [
              0.5555555555555556,
              "#d8576b"
             ],
             [
              0.6666666666666666,
              "#ed7953"
             ],
             [
              0.7777777777777778,
              "#fb9f3a"
             ],
             [
              0.8888888888888888,
              "#fdca26"
             ],
             [
              1.0,
              "#f0f921"
             ]
            ]
           }
          ],
          "heatmap": [
           {
            "type": "heatmap",
            "colorbar": {
             "outlinewidth": 0,
             "ticks": ""
            },
            "colorscale": [
             [
              0.0,
              "#0d0887"
             ],
             [
              0.1111111111111111,
              "#46039f"
             ],
             [
              0.2222222222222222,
              "#7201a8"
             ],
             [
              0.3333333333333333,
              "#9c179e"
             ],
             [
              0.4444444444444444,
              "#bd3786"
             ],
             [
              0.5555555555555556,
              "#d8576b"
             ],
             [
              0.6666666666666666,
              "#ed7953"
             ],
             [
              0.7777777777777778,
              "#fb9f3a"
             ],
             [
              0.8888888888888888,
              "#fdca26"
             ],
             [
              1.0,
              "#f0f921"
             ]
            ]
           }
          ],
          "heatmapgl": [
           {
            "type": "heatmapgl",
            "colorbar": {
             "outlinewidth": 0,
             "ticks": ""
            },
            "colorscale": [
             [
              0.0,
              "#0d0887"
             ],
             [
              0.1111111111111111,
              "#46039f"
             ],
             [
              0.2222222222222222,
              "#7201a8"
             ],
             [
              0.3333333333333333,
              "#9c179e"
             ],
             [
              0.4444444444444444,
              "#bd3786"
             ],
             [
              0.5555555555555556,
              "#d8576b"
             ],
             [
              0.6666666666666666,
              "#ed7953"
             ],
             [
              0.7777777777777778,
              "#fb9f3a"
             ],
             [
              0.8888888888888888,
              "#fdca26"
             ],
             [
              1.0,
              "#f0f921"
             ]
            ]
           }
          ],
          "contourcarpet": [
           {
            "type": "contourcarpet",
            "colorbar": {
             "outlinewidth": 0,
             "ticks": ""
            }
           }
          ],
          "contour": [
           {
            "type": "contour",
            "colorbar": {
             "outlinewidth": 0,
             "ticks": ""
            },
            "colorscale": [
             [
              0.0,
              "#0d0887"
             ],
             [
              0.1111111111111111,
              "#46039f"
             ],
             [
              0.2222222222222222,
              "#7201a8"
             ],
             [
              0.3333333333333333,
              "#9c179e"
             ],
             [
              0.4444444444444444,
              "#bd3786"
             ],
             [
              0.5555555555555556,
              "#d8576b"
             ],
             [
              0.6666666666666666,
              "#ed7953"
             ],
             [
              0.7777777777777778,
              "#fb9f3a"
             ],
             [
              0.8888888888888888,
              "#fdca26"
             ],
             [
              1.0,
              "#f0f921"
             ]
            ]
           }
          ],
          "surface": [
           {
            "type": "surface",
            "colorbar": {
             "outlinewidth": 0,
             "ticks": ""
            },
            "colorscale": [
             [
              0.0,
              "#0d0887"
             ],
             [
              0.1111111111111111,
              "#46039f"
             ],
             [
              0.2222222222222222,
              "#7201a8"
             ],
             [
              0.3333333333333333,
              "#9c179e"
             ],
             [
              0.4444444444444444,
              "#bd3786"
             ],
             [
              0.5555555555555556,
              "#d8576b"
             ],
             [
              0.6666666666666666,
              "#ed7953"
             ],
             [
              0.7777777777777778,
              "#fb9f3a"
             ],
             [
              0.8888888888888888,
              "#fdca26"
             ],
             [
              1.0,
              "#f0f921"
             ]
            ]
           }
          ],
          "mesh3d": [
           {
            "type": "mesh3d",
            "colorbar": {
             "outlinewidth": 0,
             "ticks": ""
            }
           }
          ],
          "scatter": [
           {
            "marker": {
             "line": {
              "color": "#283442"
             }
            },
            "type": "scatter"
           }
          ],
          "parcoords": [
           {
            "type": "parcoords",
            "line": {
             "colorbar": {
              "outlinewidth": 0,
              "ticks": ""
             }
            }
           }
          ],
          "scatterpolargl": [
           {
            "type": "scatterpolargl",
            "marker": {
             "colorbar": {
              "outlinewidth": 0,
              "ticks": ""
             }
            }
           }
          ],
          "bar": [
           {
            "error_x": {
             "color": "#f2f5fa"
            },
            "error_y": {
             "color": "#f2f5fa"
            },
            "marker": {
             "line": {
              "color": "rgb(17,17,17)",
              "width": 0.5
             },
             "pattern": {
              "fillmode": "overlay",
              "size": 10,
              "solidity": 0.2
             }
            },
            "type": "bar"
           }
          ],
          "scattergeo": [
           {
            "type": "scattergeo",
            "marker": {
             "colorbar": {
              "outlinewidth": 0,
              "ticks": ""
             }
            }
           }
          ],
          "scatterpolar": [
           {
            "type": "scatterpolar",
            "marker": {
             "colorbar": {
              "outlinewidth": 0,
              "ticks": ""
             }
            }
           }
          ],
          "histogram": [
           {
            "marker": {
             "pattern": {
              "fillmode": "overlay",
              "size": 10,
              "solidity": 0.2
             }
            },
            "type": "histogram"
           }
          ],
          "scattergl": [
           {
            "marker": {
             "line": {
              "color": "#283442"
             }
            },
            "type": "scattergl"
           }
          ],
          "scatter3d": [
           {
            "type": "scatter3d",
            "line": {
             "colorbar": {
              "outlinewidth": 0,
              "ticks": ""
             }
            },
            "marker": {
             "colorbar": {
              "outlinewidth": 0,
              "ticks": ""
             }
            }
           }
          ],
          "scattermapbox": [
           {
            "type": "scattermapbox",
            "marker": {
             "colorbar": {
              "outlinewidth": 0,
              "ticks": ""
             }
            }
           }
          ],
          "scatterternary": [
           {
            "type": "scatterternary",
            "marker": {
             "colorbar": {
              "outlinewidth": 0,
              "ticks": ""
             }
            }
           }
          ],
          "scattercarpet": [
           {
            "type": "scattercarpet",
            "marker": {
             "colorbar": {
              "outlinewidth": 0,
              "ticks": ""
             }
            }
           }
          ],
          "carpet": [
           {
            "aaxis": {
             "endlinecolor": "#A2B1C6",
             "gridcolor": "#506784",
             "linecolor": "#506784",
             "minorgridcolor": "#506784",
             "startlinecolor": "#A2B1C6"
            },
            "baxis": {
             "endlinecolor": "#A2B1C6",
             "gridcolor": "#506784",
             "linecolor": "#506784",
             "minorgridcolor": "#506784",
             "startlinecolor": "#A2B1C6"
            },
            "type": "carpet"
           }
          ],
          "table": [
           {
            "cells": {
             "fill": {
              "color": "#506784"
             },
             "line": {
              "color": "rgb(17,17,17)"
             }
            },
            "header": {
             "fill": {
              "color": "#2a3f5f"
             },
             "line": {
              "color": "rgb(17,17,17)"
             }
            },
            "type": "table"
           }
          ],
          "barpolar": [
           {
            "marker": {
             "line": {
              "color": "rgb(17,17,17)",
              "width": 0.5
             },
             "pattern": {
              "fillmode": "overlay",
              "size": 10,
              "solidity": 0.2
             }
            },
            "type": "barpolar"
           }
          ],
          "pie": [
           {
            "automargin": true,
            "type": "pie"
           }
          ]
         },
         "layout": {
          "autotypenumbers": "strict",
          "colorway": [
           "#636efa",
           "#EF553B",
           "#00cc96",
           "#ab63fa",
           "#FFA15A",
           "#19d3f3",
           "#FF6692",
           "#B6E880",
           "#FF97FF",
           "#FECB52"
          ],
          "font": {
           "color": "#f2f5fa"
          },
          "hovermode": "closest",
          "hoverlabel": {
           "align": "left"
          },
          "paper_bgcolor": "rgb(17,17,17)",
          "plot_bgcolor": "rgb(17,17,17)",
          "polar": {
           "bgcolor": "rgb(17,17,17)",
           "angularaxis": {
            "gridcolor": "#506784",
            "linecolor": "#506784",
            "ticks": ""
           },
           "radialaxis": {
            "gridcolor": "#506784",
            "linecolor": "#506784",
            "ticks": ""
           }
          },
          "ternary": {
           "bgcolor": "rgb(17,17,17)",
           "aaxis": {
            "gridcolor": "#506784",
            "linecolor": "#506784",
            "ticks": ""
           },
           "baxis": {
            "gridcolor": "#506784",
            "linecolor": "#506784",
            "ticks": ""
           },
           "caxis": {
            "gridcolor": "#506784",
            "linecolor": "#506784",
            "ticks": ""
           }
          },
          "coloraxis": {
           "colorbar": {
            "outlinewidth": 0,
            "ticks": ""
           }
          },
          "colorscale": {
           "sequential": [
            [
             0.0,
             "#0d0887"
            ],
            [
             0.1111111111111111,
             "#46039f"
            ],
            [
             0.2222222222222222,
             "#7201a8"
            ],
            [
             0.3333333333333333,
             "#9c179e"
            ],
            [
             0.4444444444444444,
             "#bd3786"
            ],
            [
             0.5555555555555556,
             "#d8576b"
            ],
            [
             0.6666666666666666,
             "#ed7953"
            ],
            [
             0.7777777777777778,
             "#fb9f3a"
            ],
            [
             0.8888888888888888,
             "#fdca26"
            ],
            [
             1.0,
             "#f0f921"
            ]
           ],
           "sequentialminus": [
            [
             0.0,
             "#0d0887"
            ],
            [
             0.1111111111111111,
             "#46039f"
            ],
            [
             0.2222222222222222,
             "#7201a8"
            ],
            [
             0.3333333333333333,
             "#9c179e"
            ],
            [
             0.4444444444444444,
             "#bd3786"
            ],
            [
             0.5555555555555556,
             "#d8576b"
            ],
            [
             0.6666666666666666,
             "#ed7953"
            ],
            [
             0.7777777777777778,
             "#fb9f3a"
            ],
            [
             0.8888888888888888,
             "#fdca26"
            ],
            [
             1.0,
             "#f0f921"
            ]
           ],
           "diverging": [
            [
             0,
             "#8e0152"
            ],
            [
             0.1,
             "#c51b7d"
            ],
            [
             0.2,
             "#de77ae"
            ],
            [
             0.3,
             "#f1b6da"
            ],
            [
             0.4,
             "#fde0ef"
            ],
            [
             0.5,
             "#f7f7f7"
            ],
            [
             0.6,
             "#e6f5d0"
            ],
            [
             0.7,
             "#b8e186"
            ],
            [
             0.8,
             "#7fbc41"
            ],
            [
             0.9,
             "#4d9221"
            ],
            [
             1,
             "#276419"
            ]
           ]
          },
          "xaxis": {
           "gridcolor": "#283442",
           "linecolor": "#506784",
           "ticks": "",
           "title": {
            "standoff": 15
           },
           "zerolinecolor": "#283442",
           "automargin": true,
           "zerolinewidth": 2
          },
          "yaxis": {
           "gridcolor": "#283442",
           "linecolor": "#506784",
           "ticks": "",
           "title": {
            "standoff": 15
           },
           "zerolinecolor": "#283442",
           "automargin": true,
           "zerolinewidth": 2
          },
          "scene": {
           "xaxis": {
            "backgroundcolor": "rgb(17,17,17)",
            "gridcolor": "#506784",
            "linecolor": "#506784",
            "showbackground": true,
            "ticks": "",
            "zerolinecolor": "#C8D4E3",
            "gridwidth": 2
           },
           "yaxis": {
            "backgroundcolor": "rgb(17,17,17)",
            "gridcolor": "#506784",
            "linecolor": "#506784",
            "showbackground": true,
            "ticks": "",
            "zerolinecolor": "#C8D4E3",
            "gridwidth": 2
           },
           "zaxis": {
            "backgroundcolor": "rgb(17,17,17)",
            "gridcolor": "#506784",
            "linecolor": "#506784",
            "showbackground": true,
            "ticks": "",
            "zerolinecolor": "#C8D4E3",
            "gridwidth": 2
           }
          },
          "shapedefaults": {
           "line": {
            "color": "#f2f5fa"
           }
          },
          "annotationdefaults": {
           "arrowcolor": "#f2f5fa",
           "arrowhead": 0,
           "arrowwidth": 1
          },
          "geo": {
           "bgcolor": "rgb(17,17,17)",
           "landcolor": "rgb(17,17,17)",
           "subunitcolor": "#506784",
           "showland": true,
           "showlakes": true,
           "lakecolor": "rgb(17,17,17)"
          },
          "title": {
           "x": 0.05
          },
          "updatemenudefaults": {
           "bgcolor": "#506784",
           "borderwidth": 0
          },
          "sliderdefaults": {
           "bgcolor": "#C8D4E3",
           "borderwidth": 1,
           "bordercolor": "rgb(17,17,17)",
           "tickwidth": 0
          },
          "mapbox": {
           "style": "dark"
          }
         }
        },
        "xaxis": {
         "anchor": "y",
         "domain": [
          0.0,
          1.0
         ],
         "title": {
          "text": "time"
         }
        },
        "yaxis": {
         "anchor": "x",
         "domain": [
          0.0,
          1.0
         ],
         "title": {
          "text": "linAccZ"
         }
        },
        "legend": {
         "tracegroupgap": 0
        },
        "title": {
         "text": "Linear Acceleration Z over Time"
        }
       },
       "config": {
        "plotlyServerURL": "https://plot.ly"
       }
      },
      "text/html": "<div>                            <div id=\"0f8b3def-a5eb-4624-b5de-037e8c8ab429\" class=\"plotly-graph-div\" style=\"height:525px; width:100%;\"></div>            <script type=\"text/javascript\">                require([\"plotly\"], function(Plotly) {                    window.PLOTLYENV=window.PLOTLYENV || {};                                    if (document.getElementById(\"0f8b3def-a5eb-4624-b5de-037e8c8ab429\")) {                    Plotly.newPlot(                        \"0f8b3def-a5eb-4624-b5de-037e8c8ab429\",                        [{\"hovertemplate\":\"time=%{x}\\u003cbr\\u003elinAccZ=%{y}\\u003cextra\\u003e\\u003c\\u002fextra\\u003e\",\"legendgroup\":\"\",\"line\":{\"color\":\"#636efa\",\"dash\":\"solid\"},\"marker\":{\"symbol\":\"circle\"},\"mode\":\"lines\",\"name\":\"\",\"orientation\":\"v\",\"showlegend\":false,\"x\":[\"1970-01-01T00:00:14.163000\",\"1970-01-01T00:00:14.172000\",\"1970-01-01T00:00:14.181000\",\"1970-01-01T00:00:14.190000\",\"1970-01-01T00:00:14.199000\",\"1970-01-01T00:00:14.214000\",\"1970-01-01T00:00:14.223000\",\"1970-01-01T00:00:14.232000\",\"1970-01-01T00:00:14.241000\",\"1970-01-01T00:00:14.250000\",\"1970-01-01T00:00:14.259000\",\"1970-01-01T00:00:14.268000\",\"1970-01-01T00:00:14.277000\",\"1970-01-01T00:00:14.293000\",\"1970-01-01T00:00:14.302000\",\"1970-01-01T00:00:14.311000\",\"1970-01-01T00:00:14.320000\",\"1970-01-01T00:00:14.329000\",\"1970-01-01T00:00:14.338000\",\"1970-01-01T00:00:14.347000\",\"1970-01-01T00:00:14.356000\",\"1970-01-01T00:00:14.371000\",\"1970-01-01T00:00:14.380000\",\"1970-01-01T00:00:14.389000\",\"1970-01-01T00:00:14.398000\",\"1970-01-01T00:00:14.407000\",\"1970-01-01T00:00:14.416000\",\"1970-01-01T00:00:14.425000\",\"1970-01-01T00:00:14.434000\",\"1970-01-01T00:00:14.450000\",\"1970-01-01T00:00:14.459000\",\"1970-01-01T00:00:14.468000\",\"1970-01-01T00:00:14.477000\",\"1970-01-01T00:00:14.486000\",\"1970-01-01T00:00:14.495000\",\"1970-01-01T00:00:14.504000\",\"1970-01-01T00:00:14.513000\",\"1970-01-01T00:00:14.529000\",\"1970-01-01T00:00:14.538000\",\"1970-01-01T00:00:14.547000\",\"1970-01-01T00:00:14.556000\",\"1970-01-01T00:00:14.565000\",\"1970-01-01T00:00:14.574000\",\"1970-01-01T00:00:14.583000\",\"1970-01-01T00:00:14.592000\",\"1970-01-01T00:00:14.607000\",\"1970-01-01T00:00:14.616000\",\"1970-01-01T00:00:14.625000\",\"1970-01-01T00:00:14.634000\",\"1970-01-01T00:00:14.643000\",\"1970-01-01T00:00:14.652000\",\"1970-01-01T00:00:14.661000\",\"1970-01-01T00:00:14.670000\",\"1970-01-01T00:00:14.686000\",\"1970-01-01T00:00:14.695000\",\"1970-01-01T00:00:14.704000\",\"1970-01-01T00:00:14.713000\",\"1970-01-01T00:00:14.722000\",\"1970-01-01T00:00:14.731000\",\"1970-01-01T00:00:14.740000\",\"1970-01-01T00:00:14.749000\",\"1970-01-01T00:00:14.764000\",\"1970-01-01T00:00:14.773000\",\"1970-01-01T00:00:14.782000\",\"1970-01-01T00:00:14.791000\",\"1970-01-01T00:00:14.800000\",\"1970-01-01T00:00:14.809000\",\"1970-01-01T00:00:14.818000\",\"1970-01-01T00:00:14.827000\",\"1970-01-01T00:00:14.843000\",\"1970-01-01T00:00:14.852000\",\"1970-01-01T00:00:14.861000\",\"1970-01-01T00:00:14.870000\",\"1970-01-01T00:00:14.879000\",\"1970-01-01T00:00:14.888000\",\"1970-01-01T00:00:14.897000\",\"1970-01-01T00:00:14.906000\",\"1970-01-01T00:00:14.921000\",\"1970-01-01T00:00:14.930000\",\"1970-01-01T00:00:14.939000\",\"1970-01-01T00:00:14.948000\",\"1970-01-01T00:00:14.957000\",\"1970-01-01T00:00:14.966000\",\"1970-01-01T00:00:14.975000\",\"1970-01-01T00:00:14.984000\",\"1970-01-01T00:00:15\",\"1970-01-01T00:00:15.009000\",\"1970-01-01T00:00:15.018000\",\"1970-01-01T00:00:15.027000\",\"1970-01-01T00:00:15.036000\",\"1970-01-01T00:00:15.045000\",\"1970-01-01T00:00:15.054000\",\"1970-01-01T00:00:15.063000\",\"1970-01-01T00:00:15.078000\",\"1970-01-01T00:00:15.087000\",\"1970-01-01T00:00:15.096000\",\"1970-01-01T00:00:15.105000\",\"1970-01-01T00:00:15.114000\",\"1970-01-01T00:00:15.123000\",\"1970-01-01T00:00:15.132000\",\"1970-01-01T00:00:15.141000\",\"1970-01-01T00:00:15.157000\",\"1970-01-01T00:00:15.166000\",\"1970-01-01T00:00:15.175000\",\"1970-01-01T00:00:15.184000\",\"1970-01-01T00:00:15.193000\",\"1970-01-01T00:00:15.202000\",\"1970-01-01T00:00:15.211000\",\"1970-01-01T00:00:15.220000\",\"1970-01-01T00:00:15.236000\",\"1970-01-01T00:00:15.245000\",\"1970-01-01T00:00:15.254000\",\"1970-01-01T00:00:15.263000\",\"1970-01-01T00:00:15.272000\",\"1970-01-01T00:00:15.281000\",\"1970-01-01T00:00:15.290000\",\"1970-01-01T00:00:15.299000\",\"1970-01-01T00:00:15.314000\",\"1970-01-01T00:00:15.323000\"],\"xaxis\":\"x\",\"y\":[-10.973018853068352,-10.926189282834532,-10.8226628947258,-10.663563254773617,-10.452407092452049,-10.19810340076685,-9.908464586436748,-9.587663215696812,-9.23711876064539,-8.865503244102001,-8.473668435811996,-8.063792696595192,-7.625627563074232,-7.152355912476777,-6.636797701343895,-6.080182107388973,-5.494910726919771,-4.88591545149684,-4.259984165951609,-3.623101046681404,-2.989344291165471,-2.3752947773039343,-1.7951575430482627,-1.2501120927929879,-0.7338836536556483,-0.23969682976603507,0.23261151500046254,0.6785730308294297,1.0943836038559676,1.4886424641311167,1.8723168263584373,2.248061933219433,2.616805542483926,2.975999543517828,3.3175673686712974,3.6446530318260195,3.9618146670609717,4.2665588726103305,4.558750334009528,4.841437218487263,5.118142326250672,5.39305818811059,5.674775190278888,5.960066144168377,6.2461972523480656,6.528297549933194,6.802068254873156,7.066469443440437,7.31850291915238,7.543504079729319,7.727473059818148,7.869114398360253,7.968910344839095,8.02744357049465,8.048148797750473,8.03095920205116,7.9759515333175655,7.883321812152863,7.756470822691917,7.601247061491013,7.426900463700295,7.241739964485168,7.04589842736721,6.841125352382659,6.626071521639824,6.400412590503693,6.168002508282662,5.931275954246521,5.693667158484459,5.464538635611534,5.252995812296868,5.058075693249703,4.873312821984292,4.697940962016583,4.533304244846223,4.378474113462727,4.236105255302392,4.1154087496944705,4.020373121314334,3.9465887160215063,3.884004155804287,3.822095438945108,3.7516965658526176,3.6643918908678463,3.554012037021457,3.4173426283407027,3.2509860129148,3.0501876295579136,2.809479271864402,2.5216942335106434,2.1749446959217313,1.7737905574741308,1.3369358868285781,0.8798784453538246,0.41172919347358405,-0.06532633617869577,-0.5549780286866006,-1.0678265120089052,-1.6181884796899972,-2.212673169519985,-2.8470524854905666,-3.514886675023007,-4.206179626128287,-4.903962774415267,-5.592685479062492,-6.261513407365419,-6.903445915117044,-7.508590458763064,-8.063115754257305,-8.554525788554454,-8.966088715918012,-9.300466974502195,-9.576926652315887,-9.813574272813273,-10.021550179868935,-10.202452590465544,-10.352173326313494,-10.460368472635746,-10.512152042686939],\"yaxis\":\"y\",\"type\":\"scatter\"}],                        {\"template\":{\"data\":{\"histogram2dcontour\":[{\"type\":\"histogram2dcontour\",\"colorbar\":{\"outlinewidth\":0,\"ticks\":\"\"},\"colorscale\":[[0.0,\"#0d0887\"],[0.1111111111111111,\"#46039f\"],[0.2222222222222222,\"#7201a8\"],[0.3333333333333333,\"#9c179e\"],[0.4444444444444444,\"#bd3786\"],[0.5555555555555556,\"#d8576b\"],[0.6666666666666666,\"#ed7953\"],[0.7777777777777778,\"#fb9f3a\"],[0.8888888888888888,\"#fdca26\"],[1.0,\"#f0f921\"]]}],\"choropleth\":[{\"type\":\"choropleth\",\"colorbar\":{\"outlinewidth\":0,\"ticks\":\"\"}}],\"histogram2d\":[{\"type\":\"histogram2d\",\"colorbar\":{\"outlinewidth\":0,\"ticks\":\"\"},\"colorscale\":[[0.0,\"#0d0887\"],[0.1111111111111111,\"#46039f\"],[0.2222222222222222,\"#7201a8\"],[0.3333333333333333,\"#9c179e\"],[0.4444444444444444,\"#bd3786\"],[0.5555555555555556,\"#d8576b\"],[0.6666666666666666,\"#ed7953\"],[0.7777777777777778,\"#fb9f3a\"],[0.8888888888888888,\"#fdca26\"],[1.0,\"#f0f921\"]]}],\"heatmap\":[{\"type\":\"heatmap\",\"colorbar\":{\"outlinewidth\":0,\"ticks\":\"\"},\"colorscale\":[[0.0,\"#0d0887\"],[0.1111111111111111,\"#46039f\"],[0.2222222222222222,\"#7201a8\"],[0.3333333333333333,\"#9c179e\"],[0.4444444444444444,\"#bd3786\"],[0.5555555555555556,\"#d8576b\"],[0.6666666666666666,\"#ed7953\"],[0.7777777777777778,\"#fb9f3a\"],[0.8888888888888888,\"#fdca26\"],[1.0,\"#f0f921\"]]}],\"heatmapgl\":[{\"type\":\"heatmapgl\",\"colorbar\":{\"outlinewidth\":0,\"ticks\":\"\"},\"colorscale\":[[0.0,\"#0d0887\"],[0.1111111111111111,\"#46039f\"],[0.2222222222222222,\"#7201a8\"],[0.3333333333333333,\"#9c179e\"],[0.4444444444444444,\"#bd3786\"],[0.5555555555555556,\"#d8576b\"],[0.6666666666666666,\"#ed7953\"],[0.7777777777777778,\"#fb9f3a\"],[0.8888888888888888,\"#fdca26\"],[1.0,\"#f0f921\"]]}],\"contourcarpet\":[{\"type\":\"contourcarpet\",\"colorbar\":{\"outlinewidth\":0,\"ticks\":\"\"}}],\"contour\":[{\"type\":\"contour\",\"colorbar\":{\"outlinewidth\":0,\"ticks\":\"\"},\"colorscale\":[[0.0,\"#0d0887\"],[0.1111111111111111,\"#46039f\"],[0.2222222222222222,\"#7201a8\"],[0.3333333333333333,\"#9c179e\"],[0.4444444444444444,\"#bd3786\"],[0.5555555555555556,\"#d8576b\"],[0.6666666666666666,\"#ed7953\"],[0.7777777777777778,\"#fb9f3a\"],[0.8888888888888888,\"#fdca26\"],[1.0,\"#f0f921\"]]}],\"surface\":[{\"type\":\"surface\",\"colorbar\":{\"outlinewidth\":0,\"ticks\":\"\"},\"colorscale\":[[0.0,\"#0d0887\"],[0.1111111111111111,\"#46039f\"],[0.2222222222222222,\"#7201a8\"],[0.3333333333333333,\"#9c179e\"],[0.4444444444444444,\"#bd3786\"],[0.5555555555555556,\"#d8576b\"],[0.6666666666666666,\"#ed7953\"],[0.7777777777777778,\"#fb9f3a\"],[0.8888888888888888,\"#fdca26\"],[1.0,\"#f0f921\"]]}],\"mesh3d\":[{\"type\":\"mesh3d\",\"colorbar\":{\"outlinewidth\":0,\"ticks\":\"\"}}],\"scatter\":[{\"marker\":{\"line\":{\"color\":\"#283442\"}},\"type\":\"scatter\"}],\"parcoords\":[{\"type\":\"parcoords\",\"line\":{\"colorbar\":{\"outlinewidth\":0,\"ticks\":\"\"}}}],\"scatterpolargl\":[{\"type\":\"scatterpolargl\",\"marker\":{\"colorbar\":{\"outlinewidth\":0,\"ticks\":\"\"}}}],\"bar\":[{\"error_x\":{\"color\":\"#f2f5fa\"},\"error_y\":{\"color\":\"#f2f5fa\"},\"marker\":{\"line\":{\"color\":\"rgb(17,17,17)\",\"width\":0.5},\"pattern\":{\"fillmode\":\"overlay\",\"size\":10,\"solidity\":0.2}},\"type\":\"bar\"}],\"scattergeo\":[{\"type\":\"scattergeo\",\"marker\":{\"colorbar\":{\"outlinewidth\":0,\"ticks\":\"\"}}}],\"scatterpolar\":[{\"type\":\"scatterpolar\",\"marker\":{\"colorbar\":{\"outlinewidth\":0,\"ticks\":\"\"}}}],\"histogram\":[{\"marker\":{\"pattern\":{\"fillmode\":\"overlay\",\"size\":10,\"solidity\":0.2}},\"type\":\"histogram\"}],\"scattergl\":[{\"marker\":{\"line\":{\"color\":\"#283442\"}},\"type\":\"scattergl\"}],\"scatter3d\":[{\"type\":\"scatter3d\",\"line\":{\"colorbar\":{\"outlinewidth\":0,\"ticks\":\"\"}},\"marker\":{\"colorbar\":{\"outlinewidth\":0,\"ticks\":\"\"}}}],\"scattermapbox\":[{\"type\":\"scattermapbox\",\"marker\":{\"colorbar\":{\"outlinewidth\":0,\"ticks\":\"\"}}}],\"scatterternary\":[{\"type\":\"scatterternary\",\"marker\":{\"colorbar\":{\"outlinewidth\":0,\"ticks\":\"\"}}}],\"scattercarpet\":[{\"type\":\"scattercarpet\",\"marker\":{\"colorbar\":{\"outlinewidth\":0,\"ticks\":\"\"}}}],\"carpet\":[{\"aaxis\":{\"endlinecolor\":\"#A2B1C6\",\"gridcolor\":\"#506784\",\"linecolor\":\"#506784\",\"minorgridcolor\":\"#506784\",\"startlinecolor\":\"#A2B1C6\"},\"baxis\":{\"endlinecolor\":\"#A2B1C6\",\"gridcolor\":\"#506784\",\"linecolor\":\"#506784\",\"minorgridcolor\":\"#506784\",\"startlinecolor\":\"#A2B1C6\"},\"type\":\"carpet\"}],\"table\":[{\"cells\":{\"fill\":{\"color\":\"#506784\"},\"line\":{\"color\":\"rgb(17,17,17)\"}},\"header\":{\"fill\":{\"color\":\"#2a3f5f\"},\"line\":{\"color\":\"rgb(17,17,17)\"}},\"type\":\"table\"}],\"barpolar\":[{\"marker\":{\"line\":{\"color\":\"rgb(17,17,17)\",\"width\":0.5},\"pattern\":{\"fillmode\":\"overlay\",\"size\":10,\"solidity\":0.2}},\"type\":\"barpolar\"}],\"pie\":[{\"automargin\":true,\"type\":\"pie\"}]},\"layout\":{\"autotypenumbers\":\"strict\",\"colorway\":[\"#636efa\",\"#EF553B\",\"#00cc96\",\"#ab63fa\",\"#FFA15A\",\"#19d3f3\",\"#FF6692\",\"#B6E880\",\"#FF97FF\",\"#FECB52\"],\"font\":{\"color\":\"#f2f5fa\"},\"hovermode\":\"closest\",\"hoverlabel\":{\"align\":\"left\"},\"paper_bgcolor\":\"rgb(17,17,17)\",\"plot_bgcolor\":\"rgb(17,17,17)\",\"polar\":{\"bgcolor\":\"rgb(17,17,17)\",\"angularaxis\":{\"gridcolor\":\"#506784\",\"linecolor\":\"#506784\",\"ticks\":\"\"},\"radialaxis\":{\"gridcolor\":\"#506784\",\"linecolor\":\"#506784\",\"ticks\":\"\"}},\"ternary\":{\"bgcolor\":\"rgb(17,17,17)\",\"aaxis\":{\"gridcolor\":\"#506784\",\"linecolor\":\"#506784\",\"ticks\":\"\"},\"baxis\":{\"gridcolor\":\"#506784\",\"linecolor\":\"#506784\",\"ticks\":\"\"},\"caxis\":{\"gridcolor\":\"#506784\",\"linecolor\":\"#506784\",\"ticks\":\"\"}},\"coloraxis\":{\"colorbar\":{\"outlinewidth\":0,\"ticks\":\"\"}},\"colorscale\":{\"sequential\":[[0.0,\"#0d0887\"],[0.1111111111111111,\"#46039f\"],[0.2222222222222222,\"#7201a8\"],[0.3333333333333333,\"#9c179e\"],[0.4444444444444444,\"#bd3786\"],[0.5555555555555556,\"#d8576b\"],[0.6666666666666666,\"#ed7953\"],[0.7777777777777778,\"#fb9f3a\"],[0.8888888888888888,\"#fdca26\"],[1.0,\"#f0f921\"]],\"sequentialminus\":[[0.0,\"#0d0887\"],[0.1111111111111111,\"#46039f\"],[0.2222222222222222,\"#7201a8\"],[0.3333333333333333,\"#9c179e\"],[0.4444444444444444,\"#bd3786\"],[0.5555555555555556,\"#d8576b\"],[0.6666666666666666,\"#ed7953\"],[0.7777777777777778,\"#fb9f3a\"],[0.8888888888888888,\"#fdca26\"],[1.0,\"#f0f921\"]],\"diverging\":[[0,\"#8e0152\"],[0.1,\"#c51b7d\"],[0.2,\"#de77ae\"],[0.3,\"#f1b6da\"],[0.4,\"#fde0ef\"],[0.5,\"#f7f7f7\"],[0.6,\"#e6f5d0\"],[0.7,\"#b8e186\"],[0.8,\"#7fbc41\"],[0.9,\"#4d9221\"],[1,\"#276419\"]]},\"xaxis\":{\"gridcolor\":\"#283442\",\"linecolor\":\"#506784\",\"ticks\":\"\",\"title\":{\"standoff\":15},\"zerolinecolor\":\"#283442\",\"automargin\":true,\"zerolinewidth\":2},\"yaxis\":{\"gridcolor\":\"#283442\",\"linecolor\":\"#506784\",\"ticks\":\"\",\"title\":{\"standoff\":15},\"zerolinecolor\":\"#283442\",\"automargin\":true,\"zerolinewidth\":2},\"scene\":{\"xaxis\":{\"backgroundcolor\":\"rgb(17,17,17)\",\"gridcolor\":\"#506784\",\"linecolor\":\"#506784\",\"showbackground\":true,\"ticks\":\"\",\"zerolinecolor\":\"#C8D4E3\",\"gridwidth\":2},\"yaxis\":{\"backgroundcolor\":\"rgb(17,17,17)\",\"gridcolor\":\"#506784\",\"linecolor\":\"#506784\",\"showbackground\":true,\"ticks\":\"\",\"zerolinecolor\":\"#C8D4E3\",\"gridwidth\":2},\"zaxis\":{\"backgroundcolor\":\"rgb(17,17,17)\",\"gridcolor\":\"#506784\",\"linecolor\":\"#506784\",\"showbackground\":true,\"ticks\":\"\",\"zerolinecolor\":\"#C8D4E3\",\"gridwidth\":2}},\"shapedefaults\":{\"line\":{\"color\":\"#f2f5fa\"}},\"annotationdefaults\":{\"arrowcolor\":\"#f2f5fa\",\"arrowhead\":0,\"arrowwidth\":1},\"geo\":{\"bgcolor\":\"rgb(17,17,17)\",\"landcolor\":\"rgb(17,17,17)\",\"subunitcolor\":\"#506784\",\"showland\":true,\"showlakes\":true,\"lakecolor\":\"rgb(17,17,17)\"},\"title\":{\"x\":0.05},\"updatemenudefaults\":{\"bgcolor\":\"#506784\",\"borderwidth\":0},\"sliderdefaults\":{\"bgcolor\":\"#C8D4E3\",\"borderwidth\":1,\"bordercolor\":\"rgb(17,17,17)\",\"tickwidth\":0},\"mapbox\":{\"style\":\"dark\"}}},\"xaxis\":{\"anchor\":\"y\",\"domain\":[0.0,1.0],\"title\":{\"text\":\"time\"}},\"yaxis\":{\"anchor\":\"x\",\"domain\":[0.0,1.0],\"title\":{\"text\":\"linAccZ\"}},\"legend\":{\"tracegroupgap\":0},\"title\":{\"text\":\"Linear Acceleration Z over Time\"}},                        {\"responsive\": true}                    ).then(function(){\n                            \nvar gd = document.getElementById('0f8b3def-a5eb-4624-b5de-037e8c8ab429');\nvar x = new MutationObserver(function (mutations, observer) {{\n        var display = window.getComputedStyle(gd).display;\n        if (!display || display === 'none') {{\n            console.log([gd, 'removed!']);\n            Plotly.purge(gd);\n            observer.disconnect();\n        }}\n}});\n\n// Listen for the removal of the full notebook cells\nvar notebookContainer = gd.closest('#notebook-container');\nif (notebookContainer) {{\n    x.observe(notebookContainer, {childList: true});\n}}\n\n// Listen for the clearing of the current output cell\nvar outputEl = gd.closest('.output');\nif (outputEl) {{\n    x.observe(outputEl, {childList: true});\n}}\n\n                        })                };                });            </script>        </div>"
     },
     "metadata": {},
     "output_type": "display_data"
    }
   ],
   "source": [
    "import plotly.express as px\n",
    "\n",
    "fig = px.line(max_squat_jump[\"series\"], y='linAccZ', title='Linear Acceleration Z over Time')\n",
    "fig.show()"
   ],
   "metadata": {
    "collapsed": false,
    "ExecuteTime": {
     "end_time": "2024-01-23T17:40:27.010632500Z",
     "start_time": "2024-01-23T17:40:26.955615400Z"
    }
   },
   "id": "b26698c0d9c788e1",
   "execution_count": 63
  },
  {
   "cell_type": "code",
   "outputs": [
    {
     "data": {
      "text/plain": "                         linAccZ_orig  exercising_periods   linAccZ  \\\ntime                                                                  \n1970-01-01 00:00:02.184     -9.496362                 1.0 -5.444493   \n1970-01-01 00:00:02.200     -9.507631                 1.0 -5.380480   \n1970-01-01 00:00:02.209     -9.151107                 1.0 -5.249262   \n1970-01-01 00:00:02.218     -9.127007                 1.0 -5.047336   \n1970-01-01 00:00:02.227     -9.185244                 1.0 -4.774793   \n...                               ...                 ...       ...   \n1970-01-01 00:00:09.243           NaN                 NaN       NaN   \n1970-01-01 00:00:09.252           NaN                 NaN       NaN   \n1970-01-01 00:00:09.267           NaN                 NaN       NaN   \n1970-01-01 00:00:09.276           NaN                 NaN       NaN   \n1970-01-01 00:00:09.285           NaN                 NaN       NaN   \n\n                        linAccZ_mod     peaks first_sample last_sample  \\\ntime                                                                     \n1970-01-01 00:00:02.184   29.642505 -5.444493        False       False   \n1970-01-01 00:00:02.200   28.949562       NaN        False       False   \n1970-01-01 00:00:02.209   27.554757       NaN        False       False   \n1970-01-01 00:00:02.218   25.475600       NaN        False       False   \n1970-01-01 00:00:02.227   22.798646       NaN        False       False   \n...                             ...       ...          ...         ...   \n1970-01-01 00:00:09.243         NaN       NaN          NaN         NaN   \n1970-01-01 00:00:09.252         NaN       NaN          NaN         NaN   \n1970-01-01 00:00:09.267         NaN       NaN          NaN         NaN   \n1970-01-01 00:00:09.276         NaN       NaN          NaN         NaN   \n1970-01-01 00:00:09.285         NaN       NaN          NaN         NaN   \n\n                         first_sample_closest_peak  last_sample_closest_peak  \\\ntime                                                                           \n1970-01-01 00:00:02.184                       True                     False   \n1970-01-01 00:00:02.200                      False                     False   \n1970-01-01 00:00:02.209                      False                     False   \n1970-01-01 00:00:02.218                      False                     False   \n1970-01-01 00:00:02.227                      False                     False   \n...                                            ...                       ...   \n1970-01-01 00:00:09.243                        NaN                       NaN   \n1970-01-01 00:00:09.252                        NaN                       NaN   \n1970-01-01 00:00:09.267                        NaN                       NaN   \n1970-01-01 00:00:09.276                        NaN                       NaN   \n1970-01-01 00:00:09.285                        NaN                       NaN   \n\n                         linAccZ_orig  ...  last_sample_closest_peak  \\\ntime                                   ...                             \n1970-01-01 00:00:02.184           NaN  ...                       NaN   \n1970-01-01 00:00:02.200           NaN  ...                       NaN   \n1970-01-01 00:00:02.209           NaN  ...                       NaN   \n1970-01-01 00:00:02.218           NaN  ...                       NaN   \n1970-01-01 00:00:02.227           NaN  ...                       NaN   \n...                               ...  ...                       ...   \n1970-01-01 00:00:09.243           NaN  ...                       NaN   \n1970-01-01 00:00:09.252           NaN  ...                       NaN   \n1970-01-01 00:00:09.267           NaN  ...                       NaN   \n1970-01-01 00:00:09.276           NaN  ...                       NaN   \n1970-01-01 00:00:09.285           NaN  ...                       NaN   \n\n                         linAccZ_orig  exercising_periods   linAccZ  \\\ntime                                                                  \n1970-01-01 00:00:02.184           NaN                 NaN       NaN   \n1970-01-01 00:00:02.200           NaN                 NaN       NaN   \n1970-01-01 00:00:02.209           NaN                 NaN       NaN   \n1970-01-01 00:00:02.218           NaN                 NaN       NaN   \n1970-01-01 00:00:02.227           NaN                 NaN       NaN   \n...                               ...                 ...       ...   \n1970-01-01 00:00:09.243     -8.289915                 3.0 -9.980963   \n1970-01-01 00:00:09.252     -9.016483                 3.0 -9.938155   \n1970-01-01 00:00:09.267     -9.439319                 3.0 -9.912071   \n1970-01-01 00:00:09.276    -10.094795                 3.0 -9.906821   \n1970-01-01 00:00:09.285    -10.646281                 3.0 -9.908819   \n\n                        linAccZ_mod     peaks first_sample last_sample  \\\ntime                                                                     \n1970-01-01 00:00:02.184         NaN       NaN          NaN         NaN   \n1970-01-01 00:00:02.200         NaN       NaN          NaN         NaN   \n1970-01-01 00:00:02.209         NaN       NaN          NaN         NaN   \n1970-01-01 00:00:02.218         NaN       NaN          NaN         NaN   \n1970-01-01 00:00:02.227         NaN       NaN          NaN         NaN   \n...                             ...       ...          ...         ...   \n1970-01-01 00:00:09.243   99.619616       NaN        False       False   \n1970-01-01 00:00:09.252   98.766915       NaN        False       False   \n1970-01-01 00:00:09.267   98.249143       NaN        False       False   \n1970-01-01 00:00:09.276   98.145096       NaN        False       False   \n1970-01-01 00:00:09.285   98.184687 -9.908819        False       False   \n\n                         first_sample_closest_peak  last_sample_closest_peak  \ntime                                                                          \n1970-01-01 00:00:02.184                        NaN                       NaN  \n1970-01-01 00:00:02.200                        NaN                       NaN  \n1970-01-01 00:00:02.209                        NaN                       NaN  \n1970-01-01 00:00:02.218                        NaN                       NaN  \n1970-01-01 00:00:02.227                        NaN                       NaN  \n...                                            ...                       ...  \n1970-01-01 00:00:09.243                      False                     False  \n1970-01-01 00:00:09.252                      False                     False  \n1970-01-01 00:00:09.267                      False                     False  \n1970-01-01 00:00:09.276                      False                     False  \n1970-01-01 00:00:09.285                      False                      True  \n\n[237 rows x 27 columns]",
      "text/html": "<div>\n<style scoped>\n    .dataframe tbody tr th:only-of-type {\n        vertical-align: middle;\n    }\n\n    .dataframe tbody tr th {\n        vertical-align: top;\n    }\n\n    .dataframe thead th {\n        text-align: right;\n    }\n</style>\n<table border=\"1\" class=\"dataframe\">\n  <thead>\n    <tr style=\"text-align: right;\">\n      <th></th>\n      <th>linAccZ_orig</th>\n      <th>exercising_periods</th>\n      <th>linAccZ</th>\n      <th>linAccZ_mod</th>\n      <th>peaks</th>\n      <th>first_sample</th>\n      <th>last_sample</th>\n      <th>first_sample_closest_peak</th>\n      <th>last_sample_closest_peak</th>\n      <th>linAccZ_orig</th>\n      <th>...</th>\n      <th>last_sample_closest_peak</th>\n      <th>linAccZ_orig</th>\n      <th>exercising_periods</th>\n      <th>linAccZ</th>\n      <th>linAccZ_mod</th>\n      <th>peaks</th>\n      <th>first_sample</th>\n      <th>last_sample</th>\n      <th>first_sample_closest_peak</th>\n      <th>last_sample_closest_peak</th>\n    </tr>\n    <tr>\n      <th>time</th>\n      <th></th>\n      <th></th>\n      <th></th>\n      <th></th>\n      <th></th>\n      <th></th>\n      <th></th>\n      <th></th>\n      <th></th>\n      <th></th>\n      <th></th>\n      <th></th>\n      <th></th>\n      <th></th>\n      <th></th>\n      <th></th>\n      <th></th>\n      <th></th>\n      <th></th>\n      <th></th>\n      <th></th>\n    </tr>\n  </thead>\n  <tbody>\n    <tr>\n      <th>1970-01-01 00:00:02.184</th>\n      <td>-9.496362</td>\n      <td>1.0</td>\n      <td>-5.444493</td>\n      <td>29.642505</td>\n      <td>-5.444493</td>\n      <td>False</td>\n      <td>False</td>\n      <td>True</td>\n      <td>False</td>\n      <td>NaN</td>\n      <td>...</td>\n      <td>NaN</td>\n      <td>NaN</td>\n      <td>NaN</td>\n      <td>NaN</td>\n      <td>NaN</td>\n      <td>NaN</td>\n      <td>NaN</td>\n      <td>NaN</td>\n      <td>NaN</td>\n      <td>NaN</td>\n    </tr>\n    <tr>\n      <th>1970-01-01 00:00:02.200</th>\n      <td>-9.507631</td>\n      <td>1.0</td>\n      <td>-5.380480</td>\n      <td>28.949562</td>\n      <td>NaN</td>\n      <td>False</td>\n      <td>False</td>\n      <td>False</td>\n      <td>False</td>\n      <td>NaN</td>\n      <td>...</td>\n      <td>NaN</td>\n      <td>NaN</td>\n      <td>NaN</td>\n      <td>NaN</td>\n      <td>NaN</td>\n      <td>NaN</td>\n      <td>NaN</td>\n      <td>NaN</td>\n      <td>NaN</td>\n      <td>NaN</td>\n    </tr>\n    <tr>\n      <th>1970-01-01 00:00:02.209</th>\n      <td>-9.151107</td>\n      <td>1.0</td>\n      <td>-5.249262</td>\n      <td>27.554757</td>\n      <td>NaN</td>\n      <td>False</td>\n      <td>False</td>\n      <td>False</td>\n      <td>False</td>\n      <td>NaN</td>\n      <td>...</td>\n      <td>NaN</td>\n      <td>NaN</td>\n      <td>NaN</td>\n      <td>NaN</td>\n      <td>NaN</td>\n      <td>NaN</td>\n      <td>NaN</td>\n      <td>NaN</td>\n      <td>NaN</td>\n      <td>NaN</td>\n    </tr>\n    <tr>\n      <th>1970-01-01 00:00:02.218</th>\n      <td>-9.127007</td>\n      <td>1.0</td>\n      <td>-5.047336</td>\n      <td>25.475600</td>\n      <td>NaN</td>\n      <td>False</td>\n      <td>False</td>\n      <td>False</td>\n      <td>False</td>\n      <td>NaN</td>\n      <td>...</td>\n      <td>NaN</td>\n      <td>NaN</td>\n      <td>NaN</td>\n      <td>NaN</td>\n      <td>NaN</td>\n      <td>NaN</td>\n      <td>NaN</td>\n      <td>NaN</td>\n      <td>NaN</td>\n      <td>NaN</td>\n    </tr>\n    <tr>\n      <th>1970-01-01 00:00:02.227</th>\n      <td>-9.185244</td>\n      <td>1.0</td>\n      <td>-4.774793</td>\n      <td>22.798646</td>\n      <td>NaN</td>\n      <td>False</td>\n      <td>False</td>\n      <td>False</td>\n      <td>False</td>\n      <td>NaN</td>\n      <td>...</td>\n      <td>NaN</td>\n      <td>NaN</td>\n      <td>NaN</td>\n      <td>NaN</td>\n      <td>NaN</td>\n      <td>NaN</td>\n      <td>NaN</td>\n      <td>NaN</td>\n      <td>NaN</td>\n      <td>NaN</td>\n    </tr>\n    <tr>\n      <th>...</th>\n      <td>...</td>\n      <td>...</td>\n      <td>...</td>\n      <td>...</td>\n      <td>...</td>\n      <td>...</td>\n      <td>...</td>\n      <td>...</td>\n      <td>...</td>\n      <td>...</td>\n      <td>...</td>\n      <td>...</td>\n      <td>...</td>\n      <td>...</td>\n      <td>...</td>\n      <td>...</td>\n      <td>...</td>\n      <td>...</td>\n      <td>...</td>\n      <td>...</td>\n      <td>...</td>\n    </tr>\n    <tr>\n      <th>1970-01-01 00:00:09.243</th>\n      <td>NaN</td>\n      <td>NaN</td>\n      <td>NaN</td>\n      <td>NaN</td>\n      <td>NaN</td>\n      <td>NaN</td>\n      <td>NaN</td>\n      <td>NaN</td>\n      <td>NaN</td>\n      <td>NaN</td>\n      <td>...</td>\n      <td>NaN</td>\n      <td>-8.289915</td>\n      <td>3.0</td>\n      <td>-9.980963</td>\n      <td>99.619616</td>\n      <td>NaN</td>\n      <td>False</td>\n      <td>False</td>\n      <td>False</td>\n      <td>False</td>\n    </tr>\n    <tr>\n      <th>1970-01-01 00:00:09.252</th>\n      <td>NaN</td>\n      <td>NaN</td>\n      <td>NaN</td>\n      <td>NaN</td>\n      <td>NaN</td>\n      <td>NaN</td>\n      <td>NaN</td>\n      <td>NaN</td>\n      <td>NaN</td>\n      <td>NaN</td>\n      <td>...</td>\n      <td>NaN</td>\n      <td>-9.016483</td>\n      <td>3.0</td>\n      <td>-9.938155</td>\n      <td>98.766915</td>\n      <td>NaN</td>\n      <td>False</td>\n      <td>False</td>\n      <td>False</td>\n      <td>False</td>\n    </tr>\n    <tr>\n      <th>1970-01-01 00:00:09.267</th>\n      <td>NaN</td>\n      <td>NaN</td>\n      <td>NaN</td>\n      <td>NaN</td>\n      <td>NaN</td>\n      <td>NaN</td>\n      <td>NaN</td>\n      <td>NaN</td>\n      <td>NaN</td>\n      <td>NaN</td>\n      <td>...</td>\n      <td>NaN</td>\n      <td>-9.439319</td>\n      <td>3.0</td>\n      <td>-9.912071</td>\n      <td>98.249143</td>\n      <td>NaN</td>\n      <td>False</td>\n      <td>False</td>\n      <td>False</td>\n      <td>False</td>\n    </tr>\n    <tr>\n      <th>1970-01-01 00:00:09.276</th>\n      <td>NaN</td>\n      <td>NaN</td>\n      <td>NaN</td>\n      <td>NaN</td>\n      <td>NaN</td>\n      <td>NaN</td>\n      <td>NaN</td>\n      <td>NaN</td>\n      <td>NaN</td>\n      <td>NaN</td>\n      <td>...</td>\n      <td>NaN</td>\n      <td>-10.094795</td>\n      <td>3.0</td>\n      <td>-9.906821</td>\n      <td>98.145096</td>\n      <td>NaN</td>\n      <td>False</td>\n      <td>False</td>\n      <td>False</td>\n      <td>False</td>\n    </tr>\n    <tr>\n      <th>1970-01-01 00:00:09.285</th>\n      <td>NaN</td>\n      <td>NaN</td>\n      <td>NaN</td>\n      <td>NaN</td>\n      <td>NaN</td>\n      <td>NaN</td>\n      <td>NaN</td>\n      <td>NaN</td>\n      <td>NaN</td>\n      <td>NaN</td>\n      <td>...</td>\n      <td>NaN</td>\n      <td>-10.646281</td>\n      <td>3.0</td>\n      <td>-9.908819</td>\n      <td>98.184687</td>\n      <td>-9.908819</td>\n      <td>False</td>\n      <td>False</td>\n      <td>False</td>\n      <td>True</td>\n    </tr>\n  </tbody>\n</table>\n<p>237 rows × 27 columns</p>\n</div>"
     },
     "execution_count": 76,
     "metadata": {},
     "output_type": "execute_result"
    }
   ],
   "source": [
    "import  pandas as pd\n",
    "df_concat = pd.concat([data[0][\"series\"], data[1][\"series\"], data[2][\"series\"]], axis=1)\n",
    "\n",
    "df_concat"
   ],
   "metadata": {
    "collapsed": false,
    "ExecuteTime": {
     "end_time": "2024-01-23T17:59:02.609567800Z",
     "start_time": "2024-01-23T17:59:02.566843300Z"
    }
   },
   "id": "dfe2c777aaea9476",
   "execution_count": 76
  },
  {
   "cell_type": "code",
   "outputs": [
    {
     "data": {
      "application/vnd.plotly.v1+json": {
       "data": [
        {
         "mode": "lines",
         "name": "linAccZ",
         "x": [
          "1970-01-01T00:00:02.184000",
          "1970-01-01T00:00:02.200000",
          "1970-01-01T00:00:02.209000",
          "1970-01-01T00:00:02.218000",
          "1970-01-01T00:00:02.227000",
          "1970-01-01T00:00:02.236000",
          "1970-01-01T00:00:02.245000",
          "1970-01-01T00:00:02.254000",
          "1970-01-01T00:00:02.263000",
          "1970-01-01T00:00:02.278000",
          "1970-01-01T00:00:02.287000",
          "1970-01-01T00:00:02.296000",
          "1970-01-01T00:00:02.305000",
          "1970-01-01T00:00:02.314000",
          "1970-01-01T00:00:02.323000",
          "1970-01-01T00:00:02.332000",
          "1970-01-01T00:00:02.341000",
          "1970-01-01T00:00:02.356000",
          "1970-01-01T00:00:02.365000",
          "1970-01-01T00:00:02.374000",
          "1970-01-01T00:00:02.383000",
          "1970-01-01T00:00:02.392000",
          "1970-01-01T00:00:02.401000",
          "1970-01-01T00:00:02.410000",
          "1970-01-01T00:00:02.419000",
          "1970-01-01T00:00:02.435000",
          "1970-01-01T00:00:02.444000",
          "1970-01-01T00:00:02.453000",
          "1970-01-01T00:00:02.462000",
          "1970-01-01T00:00:02.471000",
          "1970-01-01T00:00:02.480000",
          "1970-01-01T00:00:02.489000",
          "1970-01-01T00:00:02.498000",
          "1970-01-01T00:00:02.513000",
          "1970-01-01T00:00:02.522000",
          "1970-01-01T00:00:02.531000",
          "1970-01-01T00:00:02.540000",
          "1970-01-01T00:00:02.549000",
          "1970-01-01T00:00:02.558000",
          "1970-01-01T00:00:02.567000",
          "1970-01-01T00:00:02.576000",
          "1970-01-01T00:00:02.592000",
          "1970-01-01T00:00:02.601000",
          "1970-01-01T00:00:02.610000",
          "1970-01-01T00:00:02.619000",
          "1970-01-01T00:00:02.628000",
          "1970-01-01T00:00:02.637000",
          "1970-01-01T00:00:02.646000",
          "1970-01-01T00:00:02.655000",
          "1970-01-01T00:00:02.670000",
          "1970-01-01T00:00:02.679000",
          "1970-01-01T00:00:02.688000",
          "1970-01-01T00:00:02.697000",
          "1970-01-01T00:00:02.706000",
          "1970-01-01T00:00:02.715000",
          "1970-01-01T00:00:02.724000",
          "1970-01-01T00:00:02.733000",
          "1970-01-01T00:00:02.749000",
          "1970-01-01T00:00:02.758000",
          "1970-01-01T00:00:02.767000",
          "1970-01-01T00:00:02.776000",
          "1970-01-01T00:00:02.785000",
          "1970-01-01T00:00:02.794000",
          "1970-01-01T00:00:02.803000",
          "1970-01-01T00:00:02.812000",
          "1970-01-01T00:00:02.828000",
          "1970-01-01T00:00:02.837000",
          "1970-01-01T00:00:02.846000",
          "1970-01-01T00:00:02.855000",
          "1970-01-01T00:00:02.864000",
          "1970-01-01T00:00:02.873000",
          "1970-01-01T00:00:02.882000",
          "1970-01-01T00:00:02.891000",
          "1970-01-01T00:00:02.906000",
          "1970-01-01T00:00:02.915000",
          "1970-01-01T00:00:02.924000",
          "1970-01-01T00:00:02.933000",
          "1970-01-01T00:00:02.942000",
          "1970-01-01T00:00:02.951000",
          "1970-01-01T00:00:02.960000",
          "1970-01-01T00:00:02.969000",
          "1970-01-01T00:00:02.985000"
         ],
         "y": [
          -5.444493126794695,
          -5.380479732714592,
          -5.2492624830827115,
          -5.047335978262127,
          -4.774792803712189,
          -4.430497397594154,
          -4.015348753668368,
          -3.5311972316727043,
          -2.985933916158974,
          -2.3874995220825075,
          -1.743063343204558,
          -1.0581869589909911,
          -0.33810352671891436,
          0.4158986459299923,
          1.1996063939109445,
          2.014174335859716,
          2.865076774545014,
          3.7385990251228214,
          4.620623736418784,
          5.506098483763635,
          6.39411081302911,
          7.265004688315095,
          8.111539330221714,
          8.923454514406622,
          9.694085719175636,
          10.417703448049725,
          11.104006122983993,
          11.736716938577592,
          12.303347447402775,
          12.80713890235871,
          13.242336938716472,
          13.589610924385488,
          13.84353896100074,
          13.997607899010182,
          14.042593982815742,
          13.9611010029912,
          13.737931277155877,
          13.37237970292568,
          12.86650839328766,
          12.224243505597114,
          11.449008458852768,
          10.572259359955789,
          9.603331795930862,
          8.550748621821404,
          7.426504726409912,
          6.238396597504615,
          4.968542512655258,
          3.6469172412157063,
          2.3076261830329896,
          0.9583186942338944,
          -0.38377274036407477,
          -1.6836540073156356,
          -2.9294229495525363,
          -4.119565898776054,
          -5.237668644189835,
          -6.258863444924354,
          -7.1630467247962955,
          -7.943295275568962,
          -8.591140896081924,
          -9.116730759739875,
          -9.533420629501343,
          -9.864673687815666,
          -10.120089217424391,
          -10.304854820370675,
          -10.424989292621612,
          -10.48584916293621,
          -10.482731848955154,
          -10.432275467514993,
          -10.356952928304672,
          -10.265044389367104,
          -10.166650903224944,
          -10.077392715215684,
          -9.999996974468232,
          -9.930054181814194,
          -9.873887255191802,
          -9.840932425260544,
          -9.839470908641816,
          -9.870083545446395,
          -9.9265180850029,
          -9.993262302875518,
          -10.053185617923736,
          -10.084722661376
         ],
         "type": "scatter"
        },
        {
         "marker": {
          "color": "orange",
          "size": 8
         },
         "mode": "markers",
         "name": "Jumps",
         "x": [],
         "y": [],
         "type": "scatter"
        }
       ],
       "layout": {
        "template": {
         "data": {
          "histogram2dcontour": [
           {
            "type": "histogram2dcontour",
            "colorbar": {
             "outlinewidth": 0,
             "ticks": ""
            },
            "colorscale": [
             [
              0.0,
              "#0d0887"
             ],
             [
              0.1111111111111111,
              "#46039f"
             ],
             [
              0.2222222222222222,
              "#7201a8"
             ],
             [
              0.3333333333333333,
              "#9c179e"
             ],
             [
              0.4444444444444444,
              "#bd3786"
             ],
             [
              0.5555555555555556,
              "#d8576b"
             ],
             [
              0.6666666666666666,
              "#ed7953"
             ],
             [
              0.7777777777777778,
              "#fb9f3a"
             ],
             [
              0.8888888888888888,
              "#fdca26"
             ],
             [
              1.0,
              "#f0f921"
             ]
            ]
           }
          ],
          "choropleth": [
           {
            "type": "choropleth",
            "colorbar": {
             "outlinewidth": 0,
             "ticks": ""
            }
           }
          ],
          "histogram2d": [
           {
            "type": "histogram2d",
            "colorbar": {
             "outlinewidth": 0,
             "ticks": ""
            },
            "colorscale": [
             [
              0.0,
              "#0d0887"
             ],
             [
              0.1111111111111111,
              "#46039f"
             ],
             [
              0.2222222222222222,
              "#7201a8"
             ],
             [
              0.3333333333333333,
              "#9c179e"
             ],
             [
              0.4444444444444444,
              "#bd3786"
             ],
             [
              0.5555555555555556,
              "#d8576b"
             ],
             [
              0.6666666666666666,
              "#ed7953"
             ],
             [
              0.7777777777777778,
              "#fb9f3a"
             ],
             [
              0.8888888888888888,
              "#fdca26"
             ],
             [
              1.0,
              "#f0f921"
             ]
            ]
           }
          ],
          "heatmap": [
           {
            "type": "heatmap",
            "colorbar": {
             "outlinewidth": 0,
             "ticks": ""
            },
            "colorscale": [
             [
              0.0,
              "#0d0887"
             ],
             [
              0.1111111111111111,
              "#46039f"
             ],
             [
              0.2222222222222222,
              "#7201a8"
             ],
             [
              0.3333333333333333,
              "#9c179e"
             ],
             [
              0.4444444444444444,
              "#bd3786"
             ],
             [
              0.5555555555555556,
              "#d8576b"
             ],
             [
              0.6666666666666666,
              "#ed7953"
             ],
             [
              0.7777777777777778,
              "#fb9f3a"
             ],
             [
              0.8888888888888888,
              "#fdca26"
             ],
             [
              1.0,
              "#f0f921"
             ]
            ]
           }
          ],
          "heatmapgl": [
           {
            "type": "heatmapgl",
            "colorbar": {
             "outlinewidth": 0,
             "ticks": ""
            },
            "colorscale": [
             [
              0.0,
              "#0d0887"
             ],
             [
              0.1111111111111111,
              "#46039f"
             ],
             [
              0.2222222222222222,
              "#7201a8"
             ],
             [
              0.3333333333333333,
              "#9c179e"
             ],
             [
              0.4444444444444444,
              "#bd3786"
             ],
             [
              0.5555555555555556,
              "#d8576b"
             ],
             [
              0.6666666666666666,
              "#ed7953"
             ],
             [
              0.7777777777777778,
              "#fb9f3a"
             ],
             [
              0.8888888888888888,
              "#fdca26"
             ],
             [
              1.0,
              "#f0f921"
             ]
            ]
           }
          ],
          "contourcarpet": [
           {
            "type": "contourcarpet",
            "colorbar": {
             "outlinewidth": 0,
             "ticks": ""
            }
           }
          ],
          "contour": [
           {
            "type": "contour",
            "colorbar": {
             "outlinewidth": 0,
             "ticks": ""
            },
            "colorscale": [
             [
              0.0,
              "#0d0887"
             ],
             [
              0.1111111111111111,
              "#46039f"
             ],
             [
              0.2222222222222222,
              "#7201a8"
             ],
             [
              0.3333333333333333,
              "#9c179e"
             ],
             [
              0.4444444444444444,
              "#bd3786"
             ],
             [
              0.5555555555555556,
              "#d8576b"
             ],
             [
              0.6666666666666666,
              "#ed7953"
             ],
             [
              0.7777777777777778,
              "#fb9f3a"
             ],
             [
              0.8888888888888888,
              "#fdca26"
             ],
             [
              1.0,
              "#f0f921"
             ]
            ]
           }
          ],
          "surface": [
           {
            "type": "surface",
            "colorbar": {
             "outlinewidth": 0,
             "ticks": ""
            },
            "colorscale": [
             [
              0.0,
              "#0d0887"
             ],
             [
              0.1111111111111111,
              "#46039f"
             ],
             [
              0.2222222222222222,
              "#7201a8"
             ],
             [
              0.3333333333333333,
              "#9c179e"
             ],
             [
              0.4444444444444444,
              "#bd3786"
             ],
             [
              0.5555555555555556,
              "#d8576b"
             ],
             [
              0.6666666666666666,
              "#ed7953"
             ],
             [
              0.7777777777777778,
              "#fb9f3a"
             ],
             [
              0.8888888888888888,
              "#fdca26"
             ],
             [
              1.0,
              "#f0f921"
             ]
            ]
           }
          ],
          "mesh3d": [
           {
            "type": "mesh3d",
            "colorbar": {
             "outlinewidth": 0,
             "ticks": ""
            }
           }
          ],
          "scatter": [
           {
            "marker": {
             "line": {
              "color": "#283442"
             }
            },
            "type": "scatter"
           }
          ],
          "parcoords": [
           {
            "type": "parcoords",
            "line": {
             "colorbar": {
              "outlinewidth": 0,
              "ticks": ""
             }
            }
           }
          ],
          "scatterpolargl": [
           {
            "type": "scatterpolargl",
            "marker": {
             "colorbar": {
              "outlinewidth": 0,
              "ticks": ""
             }
            }
           }
          ],
          "bar": [
           {
            "error_x": {
             "color": "#f2f5fa"
            },
            "error_y": {
             "color": "#f2f5fa"
            },
            "marker": {
             "line": {
              "color": "rgb(17,17,17)",
              "width": 0.5
             },
             "pattern": {
              "fillmode": "overlay",
              "size": 10,
              "solidity": 0.2
             }
            },
            "type": "bar"
           }
          ],
          "scattergeo": [
           {
            "type": "scattergeo",
            "marker": {
             "colorbar": {
              "outlinewidth": 0,
              "ticks": ""
             }
            }
           }
          ],
          "scatterpolar": [
           {
            "type": "scatterpolar",
            "marker": {
             "colorbar": {
              "outlinewidth": 0,
              "ticks": ""
             }
            }
           }
          ],
          "histogram": [
           {
            "marker": {
             "pattern": {
              "fillmode": "overlay",
              "size": 10,
              "solidity": 0.2
             }
            },
            "type": "histogram"
           }
          ],
          "scattergl": [
           {
            "marker": {
             "line": {
              "color": "#283442"
             }
            },
            "type": "scattergl"
           }
          ],
          "scatter3d": [
           {
            "type": "scatter3d",
            "line": {
             "colorbar": {
              "outlinewidth": 0,
              "ticks": ""
             }
            },
            "marker": {
             "colorbar": {
              "outlinewidth": 0,
              "ticks": ""
             }
            }
           }
          ],
          "scattermapbox": [
           {
            "type": "scattermapbox",
            "marker": {
             "colorbar": {
              "outlinewidth": 0,
              "ticks": ""
             }
            }
           }
          ],
          "scatterternary": [
           {
            "type": "scatterternary",
            "marker": {
             "colorbar": {
              "outlinewidth": 0,
              "ticks": ""
             }
            }
           }
          ],
          "scattercarpet": [
           {
            "type": "scattercarpet",
            "marker": {
             "colorbar": {
              "outlinewidth": 0,
              "ticks": ""
             }
            }
           }
          ],
          "carpet": [
           {
            "aaxis": {
             "endlinecolor": "#A2B1C6",
             "gridcolor": "#506784",
             "linecolor": "#506784",
             "minorgridcolor": "#506784",
             "startlinecolor": "#A2B1C6"
            },
            "baxis": {
             "endlinecolor": "#A2B1C6",
             "gridcolor": "#506784",
             "linecolor": "#506784",
             "minorgridcolor": "#506784",
             "startlinecolor": "#A2B1C6"
            },
            "type": "carpet"
           }
          ],
          "table": [
           {
            "cells": {
             "fill": {
              "color": "#506784"
             },
             "line": {
              "color": "rgb(17,17,17)"
             }
            },
            "header": {
             "fill": {
              "color": "#2a3f5f"
             },
             "line": {
              "color": "rgb(17,17,17)"
             }
            },
            "type": "table"
           }
          ],
          "barpolar": [
           {
            "marker": {
             "line": {
              "color": "rgb(17,17,17)",
              "width": 0.5
             },
             "pattern": {
              "fillmode": "overlay",
              "size": 10,
              "solidity": 0.2
             }
            },
            "type": "barpolar"
           }
          ],
          "pie": [
           {
            "automargin": true,
            "type": "pie"
           }
          ]
         },
         "layout": {
          "autotypenumbers": "strict",
          "colorway": [
           "#636efa",
           "#EF553B",
           "#00cc96",
           "#ab63fa",
           "#FFA15A",
           "#19d3f3",
           "#FF6692",
           "#B6E880",
           "#FF97FF",
           "#FECB52"
          ],
          "font": {
           "color": "#f2f5fa"
          },
          "hovermode": "closest",
          "hoverlabel": {
           "align": "left"
          },
          "paper_bgcolor": "rgb(17,17,17)",
          "plot_bgcolor": "rgb(17,17,17)",
          "polar": {
           "bgcolor": "rgb(17,17,17)",
           "angularaxis": {
            "gridcolor": "#506784",
            "linecolor": "#506784",
            "ticks": ""
           },
           "radialaxis": {
            "gridcolor": "#506784",
            "linecolor": "#506784",
            "ticks": ""
           }
          },
          "ternary": {
           "bgcolor": "rgb(17,17,17)",
           "aaxis": {
            "gridcolor": "#506784",
            "linecolor": "#506784",
            "ticks": ""
           },
           "baxis": {
            "gridcolor": "#506784",
            "linecolor": "#506784",
            "ticks": ""
           },
           "caxis": {
            "gridcolor": "#506784",
            "linecolor": "#506784",
            "ticks": ""
           }
          },
          "coloraxis": {
           "colorbar": {
            "outlinewidth": 0,
            "ticks": ""
           }
          },
          "colorscale": {
           "sequential": [
            [
             0.0,
             "#0d0887"
            ],
            [
             0.1111111111111111,
             "#46039f"
            ],
            [
             0.2222222222222222,
             "#7201a8"
            ],
            [
             0.3333333333333333,
             "#9c179e"
            ],
            [
             0.4444444444444444,
             "#bd3786"
            ],
            [
             0.5555555555555556,
             "#d8576b"
            ],
            [
             0.6666666666666666,
             "#ed7953"
            ],
            [
             0.7777777777777778,
             "#fb9f3a"
            ],
            [
             0.8888888888888888,
             "#fdca26"
            ],
            [
             1.0,
             "#f0f921"
            ]
           ],
           "sequentialminus": [
            [
             0.0,
             "#0d0887"
            ],
            [
             0.1111111111111111,
             "#46039f"
            ],
            [
             0.2222222222222222,
             "#7201a8"
            ],
            [
             0.3333333333333333,
             "#9c179e"
            ],
            [
             0.4444444444444444,
             "#bd3786"
            ],
            [
             0.5555555555555556,
             "#d8576b"
            ],
            [
             0.6666666666666666,
             "#ed7953"
            ],
            [
             0.7777777777777778,
             "#fb9f3a"
            ],
            [
             0.8888888888888888,
             "#fdca26"
            ],
            [
             1.0,
             "#f0f921"
            ]
           ],
           "diverging": [
            [
             0,
             "#8e0152"
            ],
            [
             0.1,
             "#c51b7d"
            ],
            [
             0.2,
             "#de77ae"
            ],
            [
             0.3,
             "#f1b6da"
            ],
            [
             0.4,
             "#fde0ef"
            ],
            [
             0.5,
             "#f7f7f7"
            ],
            [
             0.6,
             "#e6f5d0"
            ],
            [
             0.7,
             "#b8e186"
            ],
            [
             0.8,
             "#7fbc41"
            ],
            [
             0.9,
             "#4d9221"
            ],
            [
             1,
             "#276419"
            ]
           ]
          },
          "xaxis": {
           "gridcolor": "#283442",
           "linecolor": "#506784",
           "ticks": "",
           "title": {
            "standoff": 15
           },
           "zerolinecolor": "#283442",
           "automargin": true,
           "zerolinewidth": 2
          },
          "yaxis": {
           "gridcolor": "#283442",
           "linecolor": "#506784",
           "ticks": "",
           "title": {
            "standoff": 15
           },
           "zerolinecolor": "#283442",
           "automargin": true,
           "zerolinewidth": 2
          },
          "scene": {
           "xaxis": {
            "backgroundcolor": "rgb(17,17,17)",
            "gridcolor": "#506784",
            "linecolor": "#506784",
            "showbackground": true,
            "ticks": "",
            "zerolinecolor": "#C8D4E3",
            "gridwidth": 2
           },
           "yaxis": {
            "backgroundcolor": "rgb(17,17,17)",
            "gridcolor": "#506784",
            "linecolor": "#506784",
            "showbackground": true,
            "ticks": "",
            "zerolinecolor": "#C8D4E3",
            "gridwidth": 2
           },
           "zaxis": {
            "backgroundcolor": "rgb(17,17,17)",
            "gridcolor": "#506784",
            "linecolor": "#506784",
            "showbackground": true,
            "ticks": "",
            "zerolinecolor": "#C8D4E3",
            "gridwidth": 2
           }
          },
          "shapedefaults": {
           "line": {
            "color": "#f2f5fa"
           }
          },
          "annotationdefaults": {
           "arrowcolor": "#f2f5fa",
           "arrowhead": 0,
           "arrowwidth": 1
          },
          "geo": {
           "bgcolor": "rgb(17,17,17)",
           "landcolor": "rgb(17,17,17)",
           "subunitcolor": "#506784",
           "showland": true,
           "showlakes": true,
           "lakecolor": "rgb(17,17,17)"
          },
          "title": {
           "x": 0.05
          },
          "updatemenudefaults": {
           "bgcolor": "#506784",
           "borderwidth": 0
          },
          "sliderdefaults": {
           "bgcolor": "#C8D4E3",
           "borderwidth": 1,
           "bordercolor": "rgb(17,17,17)",
           "tickwidth": 0
          },
          "mapbox": {
           "style": "dark"
          }
         }
        },
        "title": {
         "text": "Time Series Data with Jumps"
        },
        "xaxis": {
         "title": {
          "text": "Date"
         }
        },
        "yaxis": {
         "title": {
          "text": "linAccZ"
         }
        }
       },
       "config": {
        "plotlyServerURL": "https://plot.ly"
       }
      },
      "text/html": "<div>                            <div id=\"3fe3f958-1a93-4f6b-93ba-87ff82ead735\" class=\"plotly-graph-div\" style=\"height:525px; width:100%;\"></div>            <script type=\"text/javascript\">                require([\"plotly\"], function(Plotly) {                    window.PLOTLYENV=window.PLOTLYENV || {};                                    if (document.getElementById(\"3fe3f958-1a93-4f6b-93ba-87ff82ead735\")) {                    Plotly.newPlot(                        \"3fe3f958-1a93-4f6b-93ba-87ff82ead735\",                        [{\"mode\":\"lines\",\"name\":\"linAccZ\",\"x\":[\"1970-01-01T00:00:02.184000\",\"1970-01-01T00:00:02.200000\",\"1970-01-01T00:00:02.209000\",\"1970-01-01T00:00:02.218000\",\"1970-01-01T00:00:02.227000\",\"1970-01-01T00:00:02.236000\",\"1970-01-01T00:00:02.245000\",\"1970-01-01T00:00:02.254000\",\"1970-01-01T00:00:02.263000\",\"1970-01-01T00:00:02.278000\",\"1970-01-01T00:00:02.287000\",\"1970-01-01T00:00:02.296000\",\"1970-01-01T00:00:02.305000\",\"1970-01-01T00:00:02.314000\",\"1970-01-01T00:00:02.323000\",\"1970-01-01T00:00:02.332000\",\"1970-01-01T00:00:02.341000\",\"1970-01-01T00:00:02.356000\",\"1970-01-01T00:00:02.365000\",\"1970-01-01T00:00:02.374000\",\"1970-01-01T00:00:02.383000\",\"1970-01-01T00:00:02.392000\",\"1970-01-01T00:00:02.401000\",\"1970-01-01T00:00:02.410000\",\"1970-01-01T00:00:02.419000\",\"1970-01-01T00:00:02.435000\",\"1970-01-01T00:00:02.444000\",\"1970-01-01T00:00:02.453000\",\"1970-01-01T00:00:02.462000\",\"1970-01-01T00:00:02.471000\",\"1970-01-01T00:00:02.480000\",\"1970-01-01T00:00:02.489000\",\"1970-01-01T00:00:02.498000\",\"1970-01-01T00:00:02.513000\",\"1970-01-01T00:00:02.522000\",\"1970-01-01T00:00:02.531000\",\"1970-01-01T00:00:02.540000\",\"1970-01-01T00:00:02.549000\",\"1970-01-01T00:00:02.558000\",\"1970-01-01T00:00:02.567000\",\"1970-01-01T00:00:02.576000\",\"1970-01-01T00:00:02.592000\",\"1970-01-01T00:00:02.601000\",\"1970-01-01T00:00:02.610000\",\"1970-01-01T00:00:02.619000\",\"1970-01-01T00:00:02.628000\",\"1970-01-01T00:00:02.637000\",\"1970-01-01T00:00:02.646000\",\"1970-01-01T00:00:02.655000\",\"1970-01-01T00:00:02.670000\",\"1970-01-01T00:00:02.679000\",\"1970-01-01T00:00:02.688000\",\"1970-01-01T00:00:02.697000\",\"1970-01-01T00:00:02.706000\",\"1970-01-01T00:00:02.715000\",\"1970-01-01T00:00:02.724000\",\"1970-01-01T00:00:02.733000\",\"1970-01-01T00:00:02.749000\",\"1970-01-01T00:00:02.758000\",\"1970-01-01T00:00:02.767000\",\"1970-01-01T00:00:02.776000\",\"1970-01-01T00:00:02.785000\",\"1970-01-01T00:00:02.794000\",\"1970-01-01T00:00:02.803000\",\"1970-01-01T00:00:02.812000\",\"1970-01-01T00:00:02.828000\",\"1970-01-01T00:00:02.837000\",\"1970-01-01T00:00:02.846000\",\"1970-01-01T00:00:02.855000\",\"1970-01-01T00:00:02.864000\",\"1970-01-01T00:00:02.873000\",\"1970-01-01T00:00:02.882000\",\"1970-01-01T00:00:02.891000\",\"1970-01-01T00:00:02.906000\",\"1970-01-01T00:00:02.915000\",\"1970-01-01T00:00:02.924000\",\"1970-01-01T00:00:02.933000\",\"1970-01-01T00:00:02.942000\",\"1970-01-01T00:00:02.951000\",\"1970-01-01T00:00:02.960000\",\"1970-01-01T00:00:02.969000\",\"1970-01-01T00:00:02.985000\"],\"y\":[-5.444493126794695,-5.380479732714592,-5.2492624830827115,-5.047335978262127,-4.774792803712189,-4.430497397594154,-4.015348753668368,-3.5311972316727043,-2.985933916158974,-2.3874995220825075,-1.743063343204558,-1.0581869589909911,-0.33810352671891436,0.4158986459299923,1.1996063939109445,2.014174335859716,2.865076774545014,3.7385990251228214,4.620623736418784,5.506098483763635,6.39411081302911,7.265004688315095,8.111539330221714,8.923454514406622,9.694085719175636,10.417703448049725,11.104006122983993,11.736716938577592,12.303347447402775,12.80713890235871,13.242336938716472,13.589610924385488,13.84353896100074,13.997607899010182,14.042593982815742,13.9611010029912,13.737931277155877,13.37237970292568,12.86650839328766,12.224243505597114,11.449008458852768,10.572259359955789,9.603331795930862,8.550748621821404,7.426504726409912,6.238396597504615,4.968542512655258,3.6469172412157063,2.3076261830329896,0.9583186942338944,-0.38377274036407477,-1.6836540073156356,-2.9294229495525363,-4.119565898776054,-5.237668644189835,-6.258863444924354,-7.1630467247962955,-7.943295275568962,-8.591140896081924,-9.116730759739875,-9.533420629501343,-9.864673687815666,-10.120089217424391,-10.304854820370675,-10.424989292621612,-10.48584916293621,-10.482731848955154,-10.432275467514993,-10.356952928304672,-10.265044389367104,-10.166650903224944,-10.077392715215684,-9.999996974468232,-9.930054181814194,-9.873887255191802,-9.840932425260544,-9.839470908641816,-9.870083545446395,-9.9265180850029,-9.993262302875518,-10.053185617923736,-10.084722661376],\"type\":\"scatter\"},{\"marker\":{\"color\":\"orange\",\"size\":8},\"mode\":\"markers\",\"name\":\"Jumps\",\"x\":[],\"y\":[],\"type\":\"scatter\"}],                        {\"template\":{\"data\":{\"histogram2dcontour\":[{\"type\":\"histogram2dcontour\",\"colorbar\":{\"outlinewidth\":0,\"ticks\":\"\"},\"colorscale\":[[0.0,\"#0d0887\"],[0.1111111111111111,\"#46039f\"],[0.2222222222222222,\"#7201a8\"],[0.3333333333333333,\"#9c179e\"],[0.4444444444444444,\"#bd3786\"],[0.5555555555555556,\"#d8576b\"],[0.6666666666666666,\"#ed7953\"],[0.7777777777777778,\"#fb9f3a\"],[0.8888888888888888,\"#fdca26\"],[1.0,\"#f0f921\"]]}],\"choropleth\":[{\"type\":\"choropleth\",\"colorbar\":{\"outlinewidth\":0,\"ticks\":\"\"}}],\"histogram2d\":[{\"type\":\"histogram2d\",\"colorbar\":{\"outlinewidth\":0,\"ticks\":\"\"},\"colorscale\":[[0.0,\"#0d0887\"],[0.1111111111111111,\"#46039f\"],[0.2222222222222222,\"#7201a8\"],[0.3333333333333333,\"#9c179e\"],[0.4444444444444444,\"#bd3786\"],[0.5555555555555556,\"#d8576b\"],[0.6666666666666666,\"#ed7953\"],[0.7777777777777778,\"#fb9f3a\"],[0.8888888888888888,\"#fdca26\"],[1.0,\"#f0f921\"]]}],\"heatmap\":[{\"type\":\"heatmap\",\"colorbar\":{\"outlinewidth\":0,\"ticks\":\"\"},\"colorscale\":[[0.0,\"#0d0887\"],[0.1111111111111111,\"#46039f\"],[0.2222222222222222,\"#7201a8\"],[0.3333333333333333,\"#9c179e\"],[0.4444444444444444,\"#bd3786\"],[0.5555555555555556,\"#d8576b\"],[0.6666666666666666,\"#ed7953\"],[0.7777777777777778,\"#fb9f3a\"],[0.8888888888888888,\"#fdca26\"],[1.0,\"#f0f921\"]]}],\"heatmapgl\":[{\"type\":\"heatmapgl\",\"colorbar\":{\"outlinewidth\":0,\"ticks\":\"\"},\"colorscale\":[[0.0,\"#0d0887\"],[0.1111111111111111,\"#46039f\"],[0.2222222222222222,\"#7201a8\"],[0.3333333333333333,\"#9c179e\"],[0.4444444444444444,\"#bd3786\"],[0.5555555555555556,\"#d8576b\"],[0.6666666666666666,\"#ed7953\"],[0.7777777777777778,\"#fb9f3a\"],[0.8888888888888888,\"#fdca26\"],[1.0,\"#f0f921\"]]}],\"contourcarpet\":[{\"type\":\"contourcarpet\",\"colorbar\":{\"outlinewidth\":0,\"ticks\":\"\"}}],\"contour\":[{\"type\":\"contour\",\"colorbar\":{\"outlinewidth\":0,\"ticks\":\"\"},\"colorscale\":[[0.0,\"#0d0887\"],[0.1111111111111111,\"#46039f\"],[0.2222222222222222,\"#7201a8\"],[0.3333333333333333,\"#9c179e\"],[0.4444444444444444,\"#bd3786\"],[0.5555555555555556,\"#d8576b\"],[0.6666666666666666,\"#ed7953\"],[0.7777777777777778,\"#fb9f3a\"],[0.8888888888888888,\"#fdca26\"],[1.0,\"#f0f921\"]]}],\"surface\":[{\"type\":\"surface\",\"colorbar\":{\"outlinewidth\":0,\"ticks\":\"\"},\"colorscale\":[[0.0,\"#0d0887\"],[0.1111111111111111,\"#46039f\"],[0.2222222222222222,\"#7201a8\"],[0.3333333333333333,\"#9c179e\"],[0.4444444444444444,\"#bd3786\"],[0.5555555555555556,\"#d8576b\"],[0.6666666666666666,\"#ed7953\"],[0.7777777777777778,\"#fb9f3a\"],[0.8888888888888888,\"#fdca26\"],[1.0,\"#f0f921\"]]}],\"mesh3d\":[{\"type\":\"mesh3d\",\"colorbar\":{\"outlinewidth\":0,\"ticks\":\"\"}}],\"scatter\":[{\"marker\":{\"line\":{\"color\":\"#283442\"}},\"type\":\"scatter\"}],\"parcoords\":[{\"type\":\"parcoords\",\"line\":{\"colorbar\":{\"outlinewidth\":0,\"ticks\":\"\"}}}],\"scatterpolargl\":[{\"type\":\"scatterpolargl\",\"marker\":{\"colorbar\":{\"outlinewidth\":0,\"ticks\":\"\"}}}],\"bar\":[{\"error_x\":{\"color\":\"#f2f5fa\"},\"error_y\":{\"color\":\"#f2f5fa\"},\"marker\":{\"line\":{\"color\":\"rgb(17,17,17)\",\"width\":0.5},\"pattern\":{\"fillmode\":\"overlay\",\"size\":10,\"solidity\":0.2}},\"type\":\"bar\"}],\"scattergeo\":[{\"type\":\"scattergeo\",\"marker\":{\"colorbar\":{\"outlinewidth\":0,\"ticks\":\"\"}}}],\"scatterpolar\":[{\"type\":\"scatterpolar\",\"marker\":{\"colorbar\":{\"outlinewidth\":0,\"ticks\":\"\"}}}],\"histogram\":[{\"marker\":{\"pattern\":{\"fillmode\":\"overlay\",\"size\":10,\"solidity\":0.2}},\"type\":\"histogram\"}],\"scattergl\":[{\"marker\":{\"line\":{\"color\":\"#283442\"}},\"type\":\"scattergl\"}],\"scatter3d\":[{\"type\":\"scatter3d\",\"line\":{\"colorbar\":{\"outlinewidth\":0,\"ticks\":\"\"}},\"marker\":{\"colorbar\":{\"outlinewidth\":0,\"ticks\":\"\"}}}],\"scattermapbox\":[{\"type\":\"scattermapbox\",\"marker\":{\"colorbar\":{\"outlinewidth\":0,\"ticks\":\"\"}}}],\"scatterternary\":[{\"type\":\"scatterternary\",\"marker\":{\"colorbar\":{\"outlinewidth\":0,\"ticks\":\"\"}}}],\"scattercarpet\":[{\"type\":\"scattercarpet\",\"marker\":{\"colorbar\":{\"outlinewidth\":0,\"ticks\":\"\"}}}],\"carpet\":[{\"aaxis\":{\"endlinecolor\":\"#A2B1C6\",\"gridcolor\":\"#506784\",\"linecolor\":\"#506784\",\"minorgridcolor\":\"#506784\",\"startlinecolor\":\"#A2B1C6\"},\"baxis\":{\"endlinecolor\":\"#A2B1C6\",\"gridcolor\":\"#506784\",\"linecolor\":\"#506784\",\"minorgridcolor\":\"#506784\",\"startlinecolor\":\"#A2B1C6\"},\"type\":\"carpet\"}],\"table\":[{\"cells\":{\"fill\":{\"color\":\"#506784\"},\"line\":{\"color\":\"rgb(17,17,17)\"}},\"header\":{\"fill\":{\"color\":\"#2a3f5f\"},\"line\":{\"color\":\"rgb(17,17,17)\"}},\"type\":\"table\"}],\"barpolar\":[{\"marker\":{\"line\":{\"color\":\"rgb(17,17,17)\",\"width\":0.5},\"pattern\":{\"fillmode\":\"overlay\",\"size\":10,\"solidity\":0.2}},\"type\":\"barpolar\"}],\"pie\":[{\"automargin\":true,\"type\":\"pie\"}]},\"layout\":{\"autotypenumbers\":\"strict\",\"colorway\":[\"#636efa\",\"#EF553B\",\"#00cc96\",\"#ab63fa\",\"#FFA15A\",\"#19d3f3\",\"#FF6692\",\"#B6E880\",\"#FF97FF\",\"#FECB52\"],\"font\":{\"color\":\"#f2f5fa\"},\"hovermode\":\"closest\",\"hoverlabel\":{\"align\":\"left\"},\"paper_bgcolor\":\"rgb(17,17,17)\",\"plot_bgcolor\":\"rgb(17,17,17)\",\"polar\":{\"bgcolor\":\"rgb(17,17,17)\",\"angularaxis\":{\"gridcolor\":\"#506784\",\"linecolor\":\"#506784\",\"ticks\":\"\"},\"radialaxis\":{\"gridcolor\":\"#506784\",\"linecolor\":\"#506784\",\"ticks\":\"\"}},\"ternary\":{\"bgcolor\":\"rgb(17,17,17)\",\"aaxis\":{\"gridcolor\":\"#506784\",\"linecolor\":\"#506784\",\"ticks\":\"\"},\"baxis\":{\"gridcolor\":\"#506784\",\"linecolor\":\"#506784\",\"ticks\":\"\"},\"caxis\":{\"gridcolor\":\"#506784\",\"linecolor\":\"#506784\",\"ticks\":\"\"}},\"coloraxis\":{\"colorbar\":{\"outlinewidth\":0,\"ticks\":\"\"}},\"colorscale\":{\"sequential\":[[0.0,\"#0d0887\"],[0.1111111111111111,\"#46039f\"],[0.2222222222222222,\"#7201a8\"],[0.3333333333333333,\"#9c179e\"],[0.4444444444444444,\"#bd3786\"],[0.5555555555555556,\"#d8576b\"],[0.6666666666666666,\"#ed7953\"],[0.7777777777777778,\"#fb9f3a\"],[0.8888888888888888,\"#fdca26\"],[1.0,\"#f0f921\"]],\"sequentialminus\":[[0.0,\"#0d0887\"],[0.1111111111111111,\"#46039f\"],[0.2222222222222222,\"#7201a8\"],[0.3333333333333333,\"#9c179e\"],[0.4444444444444444,\"#bd3786\"],[0.5555555555555556,\"#d8576b\"],[0.6666666666666666,\"#ed7953\"],[0.7777777777777778,\"#fb9f3a\"],[0.8888888888888888,\"#fdca26\"],[1.0,\"#f0f921\"]],\"diverging\":[[0,\"#8e0152\"],[0.1,\"#c51b7d\"],[0.2,\"#de77ae\"],[0.3,\"#f1b6da\"],[0.4,\"#fde0ef\"],[0.5,\"#f7f7f7\"],[0.6,\"#e6f5d0\"],[0.7,\"#b8e186\"],[0.8,\"#7fbc41\"],[0.9,\"#4d9221\"],[1,\"#276419\"]]},\"xaxis\":{\"gridcolor\":\"#283442\",\"linecolor\":\"#506784\",\"ticks\":\"\",\"title\":{\"standoff\":15},\"zerolinecolor\":\"#283442\",\"automargin\":true,\"zerolinewidth\":2},\"yaxis\":{\"gridcolor\":\"#283442\",\"linecolor\":\"#506784\",\"ticks\":\"\",\"title\":{\"standoff\":15},\"zerolinecolor\":\"#283442\",\"automargin\":true,\"zerolinewidth\":2},\"scene\":{\"xaxis\":{\"backgroundcolor\":\"rgb(17,17,17)\",\"gridcolor\":\"#506784\",\"linecolor\":\"#506784\",\"showbackground\":true,\"ticks\":\"\",\"zerolinecolor\":\"#C8D4E3\",\"gridwidth\":2},\"yaxis\":{\"backgroundcolor\":\"rgb(17,17,17)\",\"gridcolor\":\"#506784\",\"linecolor\":\"#506784\",\"showbackground\":true,\"ticks\":\"\",\"zerolinecolor\":\"#C8D4E3\",\"gridwidth\":2},\"zaxis\":{\"backgroundcolor\":\"rgb(17,17,17)\",\"gridcolor\":\"#506784\",\"linecolor\":\"#506784\",\"showbackground\":true,\"ticks\":\"\",\"zerolinecolor\":\"#C8D4E3\",\"gridwidth\":2}},\"shapedefaults\":{\"line\":{\"color\":\"#f2f5fa\"}},\"annotationdefaults\":{\"arrowcolor\":\"#f2f5fa\",\"arrowhead\":0,\"arrowwidth\":1},\"geo\":{\"bgcolor\":\"rgb(17,17,17)\",\"landcolor\":\"rgb(17,17,17)\",\"subunitcolor\":\"#506784\",\"showland\":true,\"showlakes\":true,\"lakecolor\":\"rgb(17,17,17)\"},\"title\":{\"x\":0.05},\"updatemenudefaults\":{\"bgcolor\":\"#506784\",\"borderwidth\":0},\"sliderdefaults\":{\"bgcolor\":\"#C8D4E3\",\"borderwidth\":1,\"bordercolor\":\"rgb(17,17,17)\",\"tickwidth\":0},\"mapbox\":{\"style\":\"dark\"}}},\"title\":{\"text\":\"Time Series Data with Jumps\"},\"xaxis\":{\"title\":{\"text\":\"Date\"}},\"yaxis\":{\"title\":{\"text\":\"linAccZ\"}}},                        {\"responsive\": true}                    ).then(function(){\n                            \nvar gd = document.getElementById('3fe3f958-1a93-4f6b-93ba-87ff82ead735');\nvar x = new MutationObserver(function (mutations, observer) {{\n        var display = window.getComputedStyle(gd).display;\n        if (!display || display === 'none') {{\n            console.log([gd, 'removed!']);\n            Plotly.purge(gd);\n            observer.disconnect();\n        }}\n}});\n\n// Listen for the removal of the full notebook cells\nvar notebookContainer = gd.closest('#notebook-container');\nif (notebookContainer) {{\n    x.observe(notebookContainer, {childList: true});\n}}\n\n// Listen for the clearing of the current output cell\nvar outputEl = gd.closest('.output');\nif (outputEl) {{\n    x.observe(outputEl, {childList: true});\n}}\n\n                        })                };                });            </script>        </div>"
     },
     "metadata": {},
     "output_type": "display_data"
    }
   ],
   "source": [
    "df = squat_jump.copy()\n",
    "# Calculate the differences\n",
    "df['diff'] = df['linAccZ'].diff().abs()\n",
    "\n",
    "# Define a threshold for jumps, e.g., mean + 2*standard deviation\n",
    "threshold = df['diff'].mean() + 2*df['diff'].std()\n",
    "\n",
    "# Identify jumps\n",
    "jumps = df[df['diff'] > threshold]\n",
    "\n",
    "# Plotting\n",
    "fig = go.Figure()\n",
    "\n",
    "# Line plot for the time series\n",
    "fig.add_trace(go.Scatter(x=df.index, y=df['linAccZ'], mode='lines', name='linAccZ'))\n",
    "\n",
    "# Marker plot for the jumps\n",
    "fig.add_trace(go.Scatter(x=jumps.index, y=jumps['linAccZ'], mode='markers', \n",
    "                         marker=dict(color='orange', size=8), name='Jumps'))\n",
    "\n",
    "fig.update_layout(title='Time Series Data with Jumps', xaxis_title='Date', yaxis_title='linAccZ')\n",
    "fig.show()"
   ],
   "metadata": {
    "collapsed": false,
    "ExecuteTime": {
     "end_time": "2024-01-22T23:14:06.490759100Z",
     "start_time": "2024-01-22T23:14:06.457674600Z"
    }
   },
   "id": "b9575e86ee3c1e35",
   "execution_count": 32
  },
  {
   "cell_type": "code",
   "outputs": [
    {
     "name": "stderr",
     "output_type": "stream",
     "text": [
      "C:\\Users\\josec\\Documents\\fatigue_measure\\fitizens_libraries\\load_data.py:111: FutureWarning:\n",
      "\n",
      "DataFrame.fillna with 'method' is deprecated and will raise in a future version. Use obj.ffill() or obj.bfill() instead.\n",
      "\n",
      "C:\\Users\\josec\\Documents\\fatigue_measure\\fitizens_libraries\\load_data.py:111: FutureWarning:\n",
      "\n",
      "DataFrame.fillna with 'method' is deprecated and will raise in a future version. Use obj.ffill() or obj.bfill() instead.\n",
      "\n",
      "C:\\Users\\josec\\Documents\\fatigue_measure\\fitizens_libraries\\load_data.py:111: FutureWarning:\n",
      "\n",
      "DataFrame.fillna with 'method' is deprecated and will raise in a future version. Use obj.ffill() or obj.bfill() instead.\n",
      "\n",
      "C:\\Users\\josec\\Documents\\fatigue_measure\\fitizens_libraries\\load_data.py:111: FutureWarning:\n",
      "\n",
      "DataFrame.fillna with 'method' is deprecated and will raise in a future version. Use obj.ffill() or obj.bfill() instead.\n",
      "\n",
      "C:\\Users\\josec\\Documents\\fatigue_measure\\fitizens_libraries\\load_data.py:111: FutureWarning:\n",
      "\n",
      "DataFrame.fillna with 'method' is deprecated and will raise in a future version. Use obj.ffill() or obj.bfill() instead.\n",
      "\n",
      "C:\\Users\\josec\\Documents\\fatigue_measure\\fitizens_libraries\\load_data.py:111: FutureWarning:\n",
      "\n",
      "DataFrame.fillna with 'method' is deprecated and will raise in a future version. Use obj.ffill() or obj.bfill() instead.\n",
      "\n",
      "C:\\Users\\josec\\Documents\\fatigue_measure\\fitizens_libraries\\load_data.py:111: FutureWarning:\n",
      "\n",
      "DataFrame.fillna with 'method' is deprecated and will raise in a future version. Use obj.ffill() or obj.bfill() instead.\n",
      "\n",
      "C:\\Users\\josec\\Documents\\fatigue_measure\\fitizens_libraries\\load_data.py:111: FutureWarning:\n",
      "\n",
      "DataFrame.fillna with 'method' is deprecated and will raise in a future version. Use obj.ffill() or obj.bfill() instead.\n",
      "\n",
      "C:\\Users\\josec\\Documents\\fatigue_measure\\fitizens_libraries\\load_data.py:111: FutureWarning:\n",
      "\n",
      "DataFrame.fillna with 'method' is deprecated and will raise in a future version. Use obj.ffill() or obj.bfill() instead.\n",
      "\n",
      "C:\\Users\\josec\\Documents\\fatigue_measure\\fitizens_libraries\\load_data.py:111: FutureWarning:\n",
      "\n",
      "DataFrame.fillna with 'method' is deprecated and will raise in a future version. Use obj.ffill() or obj.bfill() instead.\n",
      "\n",
      "C:\\Users\\josec\\Documents\\fatigue_measure\\fitizens_libraries\\load_data.py:111: FutureWarning:\n",
      "\n",
      "DataFrame.fillna with 'method' is deprecated and will raise in a future version. Use obj.ffill() or obj.bfill() instead.\n",
      "\n",
      "C:\\Users\\josec\\Documents\\fatigue_measure\\fitizens_libraries\\load_data.py:111: FutureWarning:\n",
      "\n",
      "DataFrame.fillna with 'method' is deprecated and will raise in a future version. Use obj.ffill() or obj.bfill() instead.\n",
      "\n",
      "C:\\Users\\josec\\Documents\\fatigue_measure\\fitizens_libraries\\load_data.py:111: FutureWarning:\n",
      "\n",
      "DataFrame.fillna with 'method' is deprecated and will raise in a future version. Use obj.ffill() or obj.bfill() instead.\n",
      "\n",
      "C:\\Users\\josec\\Documents\\fatigue_measure\\fitizens_libraries\\load_data.py:111: FutureWarning:\n",
      "\n",
      "DataFrame.fillna with 'method' is deprecated and will raise in a future version. Use obj.ffill() or obj.bfill() instead.\n",
      "\n",
      "C:\\Users\\josec\\Documents\\fatigue_measure\\fitizens_libraries\\load_data.py:111: FutureWarning:\n",
      "\n",
      "DataFrame.fillna with 'method' is deprecated and will raise in a future version. Use obj.ffill() or obj.bfill() instead.\n",
      "\n",
      "C:\\Users\\josec\\Documents\\fatigue_measure\\fitizens_libraries\\load_data.py:111: FutureWarning:\n",
      "\n",
      "DataFrame.fillna with 'method' is deprecated and will raise in a future version. Use obj.ffill() or obj.bfill() instead.\n",
      "\n",
      "C:\\Users\\josec\\Documents\\fatigue_measure\\fitizens_libraries\\load_data.py:111: FutureWarning:\n",
      "\n",
      "DataFrame.fillna with 'method' is deprecated and will raise in a future version. Use obj.ffill() or obj.bfill() instead.\n",
      "\n",
      "C:\\Users\\josec\\Documents\\fatigue_measure\\fitizens_libraries\\load_data.py:111: FutureWarning:\n",
      "\n",
      "DataFrame.fillna with 'method' is deprecated and will raise in a future version. Use obj.ffill() or obj.bfill() instead.\n",
      "\n",
      "C:\\Users\\josec\\Documents\\fatigue_measure\\fitizens_libraries\\load_data.py:111: FutureWarning:\n",
      "\n",
      "DataFrame.fillna with 'method' is deprecated and will raise in a future version. Use obj.ffill() or obj.bfill() instead.\n",
      "\n",
      "C:\\Users\\josec\\Documents\\fatigue_measure\\fitizens_libraries\\load_data.py:111: FutureWarning:\n",
      "\n",
      "DataFrame.fillna with 'method' is deprecated and will raise in a future version. Use obj.ffill() or obj.bfill() instead.\n",
      "\n",
      "C:\\Users\\josec\\Documents\\fatigue_measure\\fitizens_libraries\\load_data.py:111: FutureWarning:\n",
      "\n",
      "DataFrame.fillna with 'method' is deprecated and will raise in a future version. Use obj.ffill() or obj.bfill() instead.\n",
      "\n",
      "C:\\Users\\josec\\Documents\\fatigue_measure\\fitizens_libraries\\load_data.py:111: FutureWarning:\n",
      "\n",
      "DataFrame.fillna with 'method' is deprecated and will raise in a future version. Use obj.ffill() or obj.bfill() instead.\n",
      "\n",
      "C:\\Users\\josec\\Documents\\fatigue_measure\\fitizens_libraries\\load_data.py:111: FutureWarning:\n",
      "\n",
      "DataFrame.fillna with 'method' is deprecated and will raise in a future version. Use obj.ffill() or obj.bfill() instead.\n",
      "\n",
      "C:\\Users\\josec\\Documents\\fatigue_measure\\fitizens_libraries\\load_data.py:111: FutureWarning:\n",
      "\n",
      "DataFrame.fillna with 'method' is deprecated and will raise in a future version. Use obj.ffill() or obj.bfill() instead.\n",
      "\n",
      "C:\\Users\\josec\\Documents\\fatigue_measure\\fitizens_libraries\\load_data.py:111: FutureWarning:\n",
      "\n",
      "DataFrame.fillna with 'method' is deprecated and will raise in a future version. Use obj.ffill() or obj.bfill() instead.\n",
      "\n",
      "C:\\Users\\josec\\Documents\\fatigue_measure\\fitizens_libraries\\load_data.py:111: FutureWarning:\n",
      "\n",
      "DataFrame.fillna with 'method' is deprecated and will raise in a future version. Use obj.ffill() or obj.bfill() instead.\n",
      "\n",
      "C:\\Users\\josec\\Documents\\fatigue_measure\\fitizens_libraries\\load_data.py:111: FutureWarning:\n",
      "\n",
      "DataFrame.fillna with 'method' is deprecated and will raise in a future version. Use obj.ffill() or obj.bfill() instead.\n",
      "\n",
      "C:\\Users\\josec\\Documents\\fatigue_measure\\fitizens_libraries\\load_data.py:111: FutureWarning:\n",
      "\n",
      "DataFrame.fillna with 'method' is deprecated and will raise in a future version. Use obj.ffill() or obj.bfill() instead.\n",
      "\n"
     ]
    }
   ],
   "source": [
    "folder_path = \"squats\"\n",
    "file_names = [f\"{folder_path}/{name}\" for name in os.listdir(folder_path)]\n",
    "signals = [\"linAccZ\"]\n",
    "    \n",
    "data_squat, wk_squat = load_training_data(filelist=file_names,\n",
    "                             signals= signals,\n",
    "                             target_exercise=\"SQUAT\", other_exercises=[], is_peak_minima=True)"
   ],
   "metadata": {
    "collapsed": false,
    "ExecuteTime": {
     "end_time": "2024-01-22T22:37:17.722953800Z",
     "start_time": "2024-01-22T22:33:19.066292600Z"
    }
   },
   "id": "48cb0b3ceb51a85b",
   "execution_count": 6
  },
  {
   "cell_type": "code",
   "outputs": [
    {
     "data": {
      "text/plain": "                         linAccZ_orig  exercising_periods   linAccZ  \\\ntime                                                                  \n1970-01-01 00:00:00.474     -6.526429                   1 -4.789168   \n1970-01-01 00:00:00.483     -6.396638                   1 -4.772544   \n1970-01-01 00:00:00.492     -6.277244                   1 -4.723690   \n1970-01-01 00:00:00.501     -6.443413                   1 -4.642785   \n1970-01-01 00:00:00.510     -6.446424                   1 -4.528275   \n...                               ...                 ...       ...   \n1970-01-01 00:00:01.531     -4.936598                   1 -4.026386   \n1970-01-01 00:00:01.540     -5.071943                   1 -4.128245   \n1970-01-01 00:00:01.549     -5.016847                   1 -4.203923   \n1970-01-01 00:00:01.558     -4.930963                   1 -4.253094   \n1970-01-01 00:00:01.567     -5.281425                   0 -4.275955   \n\n                         linAccZ_mod     peaks  first_sample  last_sample  \\\ntime                                                                        \n1970-01-01 00:00:00.474    22.936131 -4.789168          True        False   \n1970-01-01 00:00:00.483    22.777179       NaN         False        False   \n1970-01-01 00:00:00.492    22.313245       NaN         False        False   \n1970-01-01 00:00:00.501    21.555455       NaN         False        False   \n1970-01-01 00:00:00.510    20.505275       NaN         False        False   \n...                              ...       ...           ...          ...   \n1970-01-01 00:00:01.531    16.211780       NaN         False        False   \n1970-01-01 00:00:01.540    17.042403       NaN         False        False   \n1970-01-01 00:00:01.549    17.672967       NaN         False        False   \n1970-01-01 00:00:01.558    18.088807       NaN         False         True   \n1970-01-01 00:00:01.567    18.283791 -4.275955         False        False   \n\n                         first_sample_closest_peak  last_sample_closest_peak  \ntime                                                                          \n1970-01-01 00:00:00.474                       True                     False  \n1970-01-01 00:00:00.483                      False                     False  \n1970-01-01 00:00:00.492                      False                     False  \n1970-01-01 00:00:00.501                      False                     False  \n1970-01-01 00:00:00.510                      False                     False  \n...                                            ...                       ...  \n1970-01-01 00:00:01.531                      False                     False  \n1970-01-01 00:00:01.540                      False                     False  \n1970-01-01 00:00:01.549                      False                     False  \n1970-01-01 00:00:01.558                      False                     False  \n1970-01-01 00:00:01.567                      False                      True  \n\n[116 rows x 9 columns]",
      "text/html": "<div>\n<style scoped>\n    .dataframe tbody tr th:only-of-type {\n        vertical-align: middle;\n    }\n\n    .dataframe tbody tr th {\n        vertical-align: top;\n    }\n\n    .dataframe thead th {\n        text-align: right;\n    }\n</style>\n<table border=\"1\" class=\"dataframe\">\n  <thead>\n    <tr style=\"text-align: right;\">\n      <th></th>\n      <th>linAccZ_orig</th>\n      <th>exercising_periods</th>\n      <th>linAccZ</th>\n      <th>linAccZ_mod</th>\n      <th>peaks</th>\n      <th>first_sample</th>\n      <th>last_sample</th>\n      <th>first_sample_closest_peak</th>\n      <th>last_sample_closest_peak</th>\n    </tr>\n    <tr>\n      <th>time</th>\n      <th></th>\n      <th></th>\n      <th></th>\n      <th></th>\n      <th></th>\n      <th></th>\n      <th></th>\n      <th></th>\n      <th></th>\n    </tr>\n  </thead>\n  <tbody>\n    <tr>\n      <th>1970-01-01 00:00:00.474</th>\n      <td>-6.526429</td>\n      <td>1</td>\n      <td>-4.789168</td>\n      <td>22.936131</td>\n      <td>-4.789168</td>\n      <td>True</td>\n      <td>False</td>\n      <td>True</td>\n      <td>False</td>\n    </tr>\n    <tr>\n      <th>1970-01-01 00:00:00.483</th>\n      <td>-6.396638</td>\n      <td>1</td>\n      <td>-4.772544</td>\n      <td>22.777179</td>\n      <td>NaN</td>\n      <td>False</td>\n      <td>False</td>\n      <td>False</td>\n      <td>False</td>\n    </tr>\n    <tr>\n      <th>1970-01-01 00:00:00.492</th>\n      <td>-6.277244</td>\n      <td>1</td>\n      <td>-4.723690</td>\n      <td>22.313245</td>\n      <td>NaN</td>\n      <td>False</td>\n      <td>False</td>\n      <td>False</td>\n      <td>False</td>\n    </tr>\n    <tr>\n      <th>1970-01-01 00:00:00.501</th>\n      <td>-6.443413</td>\n      <td>1</td>\n      <td>-4.642785</td>\n      <td>21.555455</td>\n      <td>NaN</td>\n      <td>False</td>\n      <td>False</td>\n      <td>False</td>\n      <td>False</td>\n    </tr>\n    <tr>\n      <th>1970-01-01 00:00:00.510</th>\n      <td>-6.446424</td>\n      <td>1</td>\n      <td>-4.528275</td>\n      <td>20.505275</td>\n      <td>NaN</td>\n      <td>False</td>\n      <td>False</td>\n      <td>False</td>\n      <td>False</td>\n    </tr>\n    <tr>\n      <th>...</th>\n      <td>...</td>\n      <td>...</td>\n      <td>...</td>\n      <td>...</td>\n      <td>...</td>\n      <td>...</td>\n      <td>...</td>\n      <td>...</td>\n      <td>...</td>\n    </tr>\n    <tr>\n      <th>1970-01-01 00:00:01.531</th>\n      <td>-4.936598</td>\n      <td>1</td>\n      <td>-4.026386</td>\n      <td>16.211780</td>\n      <td>NaN</td>\n      <td>False</td>\n      <td>False</td>\n      <td>False</td>\n      <td>False</td>\n    </tr>\n    <tr>\n      <th>1970-01-01 00:00:01.540</th>\n      <td>-5.071943</td>\n      <td>1</td>\n      <td>-4.128245</td>\n      <td>17.042403</td>\n      <td>NaN</td>\n      <td>False</td>\n      <td>False</td>\n      <td>False</td>\n      <td>False</td>\n    </tr>\n    <tr>\n      <th>1970-01-01 00:00:01.549</th>\n      <td>-5.016847</td>\n      <td>1</td>\n      <td>-4.203923</td>\n      <td>17.672967</td>\n      <td>NaN</td>\n      <td>False</td>\n      <td>False</td>\n      <td>False</td>\n      <td>False</td>\n    </tr>\n    <tr>\n      <th>1970-01-01 00:00:01.558</th>\n      <td>-4.930963</td>\n      <td>1</td>\n      <td>-4.253094</td>\n      <td>18.088807</td>\n      <td>NaN</td>\n      <td>False</td>\n      <td>True</td>\n      <td>False</td>\n      <td>False</td>\n    </tr>\n    <tr>\n      <th>1970-01-01 00:00:01.567</th>\n      <td>-5.281425</td>\n      <td>0</td>\n      <td>-4.275955</td>\n      <td>18.283791</td>\n      <td>-4.275955</td>\n      <td>False</td>\n      <td>False</td>\n      <td>False</td>\n      <td>True</td>\n    </tr>\n  </tbody>\n</table>\n<p>116 rows × 9 columns</p>\n</div>"
     },
     "execution_count": 7,
     "metadata": {},
     "output_type": "execute_result"
    }
   ],
   "source": [
    "squat = data_squat[0][\"series\"]\n",
    "squat"
   ],
   "metadata": {
    "collapsed": false,
    "ExecuteTime": {
     "end_time": "2024-01-22T22:38:55.992394600Z",
     "start_time": "2024-01-22T22:38:55.931272300Z"
    }
   },
   "id": "935c6c304c1d1daf",
   "execution_count": 7
  },
  {
   "cell_type": "code",
   "outputs": [
    {
     "data": {
      "application/vnd.plotly.v1+json": {
       "data": [
        {
         "hovertemplate": "time=%{x}<br>linAccZ=%{y}<extra></extra>",
         "legendgroup": "",
         "line": {
          "color": "#636efa",
          "dash": "solid"
         },
         "marker": {
          "symbol": "circle"
         },
         "mode": "lines",
         "name": "",
         "orientation": "v",
         "showlegend": false,
         "x": [
          "1970-01-01T00:00:00.474000",
          "1970-01-01T00:00:00.483000",
          "1970-01-01T00:00:00.492000",
          "1970-01-01T00:00:00.501000",
          "1970-01-01T00:00:00.510000",
          "1970-01-01T00:00:00.519000",
          "1970-01-01T00:00:00.533000",
          "1970-01-01T00:00:00.542000",
          "1970-01-01T00:00:00.551000",
          "1970-01-01T00:00:00.560000",
          "1970-01-01T00:00:00.569000",
          "1970-01-01T00:00:00.578000",
          "1970-01-01T00:00:00.587000",
          "1970-01-01T00:00:00.596000",
          "1970-01-01T00:00:00.609000",
          "1970-01-01T00:00:00.618000",
          "1970-01-01T00:00:00.627000",
          "1970-01-01T00:00:00.636000",
          "1970-01-01T00:00:00.645000",
          "1970-01-01T00:00:00.654000",
          "1970-01-01T00:00:00.663000",
          "1970-01-01T00:00:00.672000",
          "1970-01-01T00:00:00.685000",
          "1970-01-01T00:00:00.694000",
          "1970-01-01T00:00:00.703000",
          "1970-01-01T00:00:00.712000",
          "1970-01-01T00:00:00.721000",
          "1970-01-01T00:00:00.730000",
          "1970-01-01T00:00:00.739000",
          "1970-01-01T00:00:00.748000",
          "1970-01-01T00:00:00.761000",
          "1970-01-01T00:00:00.770000",
          "1970-01-01T00:00:00.779000",
          "1970-01-01T00:00:00.788000",
          "1970-01-01T00:00:00.797000",
          "1970-01-01T00:00:00.806000",
          "1970-01-01T00:00:00.815000",
          "1970-01-01T00:00:00.824000",
          "1970-01-01T00:00:00.837000",
          "1970-01-01T00:00:00.846000",
          "1970-01-01T00:00:00.855000",
          "1970-01-01T00:00:00.864000",
          "1970-01-01T00:00:00.873000",
          "1970-01-01T00:00:00.882000",
          "1970-01-01T00:00:00.891000",
          "1970-01-01T00:00:00.900000",
          "1970-01-01T00:00:00.913000",
          "1970-01-01T00:00:00.922000",
          "1970-01-01T00:00:00.931000",
          "1970-01-01T00:00:00.940000",
          "1970-01-01T00:00:00.949000",
          "1970-01-01T00:00:00.958000",
          "1970-01-01T00:00:00.967000",
          "1970-01-01T00:00:00.976000",
          "1970-01-01T00:00:00.989000",
          "1970-01-01T00:00:00.998000",
          "1970-01-01T00:00:01.007000",
          "1970-01-01T00:00:01.016000",
          "1970-01-01T00:00:01.025000",
          "1970-01-01T00:00:01.034000",
          "1970-01-01T00:00:01.043000",
          "1970-01-01T00:00:01.052000",
          "1970-01-01T00:00:01.065000",
          "1970-01-01T00:00:01.074000",
          "1970-01-01T00:00:01.083000",
          "1970-01-01T00:00:01.092000",
          "1970-01-01T00:00:01.101000",
          "1970-01-01T00:00:01.110000",
          "1970-01-01T00:00:01.119000",
          "1970-01-01T00:00:01.128000",
          "1970-01-01T00:00:01.141000",
          "1970-01-01T00:00:01.150000",
          "1970-01-01T00:00:01.159000",
          "1970-01-01T00:00:01.168000",
          "1970-01-01T00:00:01.177000",
          "1970-01-01T00:00:01.186000",
          "1970-01-01T00:00:01.195000",
          "1970-01-01T00:00:01.204000",
          "1970-01-01T00:00:01.217000",
          "1970-01-01T00:00:01.226000",
          "1970-01-01T00:00:01.235000",
          "1970-01-01T00:00:01.244000",
          "1970-01-01T00:00:01.253000",
          "1970-01-01T00:00:01.262000",
          "1970-01-01T00:00:01.271000",
          "1970-01-01T00:00:01.280000",
          "1970-01-01T00:00:01.293000",
          "1970-01-01T00:00:01.302000",
          "1970-01-01T00:00:01.311000",
          "1970-01-01T00:00:01.320000",
          "1970-01-01T00:00:01.329000",
          "1970-01-01T00:00:01.338000",
          "1970-01-01T00:00:01.347000",
          "1970-01-01T00:00:01.356000",
          "1970-01-01T00:00:01.369000",
          "1970-01-01T00:00:01.378000",
          "1970-01-01T00:00:01.387000",
          "1970-01-01T00:00:01.396000",
          "1970-01-01T00:00:01.405000",
          "1970-01-01T00:00:01.414000",
          "1970-01-01T00:00:01.423000",
          "1970-01-01T00:00:01.432000",
          "1970-01-01T00:00:01.446000",
          "1970-01-01T00:00:01.455000",
          "1970-01-01T00:00:01.464000",
          "1970-01-01T00:00:01.473000",
          "1970-01-01T00:00:01.482000",
          "1970-01-01T00:00:01.491000",
          "1970-01-01T00:00:01.500000",
          "1970-01-01T00:00:01.509000",
          "1970-01-01T00:00:01.522000",
          "1970-01-01T00:00:01.531000",
          "1970-01-01T00:00:01.540000",
          "1970-01-01T00:00:01.549000",
          "1970-01-01T00:00:01.558000",
          "1970-01-01T00:00:01.567000"
         ],
         "xaxis": "x",
         "y": [
          -4.789168054237961,
          -4.772544275671244,
          -4.723689716383815,
          -4.642785262912512,
          -4.528275034800172,
          -4.3808563384413715,
          -4.201473107859492,
          -3.98893782183528,
          -3.745505200400949,
          -3.475936915576458,
          -3.1841202428191897,
          -2.8748816998302935,
          -2.5509531600028277,
          -2.215651010274887,
          -1.8710796957463025,
          -1.523253486007452,
          -1.1795061915367842,
          -0.8442577382922171,
          -0.5184078634530305,
          -0.2015232209861278,
          0.10667477615177638,
          0.4083757704496384,
          0.7029166101664305,
          0.9901407222449781,
          1.2681468484550718,
          1.5377252855896952,
          1.7974430157989265,
          2.042485177665949,
          2.2734380150586366,
          2.494198274612427,
          2.703164668008685,
          2.9012256996333603,
          3.0914565394073725,
          3.2743876013159756,
          3.4480915047973397,
          3.614048098772764,
          3.7746706707775592,
          3.9297558483481403,
          4.075346893519162,
          4.212483108043671,
          4.340722915828229,
          4.453414441347123,
          4.553228380978107,
          4.6400752353668215,
          4.713759110271931,
          4.774217862486839,
          4.824715331792832,
          4.870214412212372,
          4.911285954117775,
          4.943559767007828,
          4.970137107372284,
          4.990439633131027,
          4.999300592541695,
          4.996541894078254,
          4.984291343092918,
          4.9649731945991515,
          4.938331773281098,
          4.907270396947861,
          4.874769798517227,
          4.83865162074566,
          4.796885593533515,
          4.754109670519829,
          4.707507346868516,
          4.655424110293388,
          4.598039020895958,
          4.53453338265419,
          4.4624974730610845,
          4.379847535192966,
          4.28602251291275,
          4.183010388910771,
          4.069419859051704,
          3.94766353815794,
          3.8225223630666734,
          3.6935129068791865,
          3.560435314625502,
          3.419908106736839,
          3.274221536666155,
          3.1215257684513924,
          2.961687267497182,
          2.795909911431372,
          2.6251865181326863,
          2.4483448010310527,
          2.2650768997520205,
          2.0776355313137174,
          1.8862017776072026,
          1.690509816221893,
          1.4914381975680588,
          1.2889068356528877,
          1.0831519341468812,
          0.8739526173099875,
          0.660962811037898,
          0.44251132030040025,
          0.21668716475367544,
          -0.01551561910659074,
          -0.2536067985743284,
          -0.49443093080073597,
          -0.7395909935235976,
          -0.9883944353088736,
          -1.2404038368910553,
          -1.4953214933350683,
          -1.750912809818983,
          -2.0056677169725297,
          -2.256676079407334,
          -2.5028927946463226,
          -2.741994571983814,
          -2.970967719517648,
          -3.1884145825356245,
          -3.3921761174872516,
          -3.580245191603899,
          -3.7501064024493105,
          -3.899638634994626,
          -4.026385522820055,
          -4.128244559913874,
          -4.2039228212460875,
          -4.25309380996041,
          -4.275954943131656
         ],
         "yaxis": "y",
         "type": "scatter"
        }
       ],
       "layout": {
        "template": {
         "data": {
          "histogram2dcontour": [
           {
            "type": "histogram2dcontour",
            "colorbar": {
             "outlinewidth": 0,
             "ticks": ""
            },
            "colorscale": [
             [
              0.0,
              "#0d0887"
             ],
             [
              0.1111111111111111,
              "#46039f"
             ],
             [
              0.2222222222222222,
              "#7201a8"
             ],
             [
              0.3333333333333333,
              "#9c179e"
             ],
             [
              0.4444444444444444,
              "#bd3786"
             ],
             [
              0.5555555555555556,
              "#d8576b"
             ],
             [
              0.6666666666666666,
              "#ed7953"
             ],
             [
              0.7777777777777778,
              "#fb9f3a"
             ],
             [
              0.8888888888888888,
              "#fdca26"
             ],
             [
              1.0,
              "#f0f921"
             ]
            ]
           }
          ],
          "choropleth": [
           {
            "type": "choropleth",
            "colorbar": {
             "outlinewidth": 0,
             "ticks": ""
            }
           }
          ],
          "histogram2d": [
           {
            "type": "histogram2d",
            "colorbar": {
             "outlinewidth": 0,
             "ticks": ""
            },
            "colorscale": [
             [
              0.0,
              "#0d0887"
             ],
             [
              0.1111111111111111,
              "#46039f"
             ],
             [
              0.2222222222222222,
              "#7201a8"
             ],
             [
              0.3333333333333333,
              "#9c179e"
             ],
             [
              0.4444444444444444,
              "#bd3786"
             ],
             [
              0.5555555555555556,
              "#d8576b"
             ],
             [
              0.6666666666666666,
              "#ed7953"
             ],
             [
              0.7777777777777778,
              "#fb9f3a"
             ],
             [
              0.8888888888888888,
              "#fdca26"
             ],
             [
              1.0,
              "#f0f921"
             ]
            ]
           }
          ],
          "heatmap": [
           {
            "type": "heatmap",
            "colorbar": {
             "outlinewidth": 0,
             "ticks": ""
            },
            "colorscale": [
             [
              0.0,
              "#0d0887"
             ],
             [
              0.1111111111111111,
              "#46039f"
             ],
             [
              0.2222222222222222,
              "#7201a8"
             ],
             [
              0.3333333333333333,
              "#9c179e"
             ],
             [
              0.4444444444444444,
              "#bd3786"
             ],
             [
              0.5555555555555556,
              "#d8576b"
             ],
             [
              0.6666666666666666,
              "#ed7953"
             ],
             [
              0.7777777777777778,
              "#fb9f3a"
             ],
             [
              0.8888888888888888,
              "#fdca26"
             ],
             [
              1.0,
              "#f0f921"
             ]
            ]
           }
          ],
          "heatmapgl": [
           {
            "type": "heatmapgl",
            "colorbar": {
             "outlinewidth": 0,
             "ticks": ""
            },
            "colorscale": [
             [
              0.0,
              "#0d0887"
             ],
             [
              0.1111111111111111,
              "#46039f"
             ],
             [
              0.2222222222222222,
              "#7201a8"
             ],
             [
              0.3333333333333333,
              "#9c179e"
             ],
             [
              0.4444444444444444,
              "#bd3786"
             ],
             [
              0.5555555555555556,
              "#d8576b"
             ],
             [
              0.6666666666666666,
              "#ed7953"
             ],
             [
              0.7777777777777778,
              "#fb9f3a"
             ],
             [
              0.8888888888888888,
              "#fdca26"
             ],
             [
              1.0,
              "#f0f921"
             ]
            ]
           }
          ],
          "contourcarpet": [
           {
            "type": "contourcarpet",
            "colorbar": {
             "outlinewidth": 0,
             "ticks": ""
            }
           }
          ],
          "contour": [
           {
            "type": "contour",
            "colorbar": {
             "outlinewidth": 0,
             "ticks": ""
            },
            "colorscale": [
             [
              0.0,
              "#0d0887"
             ],
             [
              0.1111111111111111,
              "#46039f"
             ],
             [
              0.2222222222222222,
              "#7201a8"
             ],
             [
              0.3333333333333333,
              "#9c179e"
             ],
             [
              0.4444444444444444,
              "#bd3786"
             ],
             [
              0.5555555555555556,
              "#d8576b"
             ],
             [
              0.6666666666666666,
              "#ed7953"
             ],
             [
              0.7777777777777778,
              "#fb9f3a"
             ],
             [
              0.8888888888888888,
              "#fdca26"
             ],
             [
              1.0,
              "#f0f921"
             ]
            ]
           }
          ],
          "surface": [
           {
            "type": "surface",
            "colorbar": {
             "outlinewidth": 0,
             "ticks": ""
            },
            "colorscale": [
             [
              0.0,
              "#0d0887"
             ],
             [
              0.1111111111111111,
              "#46039f"
             ],
             [
              0.2222222222222222,
              "#7201a8"
             ],
             [
              0.3333333333333333,
              "#9c179e"
             ],
             [
              0.4444444444444444,
              "#bd3786"
             ],
             [
              0.5555555555555556,
              "#d8576b"
             ],
             [
              0.6666666666666666,
              "#ed7953"
             ],
             [
              0.7777777777777778,
              "#fb9f3a"
             ],
             [
              0.8888888888888888,
              "#fdca26"
             ],
             [
              1.0,
              "#f0f921"
             ]
            ]
           }
          ],
          "mesh3d": [
           {
            "type": "mesh3d",
            "colorbar": {
             "outlinewidth": 0,
             "ticks": ""
            }
           }
          ],
          "scatter": [
           {
            "marker": {
             "line": {
              "color": "#283442"
             }
            },
            "type": "scatter"
           }
          ],
          "parcoords": [
           {
            "type": "parcoords",
            "line": {
             "colorbar": {
              "outlinewidth": 0,
              "ticks": ""
             }
            }
           }
          ],
          "scatterpolargl": [
           {
            "type": "scatterpolargl",
            "marker": {
             "colorbar": {
              "outlinewidth": 0,
              "ticks": ""
             }
            }
           }
          ],
          "bar": [
           {
            "error_x": {
             "color": "#f2f5fa"
            },
            "error_y": {
             "color": "#f2f5fa"
            },
            "marker": {
             "line": {
              "color": "rgb(17,17,17)",
              "width": 0.5
             },
             "pattern": {
              "fillmode": "overlay",
              "size": 10,
              "solidity": 0.2
             }
            },
            "type": "bar"
           }
          ],
          "scattergeo": [
           {
            "type": "scattergeo",
            "marker": {
             "colorbar": {
              "outlinewidth": 0,
              "ticks": ""
             }
            }
           }
          ],
          "scatterpolar": [
           {
            "type": "scatterpolar",
            "marker": {
             "colorbar": {
              "outlinewidth": 0,
              "ticks": ""
             }
            }
           }
          ],
          "histogram": [
           {
            "marker": {
             "pattern": {
              "fillmode": "overlay",
              "size": 10,
              "solidity": 0.2
             }
            },
            "type": "histogram"
           }
          ],
          "scattergl": [
           {
            "marker": {
             "line": {
              "color": "#283442"
             }
            },
            "type": "scattergl"
           }
          ],
          "scatter3d": [
           {
            "type": "scatter3d",
            "line": {
             "colorbar": {
              "outlinewidth": 0,
              "ticks": ""
             }
            },
            "marker": {
             "colorbar": {
              "outlinewidth": 0,
              "ticks": ""
             }
            }
           }
          ],
          "scattermapbox": [
           {
            "type": "scattermapbox",
            "marker": {
             "colorbar": {
              "outlinewidth": 0,
              "ticks": ""
             }
            }
           }
          ],
          "scatterternary": [
           {
            "type": "scatterternary",
            "marker": {
             "colorbar": {
              "outlinewidth": 0,
              "ticks": ""
             }
            }
           }
          ],
          "scattercarpet": [
           {
            "type": "scattercarpet",
            "marker": {
             "colorbar": {
              "outlinewidth": 0,
              "ticks": ""
             }
            }
           }
          ],
          "carpet": [
           {
            "aaxis": {
             "endlinecolor": "#A2B1C6",
             "gridcolor": "#506784",
             "linecolor": "#506784",
             "minorgridcolor": "#506784",
             "startlinecolor": "#A2B1C6"
            },
            "baxis": {
             "endlinecolor": "#A2B1C6",
             "gridcolor": "#506784",
             "linecolor": "#506784",
             "minorgridcolor": "#506784",
             "startlinecolor": "#A2B1C6"
            },
            "type": "carpet"
           }
          ],
          "table": [
           {
            "cells": {
             "fill": {
              "color": "#506784"
             },
             "line": {
              "color": "rgb(17,17,17)"
             }
            },
            "header": {
             "fill": {
              "color": "#2a3f5f"
             },
             "line": {
              "color": "rgb(17,17,17)"
             }
            },
            "type": "table"
           }
          ],
          "barpolar": [
           {
            "marker": {
             "line": {
              "color": "rgb(17,17,17)",
              "width": 0.5
             },
             "pattern": {
              "fillmode": "overlay",
              "size": 10,
              "solidity": 0.2
             }
            },
            "type": "barpolar"
           }
          ],
          "pie": [
           {
            "automargin": true,
            "type": "pie"
           }
          ]
         },
         "layout": {
          "autotypenumbers": "strict",
          "colorway": [
           "#636efa",
           "#EF553B",
           "#00cc96",
           "#ab63fa",
           "#FFA15A",
           "#19d3f3",
           "#FF6692",
           "#B6E880",
           "#FF97FF",
           "#FECB52"
          ],
          "font": {
           "color": "#f2f5fa"
          },
          "hovermode": "closest",
          "hoverlabel": {
           "align": "left"
          },
          "paper_bgcolor": "rgb(17,17,17)",
          "plot_bgcolor": "rgb(17,17,17)",
          "polar": {
           "bgcolor": "rgb(17,17,17)",
           "angularaxis": {
            "gridcolor": "#506784",
            "linecolor": "#506784",
            "ticks": ""
           },
           "radialaxis": {
            "gridcolor": "#506784",
            "linecolor": "#506784",
            "ticks": ""
           }
          },
          "ternary": {
           "bgcolor": "rgb(17,17,17)",
           "aaxis": {
            "gridcolor": "#506784",
            "linecolor": "#506784",
            "ticks": ""
           },
           "baxis": {
            "gridcolor": "#506784",
            "linecolor": "#506784",
            "ticks": ""
           },
           "caxis": {
            "gridcolor": "#506784",
            "linecolor": "#506784",
            "ticks": ""
           }
          },
          "coloraxis": {
           "colorbar": {
            "outlinewidth": 0,
            "ticks": ""
           }
          },
          "colorscale": {
           "sequential": [
            [
             0.0,
             "#0d0887"
            ],
            [
             0.1111111111111111,
             "#46039f"
            ],
            [
             0.2222222222222222,
             "#7201a8"
            ],
            [
             0.3333333333333333,
             "#9c179e"
            ],
            [
             0.4444444444444444,
             "#bd3786"
            ],
            [
             0.5555555555555556,
             "#d8576b"
            ],
            [
             0.6666666666666666,
             "#ed7953"
            ],
            [
             0.7777777777777778,
             "#fb9f3a"
            ],
            [
             0.8888888888888888,
             "#fdca26"
            ],
            [
             1.0,
             "#f0f921"
            ]
           ],
           "sequentialminus": [
            [
             0.0,
             "#0d0887"
            ],
            [
             0.1111111111111111,
             "#46039f"
            ],
            [
             0.2222222222222222,
             "#7201a8"
            ],
            [
             0.3333333333333333,
             "#9c179e"
            ],
            [
             0.4444444444444444,
             "#bd3786"
            ],
            [
             0.5555555555555556,
             "#d8576b"
            ],
            [
             0.6666666666666666,
             "#ed7953"
            ],
            [
             0.7777777777777778,
             "#fb9f3a"
            ],
            [
             0.8888888888888888,
             "#fdca26"
            ],
            [
             1.0,
             "#f0f921"
            ]
           ],
           "diverging": [
            [
             0,
             "#8e0152"
            ],
            [
             0.1,
             "#c51b7d"
            ],
            [
             0.2,
             "#de77ae"
            ],
            [
             0.3,
             "#f1b6da"
            ],
            [
             0.4,
             "#fde0ef"
            ],
            [
             0.5,
             "#f7f7f7"
            ],
            [
             0.6,
             "#e6f5d0"
            ],
            [
             0.7,
             "#b8e186"
            ],
            [
             0.8,
             "#7fbc41"
            ],
            [
             0.9,
             "#4d9221"
            ],
            [
             1,
             "#276419"
            ]
           ]
          },
          "xaxis": {
           "gridcolor": "#283442",
           "linecolor": "#506784",
           "ticks": "",
           "title": {
            "standoff": 15
           },
           "zerolinecolor": "#283442",
           "automargin": true,
           "zerolinewidth": 2
          },
          "yaxis": {
           "gridcolor": "#283442",
           "linecolor": "#506784",
           "ticks": "",
           "title": {
            "standoff": 15
           },
           "zerolinecolor": "#283442",
           "automargin": true,
           "zerolinewidth": 2
          },
          "scene": {
           "xaxis": {
            "backgroundcolor": "rgb(17,17,17)",
            "gridcolor": "#506784",
            "linecolor": "#506784",
            "showbackground": true,
            "ticks": "",
            "zerolinecolor": "#C8D4E3",
            "gridwidth": 2
           },
           "yaxis": {
            "backgroundcolor": "rgb(17,17,17)",
            "gridcolor": "#506784",
            "linecolor": "#506784",
            "showbackground": true,
            "ticks": "",
            "zerolinecolor": "#C8D4E3",
            "gridwidth": 2
           },
           "zaxis": {
            "backgroundcolor": "rgb(17,17,17)",
            "gridcolor": "#506784",
            "linecolor": "#506784",
            "showbackground": true,
            "ticks": "",
            "zerolinecolor": "#C8D4E3",
            "gridwidth": 2
           }
          },
          "shapedefaults": {
           "line": {
            "color": "#f2f5fa"
           }
          },
          "annotationdefaults": {
           "arrowcolor": "#f2f5fa",
           "arrowhead": 0,
           "arrowwidth": 1
          },
          "geo": {
           "bgcolor": "rgb(17,17,17)",
           "landcolor": "rgb(17,17,17)",
           "subunitcolor": "#506784",
           "showland": true,
           "showlakes": true,
           "lakecolor": "rgb(17,17,17)"
          },
          "title": {
           "x": 0.05
          },
          "updatemenudefaults": {
           "bgcolor": "#506784",
           "borderwidth": 0
          },
          "sliderdefaults": {
           "bgcolor": "#C8D4E3",
           "borderwidth": 1,
           "bordercolor": "rgb(17,17,17)",
           "tickwidth": 0
          },
          "mapbox": {
           "style": "dark"
          }
         }
        },
        "xaxis": {
         "anchor": "y",
         "domain": [
          0.0,
          1.0
         ],
         "title": {
          "text": "time"
         }
        },
        "yaxis": {
         "anchor": "x",
         "domain": [
          0.0,
          1.0
         ],
         "title": {
          "text": "linAccZ"
         }
        },
        "legend": {
         "tracegroupgap": 0
        },
        "title": {
         "text": "Linear Acceleration Z over Time"
        }
       },
       "config": {
        "plotlyServerURL": "https://plot.ly"
       }
      },
      "text/html": "<div>                            <div id=\"ef465155-f046-4e95-9fa1-d71fa9cfcbba\" class=\"plotly-graph-div\" style=\"height:525px; width:100%;\"></div>            <script type=\"text/javascript\">                require([\"plotly\"], function(Plotly) {                    window.PLOTLYENV=window.PLOTLYENV || {};                                    if (document.getElementById(\"ef465155-f046-4e95-9fa1-d71fa9cfcbba\")) {                    Plotly.newPlot(                        \"ef465155-f046-4e95-9fa1-d71fa9cfcbba\",                        [{\"hovertemplate\":\"time=%{x}\\u003cbr\\u003elinAccZ=%{y}\\u003cextra\\u003e\\u003c\\u002fextra\\u003e\",\"legendgroup\":\"\",\"line\":{\"color\":\"#636efa\",\"dash\":\"solid\"},\"marker\":{\"symbol\":\"circle\"},\"mode\":\"lines\",\"name\":\"\",\"orientation\":\"v\",\"showlegend\":false,\"x\":[\"1970-01-01T00:00:00.474000\",\"1970-01-01T00:00:00.483000\",\"1970-01-01T00:00:00.492000\",\"1970-01-01T00:00:00.501000\",\"1970-01-01T00:00:00.510000\",\"1970-01-01T00:00:00.519000\",\"1970-01-01T00:00:00.533000\",\"1970-01-01T00:00:00.542000\",\"1970-01-01T00:00:00.551000\",\"1970-01-01T00:00:00.560000\",\"1970-01-01T00:00:00.569000\",\"1970-01-01T00:00:00.578000\",\"1970-01-01T00:00:00.587000\",\"1970-01-01T00:00:00.596000\",\"1970-01-01T00:00:00.609000\",\"1970-01-01T00:00:00.618000\",\"1970-01-01T00:00:00.627000\",\"1970-01-01T00:00:00.636000\",\"1970-01-01T00:00:00.645000\",\"1970-01-01T00:00:00.654000\",\"1970-01-01T00:00:00.663000\",\"1970-01-01T00:00:00.672000\",\"1970-01-01T00:00:00.685000\",\"1970-01-01T00:00:00.694000\",\"1970-01-01T00:00:00.703000\",\"1970-01-01T00:00:00.712000\",\"1970-01-01T00:00:00.721000\",\"1970-01-01T00:00:00.730000\",\"1970-01-01T00:00:00.739000\",\"1970-01-01T00:00:00.748000\",\"1970-01-01T00:00:00.761000\",\"1970-01-01T00:00:00.770000\",\"1970-01-01T00:00:00.779000\",\"1970-01-01T00:00:00.788000\",\"1970-01-01T00:00:00.797000\",\"1970-01-01T00:00:00.806000\",\"1970-01-01T00:00:00.815000\",\"1970-01-01T00:00:00.824000\",\"1970-01-01T00:00:00.837000\",\"1970-01-01T00:00:00.846000\",\"1970-01-01T00:00:00.855000\",\"1970-01-01T00:00:00.864000\",\"1970-01-01T00:00:00.873000\",\"1970-01-01T00:00:00.882000\",\"1970-01-01T00:00:00.891000\",\"1970-01-01T00:00:00.900000\",\"1970-01-01T00:00:00.913000\",\"1970-01-01T00:00:00.922000\",\"1970-01-01T00:00:00.931000\",\"1970-01-01T00:00:00.940000\",\"1970-01-01T00:00:00.949000\",\"1970-01-01T00:00:00.958000\",\"1970-01-01T00:00:00.967000\",\"1970-01-01T00:00:00.976000\",\"1970-01-01T00:00:00.989000\",\"1970-01-01T00:00:00.998000\",\"1970-01-01T00:00:01.007000\",\"1970-01-01T00:00:01.016000\",\"1970-01-01T00:00:01.025000\",\"1970-01-01T00:00:01.034000\",\"1970-01-01T00:00:01.043000\",\"1970-01-01T00:00:01.052000\",\"1970-01-01T00:00:01.065000\",\"1970-01-01T00:00:01.074000\",\"1970-01-01T00:00:01.083000\",\"1970-01-01T00:00:01.092000\",\"1970-01-01T00:00:01.101000\",\"1970-01-01T00:00:01.110000\",\"1970-01-01T00:00:01.119000\",\"1970-01-01T00:00:01.128000\",\"1970-01-01T00:00:01.141000\",\"1970-01-01T00:00:01.150000\",\"1970-01-01T00:00:01.159000\",\"1970-01-01T00:00:01.168000\",\"1970-01-01T00:00:01.177000\",\"1970-01-01T00:00:01.186000\",\"1970-01-01T00:00:01.195000\",\"1970-01-01T00:00:01.204000\",\"1970-01-01T00:00:01.217000\",\"1970-01-01T00:00:01.226000\",\"1970-01-01T00:00:01.235000\",\"1970-01-01T00:00:01.244000\",\"1970-01-01T00:00:01.253000\",\"1970-01-01T00:00:01.262000\",\"1970-01-01T00:00:01.271000\",\"1970-01-01T00:00:01.280000\",\"1970-01-01T00:00:01.293000\",\"1970-01-01T00:00:01.302000\",\"1970-01-01T00:00:01.311000\",\"1970-01-01T00:00:01.320000\",\"1970-01-01T00:00:01.329000\",\"1970-01-01T00:00:01.338000\",\"1970-01-01T00:00:01.347000\",\"1970-01-01T00:00:01.356000\",\"1970-01-01T00:00:01.369000\",\"1970-01-01T00:00:01.378000\",\"1970-01-01T00:00:01.387000\",\"1970-01-01T00:00:01.396000\",\"1970-01-01T00:00:01.405000\",\"1970-01-01T00:00:01.414000\",\"1970-01-01T00:00:01.423000\",\"1970-01-01T00:00:01.432000\",\"1970-01-01T00:00:01.446000\",\"1970-01-01T00:00:01.455000\",\"1970-01-01T00:00:01.464000\",\"1970-01-01T00:00:01.473000\",\"1970-01-01T00:00:01.482000\",\"1970-01-01T00:00:01.491000\",\"1970-01-01T00:00:01.500000\",\"1970-01-01T00:00:01.509000\",\"1970-01-01T00:00:01.522000\",\"1970-01-01T00:00:01.531000\",\"1970-01-01T00:00:01.540000\",\"1970-01-01T00:00:01.549000\",\"1970-01-01T00:00:01.558000\",\"1970-01-01T00:00:01.567000\"],\"xaxis\":\"x\",\"y\":[-4.789168054237961,-4.772544275671244,-4.723689716383815,-4.642785262912512,-4.528275034800172,-4.3808563384413715,-4.201473107859492,-3.98893782183528,-3.745505200400949,-3.475936915576458,-3.1841202428191897,-2.8748816998302935,-2.5509531600028277,-2.215651010274887,-1.8710796957463025,-1.523253486007452,-1.1795061915367842,-0.8442577382922171,-0.5184078634530305,-0.2015232209861278,0.10667477615177638,0.4083757704496384,0.7029166101664305,0.9901407222449781,1.2681468484550718,1.5377252855896952,1.7974430157989265,2.042485177665949,2.2734380150586366,2.494198274612427,2.703164668008685,2.9012256996333603,3.0914565394073725,3.2743876013159756,3.4480915047973397,3.614048098772764,3.7746706707775592,3.9297558483481403,4.075346893519162,4.212483108043671,4.340722915828229,4.453414441347123,4.553228380978107,4.6400752353668215,4.713759110271931,4.774217862486839,4.824715331792832,4.870214412212372,4.911285954117775,4.943559767007828,4.970137107372284,4.990439633131027,4.999300592541695,4.996541894078254,4.984291343092918,4.9649731945991515,4.938331773281098,4.907270396947861,4.874769798517227,4.83865162074566,4.796885593533515,4.754109670519829,4.707507346868516,4.655424110293388,4.598039020895958,4.53453338265419,4.4624974730610845,4.379847535192966,4.28602251291275,4.183010388910771,4.069419859051704,3.94766353815794,3.8225223630666734,3.6935129068791865,3.560435314625502,3.419908106736839,3.274221536666155,3.1215257684513924,2.961687267497182,2.795909911431372,2.6251865181326863,2.4483448010310527,2.2650768997520205,2.0776355313137174,1.8862017776072026,1.690509816221893,1.4914381975680588,1.2889068356528877,1.0831519341468812,0.8739526173099875,0.660962811037898,0.44251132030040025,0.21668716475367544,-0.01551561910659074,-0.2536067985743284,-0.49443093080073597,-0.7395909935235976,-0.9883944353088736,-1.2404038368910553,-1.4953214933350683,-1.750912809818983,-2.0056677169725297,-2.256676079407334,-2.5028927946463226,-2.741994571983814,-2.970967719517648,-3.1884145825356245,-3.3921761174872516,-3.580245191603899,-3.7501064024493105,-3.899638634994626,-4.026385522820055,-4.128244559913874,-4.2039228212460875,-4.25309380996041,-4.275954943131656],\"yaxis\":\"y\",\"type\":\"scatter\"}],                        {\"template\":{\"data\":{\"histogram2dcontour\":[{\"type\":\"histogram2dcontour\",\"colorbar\":{\"outlinewidth\":0,\"ticks\":\"\"},\"colorscale\":[[0.0,\"#0d0887\"],[0.1111111111111111,\"#46039f\"],[0.2222222222222222,\"#7201a8\"],[0.3333333333333333,\"#9c179e\"],[0.4444444444444444,\"#bd3786\"],[0.5555555555555556,\"#d8576b\"],[0.6666666666666666,\"#ed7953\"],[0.7777777777777778,\"#fb9f3a\"],[0.8888888888888888,\"#fdca26\"],[1.0,\"#f0f921\"]]}],\"choropleth\":[{\"type\":\"choropleth\",\"colorbar\":{\"outlinewidth\":0,\"ticks\":\"\"}}],\"histogram2d\":[{\"type\":\"histogram2d\",\"colorbar\":{\"outlinewidth\":0,\"ticks\":\"\"},\"colorscale\":[[0.0,\"#0d0887\"],[0.1111111111111111,\"#46039f\"],[0.2222222222222222,\"#7201a8\"],[0.3333333333333333,\"#9c179e\"],[0.4444444444444444,\"#bd3786\"],[0.5555555555555556,\"#d8576b\"],[0.6666666666666666,\"#ed7953\"],[0.7777777777777778,\"#fb9f3a\"],[0.8888888888888888,\"#fdca26\"],[1.0,\"#f0f921\"]]}],\"heatmap\":[{\"type\":\"heatmap\",\"colorbar\":{\"outlinewidth\":0,\"ticks\":\"\"},\"colorscale\":[[0.0,\"#0d0887\"],[0.1111111111111111,\"#46039f\"],[0.2222222222222222,\"#7201a8\"],[0.3333333333333333,\"#9c179e\"],[0.4444444444444444,\"#bd3786\"],[0.5555555555555556,\"#d8576b\"],[0.6666666666666666,\"#ed7953\"],[0.7777777777777778,\"#fb9f3a\"],[0.8888888888888888,\"#fdca26\"],[1.0,\"#f0f921\"]]}],\"heatmapgl\":[{\"type\":\"heatmapgl\",\"colorbar\":{\"outlinewidth\":0,\"ticks\":\"\"},\"colorscale\":[[0.0,\"#0d0887\"],[0.1111111111111111,\"#46039f\"],[0.2222222222222222,\"#7201a8\"],[0.3333333333333333,\"#9c179e\"],[0.4444444444444444,\"#bd3786\"],[0.5555555555555556,\"#d8576b\"],[0.6666666666666666,\"#ed7953\"],[0.7777777777777778,\"#fb9f3a\"],[0.8888888888888888,\"#fdca26\"],[1.0,\"#f0f921\"]]}],\"contourcarpet\":[{\"type\":\"contourcarpet\",\"colorbar\":{\"outlinewidth\":0,\"ticks\":\"\"}}],\"contour\":[{\"type\":\"contour\",\"colorbar\":{\"outlinewidth\":0,\"ticks\":\"\"},\"colorscale\":[[0.0,\"#0d0887\"],[0.1111111111111111,\"#46039f\"],[0.2222222222222222,\"#7201a8\"],[0.3333333333333333,\"#9c179e\"],[0.4444444444444444,\"#bd3786\"],[0.5555555555555556,\"#d8576b\"],[0.6666666666666666,\"#ed7953\"],[0.7777777777777778,\"#fb9f3a\"],[0.8888888888888888,\"#fdca26\"],[1.0,\"#f0f921\"]]}],\"surface\":[{\"type\":\"surface\",\"colorbar\":{\"outlinewidth\":0,\"ticks\":\"\"},\"colorscale\":[[0.0,\"#0d0887\"],[0.1111111111111111,\"#46039f\"],[0.2222222222222222,\"#7201a8\"],[0.3333333333333333,\"#9c179e\"],[0.4444444444444444,\"#bd3786\"],[0.5555555555555556,\"#d8576b\"],[0.6666666666666666,\"#ed7953\"],[0.7777777777777778,\"#fb9f3a\"],[0.8888888888888888,\"#fdca26\"],[1.0,\"#f0f921\"]]}],\"mesh3d\":[{\"type\":\"mesh3d\",\"colorbar\":{\"outlinewidth\":0,\"ticks\":\"\"}}],\"scatter\":[{\"marker\":{\"line\":{\"color\":\"#283442\"}},\"type\":\"scatter\"}],\"parcoords\":[{\"type\":\"parcoords\",\"line\":{\"colorbar\":{\"outlinewidth\":0,\"ticks\":\"\"}}}],\"scatterpolargl\":[{\"type\":\"scatterpolargl\",\"marker\":{\"colorbar\":{\"outlinewidth\":0,\"ticks\":\"\"}}}],\"bar\":[{\"error_x\":{\"color\":\"#f2f5fa\"},\"error_y\":{\"color\":\"#f2f5fa\"},\"marker\":{\"line\":{\"color\":\"rgb(17,17,17)\",\"width\":0.5},\"pattern\":{\"fillmode\":\"overlay\",\"size\":10,\"solidity\":0.2}},\"type\":\"bar\"}],\"scattergeo\":[{\"type\":\"scattergeo\",\"marker\":{\"colorbar\":{\"outlinewidth\":0,\"ticks\":\"\"}}}],\"scatterpolar\":[{\"type\":\"scatterpolar\",\"marker\":{\"colorbar\":{\"outlinewidth\":0,\"ticks\":\"\"}}}],\"histogram\":[{\"marker\":{\"pattern\":{\"fillmode\":\"overlay\",\"size\":10,\"solidity\":0.2}},\"type\":\"histogram\"}],\"scattergl\":[{\"marker\":{\"line\":{\"color\":\"#283442\"}},\"type\":\"scattergl\"}],\"scatter3d\":[{\"type\":\"scatter3d\",\"line\":{\"colorbar\":{\"outlinewidth\":0,\"ticks\":\"\"}},\"marker\":{\"colorbar\":{\"outlinewidth\":0,\"ticks\":\"\"}}}],\"scattermapbox\":[{\"type\":\"scattermapbox\",\"marker\":{\"colorbar\":{\"outlinewidth\":0,\"ticks\":\"\"}}}],\"scatterternary\":[{\"type\":\"scatterternary\",\"marker\":{\"colorbar\":{\"outlinewidth\":0,\"ticks\":\"\"}}}],\"scattercarpet\":[{\"type\":\"scattercarpet\",\"marker\":{\"colorbar\":{\"outlinewidth\":0,\"ticks\":\"\"}}}],\"carpet\":[{\"aaxis\":{\"endlinecolor\":\"#A2B1C6\",\"gridcolor\":\"#506784\",\"linecolor\":\"#506784\",\"minorgridcolor\":\"#506784\",\"startlinecolor\":\"#A2B1C6\"},\"baxis\":{\"endlinecolor\":\"#A2B1C6\",\"gridcolor\":\"#506784\",\"linecolor\":\"#506784\",\"minorgridcolor\":\"#506784\",\"startlinecolor\":\"#A2B1C6\"},\"type\":\"carpet\"}],\"table\":[{\"cells\":{\"fill\":{\"color\":\"#506784\"},\"line\":{\"color\":\"rgb(17,17,17)\"}},\"header\":{\"fill\":{\"color\":\"#2a3f5f\"},\"line\":{\"color\":\"rgb(17,17,17)\"}},\"type\":\"table\"}],\"barpolar\":[{\"marker\":{\"line\":{\"color\":\"rgb(17,17,17)\",\"width\":0.5},\"pattern\":{\"fillmode\":\"overlay\",\"size\":10,\"solidity\":0.2}},\"type\":\"barpolar\"}],\"pie\":[{\"automargin\":true,\"type\":\"pie\"}]},\"layout\":{\"autotypenumbers\":\"strict\",\"colorway\":[\"#636efa\",\"#EF553B\",\"#00cc96\",\"#ab63fa\",\"#FFA15A\",\"#19d3f3\",\"#FF6692\",\"#B6E880\",\"#FF97FF\",\"#FECB52\"],\"font\":{\"color\":\"#f2f5fa\"},\"hovermode\":\"closest\",\"hoverlabel\":{\"align\":\"left\"},\"paper_bgcolor\":\"rgb(17,17,17)\",\"plot_bgcolor\":\"rgb(17,17,17)\",\"polar\":{\"bgcolor\":\"rgb(17,17,17)\",\"angularaxis\":{\"gridcolor\":\"#506784\",\"linecolor\":\"#506784\",\"ticks\":\"\"},\"radialaxis\":{\"gridcolor\":\"#506784\",\"linecolor\":\"#506784\",\"ticks\":\"\"}},\"ternary\":{\"bgcolor\":\"rgb(17,17,17)\",\"aaxis\":{\"gridcolor\":\"#506784\",\"linecolor\":\"#506784\",\"ticks\":\"\"},\"baxis\":{\"gridcolor\":\"#506784\",\"linecolor\":\"#506784\",\"ticks\":\"\"},\"caxis\":{\"gridcolor\":\"#506784\",\"linecolor\":\"#506784\",\"ticks\":\"\"}},\"coloraxis\":{\"colorbar\":{\"outlinewidth\":0,\"ticks\":\"\"}},\"colorscale\":{\"sequential\":[[0.0,\"#0d0887\"],[0.1111111111111111,\"#46039f\"],[0.2222222222222222,\"#7201a8\"],[0.3333333333333333,\"#9c179e\"],[0.4444444444444444,\"#bd3786\"],[0.5555555555555556,\"#d8576b\"],[0.6666666666666666,\"#ed7953\"],[0.7777777777777778,\"#fb9f3a\"],[0.8888888888888888,\"#fdca26\"],[1.0,\"#f0f921\"]],\"sequentialminus\":[[0.0,\"#0d0887\"],[0.1111111111111111,\"#46039f\"],[0.2222222222222222,\"#7201a8\"],[0.3333333333333333,\"#9c179e\"],[0.4444444444444444,\"#bd3786\"],[0.5555555555555556,\"#d8576b\"],[0.6666666666666666,\"#ed7953\"],[0.7777777777777778,\"#fb9f3a\"],[0.8888888888888888,\"#fdca26\"],[1.0,\"#f0f921\"]],\"diverging\":[[0,\"#8e0152\"],[0.1,\"#c51b7d\"],[0.2,\"#de77ae\"],[0.3,\"#f1b6da\"],[0.4,\"#fde0ef\"],[0.5,\"#f7f7f7\"],[0.6,\"#e6f5d0\"],[0.7,\"#b8e186\"],[0.8,\"#7fbc41\"],[0.9,\"#4d9221\"],[1,\"#276419\"]]},\"xaxis\":{\"gridcolor\":\"#283442\",\"linecolor\":\"#506784\",\"ticks\":\"\",\"title\":{\"standoff\":15},\"zerolinecolor\":\"#283442\",\"automargin\":true,\"zerolinewidth\":2},\"yaxis\":{\"gridcolor\":\"#283442\",\"linecolor\":\"#506784\",\"ticks\":\"\",\"title\":{\"standoff\":15},\"zerolinecolor\":\"#283442\",\"automargin\":true,\"zerolinewidth\":2},\"scene\":{\"xaxis\":{\"backgroundcolor\":\"rgb(17,17,17)\",\"gridcolor\":\"#506784\",\"linecolor\":\"#506784\",\"showbackground\":true,\"ticks\":\"\",\"zerolinecolor\":\"#C8D4E3\",\"gridwidth\":2},\"yaxis\":{\"backgroundcolor\":\"rgb(17,17,17)\",\"gridcolor\":\"#506784\",\"linecolor\":\"#506784\",\"showbackground\":true,\"ticks\":\"\",\"zerolinecolor\":\"#C8D4E3\",\"gridwidth\":2},\"zaxis\":{\"backgroundcolor\":\"rgb(17,17,17)\",\"gridcolor\":\"#506784\",\"linecolor\":\"#506784\",\"showbackground\":true,\"ticks\":\"\",\"zerolinecolor\":\"#C8D4E3\",\"gridwidth\":2}},\"shapedefaults\":{\"line\":{\"color\":\"#f2f5fa\"}},\"annotationdefaults\":{\"arrowcolor\":\"#f2f5fa\",\"arrowhead\":0,\"arrowwidth\":1},\"geo\":{\"bgcolor\":\"rgb(17,17,17)\",\"landcolor\":\"rgb(17,17,17)\",\"subunitcolor\":\"#506784\",\"showland\":true,\"showlakes\":true,\"lakecolor\":\"rgb(17,17,17)\"},\"title\":{\"x\":0.05},\"updatemenudefaults\":{\"bgcolor\":\"#506784\",\"borderwidth\":0},\"sliderdefaults\":{\"bgcolor\":\"#C8D4E3\",\"borderwidth\":1,\"bordercolor\":\"rgb(17,17,17)\",\"tickwidth\":0},\"mapbox\":{\"style\":\"dark\"}}},\"xaxis\":{\"anchor\":\"y\",\"domain\":[0.0,1.0],\"title\":{\"text\":\"time\"}},\"yaxis\":{\"anchor\":\"x\",\"domain\":[0.0,1.0],\"title\":{\"text\":\"linAccZ\"}},\"legend\":{\"tracegroupgap\":0},\"title\":{\"text\":\"Linear Acceleration Z over Time\"}},                        {\"responsive\": true}                    ).then(function(){\n                            \nvar gd = document.getElementById('ef465155-f046-4e95-9fa1-d71fa9cfcbba');\nvar x = new MutationObserver(function (mutations, observer) {{\n        var display = window.getComputedStyle(gd).display;\n        if (!display || display === 'none') {{\n            console.log([gd, 'removed!']);\n            Plotly.purge(gd);\n            observer.disconnect();\n        }}\n}});\n\n// Listen for the removal of the full notebook cells\nvar notebookContainer = gd.closest('#notebook-container');\nif (notebookContainer) {{\n    x.observe(notebookContainer, {childList: true});\n}}\n\n// Listen for the clearing of the current output cell\nvar outputEl = gd.closest('.output');\nif (outputEl) {{\n    x.observe(outputEl, {childList: true});\n}}\n\n                        })                };                });            </script>        </div>"
     },
     "metadata": {},
     "output_type": "display_data"
    }
   ],
   "source": [
    "import plotly.express as px\n",
    "\n",
    "fig = px.line(squat, y='linAccZ', title='Linear Acceleration Z over Time')\n",
    "fig.show()"
   ],
   "metadata": {
    "collapsed": false,
    "ExecuteTime": {
     "end_time": "2024-01-22T22:38:58.537786100Z",
     "start_time": "2024-01-22T22:38:58.487680600Z"
    }
   },
   "id": "ed7122e34cb0f7fb",
   "execution_count": 8
  },
  {
   "cell_type": "code",
   "outputs": [
    {
     "data": {
      "application/vnd.plotly.v1+json": {
       "data": [
        {
         "mode": "lines",
         "name": "linAccZ",
         "x": [
          "1970-01-01T00:00:00.474000",
          "1970-01-01T00:00:00.483000",
          "1970-01-01T00:00:00.492000",
          "1970-01-01T00:00:00.501000",
          "1970-01-01T00:00:00.510000",
          "1970-01-01T00:00:00.519000",
          "1970-01-01T00:00:00.533000",
          "1970-01-01T00:00:00.542000",
          "1970-01-01T00:00:00.551000",
          "1970-01-01T00:00:00.560000",
          "1970-01-01T00:00:00.569000",
          "1970-01-01T00:00:00.578000",
          "1970-01-01T00:00:00.587000",
          "1970-01-01T00:00:00.596000",
          "1970-01-01T00:00:00.609000",
          "1970-01-01T00:00:00.618000",
          "1970-01-01T00:00:00.627000",
          "1970-01-01T00:00:00.636000",
          "1970-01-01T00:00:00.645000",
          "1970-01-01T00:00:00.654000",
          "1970-01-01T00:00:00.663000",
          "1970-01-01T00:00:00.672000",
          "1970-01-01T00:00:00.685000",
          "1970-01-01T00:00:00.694000",
          "1970-01-01T00:00:00.703000",
          "1970-01-01T00:00:00.712000",
          "1970-01-01T00:00:00.721000",
          "1970-01-01T00:00:00.730000",
          "1970-01-01T00:00:00.739000",
          "1970-01-01T00:00:00.748000",
          "1970-01-01T00:00:00.761000",
          "1970-01-01T00:00:00.770000",
          "1970-01-01T00:00:00.779000",
          "1970-01-01T00:00:00.788000",
          "1970-01-01T00:00:00.797000",
          "1970-01-01T00:00:00.806000",
          "1970-01-01T00:00:00.815000",
          "1970-01-01T00:00:00.824000",
          "1970-01-01T00:00:00.837000",
          "1970-01-01T00:00:00.846000",
          "1970-01-01T00:00:00.855000",
          "1970-01-01T00:00:00.864000",
          "1970-01-01T00:00:00.873000",
          "1970-01-01T00:00:00.882000",
          "1970-01-01T00:00:00.891000",
          "1970-01-01T00:00:00.900000",
          "1970-01-01T00:00:00.913000",
          "1970-01-01T00:00:00.922000",
          "1970-01-01T00:00:00.931000",
          "1970-01-01T00:00:00.940000",
          "1970-01-01T00:00:00.949000",
          "1970-01-01T00:00:00.958000",
          "1970-01-01T00:00:00.967000",
          "1970-01-01T00:00:00.976000",
          "1970-01-01T00:00:00.989000",
          "1970-01-01T00:00:00.998000",
          "1970-01-01T00:00:01.007000",
          "1970-01-01T00:00:01.016000",
          "1970-01-01T00:00:01.025000",
          "1970-01-01T00:00:01.034000",
          "1970-01-01T00:00:01.043000",
          "1970-01-01T00:00:01.052000",
          "1970-01-01T00:00:01.065000",
          "1970-01-01T00:00:01.074000",
          "1970-01-01T00:00:01.083000",
          "1970-01-01T00:00:01.092000",
          "1970-01-01T00:00:01.101000",
          "1970-01-01T00:00:01.110000",
          "1970-01-01T00:00:01.119000",
          "1970-01-01T00:00:01.128000",
          "1970-01-01T00:00:01.141000",
          "1970-01-01T00:00:01.150000",
          "1970-01-01T00:00:01.159000",
          "1970-01-01T00:00:01.168000",
          "1970-01-01T00:00:01.177000",
          "1970-01-01T00:00:01.186000",
          "1970-01-01T00:00:01.195000",
          "1970-01-01T00:00:01.204000",
          "1970-01-01T00:00:01.217000",
          "1970-01-01T00:00:01.226000",
          "1970-01-01T00:00:01.235000",
          "1970-01-01T00:00:01.244000",
          "1970-01-01T00:00:01.253000",
          "1970-01-01T00:00:01.262000",
          "1970-01-01T00:00:01.271000",
          "1970-01-01T00:00:01.280000",
          "1970-01-01T00:00:01.293000",
          "1970-01-01T00:00:01.302000",
          "1970-01-01T00:00:01.311000",
          "1970-01-01T00:00:01.320000",
          "1970-01-01T00:00:01.329000",
          "1970-01-01T00:00:01.338000",
          "1970-01-01T00:00:01.347000",
          "1970-01-01T00:00:01.356000",
          "1970-01-01T00:00:01.369000",
          "1970-01-01T00:00:01.378000",
          "1970-01-01T00:00:01.387000",
          "1970-01-01T00:00:01.396000",
          "1970-01-01T00:00:01.405000",
          "1970-01-01T00:00:01.414000",
          "1970-01-01T00:00:01.423000",
          "1970-01-01T00:00:01.432000",
          "1970-01-01T00:00:01.446000",
          "1970-01-01T00:00:01.455000",
          "1970-01-01T00:00:01.464000",
          "1970-01-01T00:00:01.473000",
          "1970-01-01T00:00:01.482000",
          "1970-01-01T00:00:01.491000",
          "1970-01-01T00:00:01.500000",
          "1970-01-01T00:00:01.509000",
          "1970-01-01T00:00:01.522000",
          "1970-01-01T00:00:01.531000",
          "1970-01-01T00:00:01.540000",
          "1970-01-01T00:00:01.549000",
          "1970-01-01T00:00:01.558000",
          "1970-01-01T00:00:01.567000"
         ],
         "y": [
          -4.789168054237961,
          -4.772544275671244,
          -4.723689716383815,
          -4.642785262912512,
          -4.528275034800172,
          -4.3808563384413715,
          -4.201473107859492,
          -3.98893782183528,
          -3.745505200400949,
          -3.475936915576458,
          -3.1841202428191897,
          -2.8748816998302935,
          -2.5509531600028277,
          -2.215651010274887,
          -1.8710796957463025,
          -1.523253486007452,
          -1.1795061915367842,
          -0.8442577382922171,
          -0.5184078634530305,
          -0.2015232209861278,
          0.10667477615177638,
          0.4083757704496384,
          0.7029166101664305,
          0.9901407222449781,
          1.2681468484550718,
          1.5377252855896952,
          1.7974430157989265,
          2.042485177665949,
          2.2734380150586366,
          2.494198274612427,
          2.703164668008685,
          2.9012256996333603,
          3.0914565394073725,
          3.2743876013159756,
          3.4480915047973397,
          3.614048098772764,
          3.7746706707775592,
          3.9297558483481403,
          4.075346893519162,
          4.212483108043671,
          4.340722915828229,
          4.453414441347123,
          4.553228380978107,
          4.6400752353668215,
          4.713759110271931,
          4.774217862486839,
          4.824715331792832,
          4.870214412212372,
          4.911285954117775,
          4.943559767007828,
          4.970137107372284,
          4.990439633131027,
          4.999300592541695,
          4.996541894078254,
          4.984291343092918,
          4.9649731945991515,
          4.938331773281098,
          4.907270396947861,
          4.874769798517227,
          4.83865162074566,
          4.796885593533515,
          4.754109670519829,
          4.707507346868516,
          4.655424110293388,
          4.598039020895958,
          4.53453338265419,
          4.4624974730610845,
          4.379847535192966,
          4.28602251291275,
          4.183010388910771,
          4.069419859051704,
          3.94766353815794,
          3.8225223630666734,
          3.6935129068791865,
          3.560435314625502,
          3.419908106736839,
          3.274221536666155,
          3.1215257684513924,
          2.961687267497182,
          2.795909911431372,
          2.6251865181326863,
          2.4483448010310527,
          2.2650768997520205,
          2.0776355313137174,
          1.8862017776072026,
          1.690509816221893,
          1.4914381975680588,
          1.2889068356528877,
          1.0831519341468812,
          0.8739526173099875,
          0.660962811037898,
          0.44251132030040025,
          0.21668716475367544,
          -0.01551561910659074,
          -0.2536067985743284,
          -0.49443093080073597,
          -0.7395909935235976,
          -0.9883944353088736,
          -1.2404038368910553,
          -1.4953214933350683,
          -1.750912809818983,
          -2.0056677169725297,
          -2.256676079407334,
          -2.5028927946463226,
          -2.741994571983814,
          -2.970967719517648,
          -3.1884145825356245,
          -3.3921761174872516,
          -3.580245191603899,
          -3.7501064024493105,
          -3.899638634994626,
          -4.026385522820055,
          -4.128244559913874,
          -4.2039228212460875,
          -4.25309380996041,
          -4.275954943131656
         ],
         "type": "scatter"
        },
        {
         "marker": {
          "color": "red",
          "size": 8
         },
         "mode": "markers",
         "name": "Peaks",
         "x": [
          "1970-01-01T00:00:00.967000"
         ],
         "y": [
          4.999300592541695
         ],
         "type": "scatter"
        }
       ],
       "layout": {
        "template": {
         "data": {
          "histogram2dcontour": [
           {
            "type": "histogram2dcontour",
            "colorbar": {
             "outlinewidth": 0,
             "ticks": ""
            },
            "colorscale": [
             [
              0.0,
              "#0d0887"
             ],
             [
              0.1111111111111111,
              "#46039f"
             ],
             [
              0.2222222222222222,
              "#7201a8"
             ],
             [
              0.3333333333333333,
              "#9c179e"
             ],
             [
              0.4444444444444444,
              "#bd3786"
             ],
             [
              0.5555555555555556,
              "#d8576b"
             ],
             [
              0.6666666666666666,
              "#ed7953"
             ],
             [
              0.7777777777777778,
              "#fb9f3a"
             ],
             [
              0.8888888888888888,
              "#fdca26"
             ],
             [
              1.0,
              "#f0f921"
             ]
            ]
           }
          ],
          "choropleth": [
           {
            "type": "choropleth",
            "colorbar": {
             "outlinewidth": 0,
             "ticks": ""
            }
           }
          ],
          "histogram2d": [
           {
            "type": "histogram2d",
            "colorbar": {
             "outlinewidth": 0,
             "ticks": ""
            },
            "colorscale": [
             [
              0.0,
              "#0d0887"
             ],
             [
              0.1111111111111111,
              "#46039f"
             ],
             [
              0.2222222222222222,
              "#7201a8"
             ],
             [
              0.3333333333333333,
              "#9c179e"
             ],
             [
              0.4444444444444444,
              "#bd3786"
             ],
             [
              0.5555555555555556,
              "#d8576b"
             ],
             [
              0.6666666666666666,
              "#ed7953"
             ],
             [
              0.7777777777777778,
              "#fb9f3a"
             ],
             [
              0.8888888888888888,
              "#fdca26"
             ],
             [
              1.0,
              "#f0f921"
             ]
            ]
           }
          ],
          "heatmap": [
           {
            "type": "heatmap",
            "colorbar": {
             "outlinewidth": 0,
             "ticks": ""
            },
            "colorscale": [
             [
              0.0,
              "#0d0887"
             ],
             [
              0.1111111111111111,
              "#46039f"
             ],
             [
              0.2222222222222222,
              "#7201a8"
             ],
             [
              0.3333333333333333,
              "#9c179e"
             ],
             [
              0.4444444444444444,
              "#bd3786"
             ],
             [
              0.5555555555555556,
              "#d8576b"
             ],
             [
              0.6666666666666666,
              "#ed7953"
             ],
             [
              0.7777777777777778,
              "#fb9f3a"
             ],
             [
              0.8888888888888888,
              "#fdca26"
             ],
             [
              1.0,
              "#f0f921"
             ]
            ]
           }
          ],
          "heatmapgl": [
           {
            "type": "heatmapgl",
            "colorbar": {
             "outlinewidth": 0,
             "ticks": ""
            },
            "colorscale": [
             [
              0.0,
              "#0d0887"
             ],
             [
              0.1111111111111111,
              "#46039f"
             ],
             [
              0.2222222222222222,
              "#7201a8"
             ],
             [
              0.3333333333333333,
              "#9c179e"
             ],
             [
              0.4444444444444444,
              "#bd3786"
             ],
             [
              0.5555555555555556,
              "#d8576b"
             ],
             [
              0.6666666666666666,
              "#ed7953"
             ],
             [
              0.7777777777777778,
              "#fb9f3a"
             ],
             [
              0.8888888888888888,
              "#fdca26"
             ],
             [
              1.0,
              "#f0f921"
             ]
            ]
           }
          ],
          "contourcarpet": [
           {
            "type": "contourcarpet",
            "colorbar": {
             "outlinewidth": 0,
             "ticks": ""
            }
           }
          ],
          "contour": [
           {
            "type": "contour",
            "colorbar": {
             "outlinewidth": 0,
             "ticks": ""
            },
            "colorscale": [
             [
              0.0,
              "#0d0887"
             ],
             [
              0.1111111111111111,
              "#46039f"
             ],
             [
              0.2222222222222222,
              "#7201a8"
             ],
             [
              0.3333333333333333,
              "#9c179e"
             ],
             [
              0.4444444444444444,
              "#bd3786"
             ],
             [
              0.5555555555555556,
              "#d8576b"
             ],
             [
              0.6666666666666666,
              "#ed7953"
             ],
             [
              0.7777777777777778,
              "#fb9f3a"
             ],
             [
              0.8888888888888888,
              "#fdca26"
             ],
             [
              1.0,
              "#f0f921"
             ]
            ]
           }
          ],
          "surface": [
           {
            "type": "surface",
            "colorbar": {
             "outlinewidth": 0,
             "ticks": ""
            },
            "colorscale": [
             [
              0.0,
              "#0d0887"
             ],
             [
              0.1111111111111111,
              "#46039f"
             ],
             [
              0.2222222222222222,
              "#7201a8"
             ],
             [
              0.3333333333333333,
              "#9c179e"
             ],
             [
              0.4444444444444444,
              "#bd3786"
             ],
             [
              0.5555555555555556,
              "#d8576b"
             ],
             [
              0.6666666666666666,
              "#ed7953"
             ],
             [
              0.7777777777777778,
              "#fb9f3a"
             ],
             [
              0.8888888888888888,
              "#fdca26"
             ],
             [
              1.0,
              "#f0f921"
             ]
            ]
           }
          ],
          "mesh3d": [
           {
            "type": "mesh3d",
            "colorbar": {
             "outlinewidth": 0,
             "ticks": ""
            }
           }
          ],
          "scatter": [
           {
            "marker": {
             "line": {
              "color": "#283442"
             }
            },
            "type": "scatter"
           }
          ],
          "parcoords": [
           {
            "type": "parcoords",
            "line": {
             "colorbar": {
              "outlinewidth": 0,
              "ticks": ""
             }
            }
           }
          ],
          "scatterpolargl": [
           {
            "type": "scatterpolargl",
            "marker": {
             "colorbar": {
              "outlinewidth": 0,
              "ticks": ""
             }
            }
           }
          ],
          "bar": [
           {
            "error_x": {
             "color": "#f2f5fa"
            },
            "error_y": {
             "color": "#f2f5fa"
            },
            "marker": {
             "line": {
              "color": "rgb(17,17,17)",
              "width": 0.5
             },
             "pattern": {
              "fillmode": "overlay",
              "size": 10,
              "solidity": 0.2
             }
            },
            "type": "bar"
           }
          ],
          "scattergeo": [
           {
            "type": "scattergeo",
            "marker": {
             "colorbar": {
              "outlinewidth": 0,
              "ticks": ""
             }
            }
           }
          ],
          "scatterpolar": [
           {
            "type": "scatterpolar",
            "marker": {
             "colorbar": {
              "outlinewidth": 0,
              "ticks": ""
             }
            }
           }
          ],
          "histogram": [
           {
            "marker": {
             "pattern": {
              "fillmode": "overlay",
              "size": 10,
              "solidity": 0.2
             }
            },
            "type": "histogram"
           }
          ],
          "scattergl": [
           {
            "marker": {
             "line": {
              "color": "#283442"
             }
            },
            "type": "scattergl"
           }
          ],
          "scatter3d": [
           {
            "type": "scatter3d",
            "line": {
             "colorbar": {
              "outlinewidth": 0,
              "ticks": ""
             }
            },
            "marker": {
             "colorbar": {
              "outlinewidth": 0,
              "ticks": ""
             }
            }
           }
          ],
          "scattermapbox": [
           {
            "type": "scattermapbox",
            "marker": {
             "colorbar": {
              "outlinewidth": 0,
              "ticks": ""
             }
            }
           }
          ],
          "scatterternary": [
           {
            "type": "scatterternary",
            "marker": {
             "colorbar": {
              "outlinewidth": 0,
              "ticks": ""
             }
            }
           }
          ],
          "scattercarpet": [
           {
            "type": "scattercarpet",
            "marker": {
             "colorbar": {
              "outlinewidth": 0,
              "ticks": ""
             }
            }
           }
          ],
          "carpet": [
           {
            "aaxis": {
             "endlinecolor": "#A2B1C6",
             "gridcolor": "#506784",
             "linecolor": "#506784",
             "minorgridcolor": "#506784",
             "startlinecolor": "#A2B1C6"
            },
            "baxis": {
             "endlinecolor": "#A2B1C6",
             "gridcolor": "#506784",
             "linecolor": "#506784",
             "minorgridcolor": "#506784",
             "startlinecolor": "#A2B1C6"
            },
            "type": "carpet"
           }
          ],
          "table": [
           {
            "cells": {
             "fill": {
              "color": "#506784"
             },
             "line": {
              "color": "rgb(17,17,17)"
             }
            },
            "header": {
             "fill": {
              "color": "#2a3f5f"
             },
             "line": {
              "color": "rgb(17,17,17)"
             }
            },
            "type": "table"
           }
          ],
          "barpolar": [
           {
            "marker": {
             "line": {
              "color": "rgb(17,17,17)",
              "width": 0.5
             },
             "pattern": {
              "fillmode": "overlay",
              "size": 10,
              "solidity": 0.2
             }
            },
            "type": "barpolar"
           }
          ],
          "pie": [
           {
            "automargin": true,
            "type": "pie"
           }
          ]
         },
         "layout": {
          "autotypenumbers": "strict",
          "colorway": [
           "#636efa",
           "#EF553B",
           "#00cc96",
           "#ab63fa",
           "#FFA15A",
           "#19d3f3",
           "#FF6692",
           "#B6E880",
           "#FF97FF",
           "#FECB52"
          ],
          "font": {
           "color": "#f2f5fa"
          },
          "hovermode": "closest",
          "hoverlabel": {
           "align": "left"
          },
          "paper_bgcolor": "rgb(17,17,17)",
          "plot_bgcolor": "rgb(17,17,17)",
          "polar": {
           "bgcolor": "rgb(17,17,17)",
           "angularaxis": {
            "gridcolor": "#506784",
            "linecolor": "#506784",
            "ticks": ""
           },
           "radialaxis": {
            "gridcolor": "#506784",
            "linecolor": "#506784",
            "ticks": ""
           }
          },
          "ternary": {
           "bgcolor": "rgb(17,17,17)",
           "aaxis": {
            "gridcolor": "#506784",
            "linecolor": "#506784",
            "ticks": ""
           },
           "baxis": {
            "gridcolor": "#506784",
            "linecolor": "#506784",
            "ticks": ""
           },
           "caxis": {
            "gridcolor": "#506784",
            "linecolor": "#506784",
            "ticks": ""
           }
          },
          "coloraxis": {
           "colorbar": {
            "outlinewidth": 0,
            "ticks": ""
           }
          },
          "colorscale": {
           "sequential": [
            [
             0.0,
             "#0d0887"
            ],
            [
             0.1111111111111111,
             "#46039f"
            ],
            [
             0.2222222222222222,
             "#7201a8"
            ],
            [
             0.3333333333333333,
             "#9c179e"
            ],
            [
             0.4444444444444444,
             "#bd3786"
            ],
            [
             0.5555555555555556,
             "#d8576b"
            ],
            [
             0.6666666666666666,
             "#ed7953"
            ],
            [
             0.7777777777777778,
             "#fb9f3a"
            ],
            [
             0.8888888888888888,
             "#fdca26"
            ],
            [
             1.0,
             "#f0f921"
            ]
           ],
           "sequentialminus": [
            [
             0.0,
             "#0d0887"
            ],
            [
             0.1111111111111111,
             "#46039f"
            ],
            [
             0.2222222222222222,
             "#7201a8"
            ],
            [
             0.3333333333333333,
             "#9c179e"
            ],
            [
             0.4444444444444444,
             "#bd3786"
            ],
            [
             0.5555555555555556,
             "#d8576b"
            ],
            [
             0.6666666666666666,
             "#ed7953"
            ],
            [
             0.7777777777777778,
             "#fb9f3a"
            ],
            [
             0.8888888888888888,
             "#fdca26"
            ],
            [
             1.0,
             "#f0f921"
            ]
           ],
           "diverging": [
            [
             0,
             "#8e0152"
            ],
            [
             0.1,
             "#c51b7d"
            ],
            [
             0.2,
             "#de77ae"
            ],
            [
             0.3,
             "#f1b6da"
            ],
            [
             0.4,
             "#fde0ef"
            ],
            [
             0.5,
             "#f7f7f7"
            ],
            [
             0.6,
             "#e6f5d0"
            ],
            [
             0.7,
             "#b8e186"
            ],
            [
             0.8,
             "#7fbc41"
            ],
            [
             0.9,
             "#4d9221"
            ],
            [
             1,
             "#276419"
            ]
           ]
          },
          "xaxis": {
           "gridcolor": "#283442",
           "linecolor": "#506784",
           "ticks": "",
           "title": {
            "standoff": 15
           },
           "zerolinecolor": "#283442",
           "automargin": true,
           "zerolinewidth": 2
          },
          "yaxis": {
           "gridcolor": "#283442",
           "linecolor": "#506784",
           "ticks": "",
           "title": {
            "standoff": 15
           },
           "zerolinecolor": "#283442",
           "automargin": true,
           "zerolinewidth": 2
          },
          "scene": {
           "xaxis": {
            "backgroundcolor": "rgb(17,17,17)",
            "gridcolor": "#506784",
            "linecolor": "#506784",
            "showbackground": true,
            "ticks": "",
            "zerolinecolor": "#C8D4E3",
            "gridwidth": 2
           },
           "yaxis": {
            "backgroundcolor": "rgb(17,17,17)",
            "gridcolor": "#506784",
            "linecolor": "#506784",
            "showbackground": true,
            "ticks": "",
            "zerolinecolor": "#C8D4E3",
            "gridwidth": 2
           },
           "zaxis": {
            "backgroundcolor": "rgb(17,17,17)",
            "gridcolor": "#506784",
            "linecolor": "#506784",
            "showbackground": true,
            "ticks": "",
            "zerolinecolor": "#C8D4E3",
            "gridwidth": 2
           }
          },
          "shapedefaults": {
           "line": {
            "color": "#f2f5fa"
           }
          },
          "annotationdefaults": {
           "arrowcolor": "#f2f5fa",
           "arrowhead": 0,
           "arrowwidth": 1
          },
          "geo": {
           "bgcolor": "rgb(17,17,17)",
           "landcolor": "rgb(17,17,17)",
           "subunitcolor": "#506784",
           "showland": true,
           "showlakes": true,
           "lakecolor": "rgb(17,17,17)"
          },
          "title": {
           "x": 0.05
          },
          "updatemenudefaults": {
           "bgcolor": "#506784",
           "borderwidth": 0
          },
          "sliderdefaults": {
           "bgcolor": "#C8D4E3",
           "borderwidth": 1,
           "bordercolor": "rgb(17,17,17)",
           "tickwidth": 0
          },
          "mapbox": {
           "style": "dark"
          }
         }
        },
        "title": {
         "text": "Time Series Data with Peaks"
        },
        "xaxis": {
         "title": {
          "text": "Date"
         }
        },
        "yaxis": {
         "title": {
          "text": "linAccZ"
         }
        }
       },
       "config": {
        "plotlyServerURL": "https://plot.ly"
       }
      },
      "text/html": "<div>                            <div id=\"d71ad967-f3f7-4a3c-8296-ae81e9067d92\" class=\"plotly-graph-div\" style=\"height:525px; width:100%;\"></div>            <script type=\"text/javascript\">                require([\"plotly\"], function(Plotly) {                    window.PLOTLYENV=window.PLOTLYENV || {};                                    if (document.getElementById(\"d71ad967-f3f7-4a3c-8296-ae81e9067d92\")) {                    Plotly.newPlot(                        \"d71ad967-f3f7-4a3c-8296-ae81e9067d92\",                        [{\"mode\":\"lines\",\"name\":\"linAccZ\",\"x\":[\"1970-01-01T00:00:00.474000\",\"1970-01-01T00:00:00.483000\",\"1970-01-01T00:00:00.492000\",\"1970-01-01T00:00:00.501000\",\"1970-01-01T00:00:00.510000\",\"1970-01-01T00:00:00.519000\",\"1970-01-01T00:00:00.533000\",\"1970-01-01T00:00:00.542000\",\"1970-01-01T00:00:00.551000\",\"1970-01-01T00:00:00.560000\",\"1970-01-01T00:00:00.569000\",\"1970-01-01T00:00:00.578000\",\"1970-01-01T00:00:00.587000\",\"1970-01-01T00:00:00.596000\",\"1970-01-01T00:00:00.609000\",\"1970-01-01T00:00:00.618000\",\"1970-01-01T00:00:00.627000\",\"1970-01-01T00:00:00.636000\",\"1970-01-01T00:00:00.645000\",\"1970-01-01T00:00:00.654000\",\"1970-01-01T00:00:00.663000\",\"1970-01-01T00:00:00.672000\",\"1970-01-01T00:00:00.685000\",\"1970-01-01T00:00:00.694000\",\"1970-01-01T00:00:00.703000\",\"1970-01-01T00:00:00.712000\",\"1970-01-01T00:00:00.721000\",\"1970-01-01T00:00:00.730000\",\"1970-01-01T00:00:00.739000\",\"1970-01-01T00:00:00.748000\",\"1970-01-01T00:00:00.761000\",\"1970-01-01T00:00:00.770000\",\"1970-01-01T00:00:00.779000\",\"1970-01-01T00:00:00.788000\",\"1970-01-01T00:00:00.797000\",\"1970-01-01T00:00:00.806000\",\"1970-01-01T00:00:00.815000\",\"1970-01-01T00:00:00.824000\",\"1970-01-01T00:00:00.837000\",\"1970-01-01T00:00:00.846000\",\"1970-01-01T00:00:00.855000\",\"1970-01-01T00:00:00.864000\",\"1970-01-01T00:00:00.873000\",\"1970-01-01T00:00:00.882000\",\"1970-01-01T00:00:00.891000\",\"1970-01-01T00:00:00.900000\",\"1970-01-01T00:00:00.913000\",\"1970-01-01T00:00:00.922000\",\"1970-01-01T00:00:00.931000\",\"1970-01-01T00:00:00.940000\",\"1970-01-01T00:00:00.949000\",\"1970-01-01T00:00:00.958000\",\"1970-01-01T00:00:00.967000\",\"1970-01-01T00:00:00.976000\",\"1970-01-01T00:00:00.989000\",\"1970-01-01T00:00:00.998000\",\"1970-01-01T00:00:01.007000\",\"1970-01-01T00:00:01.016000\",\"1970-01-01T00:00:01.025000\",\"1970-01-01T00:00:01.034000\",\"1970-01-01T00:00:01.043000\",\"1970-01-01T00:00:01.052000\",\"1970-01-01T00:00:01.065000\",\"1970-01-01T00:00:01.074000\",\"1970-01-01T00:00:01.083000\",\"1970-01-01T00:00:01.092000\",\"1970-01-01T00:00:01.101000\",\"1970-01-01T00:00:01.110000\",\"1970-01-01T00:00:01.119000\",\"1970-01-01T00:00:01.128000\",\"1970-01-01T00:00:01.141000\",\"1970-01-01T00:00:01.150000\",\"1970-01-01T00:00:01.159000\",\"1970-01-01T00:00:01.168000\",\"1970-01-01T00:00:01.177000\",\"1970-01-01T00:00:01.186000\",\"1970-01-01T00:00:01.195000\",\"1970-01-01T00:00:01.204000\",\"1970-01-01T00:00:01.217000\",\"1970-01-01T00:00:01.226000\",\"1970-01-01T00:00:01.235000\",\"1970-01-01T00:00:01.244000\",\"1970-01-01T00:00:01.253000\",\"1970-01-01T00:00:01.262000\",\"1970-01-01T00:00:01.271000\",\"1970-01-01T00:00:01.280000\",\"1970-01-01T00:00:01.293000\",\"1970-01-01T00:00:01.302000\",\"1970-01-01T00:00:01.311000\",\"1970-01-01T00:00:01.320000\",\"1970-01-01T00:00:01.329000\",\"1970-01-01T00:00:01.338000\",\"1970-01-01T00:00:01.347000\",\"1970-01-01T00:00:01.356000\",\"1970-01-01T00:00:01.369000\",\"1970-01-01T00:00:01.378000\",\"1970-01-01T00:00:01.387000\",\"1970-01-01T00:00:01.396000\",\"1970-01-01T00:00:01.405000\",\"1970-01-01T00:00:01.414000\",\"1970-01-01T00:00:01.423000\",\"1970-01-01T00:00:01.432000\",\"1970-01-01T00:00:01.446000\",\"1970-01-01T00:00:01.455000\",\"1970-01-01T00:00:01.464000\",\"1970-01-01T00:00:01.473000\",\"1970-01-01T00:00:01.482000\",\"1970-01-01T00:00:01.491000\",\"1970-01-01T00:00:01.500000\",\"1970-01-01T00:00:01.509000\",\"1970-01-01T00:00:01.522000\",\"1970-01-01T00:00:01.531000\",\"1970-01-01T00:00:01.540000\",\"1970-01-01T00:00:01.549000\",\"1970-01-01T00:00:01.558000\",\"1970-01-01T00:00:01.567000\"],\"y\":[-4.789168054237961,-4.772544275671244,-4.723689716383815,-4.642785262912512,-4.528275034800172,-4.3808563384413715,-4.201473107859492,-3.98893782183528,-3.745505200400949,-3.475936915576458,-3.1841202428191897,-2.8748816998302935,-2.5509531600028277,-2.215651010274887,-1.8710796957463025,-1.523253486007452,-1.1795061915367842,-0.8442577382922171,-0.5184078634530305,-0.2015232209861278,0.10667477615177638,0.4083757704496384,0.7029166101664305,0.9901407222449781,1.2681468484550718,1.5377252855896952,1.7974430157989265,2.042485177665949,2.2734380150586366,2.494198274612427,2.703164668008685,2.9012256996333603,3.0914565394073725,3.2743876013159756,3.4480915047973397,3.614048098772764,3.7746706707775592,3.9297558483481403,4.075346893519162,4.212483108043671,4.340722915828229,4.453414441347123,4.553228380978107,4.6400752353668215,4.713759110271931,4.774217862486839,4.824715331792832,4.870214412212372,4.911285954117775,4.943559767007828,4.970137107372284,4.990439633131027,4.999300592541695,4.996541894078254,4.984291343092918,4.9649731945991515,4.938331773281098,4.907270396947861,4.874769798517227,4.83865162074566,4.796885593533515,4.754109670519829,4.707507346868516,4.655424110293388,4.598039020895958,4.53453338265419,4.4624974730610845,4.379847535192966,4.28602251291275,4.183010388910771,4.069419859051704,3.94766353815794,3.8225223630666734,3.6935129068791865,3.560435314625502,3.419908106736839,3.274221536666155,3.1215257684513924,2.961687267497182,2.795909911431372,2.6251865181326863,2.4483448010310527,2.2650768997520205,2.0776355313137174,1.8862017776072026,1.690509816221893,1.4914381975680588,1.2889068356528877,1.0831519341468812,0.8739526173099875,0.660962811037898,0.44251132030040025,0.21668716475367544,-0.01551561910659074,-0.2536067985743284,-0.49443093080073597,-0.7395909935235976,-0.9883944353088736,-1.2404038368910553,-1.4953214933350683,-1.750912809818983,-2.0056677169725297,-2.256676079407334,-2.5028927946463226,-2.741994571983814,-2.970967719517648,-3.1884145825356245,-3.3921761174872516,-3.580245191603899,-3.7501064024493105,-3.899638634994626,-4.026385522820055,-4.128244559913874,-4.2039228212460875,-4.25309380996041,-4.275954943131656],\"type\":\"scatter\"},{\"marker\":{\"color\":\"red\",\"size\":8},\"mode\":\"markers\",\"name\":\"Peaks\",\"x\":[\"1970-01-01T00:00:00.967000\"],\"y\":[4.999300592541695],\"type\":\"scatter\"}],                        {\"template\":{\"data\":{\"histogram2dcontour\":[{\"type\":\"histogram2dcontour\",\"colorbar\":{\"outlinewidth\":0,\"ticks\":\"\"},\"colorscale\":[[0.0,\"#0d0887\"],[0.1111111111111111,\"#46039f\"],[0.2222222222222222,\"#7201a8\"],[0.3333333333333333,\"#9c179e\"],[0.4444444444444444,\"#bd3786\"],[0.5555555555555556,\"#d8576b\"],[0.6666666666666666,\"#ed7953\"],[0.7777777777777778,\"#fb9f3a\"],[0.8888888888888888,\"#fdca26\"],[1.0,\"#f0f921\"]]}],\"choropleth\":[{\"type\":\"choropleth\",\"colorbar\":{\"outlinewidth\":0,\"ticks\":\"\"}}],\"histogram2d\":[{\"type\":\"histogram2d\",\"colorbar\":{\"outlinewidth\":0,\"ticks\":\"\"},\"colorscale\":[[0.0,\"#0d0887\"],[0.1111111111111111,\"#46039f\"],[0.2222222222222222,\"#7201a8\"],[0.3333333333333333,\"#9c179e\"],[0.4444444444444444,\"#bd3786\"],[0.5555555555555556,\"#d8576b\"],[0.6666666666666666,\"#ed7953\"],[0.7777777777777778,\"#fb9f3a\"],[0.8888888888888888,\"#fdca26\"],[1.0,\"#f0f921\"]]}],\"heatmap\":[{\"type\":\"heatmap\",\"colorbar\":{\"outlinewidth\":0,\"ticks\":\"\"},\"colorscale\":[[0.0,\"#0d0887\"],[0.1111111111111111,\"#46039f\"],[0.2222222222222222,\"#7201a8\"],[0.3333333333333333,\"#9c179e\"],[0.4444444444444444,\"#bd3786\"],[0.5555555555555556,\"#d8576b\"],[0.6666666666666666,\"#ed7953\"],[0.7777777777777778,\"#fb9f3a\"],[0.8888888888888888,\"#fdca26\"],[1.0,\"#f0f921\"]]}],\"heatmapgl\":[{\"type\":\"heatmapgl\",\"colorbar\":{\"outlinewidth\":0,\"ticks\":\"\"},\"colorscale\":[[0.0,\"#0d0887\"],[0.1111111111111111,\"#46039f\"],[0.2222222222222222,\"#7201a8\"],[0.3333333333333333,\"#9c179e\"],[0.4444444444444444,\"#bd3786\"],[0.5555555555555556,\"#d8576b\"],[0.6666666666666666,\"#ed7953\"],[0.7777777777777778,\"#fb9f3a\"],[0.8888888888888888,\"#fdca26\"],[1.0,\"#f0f921\"]]}],\"contourcarpet\":[{\"type\":\"contourcarpet\",\"colorbar\":{\"outlinewidth\":0,\"ticks\":\"\"}}],\"contour\":[{\"type\":\"contour\",\"colorbar\":{\"outlinewidth\":0,\"ticks\":\"\"},\"colorscale\":[[0.0,\"#0d0887\"],[0.1111111111111111,\"#46039f\"],[0.2222222222222222,\"#7201a8\"],[0.3333333333333333,\"#9c179e\"],[0.4444444444444444,\"#bd3786\"],[0.5555555555555556,\"#d8576b\"],[0.6666666666666666,\"#ed7953\"],[0.7777777777777778,\"#fb9f3a\"],[0.8888888888888888,\"#fdca26\"],[1.0,\"#f0f921\"]]}],\"surface\":[{\"type\":\"surface\",\"colorbar\":{\"outlinewidth\":0,\"ticks\":\"\"},\"colorscale\":[[0.0,\"#0d0887\"],[0.1111111111111111,\"#46039f\"],[0.2222222222222222,\"#7201a8\"],[0.3333333333333333,\"#9c179e\"],[0.4444444444444444,\"#bd3786\"],[0.5555555555555556,\"#d8576b\"],[0.6666666666666666,\"#ed7953\"],[0.7777777777777778,\"#fb9f3a\"],[0.8888888888888888,\"#fdca26\"],[1.0,\"#f0f921\"]]}],\"mesh3d\":[{\"type\":\"mesh3d\",\"colorbar\":{\"outlinewidth\":0,\"ticks\":\"\"}}],\"scatter\":[{\"marker\":{\"line\":{\"color\":\"#283442\"}},\"type\":\"scatter\"}],\"parcoords\":[{\"type\":\"parcoords\",\"line\":{\"colorbar\":{\"outlinewidth\":0,\"ticks\":\"\"}}}],\"scatterpolargl\":[{\"type\":\"scatterpolargl\",\"marker\":{\"colorbar\":{\"outlinewidth\":0,\"ticks\":\"\"}}}],\"bar\":[{\"error_x\":{\"color\":\"#f2f5fa\"},\"error_y\":{\"color\":\"#f2f5fa\"},\"marker\":{\"line\":{\"color\":\"rgb(17,17,17)\",\"width\":0.5},\"pattern\":{\"fillmode\":\"overlay\",\"size\":10,\"solidity\":0.2}},\"type\":\"bar\"}],\"scattergeo\":[{\"type\":\"scattergeo\",\"marker\":{\"colorbar\":{\"outlinewidth\":0,\"ticks\":\"\"}}}],\"scatterpolar\":[{\"type\":\"scatterpolar\",\"marker\":{\"colorbar\":{\"outlinewidth\":0,\"ticks\":\"\"}}}],\"histogram\":[{\"marker\":{\"pattern\":{\"fillmode\":\"overlay\",\"size\":10,\"solidity\":0.2}},\"type\":\"histogram\"}],\"scattergl\":[{\"marker\":{\"line\":{\"color\":\"#283442\"}},\"type\":\"scattergl\"}],\"scatter3d\":[{\"type\":\"scatter3d\",\"line\":{\"colorbar\":{\"outlinewidth\":0,\"ticks\":\"\"}},\"marker\":{\"colorbar\":{\"outlinewidth\":0,\"ticks\":\"\"}}}],\"scattermapbox\":[{\"type\":\"scattermapbox\",\"marker\":{\"colorbar\":{\"outlinewidth\":0,\"ticks\":\"\"}}}],\"scatterternary\":[{\"type\":\"scatterternary\",\"marker\":{\"colorbar\":{\"outlinewidth\":0,\"ticks\":\"\"}}}],\"scattercarpet\":[{\"type\":\"scattercarpet\",\"marker\":{\"colorbar\":{\"outlinewidth\":0,\"ticks\":\"\"}}}],\"carpet\":[{\"aaxis\":{\"endlinecolor\":\"#A2B1C6\",\"gridcolor\":\"#506784\",\"linecolor\":\"#506784\",\"minorgridcolor\":\"#506784\",\"startlinecolor\":\"#A2B1C6\"},\"baxis\":{\"endlinecolor\":\"#A2B1C6\",\"gridcolor\":\"#506784\",\"linecolor\":\"#506784\",\"minorgridcolor\":\"#506784\",\"startlinecolor\":\"#A2B1C6\"},\"type\":\"carpet\"}],\"table\":[{\"cells\":{\"fill\":{\"color\":\"#506784\"},\"line\":{\"color\":\"rgb(17,17,17)\"}},\"header\":{\"fill\":{\"color\":\"#2a3f5f\"},\"line\":{\"color\":\"rgb(17,17,17)\"}},\"type\":\"table\"}],\"barpolar\":[{\"marker\":{\"line\":{\"color\":\"rgb(17,17,17)\",\"width\":0.5},\"pattern\":{\"fillmode\":\"overlay\",\"size\":10,\"solidity\":0.2}},\"type\":\"barpolar\"}],\"pie\":[{\"automargin\":true,\"type\":\"pie\"}]},\"layout\":{\"autotypenumbers\":\"strict\",\"colorway\":[\"#636efa\",\"#EF553B\",\"#00cc96\",\"#ab63fa\",\"#FFA15A\",\"#19d3f3\",\"#FF6692\",\"#B6E880\",\"#FF97FF\",\"#FECB52\"],\"font\":{\"color\":\"#f2f5fa\"},\"hovermode\":\"closest\",\"hoverlabel\":{\"align\":\"left\"},\"paper_bgcolor\":\"rgb(17,17,17)\",\"plot_bgcolor\":\"rgb(17,17,17)\",\"polar\":{\"bgcolor\":\"rgb(17,17,17)\",\"angularaxis\":{\"gridcolor\":\"#506784\",\"linecolor\":\"#506784\",\"ticks\":\"\"},\"radialaxis\":{\"gridcolor\":\"#506784\",\"linecolor\":\"#506784\",\"ticks\":\"\"}},\"ternary\":{\"bgcolor\":\"rgb(17,17,17)\",\"aaxis\":{\"gridcolor\":\"#506784\",\"linecolor\":\"#506784\",\"ticks\":\"\"},\"baxis\":{\"gridcolor\":\"#506784\",\"linecolor\":\"#506784\",\"ticks\":\"\"},\"caxis\":{\"gridcolor\":\"#506784\",\"linecolor\":\"#506784\",\"ticks\":\"\"}},\"coloraxis\":{\"colorbar\":{\"outlinewidth\":0,\"ticks\":\"\"}},\"colorscale\":{\"sequential\":[[0.0,\"#0d0887\"],[0.1111111111111111,\"#46039f\"],[0.2222222222222222,\"#7201a8\"],[0.3333333333333333,\"#9c179e\"],[0.4444444444444444,\"#bd3786\"],[0.5555555555555556,\"#d8576b\"],[0.6666666666666666,\"#ed7953\"],[0.7777777777777778,\"#fb9f3a\"],[0.8888888888888888,\"#fdca26\"],[1.0,\"#f0f921\"]],\"sequentialminus\":[[0.0,\"#0d0887\"],[0.1111111111111111,\"#46039f\"],[0.2222222222222222,\"#7201a8\"],[0.3333333333333333,\"#9c179e\"],[0.4444444444444444,\"#bd3786\"],[0.5555555555555556,\"#d8576b\"],[0.6666666666666666,\"#ed7953\"],[0.7777777777777778,\"#fb9f3a\"],[0.8888888888888888,\"#fdca26\"],[1.0,\"#f0f921\"]],\"diverging\":[[0,\"#8e0152\"],[0.1,\"#c51b7d\"],[0.2,\"#de77ae\"],[0.3,\"#f1b6da\"],[0.4,\"#fde0ef\"],[0.5,\"#f7f7f7\"],[0.6,\"#e6f5d0\"],[0.7,\"#b8e186\"],[0.8,\"#7fbc41\"],[0.9,\"#4d9221\"],[1,\"#276419\"]]},\"xaxis\":{\"gridcolor\":\"#283442\",\"linecolor\":\"#506784\",\"ticks\":\"\",\"title\":{\"standoff\":15},\"zerolinecolor\":\"#283442\",\"automargin\":true,\"zerolinewidth\":2},\"yaxis\":{\"gridcolor\":\"#283442\",\"linecolor\":\"#506784\",\"ticks\":\"\",\"title\":{\"standoff\":15},\"zerolinecolor\":\"#283442\",\"automargin\":true,\"zerolinewidth\":2},\"scene\":{\"xaxis\":{\"backgroundcolor\":\"rgb(17,17,17)\",\"gridcolor\":\"#506784\",\"linecolor\":\"#506784\",\"showbackground\":true,\"ticks\":\"\",\"zerolinecolor\":\"#C8D4E3\",\"gridwidth\":2},\"yaxis\":{\"backgroundcolor\":\"rgb(17,17,17)\",\"gridcolor\":\"#506784\",\"linecolor\":\"#506784\",\"showbackground\":true,\"ticks\":\"\",\"zerolinecolor\":\"#C8D4E3\",\"gridwidth\":2},\"zaxis\":{\"backgroundcolor\":\"rgb(17,17,17)\",\"gridcolor\":\"#506784\",\"linecolor\":\"#506784\",\"showbackground\":true,\"ticks\":\"\",\"zerolinecolor\":\"#C8D4E3\",\"gridwidth\":2}},\"shapedefaults\":{\"line\":{\"color\":\"#f2f5fa\"}},\"annotationdefaults\":{\"arrowcolor\":\"#f2f5fa\",\"arrowhead\":0,\"arrowwidth\":1},\"geo\":{\"bgcolor\":\"rgb(17,17,17)\",\"landcolor\":\"rgb(17,17,17)\",\"subunitcolor\":\"#506784\",\"showland\":true,\"showlakes\":true,\"lakecolor\":\"rgb(17,17,17)\"},\"title\":{\"x\":0.05},\"updatemenudefaults\":{\"bgcolor\":\"#506784\",\"borderwidth\":0},\"sliderdefaults\":{\"bgcolor\":\"#C8D4E3\",\"borderwidth\":1,\"bordercolor\":\"rgb(17,17,17)\",\"tickwidth\":0},\"mapbox\":{\"style\":\"dark\"}}},\"title\":{\"text\":\"Time Series Data with Peaks\"},\"xaxis\":{\"title\":{\"text\":\"Date\"}},\"yaxis\":{\"title\":{\"text\":\"linAccZ\"}}},                        {\"responsive\": true}                    ).then(function(){\n                            \nvar gd = document.getElementById('d71ad967-f3f7-4a3c-8296-ae81e9067d92');\nvar x = new MutationObserver(function (mutations, observer) {{\n        var display = window.getComputedStyle(gd).display;\n        if (!display || display === 'none') {{\n            console.log([gd, 'removed!']);\n            Plotly.purge(gd);\n            observer.disconnect();\n        }}\n}});\n\n// Listen for the removal of the full notebook cells\nvar notebookContainer = gd.closest('#notebook-container');\nif (notebookContainer) {{\n    x.observe(notebookContainer, {childList: true});\n}}\n\n// Listen for the clearing of the current output cell\nvar outputEl = gd.closest('.output');\nif (outputEl) {{\n    x.observe(outputEl, {childList: true});\n}}\n\n                        })                };                });            </script>        </div>"
     },
     "metadata": {},
     "output_type": "display_data"
    }
   ],
   "source": [
    "df = squat\n",
    "peaks, _ = find_peaks(df['linAccZ'], height=-100, distance=1)\n",
    "\n",
    "# Plotting\n",
    "fig = go.Figure()\n",
    "fig.add_trace(go.Scatter(x=df.index, y=df['linAccZ'], mode='lines', name='linAccZ'))\n",
    "fig.add_trace(go.Scatter(x=df.iloc[peaks].index, y=df.iloc[peaks]['linAccZ'], mode='markers', \n",
    "                         marker=dict(color='red', size=8), name='Peaks'))\n",
    "fig.update_layout(title='Time Series Data with Peaks', xaxis_title='Date', yaxis_title='linAccZ')\n",
    "fig.show()"
   ],
   "metadata": {
    "collapsed": false,
    "ExecuteTime": {
     "end_time": "2024-01-22T23:05:29.977443300Z",
     "start_time": "2024-01-22T23:05:29.939714700Z"
    }
   },
   "id": "7631d39ea95e7f5d",
   "execution_count": 14
  }
 ],
 "metadata": {
  "kernelspec": {
   "display_name": "Python 3",
   "language": "python",
   "name": "python3"
  },
  "language_info": {
   "codemirror_mode": {
    "name": "ipython",
    "version": 2
   },
   "file_extension": ".py",
   "mimetype": "text/x-python",
   "name": "python",
   "nbconvert_exporter": "python",
   "pygments_lexer": "ipython2",
   "version": "2.7.6"
  }
 },
 "nbformat": 4,
 "nbformat_minor": 5
}
