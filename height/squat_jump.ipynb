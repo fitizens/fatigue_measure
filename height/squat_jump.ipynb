{
 "cells": [
  {
   "cell_type": "code",
   "execution_count": 2,
   "id": "initial_id",
   "metadata": {
    "collapsed": true,
    "ExecuteTime": {
     "end_time": "2024-01-22T10:38:53.127785800Z",
     "start_time": "2024-01-22T10:38:53.112657600Z"
    }
   },
   "outputs": [],
   "source": [
    "from fitizens_libraries.load_and_process_training_data import load_training_data\n",
    "import os"
   ]
  },
  {
   "cell_type": "code",
   "outputs": [
    {
     "name": "stderr",
     "output_type": "stream",
     "text": [
      "C:\\Users\\josec\\Documents\\fatigue_measure\\fitizens_libraries\\load_data.py:111: FutureWarning: DataFrame.fillna with 'method' is deprecated and will raise in a future version. Use obj.ffill() or obj.bfill() instead.\n",
      "  smoothed = smoothed.fillna(method=\"bfill\").fillna(method=\"ffill\")\n",
      "C:\\Users\\josec\\Documents\\fatigue_measure\\fitizens_libraries\\load_data.py:111: FutureWarning: DataFrame.fillna with 'method' is deprecated and will raise in a future version. Use obj.ffill() or obj.bfill() instead.\n",
      "  smoothed = smoothed.fillna(method=\"bfill\").fillna(method=\"ffill\")\n",
      "C:\\Users\\josec\\Documents\\fatigue_measure\\fitizens_libraries\\load_data.py:111: FutureWarning: DataFrame.fillna with 'method' is deprecated and will raise in a future version. Use obj.ffill() or obj.bfill() instead.\n",
      "  smoothed = smoothed.fillna(method=\"bfill\").fillna(method=\"ffill\")\n",
      "C:\\Users\\josec\\Documents\\fatigue_measure\\fitizens_libraries\\load_data.py:111: FutureWarning: DataFrame.fillna with 'method' is deprecated and will raise in a future version. Use obj.ffill() or obj.bfill() instead.\n",
      "  smoothed = smoothed.fillna(method=\"bfill\").fillna(method=\"ffill\")\n",
      "C:\\Users\\josec\\Documents\\fatigue_measure\\fitizens_libraries\\load_data.py:111: FutureWarning: DataFrame.fillna with 'method' is deprecated and will raise in a future version. Use obj.ffill() or obj.bfill() instead.\n",
      "  smoothed = smoothed.fillna(method=\"bfill\").fillna(method=\"ffill\")\n",
      "C:\\Users\\josec\\Documents\\fatigue_measure\\fitizens_libraries\\load_data.py:111: FutureWarning: DataFrame.fillna with 'method' is deprecated and will raise in a future version. Use obj.ffill() or obj.bfill() instead.\n",
      "  smoothed = smoothed.fillna(method=\"bfill\").fillna(method=\"ffill\")\n",
      "C:\\Users\\josec\\Documents\\fatigue_measure\\fitizens_libraries\\load_data.py:111: FutureWarning: DataFrame.fillna with 'method' is deprecated and will raise in a future version. Use obj.ffill() or obj.bfill() instead.\n",
      "  smoothed = smoothed.fillna(method=\"bfill\").fillna(method=\"ffill\")\n",
      "C:\\Users\\josec\\Documents\\fatigue_measure\\fitizens_libraries\\load_data.py:111: FutureWarning: DataFrame.fillna with 'method' is deprecated and will raise in a future version. Use obj.ffill() or obj.bfill() instead.\n",
      "  smoothed = smoothed.fillna(method=\"bfill\").fillna(method=\"ffill\")\n",
      "C:\\Users\\josec\\Documents\\fatigue_measure\\fitizens_libraries\\load_data.py:111: FutureWarning: DataFrame.fillna with 'method' is deprecated and will raise in a future version. Use obj.ffill() or obj.bfill() instead.\n",
      "  smoothed = smoothed.fillna(method=\"bfill\").fillna(method=\"ffill\")\n",
      "C:\\Users\\josec\\Documents\\fatigue_measure\\fitizens_libraries\\load_data.py:111: FutureWarning: DataFrame.fillna with 'method' is deprecated and will raise in a future version. Use obj.ffill() or obj.bfill() instead.\n",
      "  smoothed = smoothed.fillna(method=\"bfill\").fillna(method=\"ffill\")\n",
      "C:\\Users\\josec\\Documents\\fatigue_measure\\fitizens_libraries\\load_data.py:111: FutureWarning: DataFrame.fillna with 'method' is deprecated and will raise in a future version. Use obj.ffill() or obj.bfill() instead.\n",
      "  smoothed = smoothed.fillna(method=\"bfill\").fillna(method=\"ffill\")\n"
     ]
    }
   ],
   "source": [
    "folder_path = \"squats_jumps\"\n",
    "file_names = [f\"{folder_path}/{name}\" for name in os.listdir(folder_path)]\n",
    "signals = [\"accX\", \"accY\", \"accZ\", \"gyroX\", \"gyroY\", \"gyroZ\", \"magnX\", \"magnY\", \"magnZ\", \"linAccX\", \"linAccY\", \"linAccZ\"]\n",
    "    \n",
    "data, wk = load_training_data(filelist=file_names,\n",
    "                             signals= signals,\n",
    "                             target_exercise=\"SQUAT_JUMP\", other_exercises=[], is_peak_minima=True)"
   ],
   "metadata": {
    "collapsed": false,
    "ExecuteTime": {
     "end_time": "2024-01-22T10:40:42.396229300Z",
     "start_time": "2024-01-22T10:39:44.353686800Z"
    }
   },
   "id": "7e12a48d53dab744",
   "execution_count": 3
  },
  {
   "cell_type": "code",
   "outputs": [
    {
     "data": {
      "text/plain": "                         accX_orig  accY_orig  accZ_orig  gyroX_orig  \\\ntime                                                                   \n1970-01-01 00:00:11.294  -0.184254  -0.418759   1.864998  138.879990   \n1970-01-01 00:00:11.309  -0.301506  -0.550369   0.797761  143.289993   \n1970-01-01 00:00:11.318  -0.524047  -0.660443  -0.295798  145.319992   \n1970-01-01 00:00:11.327  -0.674800  -0.485760  -1.248175  148.610001   \n1970-01-01 00:00:11.336  -0.672407  -0.559940  -1.678899  151.689987   \n...                            ...        ...        ...         ...   \n1970-01-01 00:00:11.895  -0.459438  -2.569983  -0.113937  -19.530001   \n1970-01-01 00:00:11.904  -0.502511  -2.153617  -1.207496  -31.220001   \n1970-01-01 00:00:11.913  -0.997843  -1.754002  -2.150302  -38.359997   \n1970-01-01 00:00:11.922  -1.007414  -1.777931  -2.662384  -44.099998   \n1970-01-01 00:00:11.937  -0.904519  -1.904755  -2.159873  -38.009998   \n\n                         gyroY_orig  gyroZ_orig  magnX_orig  magnY_orig  \\\ntime                                                                      \n1970-01-01 00:00:11.294    0.560000        7.49  -58.101799  151.258667   \n1970-01-01 00:00:11.309    1.610000        7.63  -54.732647  151.266998   \n1970-01-01 00:00:11.318    1.050000        7.07  -55.062843  149.475327   \n1970-01-01 00:00:11.327    0.210000        6.51  -55.053425  149.477310   \n1970-01-01 00:00:11.336    0.700000        5.67  -56.220703  150.464844   \n...                             ...         ...         ...         ...   \n1970-01-01 00:00:11.895   19.040001       -1.33  -55.943203  151.205063   \n1970-01-01 00:00:11.904   17.920000        1.05  -54.309113  152.518723   \n1970-01-01 00:00:11.913   18.410000        5.60  -56.541454  149.155975   \n1970-01-01 00:00:11.922   16.309999        9.45  -56.513195  149.161926   \n1970-01-01 00:00:11.937   12.670000       11.69  -55.549248  151.130432   \n\n                         magnZ_orig  linAccX_orig  ...     magnY_mod  \\\ntime                                               ...                 \n1970-01-01 00:00:11.294   71.080467      1.474373  ...  22790.422587   \n1970-01-01 00:00:11.309   75.264954      0.806835  ...  22728.153578   \n1970-01-01 00:00:11.318   75.790680      0.185859  ...  22661.333381   \n1970-01-01 00:00:11.327   76.071342     -0.398514  ...  22594.327351   \n1970-01-01 00:00:11.336   75.553284     -0.715725  ...  22526.845233   \n...                             ...           ...  ...           ...   \n1970-01-01 00:00:11.895   74.981712      0.403105  ...  22715.798130   \n1970-01-01 00:00:11.904   75.203636     -0.368642  ...  22753.810099   \n1970-01-01 00:00:11.913   72.519699     -0.712958  ...  22788.442908   \n1970-01-01 00:00:11.922   73.361679     -1.054044  ...  22821.690627   \n1970-01-01 00:00:11.937   74.405098     -0.746844  ...  22856.088016   \n\n                           magnZ_mod  linAccX_mod  linAccY_mod  linAccZ_mod  \\\ntime                                                                          \n1970-01-01 00:00:11.294  5526.492388     0.025768     0.000874    31.578096   \n1970-01-01 00:00:11.309  5585.525042     0.013453     0.006761    31.194502   \n1970-01-01 00:00:11.318  5645.945955     0.004655     0.019490    29.978598   \n1970-01-01 00:00:11.327  5706.835473     0.000527     0.037148    27.936957   \n1970-01-01 00:00:11.336  5769.498192     0.000360     0.056445    25.110173   \n...                              ...          ...          ...          ...   \n1970-01-01 00:00:11.895  5688.339596     0.796364     1.203990   104.142171   \n1970-01-01 00:00:11.904  5672.670975     0.650673     1.189241   108.962926   \n1970-01-01 00:00:11.913  5658.684131     0.518561     1.167121   112.346889   \n1970-01-01 00:00:11.922  5648.327665     0.402142     1.132441   114.404168   \n1970-01-01 00:00:11.937  5641.186223     0.300912     1.084851   115.221659   \n\n                             peaks  first_sample  last_sample  \\\ntime                                                            \n1970-01-01 00:00:11.294  -5.619439         False        False   \n1970-01-01 00:00:11.309        NaN          True        False   \n1970-01-01 00:00:11.318        NaN         False        False   \n1970-01-01 00:00:11.327        NaN         False        False   \n1970-01-01 00:00:11.336        NaN         False        False   \n...                            ...           ...          ...   \n1970-01-01 00:00:11.895        NaN         False        False   \n1970-01-01 00:00:11.904        NaN         False        False   \n1970-01-01 00:00:11.913        NaN         False        False   \n1970-01-01 00:00:11.922        NaN         False        False   \n1970-01-01 00:00:11.937 -10.734135         False        False   \n\n                         first_sample_closest_peak  last_sample_closest_peak  \ntime                                                                          \n1970-01-01 00:00:11.294                       True                     False  \n1970-01-01 00:00:11.309                      False                     False  \n1970-01-01 00:00:11.318                      False                     False  \n1970-01-01 00:00:11.327                      False                     False  \n1970-01-01 00:00:11.336                      False                     False  \n...                                            ...                       ...  \n1970-01-01 00:00:11.895                      False                     False  \n1970-01-01 00:00:11.904                      False                     False  \n1970-01-01 00:00:11.913                      False                     False  \n1970-01-01 00:00:11.922                      False                     False  \n1970-01-01 00:00:11.937                      False                      True  \n\n[66 rows x 42 columns]",
      "text/html": "<div>\n<style scoped>\n    .dataframe tbody tr th:only-of-type {\n        vertical-align: middle;\n    }\n\n    .dataframe tbody tr th {\n        vertical-align: top;\n    }\n\n    .dataframe thead th {\n        text-align: right;\n    }\n</style>\n<table border=\"1\" class=\"dataframe\">\n  <thead>\n    <tr style=\"text-align: right;\">\n      <th></th>\n      <th>accX_orig</th>\n      <th>accY_orig</th>\n      <th>accZ_orig</th>\n      <th>gyroX_orig</th>\n      <th>gyroY_orig</th>\n      <th>gyroZ_orig</th>\n      <th>magnX_orig</th>\n      <th>magnY_orig</th>\n      <th>magnZ_orig</th>\n      <th>linAccX_orig</th>\n      <th>...</th>\n      <th>magnY_mod</th>\n      <th>magnZ_mod</th>\n      <th>linAccX_mod</th>\n      <th>linAccY_mod</th>\n      <th>linAccZ_mod</th>\n      <th>peaks</th>\n      <th>first_sample</th>\n      <th>last_sample</th>\n      <th>first_sample_closest_peak</th>\n      <th>last_sample_closest_peak</th>\n    </tr>\n    <tr>\n      <th>time</th>\n      <th></th>\n      <th></th>\n      <th></th>\n      <th></th>\n      <th></th>\n      <th></th>\n      <th></th>\n      <th></th>\n      <th></th>\n      <th></th>\n      <th></th>\n      <th></th>\n      <th></th>\n      <th></th>\n      <th></th>\n      <th></th>\n      <th></th>\n      <th></th>\n      <th></th>\n      <th></th>\n      <th></th>\n    </tr>\n  </thead>\n  <tbody>\n    <tr>\n      <th>1970-01-01 00:00:11.294</th>\n      <td>-0.184254</td>\n      <td>-0.418759</td>\n      <td>1.864998</td>\n      <td>138.879990</td>\n      <td>0.560000</td>\n      <td>7.49</td>\n      <td>-58.101799</td>\n      <td>151.258667</td>\n      <td>71.080467</td>\n      <td>1.474373</td>\n      <td>...</td>\n      <td>22790.422587</td>\n      <td>5526.492388</td>\n      <td>0.025768</td>\n      <td>0.000874</td>\n      <td>31.578096</td>\n      <td>-5.619439</td>\n      <td>False</td>\n      <td>False</td>\n      <td>True</td>\n      <td>False</td>\n    </tr>\n    <tr>\n      <th>1970-01-01 00:00:11.309</th>\n      <td>-0.301506</td>\n      <td>-0.550369</td>\n      <td>0.797761</td>\n      <td>143.289993</td>\n      <td>1.610000</td>\n      <td>7.63</td>\n      <td>-54.732647</td>\n      <td>151.266998</td>\n      <td>75.264954</td>\n      <td>0.806835</td>\n      <td>...</td>\n      <td>22728.153578</td>\n      <td>5585.525042</td>\n      <td>0.013453</td>\n      <td>0.006761</td>\n      <td>31.194502</td>\n      <td>NaN</td>\n      <td>True</td>\n      <td>False</td>\n      <td>False</td>\n      <td>False</td>\n    </tr>\n    <tr>\n      <th>1970-01-01 00:00:11.318</th>\n      <td>-0.524047</td>\n      <td>-0.660443</td>\n      <td>-0.295798</td>\n      <td>145.319992</td>\n      <td>1.050000</td>\n      <td>7.07</td>\n      <td>-55.062843</td>\n      <td>149.475327</td>\n      <td>75.790680</td>\n      <td>0.185859</td>\n      <td>...</td>\n      <td>22661.333381</td>\n      <td>5645.945955</td>\n      <td>0.004655</td>\n      <td>0.019490</td>\n      <td>29.978598</td>\n      <td>NaN</td>\n      <td>False</td>\n      <td>False</td>\n      <td>False</td>\n      <td>False</td>\n    </tr>\n    <tr>\n      <th>1970-01-01 00:00:11.327</th>\n      <td>-0.674800</td>\n      <td>-0.485760</td>\n      <td>-1.248175</td>\n      <td>148.610001</td>\n      <td>0.210000</td>\n      <td>6.51</td>\n      <td>-55.053425</td>\n      <td>149.477310</td>\n      <td>76.071342</td>\n      <td>-0.398514</td>\n      <td>...</td>\n      <td>22594.327351</td>\n      <td>5706.835473</td>\n      <td>0.000527</td>\n      <td>0.037148</td>\n      <td>27.936957</td>\n      <td>NaN</td>\n      <td>False</td>\n      <td>False</td>\n      <td>False</td>\n      <td>False</td>\n    </tr>\n    <tr>\n      <th>1970-01-01 00:00:11.336</th>\n      <td>-0.672407</td>\n      <td>-0.559940</td>\n      <td>-1.678899</td>\n      <td>151.689987</td>\n      <td>0.700000</td>\n      <td>5.67</td>\n      <td>-56.220703</td>\n      <td>150.464844</td>\n      <td>75.553284</td>\n      <td>-0.715725</td>\n      <td>...</td>\n      <td>22526.845233</td>\n      <td>5769.498192</td>\n      <td>0.000360</td>\n      <td>0.056445</td>\n      <td>25.110173</td>\n      <td>NaN</td>\n      <td>False</td>\n      <td>False</td>\n      <td>False</td>\n      <td>False</td>\n    </tr>\n    <tr>\n      <th>...</th>\n      <td>...</td>\n      <td>...</td>\n      <td>...</td>\n      <td>...</td>\n      <td>...</td>\n      <td>...</td>\n      <td>...</td>\n      <td>...</td>\n      <td>...</td>\n      <td>...</td>\n      <td>...</td>\n      <td>...</td>\n      <td>...</td>\n      <td>...</td>\n      <td>...</td>\n      <td>...</td>\n      <td>...</td>\n      <td>...</td>\n      <td>...</td>\n      <td>...</td>\n      <td>...</td>\n    </tr>\n    <tr>\n      <th>1970-01-01 00:00:11.895</th>\n      <td>-0.459438</td>\n      <td>-2.569983</td>\n      <td>-0.113937</td>\n      <td>-19.530001</td>\n      <td>19.040001</td>\n      <td>-1.33</td>\n      <td>-55.943203</td>\n      <td>151.205063</td>\n      <td>74.981712</td>\n      <td>0.403105</td>\n      <td>...</td>\n      <td>22715.798130</td>\n      <td>5688.339596</td>\n      <td>0.796364</td>\n      <td>1.203990</td>\n      <td>104.142171</td>\n      <td>NaN</td>\n      <td>False</td>\n      <td>False</td>\n      <td>False</td>\n      <td>False</td>\n    </tr>\n    <tr>\n      <th>1970-01-01 00:00:11.904</th>\n      <td>-0.502511</td>\n      <td>-2.153617</td>\n      <td>-1.207496</td>\n      <td>-31.220001</td>\n      <td>17.920000</td>\n      <td>1.05</td>\n      <td>-54.309113</td>\n      <td>152.518723</td>\n      <td>75.203636</td>\n      <td>-0.368642</td>\n      <td>...</td>\n      <td>22753.810099</td>\n      <td>5672.670975</td>\n      <td>0.650673</td>\n      <td>1.189241</td>\n      <td>108.962926</td>\n      <td>NaN</td>\n      <td>False</td>\n      <td>False</td>\n      <td>False</td>\n      <td>False</td>\n    </tr>\n    <tr>\n      <th>1970-01-01 00:00:11.913</th>\n      <td>-0.997843</td>\n      <td>-1.754002</td>\n      <td>-2.150302</td>\n      <td>-38.359997</td>\n      <td>18.410000</td>\n      <td>5.60</td>\n      <td>-56.541454</td>\n      <td>149.155975</td>\n      <td>72.519699</td>\n      <td>-0.712958</td>\n      <td>...</td>\n      <td>22788.442908</td>\n      <td>5658.684131</td>\n      <td>0.518561</td>\n      <td>1.167121</td>\n      <td>112.346889</td>\n      <td>NaN</td>\n      <td>False</td>\n      <td>False</td>\n      <td>False</td>\n      <td>False</td>\n    </tr>\n    <tr>\n      <th>1970-01-01 00:00:11.922</th>\n      <td>-1.007414</td>\n      <td>-1.777931</td>\n      <td>-2.662384</td>\n      <td>-44.099998</td>\n      <td>16.309999</td>\n      <td>9.45</td>\n      <td>-56.513195</td>\n      <td>149.161926</td>\n      <td>73.361679</td>\n      <td>-1.054044</td>\n      <td>...</td>\n      <td>22821.690627</td>\n      <td>5648.327665</td>\n      <td>0.402142</td>\n      <td>1.132441</td>\n      <td>114.404168</td>\n      <td>NaN</td>\n      <td>False</td>\n      <td>False</td>\n      <td>False</td>\n      <td>False</td>\n    </tr>\n    <tr>\n      <th>1970-01-01 00:00:11.937</th>\n      <td>-0.904519</td>\n      <td>-1.904755</td>\n      <td>-2.159873</td>\n      <td>-38.009998</td>\n      <td>12.670000</td>\n      <td>11.69</td>\n      <td>-55.549248</td>\n      <td>151.130432</td>\n      <td>74.405098</td>\n      <td>-0.746844</td>\n      <td>...</td>\n      <td>22856.088016</td>\n      <td>5641.186223</td>\n      <td>0.300912</td>\n      <td>1.084851</td>\n      <td>115.221659</td>\n      <td>-10.734135</td>\n      <td>False</td>\n      <td>False</td>\n      <td>False</td>\n      <td>True</td>\n    </tr>\n  </tbody>\n</table>\n<p>66 rows × 42 columns</p>\n</div>"
     },
     "execution_count": 29,
     "metadata": {},
     "output_type": "execute_result"
    }
   ],
   "source": [
    "squat_jump = data[3][\"series\"]\n",
    "squat_jump"
   ],
   "metadata": {
    "collapsed": false,
    "ExecuteTime": {
     "end_time": "2024-01-22T10:59:24.992682600Z",
     "start_time": "2024-01-22T10:59:24.637750100Z"
    }
   },
   "id": "fe2d6bbbde50dc26",
   "execution_count": 29
  },
  {
   "cell_type": "code",
   "outputs": [
    {
     "data": {
      "application/vnd.plotly.v1+json": {
       "data": [
        {
         "hovertemplate": "time=%{x}<br>linAccZ=%{y}<extra></extra>",
         "legendgroup": "",
         "line": {
          "color": "#636efa",
          "dash": "solid"
         },
         "marker": {
          "symbol": "circle"
         },
         "mode": "lines",
         "name": "",
         "orientation": "v",
         "showlegend": false,
         "x": [
          "1970-01-01T00:00:11.294000",
          "1970-01-01T00:00:11.309000",
          "1970-01-01T00:00:11.318000",
          "1970-01-01T00:00:11.327000",
          "1970-01-01T00:00:11.336000",
          "1970-01-01T00:00:11.345000",
          "1970-01-01T00:00:11.354000",
          "1970-01-01T00:00:11.363000",
          "1970-01-01T00:00:11.372000",
          "1970-01-01T00:00:11.387000",
          "1970-01-01T00:00:11.396000",
          "1970-01-01T00:00:11.405000",
          "1970-01-01T00:00:11.414000",
          "1970-01-01T00:00:11.423000",
          "1970-01-01T00:00:11.432000",
          "1970-01-01T00:00:11.441000",
          "1970-01-01T00:00:11.450000",
          "1970-01-01T00:00:11.466000",
          "1970-01-01T00:00:11.475000",
          "1970-01-01T00:00:11.484000",
          "1970-01-01T00:00:11.493000",
          "1970-01-01T00:00:11.502000",
          "1970-01-01T00:00:11.511000",
          "1970-01-01T00:00:11.520000",
          "1970-01-01T00:00:11.529000",
          "1970-01-01T00:00:11.544000",
          "1970-01-01T00:00:11.553000",
          "1970-01-01T00:00:11.562000",
          "1970-01-01T00:00:11.571000",
          "1970-01-01T00:00:11.580000",
          "1970-01-01T00:00:11.589000",
          "1970-01-01T00:00:11.598000",
          "1970-01-01T00:00:11.607000",
          "1970-01-01T00:00:11.623000",
          "1970-01-01T00:00:11.632000",
          "1970-01-01T00:00:11.641000",
          "1970-01-01T00:00:11.650000",
          "1970-01-01T00:00:11.659000",
          "1970-01-01T00:00:11.668000",
          "1970-01-01T00:00:11.677000",
          "1970-01-01T00:00:11.686000",
          "1970-01-01T00:00:11.702000",
          "1970-01-01T00:00:11.711000",
          "1970-01-01T00:00:11.720000",
          "1970-01-01T00:00:11.729000",
          "1970-01-01T00:00:11.738000",
          "1970-01-01T00:00:11.747000",
          "1970-01-01T00:00:11.756000",
          "1970-01-01T00:00:11.765000",
          "1970-01-01T00:00:11.781000",
          "1970-01-01T00:00:11.790000",
          "1970-01-01T00:00:11.799000",
          "1970-01-01T00:00:11.808000",
          "1970-01-01T00:00:11.817000",
          "1970-01-01T00:00:11.826000",
          "1970-01-01T00:00:11.835000",
          "1970-01-01T00:00:11.844000",
          "1970-01-01T00:00:11.859000",
          "1970-01-01T00:00:11.868000",
          "1970-01-01T00:00:11.877000",
          "1970-01-01T00:00:11.886000",
          "1970-01-01T00:00:11.895000",
          "1970-01-01T00:00:11.904000",
          "1970-01-01T00:00:11.913000",
          "1970-01-01T00:00:11.922000",
          "1970-01-01T00:00:11.937000"
         ],
         "xaxis": "x",
         "y": [
          -5.619439126010984,
          -5.58520385114476,
          -5.475271463915705,
          -5.28554225480184,
          -5.0110051478445525,
          -4.652880467455835,
          -4.210800386443734,
          -3.6919835358113056,
          -3.1024472941458225,
          -2.445024919733405,
          -1.7270009396970274,
          -0.9569693858176469,
          -0.1435960972309112,
          0.7031964194029572,
          1.5745504181087018,
          2.4577055332809685,
          3.3466709902882577,
          4.234539341554045,
          5.113907648473978,
          5.9814058787375695,
          6.832461178302765,
          7.659257537648083,
          8.454171215146781,
          9.20773578442633,
          9.9020301553607,
          10.533816906437277,
          11.096296413689853,
          11.593451111391186,
          12.022625254988672,
          12.371369544491172,
          12.63358596906066,
          12.800568285062909,
          12.865337540805339,
          12.82451394289732,
          12.678325466513634,
          12.429354960620403,
          12.072427377700805,
          11.605301970541477,
          11.030272009968758,
          10.3499612185359,
          9.565484976768493,
          8.682226512730121,
          7.7084327632188785,
          6.653974605500698,
          5.53905655503273,
          4.373687950670719,
          3.1688298290967944,
          1.9315288254618643,
          0.6741105842590331,
          -0.5785190609097481,
          -1.8064561361074447,
          -2.9851869162917137,
          -4.097748013734818,
          -5.134027612507344,
          -6.092312576174736,
          -6.966648500859738,
          -7.74837893486023,
          -8.431148046553135,
          -9.012335298657417,
          -9.498735642135143,
          -9.894395035505294,
          -10.205007164776324,
          -10.438530816435813,
          -10.599381547868251,
          -10.695988428592681,
          -10.734135223925113
         ],
         "yaxis": "y",
         "type": "scatter"
        }
       ],
       "layout": {
        "template": {
         "data": {
          "histogram2dcontour": [
           {
            "type": "histogram2dcontour",
            "colorbar": {
             "outlinewidth": 0,
             "ticks": ""
            },
            "colorscale": [
             [
              0.0,
              "#0d0887"
             ],
             [
              0.1111111111111111,
              "#46039f"
             ],
             [
              0.2222222222222222,
              "#7201a8"
             ],
             [
              0.3333333333333333,
              "#9c179e"
             ],
             [
              0.4444444444444444,
              "#bd3786"
             ],
             [
              0.5555555555555556,
              "#d8576b"
             ],
             [
              0.6666666666666666,
              "#ed7953"
             ],
             [
              0.7777777777777778,
              "#fb9f3a"
             ],
             [
              0.8888888888888888,
              "#fdca26"
             ],
             [
              1.0,
              "#f0f921"
             ]
            ]
           }
          ],
          "choropleth": [
           {
            "type": "choropleth",
            "colorbar": {
             "outlinewidth": 0,
             "ticks": ""
            }
           }
          ],
          "histogram2d": [
           {
            "type": "histogram2d",
            "colorbar": {
             "outlinewidth": 0,
             "ticks": ""
            },
            "colorscale": [
             [
              0.0,
              "#0d0887"
             ],
             [
              0.1111111111111111,
              "#46039f"
             ],
             [
              0.2222222222222222,
              "#7201a8"
             ],
             [
              0.3333333333333333,
              "#9c179e"
             ],
             [
              0.4444444444444444,
              "#bd3786"
             ],
             [
              0.5555555555555556,
              "#d8576b"
             ],
             [
              0.6666666666666666,
              "#ed7953"
             ],
             [
              0.7777777777777778,
              "#fb9f3a"
             ],
             [
              0.8888888888888888,
              "#fdca26"
             ],
             [
              1.0,
              "#f0f921"
             ]
            ]
           }
          ],
          "heatmap": [
           {
            "type": "heatmap",
            "colorbar": {
             "outlinewidth": 0,
             "ticks": ""
            },
            "colorscale": [
             [
              0.0,
              "#0d0887"
             ],
             [
              0.1111111111111111,
              "#46039f"
             ],
             [
              0.2222222222222222,
              "#7201a8"
             ],
             [
              0.3333333333333333,
              "#9c179e"
             ],
             [
              0.4444444444444444,
              "#bd3786"
             ],
             [
              0.5555555555555556,
              "#d8576b"
             ],
             [
              0.6666666666666666,
              "#ed7953"
             ],
             [
              0.7777777777777778,
              "#fb9f3a"
             ],
             [
              0.8888888888888888,
              "#fdca26"
             ],
             [
              1.0,
              "#f0f921"
             ]
            ]
           }
          ],
          "heatmapgl": [
           {
            "type": "heatmapgl",
            "colorbar": {
             "outlinewidth": 0,
             "ticks": ""
            },
            "colorscale": [
             [
              0.0,
              "#0d0887"
             ],
             [
              0.1111111111111111,
              "#46039f"
             ],
             [
              0.2222222222222222,
              "#7201a8"
             ],
             [
              0.3333333333333333,
              "#9c179e"
             ],
             [
              0.4444444444444444,
              "#bd3786"
             ],
             [
              0.5555555555555556,
              "#d8576b"
             ],
             [
              0.6666666666666666,
              "#ed7953"
             ],
             [
              0.7777777777777778,
              "#fb9f3a"
             ],
             [
              0.8888888888888888,
              "#fdca26"
             ],
             [
              1.0,
              "#f0f921"
             ]
            ]
           }
          ],
          "contourcarpet": [
           {
            "type": "contourcarpet",
            "colorbar": {
             "outlinewidth": 0,
             "ticks": ""
            }
           }
          ],
          "contour": [
           {
            "type": "contour",
            "colorbar": {
             "outlinewidth": 0,
             "ticks": ""
            },
            "colorscale": [
             [
              0.0,
              "#0d0887"
             ],
             [
              0.1111111111111111,
              "#46039f"
             ],
             [
              0.2222222222222222,
              "#7201a8"
             ],
             [
              0.3333333333333333,
              "#9c179e"
             ],
             [
              0.4444444444444444,
              "#bd3786"
             ],
             [
              0.5555555555555556,
              "#d8576b"
             ],
             [
              0.6666666666666666,
              "#ed7953"
             ],
             [
              0.7777777777777778,
              "#fb9f3a"
             ],
             [
              0.8888888888888888,
              "#fdca26"
             ],
             [
              1.0,
              "#f0f921"
             ]
            ]
           }
          ],
          "surface": [
           {
            "type": "surface",
            "colorbar": {
             "outlinewidth": 0,
             "ticks": ""
            },
            "colorscale": [
             [
              0.0,
              "#0d0887"
             ],
             [
              0.1111111111111111,
              "#46039f"
             ],
             [
              0.2222222222222222,
              "#7201a8"
             ],
             [
              0.3333333333333333,
              "#9c179e"
             ],
             [
              0.4444444444444444,
              "#bd3786"
             ],
             [
              0.5555555555555556,
              "#d8576b"
             ],
             [
              0.6666666666666666,
              "#ed7953"
             ],
             [
              0.7777777777777778,
              "#fb9f3a"
             ],
             [
              0.8888888888888888,
              "#fdca26"
             ],
             [
              1.0,
              "#f0f921"
             ]
            ]
           }
          ],
          "mesh3d": [
           {
            "type": "mesh3d",
            "colorbar": {
             "outlinewidth": 0,
             "ticks": ""
            }
           }
          ],
          "scatter": [
           {
            "fillpattern": {
             "fillmode": "overlay",
             "size": 10,
             "solidity": 0.2
            },
            "type": "scatter"
           }
          ],
          "parcoords": [
           {
            "type": "parcoords",
            "line": {
             "colorbar": {
              "outlinewidth": 0,
              "ticks": ""
             }
            }
           }
          ],
          "scatterpolargl": [
           {
            "type": "scatterpolargl",
            "marker": {
             "colorbar": {
              "outlinewidth": 0,
              "ticks": ""
             }
            }
           }
          ],
          "bar": [
           {
            "error_x": {
             "color": "#2a3f5f"
            },
            "error_y": {
             "color": "#2a3f5f"
            },
            "marker": {
             "line": {
              "color": "#E5ECF6",
              "width": 0.5
             },
             "pattern": {
              "fillmode": "overlay",
              "size": 10,
              "solidity": 0.2
             }
            },
            "type": "bar"
           }
          ],
          "scattergeo": [
           {
            "type": "scattergeo",
            "marker": {
             "colorbar": {
              "outlinewidth": 0,
              "ticks": ""
             }
            }
           }
          ],
          "scatterpolar": [
           {
            "type": "scatterpolar",
            "marker": {
             "colorbar": {
              "outlinewidth": 0,
              "ticks": ""
             }
            }
           }
          ],
          "histogram": [
           {
            "marker": {
             "pattern": {
              "fillmode": "overlay",
              "size": 10,
              "solidity": 0.2
             }
            },
            "type": "histogram"
           }
          ],
          "scattergl": [
           {
            "type": "scattergl",
            "marker": {
             "colorbar": {
              "outlinewidth": 0,
              "ticks": ""
             }
            }
           }
          ],
          "scatter3d": [
           {
            "type": "scatter3d",
            "line": {
             "colorbar": {
              "outlinewidth": 0,
              "ticks": ""
             }
            },
            "marker": {
             "colorbar": {
              "outlinewidth": 0,
              "ticks": ""
             }
            }
           }
          ],
          "scattermapbox": [
           {
            "type": "scattermapbox",
            "marker": {
             "colorbar": {
              "outlinewidth": 0,
              "ticks": ""
             }
            }
           }
          ],
          "scatterternary": [
           {
            "type": "scatterternary",
            "marker": {
             "colorbar": {
              "outlinewidth": 0,
              "ticks": ""
             }
            }
           }
          ],
          "scattercarpet": [
           {
            "type": "scattercarpet",
            "marker": {
             "colorbar": {
              "outlinewidth": 0,
              "ticks": ""
             }
            }
           }
          ],
          "carpet": [
           {
            "aaxis": {
             "endlinecolor": "#2a3f5f",
             "gridcolor": "white",
             "linecolor": "white",
             "minorgridcolor": "white",
             "startlinecolor": "#2a3f5f"
            },
            "baxis": {
             "endlinecolor": "#2a3f5f",
             "gridcolor": "white",
             "linecolor": "white",
             "minorgridcolor": "white",
             "startlinecolor": "#2a3f5f"
            },
            "type": "carpet"
           }
          ],
          "table": [
           {
            "cells": {
             "fill": {
              "color": "#EBF0F8"
             },
             "line": {
              "color": "white"
             }
            },
            "header": {
             "fill": {
              "color": "#C8D4E3"
             },
             "line": {
              "color": "white"
             }
            },
            "type": "table"
           }
          ],
          "barpolar": [
           {
            "marker": {
             "line": {
              "color": "#E5ECF6",
              "width": 0.5
             },
             "pattern": {
              "fillmode": "overlay",
              "size": 10,
              "solidity": 0.2
             }
            },
            "type": "barpolar"
           }
          ],
          "pie": [
           {
            "automargin": true,
            "type": "pie"
           }
          ]
         },
         "layout": {
          "autotypenumbers": "strict",
          "colorway": [
           "#636efa",
           "#EF553B",
           "#00cc96",
           "#ab63fa",
           "#FFA15A",
           "#19d3f3",
           "#FF6692",
           "#B6E880",
           "#FF97FF",
           "#FECB52"
          ],
          "font": {
           "color": "#2a3f5f"
          },
          "hovermode": "closest",
          "hoverlabel": {
           "align": "left"
          },
          "paper_bgcolor": "white",
          "plot_bgcolor": "#E5ECF6",
          "polar": {
           "bgcolor": "#E5ECF6",
           "angularaxis": {
            "gridcolor": "white",
            "linecolor": "white",
            "ticks": ""
           },
           "radialaxis": {
            "gridcolor": "white",
            "linecolor": "white",
            "ticks": ""
           }
          },
          "ternary": {
           "bgcolor": "#E5ECF6",
           "aaxis": {
            "gridcolor": "white",
            "linecolor": "white",
            "ticks": ""
           },
           "baxis": {
            "gridcolor": "white",
            "linecolor": "white",
            "ticks": ""
           },
           "caxis": {
            "gridcolor": "white",
            "linecolor": "white",
            "ticks": ""
           }
          },
          "coloraxis": {
           "colorbar": {
            "outlinewidth": 0,
            "ticks": ""
           }
          },
          "colorscale": {
           "sequential": [
            [
             0.0,
             "#0d0887"
            ],
            [
             0.1111111111111111,
             "#46039f"
            ],
            [
             0.2222222222222222,
             "#7201a8"
            ],
            [
             0.3333333333333333,
             "#9c179e"
            ],
            [
             0.4444444444444444,
             "#bd3786"
            ],
            [
             0.5555555555555556,
             "#d8576b"
            ],
            [
             0.6666666666666666,
             "#ed7953"
            ],
            [
             0.7777777777777778,
             "#fb9f3a"
            ],
            [
             0.8888888888888888,
             "#fdca26"
            ],
            [
             1.0,
             "#f0f921"
            ]
           ],
           "sequentialminus": [
            [
             0.0,
             "#0d0887"
            ],
            [
             0.1111111111111111,
             "#46039f"
            ],
            [
             0.2222222222222222,
             "#7201a8"
            ],
            [
             0.3333333333333333,
             "#9c179e"
            ],
            [
             0.4444444444444444,
             "#bd3786"
            ],
            [
             0.5555555555555556,
             "#d8576b"
            ],
            [
             0.6666666666666666,
             "#ed7953"
            ],
            [
             0.7777777777777778,
             "#fb9f3a"
            ],
            [
             0.8888888888888888,
             "#fdca26"
            ],
            [
             1.0,
             "#f0f921"
            ]
           ],
           "diverging": [
            [
             0,
             "#8e0152"
            ],
            [
             0.1,
             "#c51b7d"
            ],
            [
             0.2,
             "#de77ae"
            ],
            [
             0.3,
             "#f1b6da"
            ],
            [
             0.4,
             "#fde0ef"
            ],
            [
             0.5,
             "#f7f7f7"
            ],
            [
             0.6,
             "#e6f5d0"
            ],
            [
             0.7,
             "#b8e186"
            ],
            [
             0.8,
             "#7fbc41"
            ],
            [
             0.9,
             "#4d9221"
            ],
            [
             1,
             "#276419"
            ]
           ]
          },
          "xaxis": {
           "gridcolor": "white",
           "linecolor": "white",
           "ticks": "",
           "title": {
            "standoff": 15
           },
           "zerolinecolor": "white",
           "automargin": true,
           "zerolinewidth": 2
          },
          "yaxis": {
           "gridcolor": "white",
           "linecolor": "white",
           "ticks": "",
           "title": {
            "standoff": 15
           },
           "zerolinecolor": "white",
           "automargin": true,
           "zerolinewidth": 2
          },
          "scene": {
           "xaxis": {
            "backgroundcolor": "#E5ECF6",
            "gridcolor": "white",
            "linecolor": "white",
            "showbackground": true,
            "ticks": "",
            "zerolinecolor": "white",
            "gridwidth": 2
           },
           "yaxis": {
            "backgroundcolor": "#E5ECF6",
            "gridcolor": "white",
            "linecolor": "white",
            "showbackground": true,
            "ticks": "",
            "zerolinecolor": "white",
            "gridwidth": 2
           },
           "zaxis": {
            "backgroundcolor": "#E5ECF6",
            "gridcolor": "white",
            "linecolor": "white",
            "showbackground": true,
            "ticks": "",
            "zerolinecolor": "white",
            "gridwidth": 2
           }
          },
          "shapedefaults": {
           "line": {
            "color": "#2a3f5f"
           }
          },
          "annotationdefaults": {
           "arrowcolor": "#2a3f5f",
           "arrowhead": 0,
           "arrowwidth": 1
          },
          "geo": {
           "bgcolor": "white",
           "landcolor": "#E5ECF6",
           "subunitcolor": "white",
           "showland": true,
           "showlakes": true,
           "lakecolor": "white"
          },
          "title": {
           "x": 0.05
          },
          "mapbox": {
           "style": "light"
          }
         }
        },
        "xaxis": {
         "anchor": "y",
         "domain": [
          0.0,
          1.0
         ],
         "title": {
          "text": "time"
         }
        },
        "yaxis": {
         "anchor": "x",
         "domain": [
          0.0,
          1.0
         ],
         "title": {
          "text": "linAccZ"
         }
        },
        "legend": {
         "tracegroupgap": 0
        },
        "title": {
         "text": "Linear Acceleration Z over Time"
        }
       },
       "config": {
        "plotlyServerURL": "https://plot.ly"
       }
      },
      "text/html": "<div>                            <div id=\"5125b194-f21d-4814-b02e-5b10c8a16473\" class=\"plotly-graph-div\" style=\"height:525px; width:100%;\"></div>            <script type=\"text/javascript\">                require([\"plotly\"], function(Plotly) {                    window.PLOTLYENV=window.PLOTLYENV || {};                                    if (document.getElementById(\"5125b194-f21d-4814-b02e-5b10c8a16473\")) {                    Plotly.newPlot(                        \"5125b194-f21d-4814-b02e-5b10c8a16473\",                        [{\"hovertemplate\":\"time=%{x}\\u003cbr\\u003elinAccZ=%{y}\\u003cextra\\u003e\\u003c\\u002fextra\\u003e\",\"legendgroup\":\"\",\"line\":{\"color\":\"#636efa\",\"dash\":\"solid\"},\"marker\":{\"symbol\":\"circle\"},\"mode\":\"lines\",\"name\":\"\",\"orientation\":\"v\",\"showlegend\":false,\"x\":[\"1970-01-01T00:00:11.294000\",\"1970-01-01T00:00:11.309000\",\"1970-01-01T00:00:11.318000\",\"1970-01-01T00:00:11.327000\",\"1970-01-01T00:00:11.336000\",\"1970-01-01T00:00:11.345000\",\"1970-01-01T00:00:11.354000\",\"1970-01-01T00:00:11.363000\",\"1970-01-01T00:00:11.372000\",\"1970-01-01T00:00:11.387000\",\"1970-01-01T00:00:11.396000\",\"1970-01-01T00:00:11.405000\",\"1970-01-01T00:00:11.414000\",\"1970-01-01T00:00:11.423000\",\"1970-01-01T00:00:11.432000\",\"1970-01-01T00:00:11.441000\",\"1970-01-01T00:00:11.450000\",\"1970-01-01T00:00:11.466000\",\"1970-01-01T00:00:11.475000\",\"1970-01-01T00:00:11.484000\",\"1970-01-01T00:00:11.493000\",\"1970-01-01T00:00:11.502000\",\"1970-01-01T00:00:11.511000\",\"1970-01-01T00:00:11.520000\",\"1970-01-01T00:00:11.529000\",\"1970-01-01T00:00:11.544000\",\"1970-01-01T00:00:11.553000\",\"1970-01-01T00:00:11.562000\",\"1970-01-01T00:00:11.571000\",\"1970-01-01T00:00:11.580000\",\"1970-01-01T00:00:11.589000\",\"1970-01-01T00:00:11.598000\",\"1970-01-01T00:00:11.607000\",\"1970-01-01T00:00:11.623000\",\"1970-01-01T00:00:11.632000\",\"1970-01-01T00:00:11.641000\",\"1970-01-01T00:00:11.650000\",\"1970-01-01T00:00:11.659000\",\"1970-01-01T00:00:11.668000\",\"1970-01-01T00:00:11.677000\",\"1970-01-01T00:00:11.686000\",\"1970-01-01T00:00:11.702000\",\"1970-01-01T00:00:11.711000\",\"1970-01-01T00:00:11.720000\",\"1970-01-01T00:00:11.729000\",\"1970-01-01T00:00:11.738000\",\"1970-01-01T00:00:11.747000\",\"1970-01-01T00:00:11.756000\",\"1970-01-01T00:00:11.765000\",\"1970-01-01T00:00:11.781000\",\"1970-01-01T00:00:11.790000\",\"1970-01-01T00:00:11.799000\",\"1970-01-01T00:00:11.808000\",\"1970-01-01T00:00:11.817000\",\"1970-01-01T00:00:11.826000\",\"1970-01-01T00:00:11.835000\",\"1970-01-01T00:00:11.844000\",\"1970-01-01T00:00:11.859000\",\"1970-01-01T00:00:11.868000\",\"1970-01-01T00:00:11.877000\",\"1970-01-01T00:00:11.886000\",\"1970-01-01T00:00:11.895000\",\"1970-01-01T00:00:11.904000\",\"1970-01-01T00:00:11.913000\",\"1970-01-01T00:00:11.922000\",\"1970-01-01T00:00:11.937000\"],\"xaxis\":\"x\",\"y\":[-5.619439126010984,-5.58520385114476,-5.475271463915705,-5.28554225480184,-5.0110051478445525,-4.652880467455835,-4.210800386443734,-3.6919835358113056,-3.1024472941458225,-2.445024919733405,-1.7270009396970274,-0.9569693858176469,-0.1435960972309112,0.7031964194029572,1.5745504181087018,2.4577055332809685,3.3466709902882577,4.234539341554045,5.113907648473978,5.9814058787375695,6.832461178302765,7.659257537648083,8.454171215146781,9.20773578442633,9.9020301553607,10.533816906437277,11.096296413689853,11.593451111391186,12.022625254988672,12.371369544491172,12.63358596906066,12.800568285062909,12.865337540805339,12.82451394289732,12.678325466513634,12.429354960620403,12.072427377700805,11.605301970541477,11.030272009968758,10.3499612185359,9.565484976768493,8.682226512730121,7.7084327632188785,6.653974605500698,5.53905655503273,4.373687950670719,3.1688298290967944,1.9315288254618643,0.6741105842590331,-0.5785190609097481,-1.8064561361074447,-2.9851869162917137,-4.097748013734818,-5.134027612507344,-6.092312576174736,-6.966648500859738,-7.74837893486023,-8.431148046553135,-9.012335298657417,-9.498735642135143,-9.894395035505294,-10.205007164776324,-10.438530816435813,-10.599381547868251,-10.695988428592681,-10.734135223925113],\"yaxis\":\"y\",\"type\":\"scatter\"}],                        {\"template\":{\"data\":{\"histogram2dcontour\":[{\"type\":\"histogram2dcontour\",\"colorbar\":{\"outlinewidth\":0,\"ticks\":\"\"},\"colorscale\":[[0.0,\"#0d0887\"],[0.1111111111111111,\"#46039f\"],[0.2222222222222222,\"#7201a8\"],[0.3333333333333333,\"#9c179e\"],[0.4444444444444444,\"#bd3786\"],[0.5555555555555556,\"#d8576b\"],[0.6666666666666666,\"#ed7953\"],[0.7777777777777778,\"#fb9f3a\"],[0.8888888888888888,\"#fdca26\"],[1.0,\"#f0f921\"]]}],\"choropleth\":[{\"type\":\"choropleth\",\"colorbar\":{\"outlinewidth\":0,\"ticks\":\"\"}}],\"histogram2d\":[{\"type\":\"histogram2d\",\"colorbar\":{\"outlinewidth\":0,\"ticks\":\"\"},\"colorscale\":[[0.0,\"#0d0887\"],[0.1111111111111111,\"#46039f\"],[0.2222222222222222,\"#7201a8\"],[0.3333333333333333,\"#9c179e\"],[0.4444444444444444,\"#bd3786\"],[0.5555555555555556,\"#d8576b\"],[0.6666666666666666,\"#ed7953\"],[0.7777777777777778,\"#fb9f3a\"],[0.8888888888888888,\"#fdca26\"],[1.0,\"#f0f921\"]]}],\"heatmap\":[{\"type\":\"heatmap\",\"colorbar\":{\"outlinewidth\":0,\"ticks\":\"\"},\"colorscale\":[[0.0,\"#0d0887\"],[0.1111111111111111,\"#46039f\"],[0.2222222222222222,\"#7201a8\"],[0.3333333333333333,\"#9c179e\"],[0.4444444444444444,\"#bd3786\"],[0.5555555555555556,\"#d8576b\"],[0.6666666666666666,\"#ed7953\"],[0.7777777777777778,\"#fb9f3a\"],[0.8888888888888888,\"#fdca26\"],[1.0,\"#f0f921\"]]}],\"heatmapgl\":[{\"type\":\"heatmapgl\",\"colorbar\":{\"outlinewidth\":0,\"ticks\":\"\"},\"colorscale\":[[0.0,\"#0d0887\"],[0.1111111111111111,\"#46039f\"],[0.2222222222222222,\"#7201a8\"],[0.3333333333333333,\"#9c179e\"],[0.4444444444444444,\"#bd3786\"],[0.5555555555555556,\"#d8576b\"],[0.6666666666666666,\"#ed7953\"],[0.7777777777777778,\"#fb9f3a\"],[0.8888888888888888,\"#fdca26\"],[1.0,\"#f0f921\"]]}],\"contourcarpet\":[{\"type\":\"contourcarpet\",\"colorbar\":{\"outlinewidth\":0,\"ticks\":\"\"}}],\"contour\":[{\"type\":\"contour\",\"colorbar\":{\"outlinewidth\":0,\"ticks\":\"\"},\"colorscale\":[[0.0,\"#0d0887\"],[0.1111111111111111,\"#46039f\"],[0.2222222222222222,\"#7201a8\"],[0.3333333333333333,\"#9c179e\"],[0.4444444444444444,\"#bd3786\"],[0.5555555555555556,\"#d8576b\"],[0.6666666666666666,\"#ed7953\"],[0.7777777777777778,\"#fb9f3a\"],[0.8888888888888888,\"#fdca26\"],[1.0,\"#f0f921\"]]}],\"surface\":[{\"type\":\"surface\",\"colorbar\":{\"outlinewidth\":0,\"ticks\":\"\"},\"colorscale\":[[0.0,\"#0d0887\"],[0.1111111111111111,\"#46039f\"],[0.2222222222222222,\"#7201a8\"],[0.3333333333333333,\"#9c179e\"],[0.4444444444444444,\"#bd3786\"],[0.5555555555555556,\"#d8576b\"],[0.6666666666666666,\"#ed7953\"],[0.7777777777777778,\"#fb9f3a\"],[0.8888888888888888,\"#fdca26\"],[1.0,\"#f0f921\"]]}],\"mesh3d\":[{\"type\":\"mesh3d\",\"colorbar\":{\"outlinewidth\":0,\"ticks\":\"\"}}],\"scatter\":[{\"fillpattern\":{\"fillmode\":\"overlay\",\"size\":10,\"solidity\":0.2},\"type\":\"scatter\"}],\"parcoords\":[{\"type\":\"parcoords\",\"line\":{\"colorbar\":{\"outlinewidth\":0,\"ticks\":\"\"}}}],\"scatterpolargl\":[{\"type\":\"scatterpolargl\",\"marker\":{\"colorbar\":{\"outlinewidth\":0,\"ticks\":\"\"}}}],\"bar\":[{\"error_x\":{\"color\":\"#2a3f5f\"},\"error_y\":{\"color\":\"#2a3f5f\"},\"marker\":{\"line\":{\"color\":\"#E5ECF6\",\"width\":0.5},\"pattern\":{\"fillmode\":\"overlay\",\"size\":10,\"solidity\":0.2}},\"type\":\"bar\"}],\"scattergeo\":[{\"type\":\"scattergeo\",\"marker\":{\"colorbar\":{\"outlinewidth\":0,\"ticks\":\"\"}}}],\"scatterpolar\":[{\"type\":\"scatterpolar\",\"marker\":{\"colorbar\":{\"outlinewidth\":0,\"ticks\":\"\"}}}],\"histogram\":[{\"marker\":{\"pattern\":{\"fillmode\":\"overlay\",\"size\":10,\"solidity\":0.2}},\"type\":\"histogram\"}],\"scattergl\":[{\"type\":\"scattergl\",\"marker\":{\"colorbar\":{\"outlinewidth\":0,\"ticks\":\"\"}}}],\"scatter3d\":[{\"type\":\"scatter3d\",\"line\":{\"colorbar\":{\"outlinewidth\":0,\"ticks\":\"\"}},\"marker\":{\"colorbar\":{\"outlinewidth\":0,\"ticks\":\"\"}}}],\"scattermapbox\":[{\"type\":\"scattermapbox\",\"marker\":{\"colorbar\":{\"outlinewidth\":0,\"ticks\":\"\"}}}],\"scatterternary\":[{\"type\":\"scatterternary\",\"marker\":{\"colorbar\":{\"outlinewidth\":0,\"ticks\":\"\"}}}],\"scattercarpet\":[{\"type\":\"scattercarpet\",\"marker\":{\"colorbar\":{\"outlinewidth\":0,\"ticks\":\"\"}}}],\"carpet\":[{\"aaxis\":{\"endlinecolor\":\"#2a3f5f\",\"gridcolor\":\"white\",\"linecolor\":\"white\",\"minorgridcolor\":\"white\",\"startlinecolor\":\"#2a3f5f\"},\"baxis\":{\"endlinecolor\":\"#2a3f5f\",\"gridcolor\":\"white\",\"linecolor\":\"white\",\"minorgridcolor\":\"white\",\"startlinecolor\":\"#2a3f5f\"},\"type\":\"carpet\"}],\"table\":[{\"cells\":{\"fill\":{\"color\":\"#EBF0F8\"},\"line\":{\"color\":\"white\"}},\"header\":{\"fill\":{\"color\":\"#C8D4E3\"},\"line\":{\"color\":\"white\"}},\"type\":\"table\"}],\"barpolar\":[{\"marker\":{\"line\":{\"color\":\"#E5ECF6\",\"width\":0.5},\"pattern\":{\"fillmode\":\"overlay\",\"size\":10,\"solidity\":0.2}},\"type\":\"barpolar\"}],\"pie\":[{\"automargin\":true,\"type\":\"pie\"}]},\"layout\":{\"autotypenumbers\":\"strict\",\"colorway\":[\"#636efa\",\"#EF553B\",\"#00cc96\",\"#ab63fa\",\"#FFA15A\",\"#19d3f3\",\"#FF6692\",\"#B6E880\",\"#FF97FF\",\"#FECB52\"],\"font\":{\"color\":\"#2a3f5f\"},\"hovermode\":\"closest\",\"hoverlabel\":{\"align\":\"left\"},\"paper_bgcolor\":\"white\",\"plot_bgcolor\":\"#E5ECF6\",\"polar\":{\"bgcolor\":\"#E5ECF6\",\"angularaxis\":{\"gridcolor\":\"white\",\"linecolor\":\"white\",\"ticks\":\"\"},\"radialaxis\":{\"gridcolor\":\"white\",\"linecolor\":\"white\",\"ticks\":\"\"}},\"ternary\":{\"bgcolor\":\"#E5ECF6\",\"aaxis\":{\"gridcolor\":\"white\",\"linecolor\":\"white\",\"ticks\":\"\"},\"baxis\":{\"gridcolor\":\"white\",\"linecolor\":\"white\",\"ticks\":\"\"},\"caxis\":{\"gridcolor\":\"white\",\"linecolor\":\"white\",\"ticks\":\"\"}},\"coloraxis\":{\"colorbar\":{\"outlinewidth\":0,\"ticks\":\"\"}},\"colorscale\":{\"sequential\":[[0.0,\"#0d0887\"],[0.1111111111111111,\"#46039f\"],[0.2222222222222222,\"#7201a8\"],[0.3333333333333333,\"#9c179e\"],[0.4444444444444444,\"#bd3786\"],[0.5555555555555556,\"#d8576b\"],[0.6666666666666666,\"#ed7953\"],[0.7777777777777778,\"#fb9f3a\"],[0.8888888888888888,\"#fdca26\"],[1.0,\"#f0f921\"]],\"sequentialminus\":[[0.0,\"#0d0887\"],[0.1111111111111111,\"#46039f\"],[0.2222222222222222,\"#7201a8\"],[0.3333333333333333,\"#9c179e\"],[0.4444444444444444,\"#bd3786\"],[0.5555555555555556,\"#d8576b\"],[0.6666666666666666,\"#ed7953\"],[0.7777777777777778,\"#fb9f3a\"],[0.8888888888888888,\"#fdca26\"],[1.0,\"#f0f921\"]],\"diverging\":[[0,\"#8e0152\"],[0.1,\"#c51b7d\"],[0.2,\"#de77ae\"],[0.3,\"#f1b6da\"],[0.4,\"#fde0ef\"],[0.5,\"#f7f7f7\"],[0.6,\"#e6f5d0\"],[0.7,\"#b8e186\"],[0.8,\"#7fbc41\"],[0.9,\"#4d9221\"],[1,\"#276419\"]]},\"xaxis\":{\"gridcolor\":\"white\",\"linecolor\":\"white\",\"ticks\":\"\",\"title\":{\"standoff\":15},\"zerolinecolor\":\"white\",\"automargin\":true,\"zerolinewidth\":2},\"yaxis\":{\"gridcolor\":\"white\",\"linecolor\":\"white\",\"ticks\":\"\",\"title\":{\"standoff\":15},\"zerolinecolor\":\"white\",\"automargin\":true,\"zerolinewidth\":2},\"scene\":{\"xaxis\":{\"backgroundcolor\":\"#E5ECF6\",\"gridcolor\":\"white\",\"linecolor\":\"white\",\"showbackground\":true,\"ticks\":\"\",\"zerolinecolor\":\"white\",\"gridwidth\":2},\"yaxis\":{\"backgroundcolor\":\"#E5ECF6\",\"gridcolor\":\"white\",\"linecolor\":\"white\",\"showbackground\":true,\"ticks\":\"\",\"zerolinecolor\":\"white\",\"gridwidth\":2},\"zaxis\":{\"backgroundcolor\":\"#E5ECF6\",\"gridcolor\":\"white\",\"linecolor\":\"white\",\"showbackground\":true,\"ticks\":\"\",\"zerolinecolor\":\"white\",\"gridwidth\":2}},\"shapedefaults\":{\"line\":{\"color\":\"#2a3f5f\"}},\"annotationdefaults\":{\"arrowcolor\":\"#2a3f5f\",\"arrowhead\":0,\"arrowwidth\":1},\"geo\":{\"bgcolor\":\"white\",\"landcolor\":\"#E5ECF6\",\"subunitcolor\":\"white\",\"showland\":true,\"showlakes\":true,\"lakecolor\":\"white\"},\"title\":{\"x\":0.05},\"mapbox\":{\"style\":\"light\"}}},\"xaxis\":{\"anchor\":\"y\",\"domain\":[0.0,1.0],\"title\":{\"text\":\"time\"}},\"yaxis\":{\"anchor\":\"x\",\"domain\":[0.0,1.0],\"title\":{\"text\":\"linAccZ\"}},\"legend\":{\"tracegroupgap\":0},\"title\":{\"text\":\"Linear Acceleration Z over Time\"}},                        {\"responsive\": true}                    ).then(function(){\n                            \nvar gd = document.getElementById('5125b194-f21d-4814-b02e-5b10c8a16473');\nvar x = new MutationObserver(function (mutations, observer) {{\n        var display = window.getComputedStyle(gd).display;\n        if (!display || display === 'none') {{\n            console.log([gd, 'removed!']);\n            Plotly.purge(gd);\n            observer.disconnect();\n        }}\n}});\n\n// Listen for the removal of the full notebook cells\nvar notebookContainer = gd.closest('#notebook-container');\nif (notebookContainer) {{\n    x.observe(notebookContainer, {childList: true});\n}}\n\n// Listen for the clearing of the current output cell\nvar outputEl = gd.closest('.output');\nif (outputEl) {{\n    x.observe(outputEl, {childList: true});\n}}\n\n                        })                };                });            </script>        </div>"
     },
     "metadata": {},
     "output_type": "display_data"
    }
   ],
   "source": [
    "import plotly.express as px\n",
    "\n",
    "fig = px.line(squat_jump, y='linAccZ', title='Linear Acceleration Z over Time')\n",
    "#fig = px.line(squat_jump, y='accZ_orig', title='Linear Acceleration Z over Time')\n",
    "fig.show()"
   ],
   "metadata": {
    "collapsed": false,
    "ExecuteTime": {
     "end_time": "2024-01-22T10:59:26.876657300Z",
     "start_time": "2024-01-22T10:59:26.857690700Z"
    }
   },
   "id": "3653b7f6bf5a8bd0",
   "execution_count": 30
  },
  {
   "cell_type": "code",
   "outputs": [
    {
     "name": "stderr",
     "output_type": "stream",
     "text": [
      "C:\\Users\\josec\\Documents\\fatigue_measure\\fitizens_libraries\\load_data.py:111: FutureWarning:\n",
      "\n",
      "DataFrame.fillna with 'method' is deprecated and will raise in a future version. Use obj.ffill() or obj.bfill() instead.\n",
      "\n",
      "C:\\Users\\josec\\Documents\\fatigue_measure\\fitizens_libraries\\load_data.py:111: FutureWarning:\n",
      "\n",
      "DataFrame.fillna with 'method' is deprecated and will raise in a future version. Use obj.ffill() or obj.bfill() instead.\n",
      "\n",
      "C:\\Users\\josec\\Documents\\fatigue_measure\\fitizens_libraries\\load_data.py:111: FutureWarning:\n",
      "\n",
      "DataFrame.fillna with 'method' is deprecated and will raise in a future version. Use obj.ffill() or obj.bfill() instead.\n",
      "\n"
     ]
    }
   ],
   "source": [
    "folder_path = \"squats\"\n",
    "file_names = [f\"{folder_path}/{name}\" for name in os.listdir(folder_path)][0:3]\n",
    "signals = [\"accX\", \"accY\", \"accZ\", \"gyroX\", \"gyroY\", \"gyroZ\", \"magnX\", \"magnY\", \"magnZ\", \"linAccX\", \"linAccY\", \"linAccZ\"]\n",
    "    \n",
    "data_squat, wk_squat = load_training_data(filelist=file_names,\n",
    "                             signals= signals,\n",
    "                             target_exercise=\"SQUAT\", other_exercises=[], is_peak_minima=True)"
   ],
   "metadata": {
    "collapsed": false,
    "ExecuteTime": {
     "end_time": "2024-01-22T10:56:45.991197600Z",
     "start_time": "2024-01-22T10:56:31.526652200Z"
    }
   },
   "id": "48cb0b3ceb51a85b",
   "execution_count": 24
  },
  {
   "cell_type": "code",
   "outputs": [
    {
     "data": {
      "text/plain": "                         accX_orig  accY_orig  accZ_orig  gyroX_orig  \\\ntime                                                                   \n1970-01-01 00:00:11.172  -0.141182   4.879139  -1.698042  110.320000   \n1970-01-01 00:00:11.185  -0.181861   4.993999  -1.714792  111.649994   \n1970-01-01 00:00:11.194  -0.157932   4.948534  -1.707613  111.579994   \n1970-01-01 00:00:11.203  -0.078966   4.546525  -1.599933  113.820000   \n1970-01-01 00:00:11.212   0.000000   4.182803  -1.520967  120.750000   \n...                            ...        ...        ...         ...   \n1970-01-01 00:00:12.496  -0.780088   4.539347  -1.762650  -84.140007   \n1970-01-01 00:00:12.505  -0.650871   4.840853  -1.561646  -79.940002   \n1970-01-01 00:00:12.514  -0.545583   5.116037  -1.559253  -79.800003   \n1970-01-01 00:00:12.523  -0.409187   5.262005  -1.580789  -82.950005   \n1970-01-01 00:00:12.532  -0.222540   5.022714  -1.542503  -85.540001   \n\n                         gyroY_orig  gyroZ_orig  magnX_orig  magnY_orig  \\\ntime                                                                      \n1970-01-01 00:00:11.172       -6.65  -21.070000  116.800514  101.733566   \n1970-01-01 00:00:11.185       -6.58  -21.420000  117.232140  101.666870   \n1970-01-01 00:00:11.194       -6.79  -21.490000  115.358795  104.901588   \n1970-01-01 00:00:11.203       -6.72  -21.490000  117.041618  103.305466   \n1970-01-01 00:00:11.212       -4.90  -21.700001  115.861084  104.849762   \n...                             ...         ...         ...         ...   \n1970-01-01 00:00:12.496       -4.90    6.720000  112.668365  106.758263   \n1970-01-01 00:00:12.505       -4.13    6.720000  112.965919  104.302856   \n1970-01-01 00:00:12.514       -2.45    6.860000  113.006668  107.231499   \n1970-01-01 00:00:12.523       -2.17    7.280000  111.382462  106.680466   \n1970-01-01 00:00:12.532       -2.10    7.980000  115.712059  105.456734   \n\n                         magnZ_orig  linAccX_orig  ...     magnY_mod  \\\ntime                                               ...                 \n1970-01-01 00:00:11.172  149.166412     -0.641011  ...  10576.262294   \n1970-01-01 00:00:11.185  149.712448     -0.570794  ...  10635.953013   \n1970-01-01 00:00:11.194  149.737656     -0.467434  ...  10696.824071   \n1970-01-01 00:00:11.203  150.985489     -0.326522  ...  10755.644330   \n1970-01-01 00:00:11.212  152.388641     -0.209661  ...  10811.994579   \n...                             ...           ...  ...           ...   \n1970-01-01 00:00:12.496  155.411865     -0.608469  ...  11124.472896   \n1970-01-01 00:00:12.505  153.853134     -0.356052  ...  11097.157368   \n1970-01-01 00:00:12.514  155.493484     -0.287223  ...  11070.553847   \n1970-01-01 00:00:12.523  152.883347     -0.259410  ...  11041.379016   \n1970-01-01 00:00:12.532  156.422440     -0.246989  ...  11009.226754   \n\n                            magnZ_mod  linAccX_mod  linAccY_mod  linAccZ_mod  \\\ntime                                                                           \n1970-01-01 00:00:11.172  22542.984778     0.101792     0.127980    17.980970   \n1970-01-01 00:00:11.185  22735.218187     0.090884     0.119153    17.852924   \n1970-01-01 00:00:11.194  22932.049993     0.077421     0.108951    17.524150   \n1970-01-01 00:00:11.203  23135.757048     0.062353     0.097755    16.997406   \n1970-01-01 00:00:11.212  23343.877303     0.047100     0.086246    16.267449   \n...                               ...          ...          ...          ...   \n1970-01-01 00:00:12.496  24570.389548     0.356147     0.057071    16.719371   \n1970-01-01 00:00:12.505  24394.015531     0.345610     0.057064    17.350770   \n1970-01-01 00:00:12.514  24223.569928     0.332664     0.057140    17.798655   \n1970-01-01 00:00:12.523  24056.955256     0.317781     0.056994    18.069572   \n1970-01-01 00:00:12.532  23896.062819     0.301822     0.056311    18.167984   \n\n                            peaks  first_sample  last_sample  \\\ntime                                                           \n1970-01-01 00:00:11.172 -4.240397          True        False   \n1970-01-01 00:00:11.185       NaN         False        False   \n1970-01-01 00:00:11.194       NaN         False        False   \n1970-01-01 00:00:11.203       NaN         False        False   \n1970-01-01 00:00:11.212       NaN         False        False   \n...                           ...           ...          ...   \n1970-01-01 00:00:12.496       NaN         False        False   \n1970-01-01 00:00:12.505       NaN         False        False   \n1970-01-01 00:00:12.514       NaN         False        False   \n1970-01-01 00:00:12.523       NaN         False        False   \n1970-01-01 00:00:12.532 -4.262392         False         True   \n\n                         first_sample_closest_peak  last_sample_closest_peak  \ntime                                                                          \n1970-01-01 00:00:11.172                       True                     False  \n1970-01-01 00:00:11.185                      False                     False  \n1970-01-01 00:00:11.194                      False                     False  \n1970-01-01 00:00:11.203                      False                     False  \n1970-01-01 00:00:11.212                      False                     False  \n...                                            ...                       ...  \n1970-01-01 00:00:12.496                      False                     False  \n1970-01-01 00:00:12.505                      False                     False  \n1970-01-01 00:00:12.514                      False                     False  \n1970-01-01 00:00:12.523                      False                     False  \n1970-01-01 00:00:12.532                      False                      True  \n\n[144 rows x 42 columns]",
      "text/html": "<div>\n<style scoped>\n    .dataframe tbody tr th:only-of-type {\n        vertical-align: middle;\n    }\n\n    .dataframe tbody tr th {\n        vertical-align: top;\n    }\n\n    .dataframe thead th {\n        text-align: right;\n    }\n</style>\n<table border=\"1\" class=\"dataframe\">\n  <thead>\n    <tr style=\"text-align: right;\">\n      <th></th>\n      <th>accX_orig</th>\n      <th>accY_orig</th>\n      <th>accZ_orig</th>\n      <th>gyroX_orig</th>\n      <th>gyroY_orig</th>\n      <th>gyroZ_orig</th>\n      <th>magnX_orig</th>\n      <th>magnY_orig</th>\n      <th>magnZ_orig</th>\n      <th>linAccX_orig</th>\n      <th>...</th>\n      <th>magnY_mod</th>\n      <th>magnZ_mod</th>\n      <th>linAccX_mod</th>\n      <th>linAccY_mod</th>\n      <th>linAccZ_mod</th>\n      <th>peaks</th>\n      <th>first_sample</th>\n      <th>last_sample</th>\n      <th>first_sample_closest_peak</th>\n      <th>last_sample_closest_peak</th>\n    </tr>\n    <tr>\n      <th>time</th>\n      <th></th>\n      <th></th>\n      <th></th>\n      <th></th>\n      <th></th>\n      <th></th>\n      <th></th>\n      <th></th>\n      <th></th>\n      <th></th>\n      <th></th>\n      <th></th>\n      <th></th>\n      <th></th>\n      <th></th>\n      <th></th>\n      <th></th>\n      <th></th>\n      <th></th>\n      <th></th>\n      <th></th>\n    </tr>\n  </thead>\n  <tbody>\n    <tr>\n      <th>1970-01-01 00:00:11.172</th>\n      <td>-0.141182</td>\n      <td>4.879139</td>\n      <td>-1.698042</td>\n      <td>110.320000</td>\n      <td>-6.65</td>\n      <td>-21.070000</td>\n      <td>116.800514</td>\n      <td>101.733566</td>\n      <td>149.166412</td>\n      <td>-0.641011</td>\n      <td>...</td>\n      <td>10576.262294</td>\n      <td>22542.984778</td>\n      <td>0.101792</td>\n      <td>0.127980</td>\n      <td>17.980970</td>\n      <td>-4.240397</td>\n      <td>True</td>\n      <td>False</td>\n      <td>True</td>\n      <td>False</td>\n    </tr>\n    <tr>\n      <th>1970-01-01 00:00:11.185</th>\n      <td>-0.181861</td>\n      <td>4.993999</td>\n      <td>-1.714792</td>\n      <td>111.649994</td>\n      <td>-6.58</td>\n      <td>-21.420000</td>\n      <td>117.232140</td>\n      <td>101.666870</td>\n      <td>149.712448</td>\n      <td>-0.570794</td>\n      <td>...</td>\n      <td>10635.953013</td>\n      <td>22735.218187</td>\n      <td>0.090884</td>\n      <td>0.119153</td>\n      <td>17.852924</td>\n      <td>NaN</td>\n      <td>False</td>\n      <td>False</td>\n      <td>False</td>\n      <td>False</td>\n    </tr>\n    <tr>\n      <th>1970-01-01 00:00:11.194</th>\n      <td>-0.157932</td>\n      <td>4.948534</td>\n      <td>-1.707613</td>\n      <td>111.579994</td>\n      <td>-6.79</td>\n      <td>-21.490000</td>\n      <td>115.358795</td>\n      <td>104.901588</td>\n      <td>149.737656</td>\n      <td>-0.467434</td>\n      <td>...</td>\n      <td>10696.824071</td>\n      <td>22932.049993</td>\n      <td>0.077421</td>\n      <td>0.108951</td>\n      <td>17.524150</td>\n      <td>NaN</td>\n      <td>False</td>\n      <td>False</td>\n      <td>False</td>\n      <td>False</td>\n    </tr>\n    <tr>\n      <th>1970-01-01 00:00:11.203</th>\n      <td>-0.078966</td>\n      <td>4.546525</td>\n      <td>-1.599933</td>\n      <td>113.820000</td>\n      <td>-6.72</td>\n      <td>-21.490000</td>\n      <td>117.041618</td>\n      <td>103.305466</td>\n      <td>150.985489</td>\n      <td>-0.326522</td>\n      <td>...</td>\n      <td>10755.644330</td>\n      <td>23135.757048</td>\n      <td>0.062353</td>\n      <td>0.097755</td>\n      <td>16.997406</td>\n      <td>NaN</td>\n      <td>False</td>\n      <td>False</td>\n      <td>False</td>\n      <td>False</td>\n    </tr>\n    <tr>\n      <th>1970-01-01 00:00:11.212</th>\n      <td>0.000000</td>\n      <td>4.182803</td>\n      <td>-1.520967</td>\n      <td>120.750000</td>\n      <td>-4.90</td>\n      <td>-21.700001</td>\n      <td>115.861084</td>\n      <td>104.849762</td>\n      <td>152.388641</td>\n      <td>-0.209661</td>\n      <td>...</td>\n      <td>10811.994579</td>\n      <td>23343.877303</td>\n      <td>0.047100</td>\n      <td>0.086246</td>\n      <td>16.267449</td>\n      <td>NaN</td>\n      <td>False</td>\n      <td>False</td>\n      <td>False</td>\n      <td>False</td>\n    </tr>\n    <tr>\n      <th>...</th>\n      <td>...</td>\n      <td>...</td>\n      <td>...</td>\n      <td>...</td>\n      <td>...</td>\n      <td>...</td>\n      <td>...</td>\n      <td>...</td>\n      <td>...</td>\n      <td>...</td>\n      <td>...</td>\n      <td>...</td>\n      <td>...</td>\n      <td>...</td>\n      <td>...</td>\n      <td>...</td>\n      <td>...</td>\n      <td>...</td>\n      <td>...</td>\n      <td>...</td>\n      <td>...</td>\n    </tr>\n    <tr>\n      <th>1970-01-01 00:00:12.496</th>\n      <td>-0.780088</td>\n      <td>4.539347</td>\n      <td>-1.762650</td>\n      <td>-84.140007</td>\n      <td>-4.90</td>\n      <td>6.720000</td>\n      <td>112.668365</td>\n      <td>106.758263</td>\n      <td>155.411865</td>\n      <td>-0.608469</td>\n      <td>...</td>\n      <td>11124.472896</td>\n      <td>24570.389548</td>\n      <td>0.356147</td>\n      <td>0.057071</td>\n      <td>16.719371</td>\n      <td>NaN</td>\n      <td>False</td>\n      <td>False</td>\n      <td>False</td>\n      <td>False</td>\n    </tr>\n    <tr>\n      <th>1970-01-01 00:00:12.505</th>\n      <td>-0.650871</td>\n      <td>4.840853</td>\n      <td>-1.561646</td>\n      <td>-79.940002</td>\n      <td>-4.13</td>\n      <td>6.720000</td>\n      <td>112.965919</td>\n      <td>104.302856</td>\n      <td>153.853134</td>\n      <td>-0.356052</td>\n      <td>...</td>\n      <td>11097.157368</td>\n      <td>24394.015531</td>\n      <td>0.345610</td>\n      <td>0.057064</td>\n      <td>17.350770</td>\n      <td>NaN</td>\n      <td>False</td>\n      <td>False</td>\n      <td>False</td>\n      <td>False</td>\n    </tr>\n    <tr>\n      <th>1970-01-01 00:00:12.514</th>\n      <td>-0.545583</td>\n      <td>5.116037</td>\n      <td>-1.559253</td>\n      <td>-79.800003</td>\n      <td>-2.45</td>\n      <td>6.860000</td>\n      <td>113.006668</td>\n      <td>107.231499</td>\n      <td>155.493484</td>\n      <td>-0.287223</td>\n      <td>...</td>\n      <td>11070.553847</td>\n      <td>24223.569928</td>\n      <td>0.332664</td>\n      <td>0.057140</td>\n      <td>17.798655</td>\n      <td>NaN</td>\n      <td>False</td>\n      <td>False</td>\n      <td>False</td>\n      <td>False</td>\n    </tr>\n    <tr>\n      <th>1970-01-01 00:00:12.523</th>\n      <td>-0.409187</td>\n      <td>5.262005</td>\n      <td>-1.580789</td>\n      <td>-82.950005</td>\n      <td>-2.17</td>\n      <td>7.280000</td>\n      <td>111.382462</td>\n      <td>106.680466</td>\n      <td>152.883347</td>\n      <td>-0.259410</td>\n      <td>...</td>\n      <td>11041.379016</td>\n      <td>24056.955256</td>\n      <td>0.317781</td>\n      <td>0.056994</td>\n      <td>18.069572</td>\n      <td>NaN</td>\n      <td>False</td>\n      <td>False</td>\n      <td>False</td>\n      <td>False</td>\n    </tr>\n    <tr>\n      <th>1970-01-01 00:00:12.532</th>\n      <td>-0.222540</td>\n      <td>5.022714</td>\n      <td>-1.542503</td>\n      <td>-85.540001</td>\n      <td>-2.10</td>\n      <td>7.980000</td>\n      <td>115.712059</td>\n      <td>105.456734</td>\n      <td>156.422440</td>\n      <td>-0.246989</td>\n      <td>...</td>\n      <td>11009.226754</td>\n      <td>23896.062819</td>\n      <td>0.301822</td>\n      <td>0.056311</td>\n      <td>18.167984</td>\n      <td>-4.262392</td>\n      <td>False</td>\n      <td>True</td>\n      <td>False</td>\n      <td>True</td>\n    </tr>\n  </tbody>\n</table>\n<p>144 rows × 42 columns</p>\n</div>"
     },
     "execution_count": 31,
     "metadata": {},
     "output_type": "execute_result"
    }
   ],
   "source": [
    "squat = data_squat[4][\"series\"]\n",
    "squat"
   ],
   "metadata": {
    "collapsed": false,
    "ExecuteTime": {
     "end_time": "2024-01-22T11:02:09.364324900Z",
     "start_time": "2024-01-22T11:02:09.006700900Z"
    }
   },
   "id": "935c6c304c1d1daf",
   "execution_count": 31
  },
  {
   "cell_type": "code",
   "outputs": [
    {
     "data": {
      "application/vnd.plotly.v1+json": {
       "data": [
        {
         "hovertemplate": "time=%{x}<br>linAccZ=%{y}<extra></extra>",
         "legendgroup": "",
         "line": {
          "color": "#636efa",
          "dash": "solid"
         },
         "marker": {
          "symbol": "circle"
         },
         "mode": "lines",
         "name": "",
         "orientation": "v",
         "showlegend": false,
         "x": [
          "1970-01-01T00:00:11.172000",
          "1970-01-01T00:00:11.185000",
          "1970-01-01T00:00:11.194000",
          "1970-01-01T00:00:11.203000",
          "1970-01-01T00:00:11.212000",
          "1970-01-01T00:00:11.221000",
          "1970-01-01T00:00:11.230000",
          "1970-01-01T00:00:11.239000",
          "1970-01-01T00:00:11.248000",
          "1970-01-01T00:00:11.261000",
          "1970-01-01T00:00:11.270000",
          "1970-01-01T00:00:11.279000",
          "1970-01-01T00:00:11.288000",
          "1970-01-01T00:00:11.297000",
          "1970-01-01T00:00:11.306000",
          "1970-01-01T00:00:11.315000",
          "1970-01-01T00:00:11.324000",
          "1970-01-01T00:00:11.337000",
          "1970-01-01T00:00:11.346000",
          "1970-01-01T00:00:11.355000",
          "1970-01-01T00:00:11.364000",
          "1970-01-01T00:00:11.373000",
          "1970-01-01T00:00:11.382000",
          "1970-01-01T00:00:11.391000",
          "1970-01-01T00:00:11.400000",
          "1970-01-01T00:00:11.413000",
          "1970-01-01T00:00:11.422000",
          "1970-01-01T00:00:11.431000",
          "1970-01-01T00:00:11.440000",
          "1970-01-01T00:00:11.449000",
          "1970-01-01T00:00:11.458000",
          "1970-01-01T00:00:11.467000",
          "1970-01-01T00:00:11.476000",
          "1970-01-01T00:00:11.489000",
          "1970-01-01T00:00:11.498000",
          "1970-01-01T00:00:11.507000",
          "1970-01-01T00:00:11.516000",
          "1970-01-01T00:00:11.525000",
          "1970-01-01T00:00:11.534000",
          "1970-01-01T00:00:11.543000",
          "1970-01-01T00:00:11.552000",
          "1970-01-01T00:00:11.565000",
          "1970-01-01T00:00:11.574000",
          "1970-01-01T00:00:11.583000",
          "1970-01-01T00:00:11.592000",
          "1970-01-01T00:00:11.601000",
          "1970-01-01T00:00:11.610000",
          "1970-01-01T00:00:11.619000",
          "1970-01-01T00:00:11.628000",
          "1970-01-01T00:00:11.641000",
          "1970-01-01T00:00:11.650000",
          "1970-01-01T00:00:11.659000",
          "1970-01-01T00:00:11.668000",
          "1970-01-01T00:00:11.677000",
          "1970-01-01T00:00:11.686000",
          "1970-01-01T00:00:11.695000",
          "1970-01-01T00:00:11.704000",
          "1970-01-01T00:00:11.717000",
          "1970-01-01T00:00:11.726000",
          "1970-01-01T00:00:11.735000",
          "1970-01-01T00:00:11.744000",
          "1970-01-01T00:00:11.753000",
          "1970-01-01T00:00:11.762000",
          "1970-01-01T00:00:11.771000",
          "1970-01-01T00:00:11.780000",
          "1970-01-01T00:00:11.793000",
          "1970-01-01T00:00:11.802000",
          "1970-01-01T00:00:11.811000",
          "1970-01-01T00:00:11.820000",
          "1970-01-01T00:00:11.829000",
          "1970-01-01T00:00:11.838000",
          "1970-01-01T00:00:11.847000",
          "1970-01-01T00:00:11.856000",
          "1970-01-01T00:00:11.869000",
          "1970-01-01T00:00:11.878000",
          "1970-01-01T00:00:11.887000",
          "1970-01-01T00:00:11.896000",
          "1970-01-01T00:00:11.905000",
          "1970-01-01T00:00:11.914000",
          "1970-01-01T00:00:11.923000",
          "1970-01-01T00:00:11.932000",
          "1970-01-01T00:00:11.946000",
          "1970-01-01T00:00:11.955000",
          "1970-01-01T00:00:11.964000",
          "1970-01-01T00:00:11.973000",
          "1970-01-01T00:00:11.982000",
          "1970-01-01T00:00:11.991000",
          "1970-01-01T00:00:12",
          "1970-01-01T00:00:12.009000",
          "1970-01-01T00:00:12.022000",
          "1970-01-01T00:00:12.031000",
          "1970-01-01T00:00:12.040000",
          "1970-01-01T00:00:12.049000",
          "1970-01-01T00:00:12.058000",
          "1970-01-01T00:00:12.067000",
          "1970-01-01T00:00:12.076000",
          "1970-01-01T00:00:12.085000",
          "1970-01-01T00:00:12.098000",
          "1970-01-01T00:00:12.107000",
          "1970-01-01T00:00:12.116000",
          "1970-01-01T00:00:12.125000",
          "1970-01-01T00:00:12.134000",
          "1970-01-01T00:00:12.143000",
          "1970-01-01T00:00:12.152000",
          "1970-01-01T00:00:12.161000",
          "1970-01-01T00:00:12.174000",
          "1970-01-01T00:00:12.183000",
          "1970-01-01T00:00:12.192000",
          "1970-01-01T00:00:12.201000",
          "1970-01-01T00:00:12.210000",
          "1970-01-01T00:00:12.219000",
          "1970-01-01T00:00:12.228000",
          "1970-01-01T00:00:12.237000",
          "1970-01-01T00:00:12.250000",
          "1970-01-01T00:00:12.259000",
          "1970-01-01T00:00:12.268000",
          "1970-01-01T00:00:12.277000",
          "1970-01-01T00:00:12.286000",
          "1970-01-01T00:00:12.295000",
          "1970-01-01T00:00:12.304000",
          "1970-01-01T00:00:12.313000",
          "1970-01-01T00:00:12.326000",
          "1970-01-01T00:00:12.335000",
          "1970-01-01T00:00:12.344000",
          "1970-01-01T00:00:12.353000",
          "1970-01-01T00:00:12.362000",
          "1970-01-01T00:00:12.371000",
          "1970-01-01T00:00:12.380000",
          "1970-01-01T00:00:12.389000",
          "1970-01-01T00:00:12.402000",
          "1970-01-01T00:00:12.411000",
          "1970-01-01T00:00:12.420000",
          "1970-01-01T00:00:12.429000",
          "1970-01-01T00:00:12.438000",
          "1970-01-01T00:00:12.447000",
          "1970-01-01T00:00:12.456000",
          "1970-01-01T00:00:12.465000",
          "1970-01-01T00:00:12.478000",
          "1970-01-01T00:00:12.487000",
          "1970-01-01T00:00:12.496000",
          "1970-01-01T00:00:12.505000",
          "1970-01-01T00:00:12.514000",
          "1970-01-01T00:00:12.523000",
          "1970-01-01T00:00:12.532000"
         ],
         "xaxis": "x",
         "y": [
          -4.240397430066951,
          -4.225272103408352,
          -4.186185646667146,
          -4.122790991831571,
          -4.033292612158694,
          -3.916732506034896,
          -3.773275159033947,
          -3.603841674514115,
          -3.4115020665945486,
          -3.19707392741926,
          -2.963159765950404,
          -2.715217065420002,
          -2.4533654457936067,
          -2.179117087041959,
          -1.8988246513111515,
          -1.6179430618137123,
          -1.3394271182315425,
          -1.062612764770165,
          -0.7885539450636134,
          -0.5212992795743048,
          -0.2619108306756243,
          -0.012664761180058126,
          0.22197387016844003,
          0.438315706923604,
          0.6343702284293249,
          0.8101624245289714,
          0.967919529764913,
          1.1064656213857234,
          1.2285884613776579,
          1.3362795362900943,
          1.429544668304734,
          1.5114533660933376,
          1.5797222526045516,
          1.6358940259832888,
          1.6856216253107412,
          1.7307124338857829,
          1.7749596969643608,
          1.8173846737947315,
          1.8567252047313378,
          1.895567064881325,
          1.9333185712993146,
          1.9704176485538483,
          2.0099442027509213,
          2.0555991628766064,
          2.1089703221619134,
          2.1673570573329926,
          2.2262240420281887,
          2.288732678592205,
          2.3544077695906163,
          2.4210545766353606,
          2.488847213536501,
          2.5551509967446324,
          2.6233176212012768,
          2.691378752589226,
          2.7561028657853606,
          2.820243806540966,
          2.881556913256645,
          2.9404606103897093,
          2.998682045638561,
          3.0570728689432145,
          3.115692645907402,
          3.173739872574806,
          3.232615700662136,
          3.2925275531411176,
          3.3513340690732,
          3.410686748921871,
          3.4740881401300427,
          3.5361876958608627,
          3.5952223724126817,
          3.6508295375108717,
          3.7043298214673994,
          3.7576176649332047,
          3.807015253901482,
          3.8534768533706667,
          3.8979054963588715,
          3.939419059753418,
          3.9777254343032835,
          4.0114926588535305,
          4.038092910051345,
          4.056548699140548,
          4.068739657402039,
          4.074905433654786,
          4.071573385596276,
          4.056726166009904,
          4.031552797555923,
          3.997160660028458,
          3.9521619391441347,
          3.900809022188187,
          3.8439651417732237,
          3.783736421465874,
          3.7198439848423006,
          3.6524018722772595,
          3.5839490914344787,
          3.5141781002283095,
          3.44257110953331,
          3.3689593070745465,
          3.2932679599523547,
          3.2153697073459626,
          3.1380698239803317,
          3.059933680891991,
          2.979392733871937,
          2.8974767319858072,
          2.8153082333505153,
          2.73337316468358,
          2.651679618060589,
          2.568163365125656,
          2.481699912250042,
          2.3894659835100174,
          2.2895604673027994,
          2.179392562508583,
          2.058187431395054,
          1.9255202066898345,
          1.7774109306931496,
          1.6152014034986497,
          1.4392515262961387,
          1.2483972054719925,
          1.0451359590888023,
          0.8312086290121078,
          0.6060481449961662,
          0.3711254757642746,
          0.12683445006608968,
          -0.12621492296457287,
          -0.3864031314849853,
          -0.6524087801575661,
          -0.9237033274769783,
          -1.1980734580755235,
          -1.472657497227192,
          -1.7448489516973495,
          -2.012260486185551,
          -2.27264913380146,
          -2.5246515581011773,
          -2.7668945091962813,
          -2.991294724047184,
          -3.1996444016695023,
          -3.3921546003222467,
          -3.5672925782203677,
          -3.726227382719517,
          -3.867278746366501,
          -3.988781712353229,
          -4.08893276154995,
          -4.165425591766835,
          -4.218845168948174,
          -4.250831921845674,
          -4.262391825467349
         ],
         "yaxis": "y",
         "type": "scatter"
        }
       ],
       "layout": {
        "template": {
         "data": {
          "histogram2dcontour": [
           {
            "type": "histogram2dcontour",
            "colorbar": {
             "outlinewidth": 0,
             "ticks": ""
            },
            "colorscale": [
             [
              0.0,
              "#0d0887"
             ],
             [
              0.1111111111111111,
              "#46039f"
             ],
             [
              0.2222222222222222,
              "#7201a8"
             ],
             [
              0.3333333333333333,
              "#9c179e"
             ],
             [
              0.4444444444444444,
              "#bd3786"
             ],
             [
              0.5555555555555556,
              "#d8576b"
             ],
             [
              0.6666666666666666,
              "#ed7953"
             ],
             [
              0.7777777777777778,
              "#fb9f3a"
             ],
             [
              0.8888888888888888,
              "#fdca26"
             ],
             [
              1.0,
              "#f0f921"
             ]
            ]
           }
          ],
          "choropleth": [
           {
            "type": "choropleth",
            "colorbar": {
             "outlinewidth": 0,
             "ticks": ""
            }
           }
          ],
          "histogram2d": [
           {
            "type": "histogram2d",
            "colorbar": {
             "outlinewidth": 0,
             "ticks": ""
            },
            "colorscale": [
             [
              0.0,
              "#0d0887"
             ],
             [
              0.1111111111111111,
              "#46039f"
             ],
             [
              0.2222222222222222,
              "#7201a8"
             ],
             [
              0.3333333333333333,
              "#9c179e"
             ],
             [
              0.4444444444444444,
              "#bd3786"
             ],
             [
              0.5555555555555556,
              "#d8576b"
             ],
             [
              0.6666666666666666,
              "#ed7953"
             ],
             [
              0.7777777777777778,
              "#fb9f3a"
             ],
             [
              0.8888888888888888,
              "#fdca26"
             ],
             [
              1.0,
              "#f0f921"
             ]
            ]
           }
          ],
          "heatmap": [
           {
            "type": "heatmap",
            "colorbar": {
             "outlinewidth": 0,
             "ticks": ""
            },
            "colorscale": [
             [
              0.0,
              "#0d0887"
             ],
             [
              0.1111111111111111,
              "#46039f"
             ],
             [
              0.2222222222222222,
              "#7201a8"
             ],
             [
              0.3333333333333333,
              "#9c179e"
             ],
             [
              0.4444444444444444,
              "#bd3786"
             ],
             [
              0.5555555555555556,
              "#d8576b"
             ],
             [
              0.6666666666666666,
              "#ed7953"
             ],
             [
              0.7777777777777778,
              "#fb9f3a"
             ],
             [
              0.8888888888888888,
              "#fdca26"
             ],
             [
              1.0,
              "#f0f921"
             ]
            ]
           }
          ],
          "heatmapgl": [
           {
            "type": "heatmapgl",
            "colorbar": {
             "outlinewidth": 0,
             "ticks": ""
            },
            "colorscale": [
             [
              0.0,
              "#0d0887"
             ],
             [
              0.1111111111111111,
              "#46039f"
             ],
             [
              0.2222222222222222,
              "#7201a8"
             ],
             [
              0.3333333333333333,
              "#9c179e"
             ],
             [
              0.4444444444444444,
              "#bd3786"
             ],
             [
              0.5555555555555556,
              "#d8576b"
             ],
             [
              0.6666666666666666,
              "#ed7953"
             ],
             [
              0.7777777777777778,
              "#fb9f3a"
             ],
             [
              0.8888888888888888,
              "#fdca26"
             ],
             [
              1.0,
              "#f0f921"
             ]
            ]
           }
          ],
          "contourcarpet": [
           {
            "type": "contourcarpet",
            "colorbar": {
             "outlinewidth": 0,
             "ticks": ""
            }
           }
          ],
          "contour": [
           {
            "type": "contour",
            "colorbar": {
             "outlinewidth": 0,
             "ticks": ""
            },
            "colorscale": [
             [
              0.0,
              "#0d0887"
             ],
             [
              0.1111111111111111,
              "#46039f"
             ],
             [
              0.2222222222222222,
              "#7201a8"
             ],
             [
              0.3333333333333333,
              "#9c179e"
             ],
             [
              0.4444444444444444,
              "#bd3786"
             ],
             [
              0.5555555555555556,
              "#d8576b"
             ],
             [
              0.6666666666666666,
              "#ed7953"
             ],
             [
              0.7777777777777778,
              "#fb9f3a"
             ],
             [
              0.8888888888888888,
              "#fdca26"
             ],
             [
              1.0,
              "#f0f921"
             ]
            ]
           }
          ],
          "surface": [
           {
            "type": "surface",
            "colorbar": {
             "outlinewidth": 0,
             "ticks": ""
            },
            "colorscale": [
             [
              0.0,
              "#0d0887"
             ],
             [
              0.1111111111111111,
              "#46039f"
             ],
             [
              0.2222222222222222,
              "#7201a8"
             ],
             [
              0.3333333333333333,
              "#9c179e"
             ],
             [
              0.4444444444444444,
              "#bd3786"
             ],
             [
              0.5555555555555556,
              "#d8576b"
             ],
             [
              0.6666666666666666,
              "#ed7953"
             ],
             [
              0.7777777777777778,
              "#fb9f3a"
             ],
             [
              0.8888888888888888,
              "#fdca26"
             ],
             [
              1.0,
              "#f0f921"
             ]
            ]
           }
          ],
          "mesh3d": [
           {
            "type": "mesh3d",
            "colorbar": {
             "outlinewidth": 0,
             "ticks": ""
            }
           }
          ],
          "scatter": [
           {
            "fillpattern": {
             "fillmode": "overlay",
             "size": 10,
             "solidity": 0.2
            },
            "type": "scatter"
           }
          ],
          "parcoords": [
           {
            "type": "parcoords",
            "line": {
             "colorbar": {
              "outlinewidth": 0,
              "ticks": ""
             }
            }
           }
          ],
          "scatterpolargl": [
           {
            "type": "scatterpolargl",
            "marker": {
             "colorbar": {
              "outlinewidth": 0,
              "ticks": ""
             }
            }
           }
          ],
          "bar": [
           {
            "error_x": {
             "color": "#2a3f5f"
            },
            "error_y": {
             "color": "#2a3f5f"
            },
            "marker": {
             "line": {
              "color": "#E5ECF6",
              "width": 0.5
             },
             "pattern": {
              "fillmode": "overlay",
              "size": 10,
              "solidity": 0.2
             }
            },
            "type": "bar"
           }
          ],
          "scattergeo": [
           {
            "type": "scattergeo",
            "marker": {
             "colorbar": {
              "outlinewidth": 0,
              "ticks": ""
             }
            }
           }
          ],
          "scatterpolar": [
           {
            "type": "scatterpolar",
            "marker": {
             "colorbar": {
              "outlinewidth": 0,
              "ticks": ""
             }
            }
           }
          ],
          "histogram": [
           {
            "marker": {
             "pattern": {
              "fillmode": "overlay",
              "size": 10,
              "solidity": 0.2
             }
            },
            "type": "histogram"
           }
          ],
          "scattergl": [
           {
            "type": "scattergl",
            "marker": {
             "colorbar": {
              "outlinewidth": 0,
              "ticks": ""
             }
            }
           }
          ],
          "scatter3d": [
           {
            "type": "scatter3d",
            "line": {
             "colorbar": {
              "outlinewidth": 0,
              "ticks": ""
             }
            },
            "marker": {
             "colorbar": {
              "outlinewidth": 0,
              "ticks": ""
             }
            }
           }
          ],
          "scattermapbox": [
           {
            "type": "scattermapbox",
            "marker": {
             "colorbar": {
              "outlinewidth": 0,
              "ticks": ""
             }
            }
           }
          ],
          "scatterternary": [
           {
            "type": "scatterternary",
            "marker": {
             "colorbar": {
              "outlinewidth": 0,
              "ticks": ""
             }
            }
           }
          ],
          "scattercarpet": [
           {
            "type": "scattercarpet",
            "marker": {
             "colorbar": {
              "outlinewidth": 0,
              "ticks": ""
             }
            }
           }
          ],
          "carpet": [
           {
            "aaxis": {
             "endlinecolor": "#2a3f5f",
             "gridcolor": "white",
             "linecolor": "white",
             "minorgridcolor": "white",
             "startlinecolor": "#2a3f5f"
            },
            "baxis": {
             "endlinecolor": "#2a3f5f",
             "gridcolor": "white",
             "linecolor": "white",
             "minorgridcolor": "white",
             "startlinecolor": "#2a3f5f"
            },
            "type": "carpet"
           }
          ],
          "table": [
           {
            "cells": {
             "fill": {
              "color": "#EBF0F8"
             },
             "line": {
              "color": "white"
             }
            },
            "header": {
             "fill": {
              "color": "#C8D4E3"
             },
             "line": {
              "color": "white"
             }
            },
            "type": "table"
           }
          ],
          "barpolar": [
           {
            "marker": {
             "line": {
              "color": "#E5ECF6",
              "width": 0.5
             },
             "pattern": {
              "fillmode": "overlay",
              "size": 10,
              "solidity": 0.2
             }
            },
            "type": "barpolar"
           }
          ],
          "pie": [
           {
            "automargin": true,
            "type": "pie"
           }
          ]
         },
         "layout": {
          "autotypenumbers": "strict",
          "colorway": [
           "#636efa",
           "#EF553B",
           "#00cc96",
           "#ab63fa",
           "#FFA15A",
           "#19d3f3",
           "#FF6692",
           "#B6E880",
           "#FF97FF",
           "#FECB52"
          ],
          "font": {
           "color": "#2a3f5f"
          },
          "hovermode": "closest",
          "hoverlabel": {
           "align": "left"
          },
          "paper_bgcolor": "white",
          "plot_bgcolor": "#E5ECF6",
          "polar": {
           "bgcolor": "#E5ECF6",
           "angularaxis": {
            "gridcolor": "white",
            "linecolor": "white",
            "ticks": ""
           },
           "radialaxis": {
            "gridcolor": "white",
            "linecolor": "white",
            "ticks": ""
           }
          },
          "ternary": {
           "bgcolor": "#E5ECF6",
           "aaxis": {
            "gridcolor": "white",
            "linecolor": "white",
            "ticks": ""
           },
           "baxis": {
            "gridcolor": "white",
            "linecolor": "white",
            "ticks": ""
           },
           "caxis": {
            "gridcolor": "white",
            "linecolor": "white",
            "ticks": ""
           }
          },
          "coloraxis": {
           "colorbar": {
            "outlinewidth": 0,
            "ticks": ""
           }
          },
          "colorscale": {
           "sequential": [
            [
             0.0,
             "#0d0887"
            ],
            [
             0.1111111111111111,
             "#46039f"
            ],
            [
             0.2222222222222222,
             "#7201a8"
            ],
            [
             0.3333333333333333,
             "#9c179e"
            ],
            [
             0.4444444444444444,
             "#bd3786"
            ],
            [
             0.5555555555555556,
             "#d8576b"
            ],
            [
             0.6666666666666666,
             "#ed7953"
            ],
            [
             0.7777777777777778,
             "#fb9f3a"
            ],
            [
             0.8888888888888888,
             "#fdca26"
            ],
            [
             1.0,
             "#f0f921"
            ]
           ],
           "sequentialminus": [
            [
             0.0,
             "#0d0887"
            ],
            [
             0.1111111111111111,
             "#46039f"
            ],
            [
             0.2222222222222222,
             "#7201a8"
            ],
            [
             0.3333333333333333,
             "#9c179e"
            ],
            [
             0.4444444444444444,
             "#bd3786"
            ],
            [
             0.5555555555555556,
             "#d8576b"
            ],
            [
             0.6666666666666666,
             "#ed7953"
            ],
            [
             0.7777777777777778,
             "#fb9f3a"
            ],
            [
             0.8888888888888888,
             "#fdca26"
            ],
            [
             1.0,
             "#f0f921"
            ]
           ],
           "diverging": [
            [
             0,
             "#8e0152"
            ],
            [
             0.1,
             "#c51b7d"
            ],
            [
             0.2,
             "#de77ae"
            ],
            [
             0.3,
             "#f1b6da"
            ],
            [
             0.4,
             "#fde0ef"
            ],
            [
             0.5,
             "#f7f7f7"
            ],
            [
             0.6,
             "#e6f5d0"
            ],
            [
             0.7,
             "#b8e186"
            ],
            [
             0.8,
             "#7fbc41"
            ],
            [
             0.9,
             "#4d9221"
            ],
            [
             1,
             "#276419"
            ]
           ]
          },
          "xaxis": {
           "gridcolor": "white",
           "linecolor": "white",
           "ticks": "",
           "title": {
            "standoff": 15
           },
           "zerolinecolor": "white",
           "automargin": true,
           "zerolinewidth": 2
          },
          "yaxis": {
           "gridcolor": "white",
           "linecolor": "white",
           "ticks": "",
           "title": {
            "standoff": 15
           },
           "zerolinecolor": "white",
           "automargin": true,
           "zerolinewidth": 2
          },
          "scene": {
           "xaxis": {
            "backgroundcolor": "#E5ECF6",
            "gridcolor": "white",
            "linecolor": "white",
            "showbackground": true,
            "ticks": "",
            "zerolinecolor": "white",
            "gridwidth": 2
           },
           "yaxis": {
            "backgroundcolor": "#E5ECF6",
            "gridcolor": "white",
            "linecolor": "white",
            "showbackground": true,
            "ticks": "",
            "zerolinecolor": "white",
            "gridwidth": 2
           },
           "zaxis": {
            "backgroundcolor": "#E5ECF6",
            "gridcolor": "white",
            "linecolor": "white",
            "showbackground": true,
            "ticks": "",
            "zerolinecolor": "white",
            "gridwidth": 2
           }
          },
          "shapedefaults": {
           "line": {
            "color": "#2a3f5f"
           }
          },
          "annotationdefaults": {
           "arrowcolor": "#2a3f5f",
           "arrowhead": 0,
           "arrowwidth": 1
          },
          "geo": {
           "bgcolor": "white",
           "landcolor": "#E5ECF6",
           "subunitcolor": "white",
           "showland": true,
           "showlakes": true,
           "lakecolor": "white"
          },
          "title": {
           "x": 0.05
          },
          "mapbox": {
           "style": "light"
          }
         }
        },
        "xaxis": {
         "anchor": "y",
         "domain": [
          0.0,
          1.0
         ],
         "title": {
          "text": "time"
         }
        },
        "yaxis": {
         "anchor": "x",
         "domain": [
          0.0,
          1.0
         ],
         "title": {
          "text": "linAccZ"
         }
        },
        "legend": {
         "tracegroupgap": 0
        },
        "title": {
         "text": "Linear Acceleration Z over Time"
        }
       },
       "config": {
        "plotlyServerURL": "https://plot.ly"
       }
      },
      "text/html": "<div>                            <div id=\"8012ee10-1ebb-4837-9dcb-58f17d282d2d\" class=\"plotly-graph-div\" style=\"height:525px; width:100%;\"></div>            <script type=\"text/javascript\">                require([\"plotly\"], function(Plotly) {                    window.PLOTLYENV=window.PLOTLYENV || {};                                    if (document.getElementById(\"8012ee10-1ebb-4837-9dcb-58f17d282d2d\")) {                    Plotly.newPlot(                        \"8012ee10-1ebb-4837-9dcb-58f17d282d2d\",                        [{\"hovertemplate\":\"time=%{x}\\u003cbr\\u003elinAccZ=%{y}\\u003cextra\\u003e\\u003c\\u002fextra\\u003e\",\"legendgroup\":\"\",\"line\":{\"color\":\"#636efa\",\"dash\":\"solid\"},\"marker\":{\"symbol\":\"circle\"},\"mode\":\"lines\",\"name\":\"\",\"orientation\":\"v\",\"showlegend\":false,\"x\":[\"1970-01-01T00:00:11.172000\",\"1970-01-01T00:00:11.185000\",\"1970-01-01T00:00:11.194000\",\"1970-01-01T00:00:11.203000\",\"1970-01-01T00:00:11.212000\",\"1970-01-01T00:00:11.221000\",\"1970-01-01T00:00:11.230000\",\"1970-01-01T00:00:11.239000\",\"1970-01-01T00:00:11.248000\",\"1970-01-01T00:00:11.261000\",\"1970-01-01T00:00:11.270000\",\"1970-01-01T00:00:11.279000\",\"1970-01-01T00:00:11.288000\",\"1970-01-01T00:00:11.297000\",\"1970-01-01T00:00:11.306000\",\"1970-01-01T00:00:11.315000\",\"1970-01-01T00:00:11.324000\",\"1970-01-01T00:00:11.337000\",\"1970-01-01T00:00:11.346000\",\"1970-01-01T00:00:11.355000\",\"1970-01-01T00:00:11.364000\",\"1970-01-01T00:00:11.373000\",\"1970-01-01T00:00:11.382000\",\"1970-01-01T00:00:11.391000\",\"1970-01-01T00:00:11.400000\",\"1970-01-01T00:00:11.413000\",\"1970-01-01T00:00:11.422000\",\"1970-01-01T00:00:11.431000\",\"1970-01-01T00:00:11.440000\",\"1970-01-01T00:00:11.449000\",\"1970-01-01T00:00:11.458000\",\"1970-01-01T00:00:11.467000\",\"1970-01-01T00:00:11.476000\",\"1970-01-01T00:00:11.489000\",\"1970-01-01T00:00:11.498000\",\"1970-01-01T00:00:11.507000\",\"1970-01-01T00:00:11.516000\",\"1970-01-01T00:00:11.525000\",\"1970-01-01T00:00:11.534000\",\"1970-01-01T00:00:11.543000\",\"1970-01-01T00:00:11.552000\",\"1970-01-01T00:00:11.565000\",\"1970-01-01T00:00:11.574000\",\"1970-01-01T00:00:11.583000\",\"1970-01-01T00:00:11.592000\",\"1970-01-01T00:00:11.601000\",\"1970-01-01T00:00:11.610000\",\"1970-01-01T00:00:11.619000\",\"1970-01-01T00:00:11.628000\",\"1970-01-01T00:00:11.641000\",\"1970-01-01T00:00:11.650000\",\"1970-01-01T00:00:11.659000\",\"1970-01-01T00:00:11.668000\",\"1970-01-01T00:00:11.677000\",\"1970-01-01T00:00:11.686000\",\"1970-01-01T00:00:11.695000\",\"1970-01-01T00:00:11.704000\",\"1970-01-01T00:00:11.717000\",\"1970-01-01T00:00:11.726000\",\"1970-01-01T00:00:11.735000\",\"1970-01-01T00:00:11.744000\",\"1970-01-01T00:00:11.753000\",\"1970-01-01T00:00:11.762000\",\"1970-01-01T00:00:11.771000\",\"1970-01-01T00:00:11.780000\",\"1970-01-01T00:00:11.793000\",\"1970-01-01T00:00:11.802000\",\"1970-01-01T00:00:11.811000\",\"1970-01-01T00:00:11.820000\",\"1970-01-01T00:00:11.829000\",\"1970-01-01T00:00:11.838000\",\"1970-01-01T00:00:11.847000\",\"1970-01-01T00:00:11.856000\",\"1970-01-01T00:00:11.869000\",\"1970-01-01T00:00:11.878000\",\"1970-01-01T00:00:11.887000\",\"1970-01-01T00:00:11.896000\",\"1970-01-01T00:00:11.905000\",\"1970-01-01T00:00:11.914000\",\"1970-01-01T00:00:11.923000\",\"1970-01-01T00:00:11.932000\",\"1970-01-01T00:00:11.946000\",\"1970-01-01T00:00:11.955000\",\"1970-01-01T00:00:11.964000\",\"1970-01-01T00:00:11.973000\",\"1970-01-01T00:00:11.982000\",\"1970-01-01T00:00:11.991000\",\"1970-01-01T00:00:12\",\"1970-01-01T00:00:12.009000\",\"1970-01-01T00:00:12.022000\",\"1970-01-01T00:00:12.031000\",\"1970-01-01T00:00:12.040000\",\"1970-01-01T00:00:12.049000\",\"1970-01-01T00:00:12.058000\",\"1970-01-01T00:00:12.067000\",\"1970-01-01T00:00:12.076000\",\"1970-01-01T00:00:12.085000\",\"1970-01-01T00:00:12.098000\",\"1970-01-01T00:00:12.107000\",\"1970-01-01T00:00:12.116000\",\"1970-01-01T00:00:12.125000\",\"1970-01-01T00:00:12.134000\",\"1970-01-01T00:00:12.143000\",\"1970-01-01T00:00:12.152000\",\"1970-01-01T00:00:12.161000\",\"1970-01-01T00:00:12.174000\",\"1970-01-01T00:00:12.183000\",\"1970-01-01T00:00:12.192000\",\"1970-01-01T00:00:12.201000\",\"1970-01-01T00:00:12.210000\",\"1970-01-01T00:00:12.219000\",\"1970-01-01T00:00:12.228000\",\"1970-01-01T00:00:12.237000\",\"1970-01-01T00:00:12.250000\",\"1970-01-01T00:00:12.259000\",\"1970-01-01T00:00:12.268000\",\"1970-01-01T00:00:12.277000\",\"1970-01-01T00:00:12.286000\",\"1970-01-01T00:00:12.295000\",\"1970-01-01T00:00:12.304000\",\"1970-01-01T00:00:12.313000\",\"1970-01-01T00:00:12.326000\",\"1970-01-01T00:00:12.335000\",\"1970-01-01T00:00:12.344000\",\"1970-01-01T00:00:12.353000\",\"1970-01-01T00:00:12.362000\",\"1970-01-01T00:00:12.371000\",\"1970-01-01T00:00:12.380000\",\"1970-01-01T00:00:12.389000\",\"1970-01-01T00:00:12.402000\",\"1970-01-01T00:00:12.411000\",\"1970-01-01T00:00:12.420000\",\"1970-01-01T00:00:12.429000\",\"1970-01-01T00:00:12.438000\",\"1970-01-01T00:00:12.447000\",\"1970-01-01T00:00:12.456000\",\"1970-01-01T00:00:12.465000\",\"1970-01-01T00:00:12.478000\",\"1970-01-01T00:00:12.487000\",\"1970-01-01T00:00:12.496000\",\"1970-01-01T00:00:12.505000\",\"1970-01-01T00:00:12.514000\",\"1970-01-01T00:00:12.523000\",\"1970-01-01T00:00:12.532000\"],\"xaxis\":\"x\",\"y\":[-4.240397430066951,-4.225272103408352,-4.186185646667146,-4.122790991831571,-4.033292612158694,-3.916732506034896,-3.773275159033947,-3.603841674514115,-3.4115020665945486,-3.19707392741926,-2.963159765950404,-2.715217065420002,-2.4533654457936067,-2.179117087041959,-1.8988246513111515,-1.6179430618137123,-1.3394271182315425,-1.062612764770165,-0.7885539450636134,-0.5212992795743048,-0.2619108306756243,-0.012664761180058126,0.22197387016844003,0.438315706923604,0.6343702284293249,0.8101624245289714,0.967919529764913,1.1064656213857234,1.2285884613776579,1.3362795362900943,1.429544668304734,1.5114533660933376,1.5797222526045516,1.6358940259832888,1.6856216253107412,1.7307124338857829,1.7749596969643608,1.8173846737947315,1.8567252047313378,1.895567064881325,1.9333185712993146,1.9704176485538483,2.0099442027509213,2.0555991628766064,2.1089703221619134,2.1673570573329926,2.2262240420281887,2.288732678592205,2.3544077695906163,2.4210545766353606,2.488847213536501,2.5551509967446324,2.6233176212012768,2.691378752589226,2.7561028657853606,2.820243806540966,2.881556913256645,2.9404606103897093,2.998682045638561,3.0570728689432145,3.115692645907402,3.173739872574806,3.232615700662136,3.2925275531411176,3.3513340690732,3.410686748921871,3.4740881401300427,3.5361876958608627,3.5952223724126817,3.6508295375108717,3.7043298214673994,3.7576176649332047,3.807015253901482,3.8534768533706667,3.8979054963588715,3.939419059753418,3.9777254343032835,4.0114926588535305,4.038092910051345,4.056548699140548,4.068739657402039,4.074905433654786,4.071573385596276,4.056726166009904,4.031552797555923,3.997160660028458,3.9521619391441347,3.900809022188187,3.8439651417732237,3.783736421465874,3.7198439848423006,3.6524018722772595,3.5839490914344787,3.5141781002283095,3.44257110953331,3.3689593070745465,3.2932679599523547,3.2153697073459626,3.1380698239803317,3.059933680891991,2.979392733871937,2.8974767319858072,2.8153082333505153,2.73337316468358,2.651679618060589,2.568163365125656,2.481699912250042,2.3894659835100174,2.2895604673027994,2.179392562508583,2.058187431395054,1.9255202066898345,1.7774109306931496,1.6152014034986497,1.4392515262961387,1.2483972054719925,1.0451359590888023,0.8312086290121078,0.6060481449961662,0.3711254757642746,0.12683445006608968,-0.12621492296457287,-0.3864031314849853,-0.6524087801575661,-0.9237033274769783,-1.1980734580755235,-1.472657497227192,-1.7448489516973495,-2.012260486185551,-2.27264913380146,-2.5246515581011773,-2.7668945091962813,-2.991294724047184,-3.1996444016695023,-3.3921546003222467,-3.5672925782203677,-3.726227382719517,-3.867278746366501,-3.988781712353229,-4.08893276154995,-4.165425591766835,-4.218845168948174,-4.250831921845674,-4.262391825467349],\"yaxis\":\"y\",\"type\":\"scatter\"}],                        {\"template\":{\"data\":{\"histogram2dcontour\":[{\"type\":\"histogram2dcontour\",\"colorbar\":{\"outlinewidth\":0,\"ticks\":\"\"},\"colorscale\":[[0.0,\"#0d0887\"],[0.1111111111111111,\"#46039f\"],[0.2222222222222222,\"#7201a8\"],[0.3333333333333333,\"#9c179e\"],[0.4444444444444444,\"#bd3786\"],[0.5555555555555556,\"#d8576b\"],[0.6666666666666666,\"#ed7953\"],[0.7777777777777778,\"#fb9f3a\"],[0.8888888888888888,\"#fdca26\"],[1.0,\"#f0f921\"]]}],\"choropleth\":[{\"type\":\"choropleth\",\"colorbar\":{\"outlinewidth\":0,\"ticks\":\"\"}}],\"histogram2d\":[{\"type\":\"histogram2d\",\"colorbar\":{\"outlinewidth\":0,\"ticks\":\"\"},\"colorscale\":[[0.0,\"#0d0887\"],[0.1111111111111111,\"#46039f\"],[0.2222222222222222,\"#7201a8\"],[0.3333333333333333,\"#9c179e\"],[0.4444444444444444,\"#bd3786\"],[0.5555555555555556,\"#d8576b\"],[0.6666666666666666,\"#ed7953\"],[0.7777777777777778,\"#fb9f3a\"],[0.8888888888888888,\"#fdca26\"],[1.0,\"#f0f921\"]]}],\"heatmap\":[{\"type\":\"heatmap\",\"colorbar\":{\"outlinewidth\":0,\"ticks\":\"\"},\"colorscale\":[[0.0,\"#0d0887\"],[0.1111111111111111,\"#46039f\"],[0.2222222222222222,\"#7201a8\"],[0.3333333333333333,\"#9c179e\"],[0.4444444444444444,\"#bd3786\"],[0.5555555555555556,\"#d8576b\"],[0.6666666666666666,\"#ed7953\"],[0.7777777777777778,\"#fb9f3a\"],[0.8888888888888888,\"#fdca26\"],[1.0,\"#f0f921\"]]}],\"heatmapgl\":[{\"type\":\"heatmapgl\",\"colorbar\":{\"outlinewidth\":0,\"ticks\":\"\"},\"colorscale\":[[0.0,\"#0d0887\"],[0.1111111111111111,\"#46039f\"],[0.2222222222222222,\"#7201a8\"],[0.3333333333333333,\"#9c179e\"],[0.4444444444444444,\"#bd3786\"],[0.5555555555555556,\"#d8576b\"],[0.6666666666666666,\"#ed7953\"],[0.7777777777777778,\"#fb9f3a\"],[0.8888888888888888,\"#fdca26\"],[1.0,\"#f0f921\"]]}],\"contourcarpet\":[{\"type\":\"contourcarpet\",\"colorbar\":{\"outlinewidth\":0,\"ticks\":\"\"}}],\"contour\":[{\"type\":\"contour\",\"colorbar\":{\"outlinewidth\":0,\"ticks\":\"\"},\"colorscale\":[[0.0,\"#0d0887\"],[0.1111111111111111,\"#46039f\"],[0.2222222222222222,\"#7201a8\"],[0.3333333333333333,\"#9c179e\"],[0.4444444444444444,\"#bd3786\"],[0.5555555555555556,\"#d8576b\"],[0.6666666666666666,\"#ed7953\"],[0.7777777777777778,\"#fb9f3a\"],[0.8888888888888888,\"#fdca26\"],[1.0,\"#f0f921\"]]}],\"surface\":[{\"type\":\"surface\",\"colorbar\":{\"outlinewidth\":0,\"ticks\":\"\"},\"colorscale\":[[0.0,\"#0d0887\"],[0.1111111111111111,\"#46039f\"],[0.2222222222222222,\"#7201a8\"],[0.3333333333333333,\"#9c179e\"],[0.4444444444444444,\"#bd3786\"],[0.5555555555555556,\"#d8576b\"],[0.6666666666666666,\"#ed7953\"],[0.7777777777777778,\"#fb9f3a\"],[0.8888888888888888,\"#fdca26\"],[1.0,\"#f0f921\"]]}],\"mesh3d\":[{\"type\":\"mesh3d\",\"colorbar\":{\"outlinewidth\":0,\"ticks\":\"\"}}],\"scatter\":[{\"fillpattern\":{\"fillmode\":\"overlay\",\"size\":10,\"solidity\":0.2},\"type\":\"scatter\"}],\"parcoords\":[{\"type\":\"parcoords\",\"line\":{\"colorbar\":{\"outlinewidth\":0,\"ticks\":\"\"}}}],\"scatterpolargl\":[{\"type\":\"scatterpolargl\",\"marker\":{\"colorbar\":{\"outlinewidth\":0,\"ticks\":\"\"}}}],\"bar\":[{\"error_x\":{\"color\":\"#2a3f5f\"},\"error_y\":{\"color\":\"#2a3f5f\"},\"marker\":{\"line\":{\"color\":\"#E5ECF6\",\"width\":0.5},\"pattern\":{\"fillmode\":\"overlay\",\"size\":10,\"solidity\":0.2}},\"type\":\"bar\"}],\"scattergeo\":[{\"type\":\"scattergeo\",\"marker\":{\"colorbar\":{\"outlinewidth\":0,\"ticks\":\"\"}}}],\"scatterpolar\":[{\"type\":\"scatterpolar\",\"marker\":{\"colorbar\":{\"outlinewidth\":0,\"ticks\":\"\"}}}],\"histogram\":[{\"marker\":{\"pattern\":{\"fillmode\":\"overlay\",\"size\":10,\"solidity\":0.2}},\"type\":\"histogram\"}],\"scattergl\":[{\"type\":\"scattergl\",\"marker\":{\"colorbar\":{\"outlinewidth\":0,\"ticks\":\"\"}}}],\"scatter3d\":[{\"type\":\"scatter3d\",\"line\":{\"colorbar\":{\"outlinewidth\":0,\"ticks\":\"\"}},\"marker\":{\"colorbar\":{\"outlinewidth\":0,\"ticks\":\"\"}}}],\"scattermapbox\":[{\"type\":\"scattermapbox\",\"marker\":{\"colorbar\":{\"outlinewidth\":0,\"ticks\":\"\"}}}],\"scatterternary\":[{\"type\":\"scatterternary\",\"marker\":{\"colorbar\":{\"outlinewidth\":0,\"ticks\":\"\"}}}],\"scattercarpet\":[{\"type\":\"scattercarpet\",\"marker\":{\"colorbar\":{\"outlinewidth\":0,\"ticks\":\"\"}}}],\"carpet\":[{\"aaxis\":{\"endlinecolor\":\"#2a3f5f\",\"gridcolor\":\"white\",\"linecolor\":\"white\",\"minorgridcolor\":\"white\",\"startlinecolor\":\"#2a3f5f\"},\"baxis\":{\"endlinecolor\":\"#2a3f5f\",\"gridcolor\":\"white\",\"linecolor\":\"white\",\"minorgridcolor\":\"white\",\"startlinecolor\":\"#2a3f5f\"},\"type\":\"carpet\"}],\"table\":[{\"cells\":{\"fill\":{\"color\":\"#EBF0F8\"},\"line\":{\"color\":\"white\"}},\"header\":{\"fill\":{\"color\":\"#C8D4E3\"},\"line\":{\"color\":\"white\"}},\"type\":\"table\"}],\"barpolar\":[{\"marker\":{\"line\":{\"color\":\"#E5ECF6\",\"width\":0.5},\"pattern\":{\"fillmode\":\"overlay\",\"size\":10,\"solidity\":0.2}},\"type\":\"barpolar\"}],\"pie\":[{\"automargin\":true,\"type\":\"pie\"}]},\"layout\":{\"autotypenumbers\":\"strict\",\"colorway\":[\"#636efa\",\"#EF553B\",\"#00cc96\",\"#ab63fa\",\"#FFA15A\",\"#19d3f3\",\"#FF6692\",\"#B6E880\",\"#FF97FF\",\"#FECB52\"],\"font\":{\"color\":\"#2a3f5f\"},\"hovermode\":\"closest\",\"hoverlabel\":{\"align\":\"left\"},\"paper_bgcolor\":\"white\",\"plot_bgcolor\":\"#E5ECF6\",\"polar\":{\"bgcolor\":\"#E5ECF6\",\"angularaxis\":{\"gridcolor\":\"white\",\"linecolor\":\"white\",\"ticks\":\"\"},\"radialaxis\":{\"gridcolor\":\"white\",\"linecolor\":\"white\",\"ticks\":\"\"}},\"ternary\":{\"bgcolor\":\"#E5ECF6\",\"aaxis\":{\"gridcolor\":\"white\",\"linecolor\":\"white\",\"ticks\":\"\"},\"baxis\":{\"gridcolor\":\"white\",\"linecolor\":\"white\",\"ticks\":\"\"},\"caxis\":{\"gridcolor\":\"white\",\"linecolor\":\"white\",\"ticks\":\"\"}},\"coloraxis\":{\"colorbar\":{\"outlinewidth\":0,\"ticks\":\"\"}},\"colorscale\":{\"sequential\":[[0.0,\"#0d0887\"],[0.1111111111111111,\"#46039f\"],[0.2222222222222222,\"#7201a8\"],[0.3333333333333333,\"#9c179e\"],[0.4444444444444444,\"#bd3786\"],[0.5555555555555556,\"#d8576b\"],[0.6666666666666666,\"#ed7953\"],[0.7777777777777778,\"#fb9f3a\"],[0.8888888888888888,\"#fdca26\"],[1.0,\"#f0f921\"]],\"sequentialminus\":[[0.0,\"#0d0887\"],[0.1111111111111111,\"#46039f\"],[0.2222222222222222,\"#7201a8\"],[0.3333333333333333,\"#9c179e\"],[0.4444444444444444,\"#bd3786\"],[0.5555555555555556,\"#d8576b\"],[0.6666666666666666,\"#ed7953\"],[0.7777777777777778,\"#fb9f3a\"],[0.8888888888888888,\"#fdca26\"],[1.0,\"#f0f921\"]],\"diverging\":[[0,\"#8e0152\"],[0.1,\"#c51b7d\"],[0.2,\"#de77ae\"],[0.3,\"#f1b6da\"],[0.4,\"#fde0ef\"],[0.5,\"#f7f7f7\"],[0.6,\"#e6f5d0\"],[0.7,\"#b8e186\"],[0.8,\"#7fbc41\"],[0.9,\"#4d9221\"],[1,\"#276419\"]]},\"xaxis\":{\"gridcolor\":\"white\",\"linecolor\":\"white\",\"ticks\":\"\",\"title\":{\"standoff\":15},\"zerolinecolor\":\"white\",\"automargin\":true,\"zerolinewidth\":2},\"yaxis\":{\"gridcolor\":\"white\",\"linecolor\":\"white\",\"ticks\":\"\",\"title\":{\"standoff\":15},\"zerolinecolor\":\"white\",\"automargin\":true,\"zerolinewidth\":2},\"scene\":{\"xaxis\":{\"backgroundcolor\":\"#E5ECF6\",\"gridcolor\":\"white\",\"linecolor\":\"white\",\"showbackground\":true,\"ticks\":\"\",\"zerolinecolor\":\"white\",\"gridwidth\":2},\"yaxis\":{\"backgroundcolor\":\"#E5ECF6\",\"gridcolor\":\"white\",\"linecolor\":\"white\",\"showbackground\":true,\"ticks\":\"\",\"zerolinecolor\":\"white\",\"gridwidth\":2},\"zaxis\":{\"backgroundcolor\":\"#E5ECF6\",\"gridcolor\":\"white\",\"linecolor\":\"white\",\"showbackground\":true,\"ticks\":\"\",\"zerolinecolor\":\"white\",\"gridwidth\":2}},\"shapedefaults\":{\"line\":{\"color\":\"#2a3f5f\"}},\"annotationdefaults\":{\"arrowcolor\":\"#2a3f5f\",\"arrowhead\":0,\"arrowwidth\":1},\"geo\":{\"bgcolor\":\"white\",\"landcolor\":\"#E5ECF6\",\"subunitcolor\":\"white\",\"showland\":true,\"showlakes\":true,\"lakecolor\":\"white\"},\"title\":{\"x\":0.05},\"mapbox\":{\"style\":\"light\"}}},\"xaxis\":{\"anchor\":\"y\",\"domain\":[0.0,1.0],\"title\":{\"text\":\"time\"}},\"yaxis\":{\"anchor\":\"x\",\"domain\":[0.0,1.0],\"title\":{\"text\":\"linAccZ\"}},\"legend\":{\"tracegroupgap\":0},\"title\":{\"text\":\"Linear Acceleration Z over Time\"}},                        {\"responsive\": true}                    ).then(function(){\n                            \nvar gd = document.getElementById('8012ee10-1ebb-4837-9dcb-58f17d282d2d');\nvar x = new MutationObserver(function (mutations, observer) {{\n        var display = window.getComputedStyle(gd).display;\n        if (!display || display === 'none') {{\n            console.log([gd, 'removed!']);\n            Plotly.purge(gd);\n            observer.disconnect();\n        }}\n}});\n\n// Listen for the removal of the full notebook cells\nvar notebookContainer = gd.closest('#notebook-container');\nif (notebookContainer) {{\n    x.observe(notebookContainer, {childList: true});\n}}\n\n// Listen for the clearing of the current output cell\nvar outputEl = gd.closest('.output');\nif (outputEl) {{\n    x.observe(outputEl, {childList: true});\n}}\n\n                        })                };                });            </script>        </div>"
     },
     "metadata": {},
     "output_type": "display_data"
    }
   ],
   "source": [
    "import plotly.express as px\n",
    "\n",
    "fig = px.line(squat, y='linAccZ', title='Linear Acceleration Z over Time')\n",
    "fig.show()"
   ],
   "metadata": {
    "collapsed": false,
    "ExecuteTime": {
     "end_time": "2024-01-22T11:02:11.285352400Z",
     "start_time": "2024-01-22T11:02:11.218039800Z"
    }
   },
   "id": "ed7122e34cb0f7fb",
   "execution_count": 32
  }
 ],
 "metadata": {
  "kernelspec": {
   "display_name": "Python 3",
   "language": "python",
   "name": "python3"
  },
  "language_info": {
   "codemirror_mode": {
    "name": "ipython",
    "version": 2
   },
   "file_extension": ".py",
   "mimetype": "text/x-python",
   "name": "python",
   "nbconvert_exporter": "python",
   "pygments_lexer": "ipython2",
   "version": "2.7.6"
  }
 },
 "nbformat": 4,
 "nbformat_minor": 5
}
